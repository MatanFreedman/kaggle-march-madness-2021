{
 "cells": [
  {
   "cell_type": "code",
   "execution_count": 34,
   "metadata": {
    "ExecuteTime": {
     "end_time": "2021-03-15T21:13:39.602022Z",
     "start_time": "2021-03-15T21:13:39.532958Z"
    }
   },
   "outputs": [
    {
     "name": "stdout",
     "output_type": "stream",
     "text": [
      "The autoreload extension is already loaded. To reload it, use:\n",
      "  %reload_ext autoreload\n"
     ]
    }
   ],
   "source": [
    "# OPTIONAL: Load the \"autoreload\" extension so that code can change\n",
    "%load_ext autoreload\n",
    "\n",
    "# OPTIONAL: always reload modules so that as you change code in src, it gets loaded\n",
    "%autoreload 2"
   ]
  },
  {
   "cell_type": "code",
   "execution_count": 35,
   "metadata": {
    "ExecuteTime": {
     "end_time": "2021-03-15T21:13:39.781014Z",
     "start_time": "2021-03-15T21:13:39.703680Z"
    }
   },
   "outputs": [],
   "source": [
    "import pandas as pd\n",
    "import numpy as np\n",
    "\n",
    "from pathlib import Path"
   ]
  },
  {
   "cell_type": "markdown",
   "metadata": {},
   "source": [
    "# Load Data"
   ]
  },
  {
   "cell_type": "markdown",
   "metadata": {},
   "source": [
    "Note: I added new features and fixed some old features, so older models might perform worse/better if running the same notebook."
   ]
  },
  {
   "cell_type": "code",
   "execution_count": 36,
   "metadata": {
    "ExecuteTime": {
     "end_time": "2021-03-15T21:13:40.538021Z",
     "start_time": "2021-03-15T21:13:40.390482Z"
    }
   },
   "outputs": [],
   "source": [
    "tourney_data = pd.read_csv(\"../data/processed/tourney_data.csv\")"
   ]
  },
  {
   "cell_type": "code",
   "execution_count": 37,
   "metadata": {
    "ExecuteTime": {
     "end_time": "2021-03-15T21:13:41.369057Z",
     "start_time": "2021-03-15T21:13:41.271839Z"
    }
   },
   "outputs": [
    {
     "data": {
      "text/html": [
       "<div>\n",
       "<style scoped>\n",
       "    .dataframe tbody tr th:only-of-type {\n",
       "        vertical-align: middle;\n",
       "    }\n",
       "\n",
       "    .dataframe tbody tr th {\n",
       "        vertical-align: top;\n",
       "    }\n",
       "\n",
       "    .dataframe thead th {\n",
       "        text-align: right;\n",
       "    }\n",
       "</style>\n",
       "<table border=\"1\" class=\"dataframe\">\n",
       "  <thead>\n",
       "    <tr style=\"text-align: right;\">\n",
       "      <th></th>\n",
       "      <th>Season</th>\n",
       "      <th>DayNum</th>\n",
       "      <th>T1_TeamID</th>\n",
       "      <th>T1_Score</th>\n",
       "      <th>T2_TeamID</th>\n",
       "      <th>T2_Score</th>\n",
       "      <th>location</th>\n",
       "      <th>NumOT</th>\n",
       "      <th>T1_FGM</th>\n",
       "      <th>T1_FGA</th>\n",
       "      <th>...</th>\n",
       "      <th>T2_AdjD</th>\n",
       "      <th>T2_AdjT</th>\n",
       "      <th>T2_Luck</th>\n",
       "      <th>T2_Strength of Schedule_AdjEM</th>\n",
       "      <th>T2_Strength of Schedule_OppO</th>\n",
       "      <th>T2_Strength of Schedule_OppD</th>\n",
       "      <th>T2_NCSOS_AdjEM</th>\n",
       "      <th>T1_seed</th>\n",
       "      <th>T2_seed</th>\n",
       "      <th>SeedDiff</th>\n",
       "    </tr>\n",
       "  </thead>\n",
       "  <tbody>\n",
       "    <tr>\n",
       "      <th>0</th>\n",
       "      <td>2003</td>\n",
       "      <td>134</td>\n",
       "      <td>1421</td>\n",
       "      <td>92</td>\n",
       "      <td>1411</td>\n",
       "      <td>84</td>\n",
       "      <td>0</td>\n",
       "      <td>1</td>\n",
       "      <td>32</td>\n",
       "      <td>69</td>\n",
       "      <td>...</td>\n",
       "      <td>108.7</td>\n",
       "      <td>68.4</td>\n",
       "      <td>0.037</td>\n",
       "      <td>-12.96</td>\n",
       "      <td>94.4</td>\n",
       "      <td>107.4</td>\n",
       "      <td>-8.09</td>\n",
       "      <td>16</td>\n",
       "      <td>16</td>\n",
       "      <td>0</td>\n",
       "    </tr>\n",
       "    <tr>\n",
       "      <th>1</th>\n",
       "      <td>2003</td>\n",
       "      <td>134</td>\n",
       "      <td>1411</td>\n",
       "      <td>84</td>\n",
       "      <td>1421</td>\n",
       "      <td>92</td>\n",
       "      <td>0</td>\n",
       "      <td>1</td>\n",
       "      <td>29</td>\n",
       "      <td>67</td>\n",
       "      <td>...</td>\n",
       "      <td>113.5</td>\n",
       "      <td>68.0</td>\n",
       "      <td>0.119</td>\n",
       "      <td>-6.45</td>\n",
       "      <td>98.3</td>\n",
       "      <td>104.7</td>\n",
       "      <td>11.61</td>\n",
       "      <td>16</td>\n",
       "      <td>16</td>\n",
       "      <td>0</td>\n",
       "    </tr>\n",
       "    <tr>\n",
       "      <th>2</th>\n",
       "      <td>2003</td>\n",
       "      <td>136</td>\n",
       "      <td>1436</td>\n",
       "      <td>51</td>\n",
       "      <td>1112</td>\n",
       "      <td>80</td>\n",
       "      <td>0</td>\n",
       "      <td>0</td>\n",
       "      <td>20</td>\n",
       "      <td>64</td>\n",
       "      <td>...</td>\n",
       "      <td>88.8</td>\n",
       "      <td>72.7</td>\n",
       "      <td>-0.007</td>\n",
       "      <td>8.69</td>\n",
       "      <td>107.2</td>\n",
       "      <td>98.5</td>\n",
       "      <td>8.19</td>\n",
       "      <td>16</td>\n",
       "      <td>1</td>\n",
       "      <td>15</td>\n",
       "    </tr>\n",
       "    <tr>\n",
       "      <th>3</th>\n",
       "      <td>2003</td>\n",
       "      <td>136</td>\n",
       "      <td>1112</td>\n",
       "      <td>80</td>\n",
       "      <td>1436</td>\n",
       "      <td>51</td>\n",
       "      <td>0</td>\n",
       "      <td>0</td>\n",
       "      <td>31</td>\n",
       "      <td>66</td>\n",
       "      <td>...</td>\n",
       "      <td>99.5</td>\n",
       "      <td>64.4</td>\n",
       "      <td>0.019</td>\n",
       "      <td>-5.14</td>\n",
       "      <td>99.3</td>\n",
       "      <td>104.4</td>\n",
       "      <td>-2.29</td>\n",
       "      <td>1</td>\n",
       "      <td>16</td>\n",
       "      <td>-15</td>\n",
       "    </tr>\n",
       "    <tr>\n",
       "      <th>4</th>\n",
       "      <td>2003</td>\n",
       "      <td>136</td>\n",
       "      <td>1113</td>\n",
       "      <td>84</td>\n",
       "      <td>1272</td>\n",
       "      <td>71</td>\n",
       "      <td>0</td>\n",
       "      <td>0</td>\n",
       "      <td>31</td>\n",
       "      <td>59</td>\n",
       "      <td>...</td>\n",
       "      <td>94.1</td>\n",
       "      <td>68.3</td>\n",
       "      <td>0.005</td>\n",
       "      <td>4.83</td>\n",
       "      <td>103.4</td>\n",
       "      <td>98.6</td>\n",
       "      <td>3.33</td>\n",
       "      <td>10</td>\n",
       "      <td>7</td>\n",
       "      <td>3</td>\n",
       "    </tr>\n",
       "    <tr>\n",
       "      <th>...</th>\n",
       "      <td>...</td>\n",
       "      <td>...</td>\n",
       "      <td>...</td>\n",
       "      <td>...</td>\n",
       "      <td>...</td>\n",
       "      <td>...</td>\n",
       "      <td>...</td>\n",
       "      <td>...</td>\n",
       "      <td>...</td>\n",
       "      <td>...</td>\n",
       "      <td>...</td>\n",
       "      <td>...</td>\n",
       "      <td>...</td>\n",
       "      <td>...</td>\n",
       "      <td>...</td>\n",
       "      <td>...</td>\n",
       "      <td>...</td>\n",
       "      <td>...</td>\n",
       "      <td>...</td>\n",
       "      <td>...</td>\n",
       "      <td>...</td>\n",
       "    </tr>\n",
       "    <tr>\n",
       "      <th>2225</th>\n",
       "      <td>2019</td>\n",
       "      <td>152</td>\n",
       "      <td>1403</td>\n",
       "      <td>61</td>\n",
       "      <td>1277</td>\n",
       "      <td>51</td>\n",
       "      <td>0</td>\n",
       "      <td>0</td>\n",
       "      <td>22</td>\n",
       "      <td>51</td>\n",
       "      <td>...</td>\n",
       "      <td>90.2</td>\n",
       "      <td>66.9</td>\n",
       "      <td>0.001</td>\n",
       "      <td>13.67</td>\n",
       "      <td>110.6</td>\n",
       "      <td>96.9</td>\n",
       "      <td>3.24</td>\n",
       "      <td>3</td>\n",
       "      <td>2</td>\n",
       "      <td>1</td>\n",
       "    </tr>\n",
       "    <tr>\n",
       "      <th>2226</th>\n",
       "      <td>2019</td>\n",
       "      <td>152</td>\n",
       "      <td>1120</td>\n",
       "      <td>62</td>\n",
       "      <td>1438</td>\n",
       "      <td>63</td>\n",
       "      <td>0</td>\n",
       "      <td>0</td>\n",
       "      <td>21</td>\n",
       "      <td>55</td>\n",
       "      <td>...</td>\n",
       "      <td>89.2</td>\n",
       "      <td>59.4</td>\n",
       "      <td>0.050</td>\n",
       "      <td>11.18</td>\n",
       "      <td>109.2</td>\n",
       "      <td>98.1</td>\n",
       "      <td>-3.24</td>\n",
       "      <td>5</td>\n",
       "      <td>1</td>\n",
       "      <td>4</td>\n",
       "    </tr>\n",
       "    <tr>\n",
       "      <th>2227</th>\n",
       "      <td>2019</td>\n",
       "      <td>152</td>\n",
       "      <td>1438</td>\n",
       "      <td>63</td>\n",
       "      <td>1120</td>\n",
       "      <td>62</td>\n",
       "      <td>0</td>\n",
       "      <td>0</td>\n",
       "      <td>25</td>\n",
       "      <td>51</td>\n",
       "      <td>...</td>\n",
       "      <td>95.9</td>\n",
       "      <td>67.9</td>\n",
       "      <td>0.008</td>\n",
       "      <td>12.23</td>\n",
       "      <td>110.7</td>\n",
       "      <td>98.5</td>\n",
       "      <td>2.63</td>\n",
       "      <td>1</td>\n",
       "      <td>5</td>\n",
       "      <td>-4</td>\n",
       "    </tr>\n",
       "    <tr>\n",
       "      <th>2228</th>\n",
       "      <td>2019</td>\n",
       "      <td>154</td>\n",
       "      <td>1438</td>\n",
       "      <td>85</td>\n",
       "      <td>1403</td>\n",
       "      <td>77</td>\n",
       "      <td>0</td>\n",
       "      <td>1</td>\n",
       "      <td>27</td>\n",
       "      <td>59</td>\n",
       "      <td>...</td>\n",
       "      <td>84.1</td>\n",
       "      <td>66.6</td>\n",
       "      <td>0.004</td>\n",
       "      <td>11.18</td>\n",
       "      <td>109.8</td>\n",
       "      <td>98.7</td>\n",
       "      <td>-5.39</td>\n",
       "      <td>1</td>\n",
       "      <td>3</td>\n",
       "      <td>-2</td>\n",
       "    </tr>\n",
       "    <tr>\n",
       "      <th>2229</th>\n",
       "      <td>2019</td>\n",
       "      <td>154</td>\n",
       "      <td>1403</td>\n",
       "      <td>77</td>\n",
       "      <td>1438</td>\n",
       "      <td>85</td>\n",
       "      <td>0</td>\n",
       "      <td>1</td>\n",
       "      <td>27</td>\n",
       "      <td>63</td>\n",
       "      <td>...</td>\n",
       "      <td>89.2</td>\n",
       "      <td>59.4</td>\n",
       "      <td>0.050</td>\n",
       "      <td>11.18</td>\n",
       "      <td>109.2</td>\n",
       "      <td>98.1</td>\n",
       "      <td>-3.24</td>\n",
       "      <td>3</td>\n",
       "      <td>1</td>\n",
       "      <td>2</td>\n",
       "    </tr>\n",
       "  </tbody>\n",
       "</table>\n",
       "<p>2230 rows × 189 columns</p>\n",
       "</div>"
      ],
      "text/plain": [
       "      Season  DayNum  T1_TeamID  T1_Score  T2_TeamID  T2_Score  location  \\\n",
       "0       2003     134       1421        92       1411        84         0   \n",
       "1       2003     134       1411        84       1421        92         0   \n",
       "2       2003     136       1436        51       1112        80         0   \n",
       "3       2003     136       1112        80       1436        51         0   \n",
       "4       2003     136       1113        84       1272        71         0   \n",
       "...      ...     ...        ...       ...        ...       ...       ...   \n",
       "2225    2019     152       1403        61       1277        51         0   \n",
       "2226    2019     152       1120        62       1438        63         0   \n",
       "2227    2019     152       1438        63       1120        62         0   \n",
       "2228    2019     154       1438        85       1403        77         0   \n",
       "2229    2019     154       1403        77       1438        85         0   \n",
       "\n",
       "      NumOT  T1_FGM  T1_FGA  ...  T2_AdjD  T2_AdjT  T2_Luck  \\\n",
       "0         1      32      69  ...    108.7     68.4    0.037   \n",
       "1         1      29      67  ...    113.5     68.0    0.119   \n",
       "2         0      20      64  ...     88.8     72.7   -0.007   \n",
       "3         0      31      66  ...     99.5     64.4    0.019   \n",
       "4         0      31      59  ...     94.1     68.3    0.005   \n",
       "...     ...     ...     ...  ...      ...      ...      ...   \n",
       "2225      0      22      51  ...     90.2     66.9    0.001   \n",
       "2226      0      21      55  ...     89.2     59.4    0.050   \n",
       "2227      0      25      51  ...     95.9     67.9    0.008   \n",
       "2228      1      27      59  ...     84.1     66.6    0.004   \n",
       "2229      1      27      63  ...     89.2     59.4    0.050   \n",
       "\n",
       "      T2_Strength of Schedule_AdjEM  T2_Strength of Schedule_OppO  \\\n",
       "0                            -12.96                          94.4   \n",
       "1                             -6.45                          98.3   \n",
       "2                              8.69                         107.2   \n",
       "3                             -5.14                          99.3   \n",
       "4                              4.83                         103.4   \n",
       "...                             ...                           ...   \n",
       "2225                          13.67                         110.6   \n",
       "2226                          11.18                         109.2   \n",
       "2227                          12.23                         110.7   \n",
       "2228                          11.18                         109.8   \n",
       "2229                          11.18                         109.2   \n",
       "\n",
       "      T2_Strength of Schedule_OppD  T2_NCSOS_AdjEM  T1_seed  T2_seed  SeedDiff  \n",
       "0                            107.4           -8.09       16       16         0  \n",
       "1                            104.7           11.61       16       16         0  \n",
       "2                             98.5            8.19       16        1        15  \n",
       "3                            104.4           -2.29        1       16       -15  \n",
       "4                             98.6            3.33       10        7         3  \n",
       "...                            ...             ...      ...      ...       ...  \n",
       "2225                          96.9            3.24        3        2         1  \n",
       "2226                          98.1           -3.24        5        1         4  \n",
       "2227                          98.5            2.63        1        5        -4  \n",
       "2228                          98.7           -5.39        1        3        -2  \n",
       "2229                          98.1           -3.24        3        1         2  \n",
       "\n",
       "[2230 rows x 189 columns]"
      ]
     },
     "execution_count": 37,
     "metadata": {},
     "output_type": "execute_result"
    }
   ],
   "source": [
    "tourney_data"
   ]
  },
  {
   "cell_type": "markdown",
   "metadata": {},
   "source": [
    "# Model Building"
   ]
  },
  {
   "cell_type": "code",
   "execution_count": 40,
   "metadata": {
    "ExecuteTime": {
     "end_time": "2021-03-15T21:15:41.146940Z",
     "start_time": "2021-03-15T21:15:41.069441Z"
    }
   },
   "outputs": [],
   "source": [
    "# define log-loss scoring\n",
    "from sklearn.metrics import log_loss, make_scorer\n",
    "from sklearn.model_selection import cross_val_score, GroupKFold, train_test_split\n",
    "from sklearn.linear_model import Lasso\n",
    "from sklearn.ensemble import RandomForestRegressor\n",
    "\n",
    "import matplotlib.pyplot as plt"
   ]
  },
  {
   "cell_type": "code",
   "execution_count": 146,
   "metadata": {
    "ExecuteTime": {
     "end_time": "2021-03-15T21:59:14.426897Z",
     "start_time": "2021-03-15T21:59:14.347224Z"
    }
   },
   "outputs": [],
   "source": [
    "features = [\n",
    "       'T1_FGMmean',\n",
    " 'T1_FGAmean',\n",
    " 'T1_FGM3mean',\n",
    " 'T1_FGA3mean',\n",
    " 'T1_FTMmean',\n",
    " 'T1_FTAmean',\n",
    " 'T1_ORmean',\n",
    " 'T1_DRmean',\n",
    " 'T1_Astmean',\n",
    " 'T1_TOmean',\n",
    " 'T1_Stlmean',\n",
    " 'T1_Blkmean',\n",
    " 'T1_PFmean',\n",
    " 'T1_opponent_FGMmean',\n",
    " 'T1_opponent_FGAmean',\n",
    " 'T1_opponent_FGM3mean',\n",
    " 'T1_opponent_FGA3mean',\n",
    " 'T1_opponent_FTMmean',\n",
    " 'T1_opponent_FTAmean',\n",
    " 'T1_opponent_ORmean',\n",
    " 'T1_opponent_DRmean',\n",
    " 'T1_opponent_Astmean',\n",
    " 'T1_opponent_TOmean',\n",
    " 'T1_opponent_Stlmean',\n",
    " 'T1_opponent_Blkmean',\n",
    " 'T1_opponent_PFmean',\n",
    " 'T1_Ptsmean',\n",
    " 'T1_opponent_Ptsmean',\n",
    " 'Posmean',\n",
    " 'T1_OffRtgmean',\n",
    " 'T1_opponent_OffRtgmean',\n",
    " 'T1_DefRtgmean',\n",
    " 'T1_opponent_DefRtgmean',\n",
    " 'T1_NetRtgmean',\n",
    " 'T1_opponent_NetRtgmean',\n",
    " 'T1_AstRmean',\n",
    " 'T1_opponent_AstRmean',\n",
    " 'T1_TORmean',\n",
    " 'T1_opponent_TORmean',\n",
    " 'T1_TSPmean',\n",
    " 'T1_opponent_TSPmean',\n",
    " 'T1_eFGPmean',\n",
    " 'T1_opponent_eFGPmean',\n",
    " 'T1_FTARmean',\n",
    " 'T1_opponent_FTARmean',\n",
    " 'T1_ORPmean',\n",
    " 'T1_opponent_ORPmean',\n",
    " 'T1_DRPmean',\n",
    " 'T1_opponent_DRPmean',\n",
    " 'T1_RPmean',\n",
    " 'T1_opponent_RPmean',\n",
    " 'T1_PointDiffmean',\n",
    " 'T2_FGMmean',\n",
    " 'T2_FGAmean',\n",
    " 'T2_FGM3mean',\n",
    " 'T2_FGA3mean',\n",
    " 'T2_FTMmean',\n",
    " 'T2_FTAmean',\n",
    " 'T2_ORmean',\n",
    " 'T2_DRmean',\n",
    " 'T2_Astmean',\n",
    " 'T2_TOmean',\n",
    " 'T2_Stlmean',\n",
    " 'T2_Blkmean',\n",
    " 'T2_PFmean',\n",
    " 'T2_opponent_FGMmean',\n",
    " 'T2_opponent_FGAmean',\n",
    " 'T2_opponent_FGM3mean',\n",
    " 'T2_opponent_FGA3mean',\n",
    " 'T2_opponent_FTMmean',\n",
    " 'T2_opponent_FTAmean',\n",
    " 'T2_opponent_ORmean',\n",
    " 'T2_opponent_DRmean',\n",
    " 'T2_opponent_Astmean',\n",
    " 'T2_opponent_TOmean',\n",
    " 'T2_opponent_Stlmean',\n",
    " 'T2_opponent_Blkmean',\n",
    " 'T2_opponent_PFmean',\n",
    " 'T2_Ptsmean',\n",
    " 'T2_opponent_Ptsmean',\n",
    " 'T2_Posmean',\n",
    " 'T2_OffRtgmean',\n",
    " 'T2_opponent_OffRtgmean',\n",
    " 'T2_DefRtgmean',\n",
    " 'T2_opponent_DefRtgmean',\n",
    " 'T2_NetRtgmean',\n",
    " 'T2_opponent_NetRtgmean',\n",
    " 'T2_AstRmean',\n",
    " 'T2_opponent_AstRmean',\n",
    " 'T2_TORmean',\n",
    " 'T2_opponent_TORmean',\n",
    " 'T2_TSPmean',\n",
    " 'T2_opponent_TSPmean',\n",
    " 'T2_eFGPmean',\n",
    " 'T2_opponent_eFGPmean',\n",
    " 'T2_FTARmean',\n",
    " 'T2_opponent_FTARmean',\n",
    " 'T2_ORPmean',\n",
    " 'T2_opponent_ORPmean',\n",
    " 'T2_DRPmean',\n",
    " 'T2_opponent_DRPmean',\n",
    " 'T2_RPmean',\n",
    " 'T2_opponent_RPmean',\n",
    " 'T2_PointDiffmean',\n",
    " 'T1_win_ratio_14d',\n",
    " 'T2_win_ratio_14d',\n",
    " 'T1_Rk',\n",
    " 'T1_AdjEM',\n",
    " 'T1_AdjO',\n",
    " 'T1_AdjD',\n",
    " 'T1_AdjT',\n",
    " 'T1_Luck',\n",
    " 'T1_Strength of Schedule_AdjEM',\n",
    " 'T1_Strength of Schedule_OppO',\n",
    " 'T1_Strength of Schedule_OppD',\n",
    " 'T1_NCSOS_AdjEM',\n",
    " 'T2_Rk',\n",
    " 'T2_AdjEM',\n",
    " 'T2_AdjO',\n",
    " 'T2_AdjD',\n",
    " 'T2_AdjT',\n",
    " 'T2_Luck',\n",
    " 'T2_Strength of Schedule_AdjEM',\n",
    " 'T2_Strength of Schedule_OppO',\n",
    " 'T2_Strength of Schedule_OppD',\n",
    " 'T2_NCSOS_AdjEM',\n",
    "#  'T1_seed',\n",
    "#  'T2_seed',\n",
    "#  'SeedDiff'\n",
    "]\n",
    "\n",
    "features_old = [\n",
    "       'T1_FGMmean', 'T1_FGAmean', 'T1_FGM3mean', 'T1_FGA3mean',\n",
    "       'T1_ORmean', 'T1_Astmean', 'T1_TOmean', 'T1_Stlmean', 'T1_PFmean',\n",
    "       'T1_opponent_FGMmean', 'T1_opponent_FGAmean', 'T1_opponent_FGM3mean',\n",
    "       'T1_opponent_FGA3mean', 'T1_opponent_ORmean', 'T1_opponent_Astmean',\n",
    "       'T1_opponent_TOmean', 'T1_opponent_Stlmean', 'T1_opponent_Blkmean',\n",
    "       'T1_PointDiffmean', 'T2_FGMmean', 'T2_FGAmean', 'T2_FGM3mean',\n",
    "       'T2_FGA3mean', 'T2_ORmean', 'T2_Astmean', 'T2_TOmean', 'T2_Stlmean',\n",
    "       'T2_PFmean', 'T2_opponent_FGMmean', 'T2_opponent_FGAmean',\n",
    "       'T2_opponent_FGM3mean', 'T2_opponent_FGA3mean', 'T2_opponent_ORmean',\n",
    "       'T2_opponent_Astmean', 'T2_opponent_TOmean', 'T2_opponent_Stlmean',\n",
    "       'T2_opponent_Blkmean', 'T2_PointDiffmean', 'T1_win_ratio_14d', 'T2_win_ratio_14d', 'T1_Rk',\n",
    "       'T1_AdjEM', 'T1_AdjO', 'T1_AdjD', 'T1_AdjT', 'T1_Luck',\n",
    "       'T1_Strength of Schedule_AdjEM', 'T1_Strength of Schedule_OppO',\n",
    "       'T1_Strength of Schedule_OppD', 'T1_NCSOS_AdjEM', 'T2_Rk', 'T2_AdjEM',\n",
    "       'T2_AdjO', 'T2_AdjD', 'T2_AdjT', 'T2_Luck',\n",
    "       'T2_Strength of Schedule_AdjEM', 'T2_Strength of Schedule_OppO',\n",
    "       'T2_Strength of Schedule_OppD', 'T2_NCSOS_AdjEM', 'T1_seed', 'T2_seed',\n",
    "       'SeedDiff'\n",
    "]\n",
    "\n",
    "features2 = [\n",
    "    'T1_win_ratio_14d', 'T2_win_ratio_14d', 'T1_Rk',\n",
    "   'T1_AdjEM', 'T1_AdjO', 'T1_AdjD', 'T1_AdjT', 'T1_Luck',\n",
    "   'T1_Strength of Schedule_AdjEM', 'T1_Strength of Schedule_OppO',\n",
    "   'T1_Strength of Schedule_OppD', 'T1_NCSOS_AdjEM', 'T2_Rk', 'T2_AdjEM',\n",
    "   'T2_AdjO', 'T2_AdjD', 'T2_AdjT', 'T2_Luck',\n",
    "   'T2_Strength of Schedule_AdjEM', 'T2_Strength of Schedule_OppO',\n",
    "   'T2_Strength of Schedule_OppD', 'T2_NCSOS_AdjEM', 'T1_seed', 'T2_seed',\n",
    "   'SeedDiff'\n",
    "]"
   ]
  },
  {
   "cell_type": "code",
   "execution_count": 141,
   "metadata": {
    "ExecuteTime": {
     "end_time": "2021-03-15T21:58:51.622437Z",
     "start_time": "2021-03-15T21:58:51.538754Z"
    }
   },
   "outputs": [],
   "source": [
    "features3 = [\n",
    "    'T1_win_ratio_14d', 'T2_win_ratio_14d', \n",
    "   'T1_AdjT', 'T1_Luck',\n",
    "   'T1_Strength of Schedule_AdjEM', 'T1_Strength of Schedule_OppO',\n",
    "   'T1_Strength of Schedule_OppD', 'T1_NCSOS_AdjEM', \n",
    "    'T2_AdjT', 'T2_Luck',\n",
    "   'T2_Strength of Schedule_AdjEM', 'T2_Strength of Schedule_OppO',\n",
    "   'T2_Strength of Schedule_OppD', \n",
    "   'SeedDiff'\n",
    "]\n",
    "\n",
    "features4 = [\n",
    "    'T1_win_ratio_14d', 'T2_win_ratio_14d', \n",
    "   'T1_AdjEM', 'T1_AdjO', 'T1_AdjD', 'T1_AdjT', 'T1_Luck',\n",
    "   'T2_AdjO', 'T2_AdjD', 'T2_AdjT', 'T2_Luck',\n",
    "]\n",
    "\n",
    "features5 =  [\n",
    "       'T1_FGMmean', 'T1_FGAmean', 'T1_FGM3mean', 'T1_FGA3mean',\n",
    "       'T1_ORmean', 'T1_Astmean', 'T1_TOmean', 'T1_Stlmean', 'T1_PFmean',\n",
    "       'T1_opponent_FGMmean', 'T1_opponent_FGAmean', 'T1_opponent_FGM3mean',\n",
    "       'T1_opponent_FGA3mean', 'T1_opponent_ORmean', 'T1_opponent_Astmean',\n",
    "       'T1_opponent_TOmean', 'T1_opponent_Stlmean', 'T1_opponent_Blkmean',\n",
    "       'T2_FGMmean', 'T2_FGAmean', 'T2_FGM3mean',\n",
    "       'T2_FGA3mean', 'T2_ORmean', 'T2_Astmean', 'T2_TOmean', 'T2_Stlmean',\n",
    "       'T2_PFmean', 'T2_opponent_FGMmean', 'T2_opponent_FGAmean',\n",
    "       'T2_opponent_FGM3mean', 'T2_opponent_FGA3mean', 'T2_opponent_ORmean',\n",
    "       'T2_opponent_Astmean', 'T2_opponent_TOmean', 'T2_opponent_Stlmean',\n",
    "       'T2_opponent_Blkmean', 'T2_PointDiffmean', 'T1_win_ratio_14d', 'T2_win_ratio_14d', \n",
    "]"
   ]
  },
  {
   "cell_type": "code",
   "execution_count": 149,
   "metadata": {
    "ExecuteTime": {
     "end_time": "2021-03-15T22:03:01.056455Z",
     "start_time": "2021-03-15T22:03:00.965228Z"
    },
    "code_folding": [
     0
    ]
   },
   "outputs": [],
   "source": [
    "features6 = [\n",
    " 'T1_FGMmean',\n",
    " 'T1_FGAmean',\n",
    " 'T1_FGM3mean',\n",
    " 'T1_FGA3mean',\n",
    " 'T1_FTMmean',\n",
    " 'T1_FTAmean',\n",
    " 'T1_ORmean',\n",
    " 'T1_DRmean',\n",
    " 'T1_Astmean',\n",
    " 'T1_TOmean',\n",
    " 'T1_Stlmean',\n",
    " 'T1_Blkmean',\n",
    " 'T1_PFmean',\n",
    " 'T1_opponent_FGMmean',\n",
    " 'T1_opponent_FGAmean',\n",
    " 'T1_opponent_FGM3mean',\n",
    " 'T1_opponent_FGA3mean',\n",
    " 'T1_opponent_FTMmean',\n",
    " 'T1_opponent_FTAmean',\n",
    " 'T1_opponent_ORmean',\n",
    " 'T1_opponent_DRmean',\n",
    " 'T1_opponent_Astmean',\n",
    " 'T1_opponent_TOmean',\n",
    " 'T1_opponent_Stlmean',\n",
    " 'T1_opponent_Blkmean',\n",
    " 'T1_opponent_PFmean',\n",
    " 'T1_Ptsmean',\n",
    " 'T1_opponent_Ptsmean',\n",
    " 'Posmean',\n",
    " 'T1_OffRtgmean',\n",
    " 'T1_opponent_OffRtgmean',\n",
    " 'T1_DefRtgmean',\n",
    " 'T1_opponent_DefRtgmean',\n",
    " 'T1_NetRtgmean',\n",
    " 'T1_opponent_NetRtgmean',\n",
    " 'T1_AstRmean',\n",
    " 'T1_opponent_AstRmean',\n",
    " 'T1_TORmean',\n",
    " 'T1_opponent_TORmean',\n",
    " 'T1_TSPmean',\n",
    " 'T1_opponent_TSPmean',\n",
    " 'T1_eFGPmean',\n",
    " 'T1_opponent_eFGPmean',\n",
    " 'T1_FTARmean',\n",
    " 'T1_opponent_FTARmean',\n",
    " 'T1_ORPmean',\n",
    " 'T1_opponent_ORPmean',\n",
    " 'T1_DRPmean',\n",
    " 'T1_opponent_DRPmean',\n",
    " 'T1_RPmean',\n",
    " 'T1_opponent_RPmean',\n",
    " 'T1_PointDiffmean',\n",
    " 'T2_FGMmean',\n",
    " 'T2_FGAmean',\n",
    " 'T2_FGM3mean',\n",
    " 'T2_FGA3mean',\n",
    " 'T2_FTMmean',\n",
    " 'T2_FTAmean',\n",
    " 'T2_ORmean',\n",
    " 'T2_DRmean',\n",
    " 'T2_Astmean',\n",
    " 'T2_TOmean',\n",
    " 'T2_Stlmean',\n",
    " 'T2_Blkmean',\n",
    " 'T2_PFmean',\n",
    " 'T2_opponent_FGMmean',\n",
    " 'T2_opponent_FGAmean',\n",
    " 'T2_opponent_FGM3mean',\n",
    " 'T2_opponent_FGA3mean',\n",
    " 'T2_opponent_FTMmean',\n",
    " 'T2_opponent_FTAmean',\n",
    " 'T2_opponent_ORmean',\n",
    " 'T2_opponent_DRmean',\n",
    " 'T2_opponent_Astmean',\n",
    " 'T2_opponent_TOmean',\n",
    " 'T2_opponent_Stlmean',\n",
    " 'T2_opponent_Blkmean',\n",
    " 'T2_opponent_PFmean',\n",
    " 'T2_Ptsmean',\n",
    " 'T2_opponent_Ptsmean',\n",
    " 'T2_Posmean',\n",
    " 'T2_OffRtgmean',\n",
    " 'T2_opponent_OffRtgmean',\n",
    " 'T2_DefRtgmean',\n",
    " 'T2_opponent_DefRtgmean',\n",
    " 'T2_NetRtgmean',\n",
    " 'T2_opponent_NetRtgmean',\n",
    " 'T2_AstRmean',\n",
    " 'T2_opponent_AstRmean',\n",
    " 'T2_TORmean',\n",
    " 'T2_opponent_TORmean',\n",
    " 'T2_TSPmean',\n",
    " 'T2_opponent_TSPmean',\n",
    " 'T2_eFGPmean',\n",
    " 'T2_opponent_eFGPmean',\n",
    " 'T2_FTARmean',\n",
    " 'T2_opponent_FTARmean',\n",
    " 'T2_ORPmean',\n",
    " 'T2_opponent_ORPmean',\n",
    " 'T2_DRPmean',\n",
    " 'T2_opponent_DRPmean',\n",
    " 'T2_RPmean',\n",
    " 'T2_opponent_RPmean',\n",
    " 'T2_PointDiffmean',\n",
    " 'T1_win_ratio_14d',\n",
    " 'T2_win_ratio_14d',\n",
    "#  'T1_Rk',\n",
    "#  'T1_AdjEM',\n",
    "#  'T1_AdjO',\n",
    "#  'T1_AdjD',\n",
    "#  'T1_AdjT',\n",
    "#  'T1_Luck',\n",
    "#  'T1_Strength of Schedule_AdjEM',\n",
    "#  'T1_Strength of Schedule_OppO',\n",
    "#  'T1_Strength of Schedule_OppD',\n",
    "#  'T1_NCSOS_AdjEM',\n",
    "#  'T2_Rk',\n",
    "#  'T2_AdjEM',\n",
    "#  'T2_AdjO',\n",
    "#  'T2_AdjD',\n",
    "#  'T2_AdjT',\n",
    "#  'T2_Luck',\n",
    "#  'T2_Strength of Schedule_AdjEM',\n",
    "#  'T2_Strength of Schedule_OppO',\n",
    "#  'T2_Strength of Schedule_OppD',\n",
    "#  'T2_NCSOS_AdjEM',\n",
    "#  'T1_seed',\n",
    "#  'T2_seed',\n",
    "#  'SeedDiff'\n",
    "]"
   ]
  },
  {
   "cell_type": "code",
   "execution_count": 142,
   "metadata": {
    "ExecuteTime": {
     "end_time": "2021-03-15T21:58:52.338970Z",
     "start_time": "2021-03-15T21:58:52.272708Z"
    }
   },
   "outputs": [],
   "source": [
    "def print_score(m):\n",
    "    res = {\n",
    "        \"train log loss\":log_loss(y_train, m.predict(X_train)), \n",
    "        \"val log loss\" : log_loss(y_val, m.predict(X_val)),\n",
    "        \"training r^2\" : m.score(X_train, y_train), \n",
    "        \"validation r^2\" : m.score(X_val, y_val)\n",
    "        }\n",
    "    if hasattr(m, 'oob_score_'): \n",
    "        res['oob score'] = m.oob_score_\n",
    "    for label, val in res.items(): \n",
    "        print(label + \": \", val)"
   ]
  },
  {
   "cell_type": "markdown",
   "metadata": {},
   "source": [
    "# Model Building Pipeline"
   ]
  },
  {
   "cell_type": "code",
   "execution_count": 143,
   "metadata": {
    "ExecuteTime": {
     "end_time": "2021-03-15T21:58:53.517900Z",
     "start_time": "2021-03-15T21:58:53.428308Z"
    },
    "scrolled": true
   },
   "outputs": [],
   "source": [
    "from sklearn.pipeline import Pipeline\n",
    "from sklearn.preprocessing import StandardScaler\n",
    "from sklearn.decomposition import PCA\n",
    "import seaborn as sns\n",
    "from sklearn.model_selection import LeaveOneGroupOut\n",
    "from sklearn import linear_model\n",
    "from sklearn.metrics import log_loss\n",
    "import matplotlib.pyplot as plt\n",
    "\n",
    "def reg_cv_train(features, \n",
    "                 estimator, \n",
    "                 mode='reg', \n",
    "                 plot=False, \n",
    "                 verbose=False,\n",
    "                 test_df=None,\n",
    "                 tourney_data=tourney_data\n",
    "                ):\n",
    "    preds_test=None\n",
    "    # get full dataset:\n",
    "    df = tourney_data.dropna(how='any').reset_index().copy()\n",
    "\n",
    "    # split X and y:\n",
    "    X = df[features]\n",
    "    y = np.where(df['T1_PointDiff'] > 0, 1, 0)\n",
    "\n",
    "    # use leave-one-group-out:\n",
    "    logo = LeaveOneGroupOut()\n",
    "    groups = df['Season']\n",
    "\n",
    "    cvs = []\n",
    "    \n",
    "    season_ix = list(set(groups))\n",
    "    season_ix.sort()\n",
    "\n",
    "    for i , (train_ix, val_ix) in enumerate(logo.split(X, y, groups)):\n",
    "        # split data:\n",
    "        X_train = X.iloc[train_ix]\n",
    "        y_train = y[train_ix]\n",
    "        X_val = X.iloc[val_ix]\n",
    "        y_val = y[val_ix]\n",
    "\n",
    "\n",
    "        # fit pipeline:\n",
    "        pipe = Pipeline([\n",
    "            ('scaler', StandardScaler()),\n",
    "            ('estimator', estimator)\n",
    "        ])\n",
    "\n",
    "        pipe.fit(X_train, y_train)\n",
    "\n",
    "        # predict values:\n",
    "        if mode == \"reg\":\n",
    "            pred = pipe.predict(X_val)\n",
    "            pred = np.clip(pred, 0, 1) # because regression\n",
    "            if test_df is not None:\n",
    "                preds_test = pipe.predict(test_df[features])\n",
    "                preds_test = np.clip(preds_test, 0, 1)\n",
    "        else:\n",
    "            pred = pipe.predict_proba(X_val)[:, 1]\n",
    "            if test_df is not None:\n",
    "                preds_test = pipe.predict_proba(test_df[features])[:, 1]\n",
    "        # plot:\n",
    "        if plot:\n",
    "            plt.figure(figsize=(15,6))\n",
    "            plt.subplot(1,2,1)\n",
    "            plt.scatter(pred, df.loc[val_ix, 'PointDiff'], s=5)\n",
    "            plt.subplot(1,2,2)\n",
    "            sns.histplot(pred)\n",
    "            plt.show()\n",
    "\n",
    "        # loss:\n",
    "        loss = log_loss(y_val, pred)\n",
    "        cvs.append(loss)\n",
    "\n",
    "        if verbose: print(f\"{season_ix[i]} Loss : {loss}\")\n",
    "    \n",
    "    plt.figure()\n",
    "    plt.plot(range(min(groups), min(groups) + len(set(groups))), cvs)\n",
    "    plt.xlabel(\"Year\")\n",
    "    plt.ylabel(\"Log Loss\")\n",
    "\n",
    "    print(f\"Local CV Loss : {np.mean(cvs):.3f}  -----  {estimator.__class__.__name__}\")\n",
    "    return np.mean(cvs), preds_test"
   ]
  },
  {
   "cell_type": "markdown",
   "metadata": {},
   "source": [
    "# Linear Regression"
   ]
  },
  {
   "cell_type": "code",
   "execution_count": 147,
   "metadata": {
    "ExecuteTime": {
     "end_time": "2021-03-15T21:59:24.926628Z",
     "start_time": "2021-03-15T21:59:23.661602Z"
    },
    "scrolled": true
   },
   "outputs": [
    {
     "name": "stdout",
     "output_type": "stream",
     "text": [
      "2003 Loss : 0.4354873803929772\n",
      "2004 Loss : 0.43020291218795204\n",
      "2005 Loss : 0.3333095719072293\n",
      "2006 Loss : 0.39281575217188175\n",
      "2007 Loss : 0.41012732640712235\n",
      "2008 Loss : 0.33789046356711794\n",
      "2009 Loss : 0.3673588148322098\n",
      "2010 Loss : 0.42800248298480753\n",
      "2011 Loss : 0.6291510226710104\n",
      "2012 Loss : 0.429514071297156\n",
      "2013 Loss : 0.3763267306427547\n",
      "2014 Loss : 0.3910617823768283\n",
      "2015 Loss : 0.46922181101248245\n",
      "2016 Loss : 0.44665047832000737\n",
      "2017 Loss : 0.3695508112408002\n",
      "2018 Loss : 0.42836663848866074\n",
      "2019 Loss : 0.28260590223680704\n",
      "Local CV Loss : 0.409  -----  LogisticRegression\n",
      "Wall time: 1.1 s\n"
     ]
    },
    {
     "data": {
      "text/plain": [
       "(0.4092731736904591, None)"
      ]
     },
     "execution_count": 147,
     "metadata": {},
     "output_type": "execute_result"
    },
    {
     "data": {
      "image/png": "[encoded data removed]",
      "text/plain": [
       "<Figure size 432x288 with 1 Axes>"
      ]
     },
     "metadata": {
      "needs_background": "light"
     },
     "output_type": "display_data"
    }
   ],
   "source": [
    "%%time\n",
    "from sklearn.linear_model import LinearRegression, LogisticRegression\n",
    "\n",
    "# basic model:\n",
    "model = LogisticRegression(max_iter=200)\n",
    "\n",
    "reg_cv_train(\n",
    "        features=features_old, \n",
    "        estimator=model,\n",
    "        mode='cls', \n",
    "        plot=False, \n",
    "        verbose=True)"
   ]
  },
  {
   "cell_type": "code",
   "execution_count": 156,
   "metadata": {
    "ExecuteTime": {
     "end_time": "2021-03-15T22:04:06.484977Z",
     "start_time": "2021-03-15T22:04:04.520972Z"
    },
    "scrolled": true
   },
   "outputs": [
    {
     "name": "stdout",
     "output_type": "stream",
     "text": [
      "2003 Loss : 0.46795624527035956\n",
      "2004 Loss : 0.4857206063167282\n",
      "2005 Loss : 0.41794721903030396\n",
      "2006 Loss : 0.46799538189900924\n",
      "2007 Loss : 0.35111223188589913\n",
      "2008 Loss : 0.3873027645382963\n",
      "2009 Loss : 0.41996708357435303\n",
      "2010 Loss : 0.485454821753561\n",
      "2011 Loss : 0.6275596293386678\n",
      "2012 Loss : 0.5056738592199933\n",
      "2013 Loss : 0.4321147448784306\n",
      "2014 Loss : 0.5265771341854527\n",
      "2015 Loss : 0.4859501513597954\n",
      "2016 Loss : 0.5279036797663484\n",
      "2017 Loss : 0.45184210135395214\n",
      "2018 Loss : 0.4889521805167881\n",
      "2019 Loss : 0.36466776164702686\n",
      "Local CV Loss : 0.464  -----  LogisticRegression\n"
     ]
    },
    {
     "data": {
      "text/plain": [
       "(0.4643939762667627, None)"
      ]
     },
     "execution_count": 156,
     "metadata": {},
     "output_type": "execute_result"
    },
    {
     "data": {
      "image/png": "[encoded data removed]",
      "text/plain": [
       "<Figure size 432x288 with 1 Axes>"
      ]
     },
     "metadata": {
      "needs_background": "light"
     },
     "output_type": "display_data"
    }
   ],
   "source": [
    "reg_cv_train(\n",
    "        features=features, \n",
    "        estimator=model,\n",
    "        mode='cls', \n",
    "        plot=False, \n",
    "        verbose=True)"
   ]
  },
  {
   "cell_type": "markdown",
   "metadata": {},
   "source": [
    "# Remove Anomoly Years"
   ]
  },
  {
   "cell_type": "code",
   "execution_count": 139,
   "metadata": {
    "ExecuteTime": {
     "end_time": "2021-03-15T21:54:12.968350Z",
     "start_time": "2021-03-15T21:54:11.819645Z"
    }
   },
   "outputs": [
    {
     "name": "stdout",
     "output_type": "stream",
     "text": [
      "2003 Loss : 0.4458097920495807\n",
      "2004 Loss : 0.4251560600635781\n",
      "2005 Loss : 0.3198334022172856\n",
      "2006 Loss : 0.39810596177345303\n",
      "2007 Loss : 0.4045473498196035\n",
      "2008 Loss : 0.33268281162712143\n",
      "2009 Loss : 0.37019535028464323\n",
      "2010 Loss : 0.4435617078308768\n",
      "2012 Loss : 0.43020614317613065\n",
      "2013 Loss : 0.3721772306018575\n",
      "2014 Loss : 0.3896675062438671\n",
      "2015 Loss : 0.4699781499747926\n",
      "2016 Loss : 0.45794278557145707\n",
      "2017 Loss : 0.3624040644383076\n",
      "2018 Loss : 0.43226165625450214\n",
      "2019 Loss : 0.2772095010363572\n",
      "Local CV Loss : 0.396  -----  LogisticRegression\n"
     ]
    },
    {
     "data": {
      "text/plain": [
       "(0.3957337170602134, None)"
      ]
     },
     "execution_count": 139,
     "metadata": {},
     "output_type": "execute_result"
    },
    {
     "data": {
      "image/png": "[encoded data removed]",
      "text/plain": [
       "<Figure size 432x288 with 1 Axes>"
      ]
     },
     "metadata": {
      "needs_background": "light"
     },
     "output_type": "display_data"
    }
   ],
   "source": [
    "remove_years = [2011]\n",
    "df2 = tourney_data.copy()\n",
    "df2 = df2[~df2['Season'].isin(remove_years)]\n",
    "\n",
    "reg_cv_train(\n",
    "        features=features_old, \n",
    "        estimator=model,\n",
    "        mode='cls', \n",
    "        plot=False, \n",
    "        verbose=True,\n",
    "    tourney_data=df2\n",
    ")"
   ]
  },
  {
   "cell_type": "code",
   "execution_count": null,
   "metadata": {},
   "outputs": [],
   "source": []
  },
  {
   "cell_type": "code",
   "execution_count": null,
   "metadata": {},
   "outputs": [],
   "source": []
  },
  {
   "cell_type": "markdown",
   "metadata": {},
   "source": [
    "# Hyper Parameter Tuning"
   ]
  },
  {
   "cell_type": "code",
   "execution_count": 57,
   "metadata": {
    "ExecuteTime": {
     "end_time": "2021-03-15T21:20:19.696582Z",
     "start_time": "2021-03-15T21:20:04.246494Z"
    },
    "scrolled": false
   },
   "outputs": [
    {
     "ename": "KeyboardInterrupt",
     "evalue": "",
     "output_type": "error",
     "traceback": [
      "\u001b[1;31m---------------------------------------------------------------------------\u001b[0m",
      "\u001b[1;31mKeyboardInterrupt\u001b[0m                         Traceback (most recent call last)",
      "\u001b[1;32m<ipython-input-57-18a9e690ebd9>\u001b[0m in \u001b[0;36m<module>\u001b[1;34m\u001b[0m\n\u001b[0;32m     11\u001b[0m         \u001b[0mmode\u001b[0m\u001b[1;33m=\u001b[0m\u001b[1;34m'cls'\u001b[0m\u001b[1;33m,\u001b[0m\u001b[1;33m\u001b[0m\u001b[0m\n\u001b[0;32m     12\u001b[0m         \u001b[0mplot\u001b[0m\u001b[1;33m=\u001b[0m\u001b[1;32mFalse\u001b[0m\u001b[1;33m,\u001b[0m\u001b[1;33m\u001b[0m\u001b[0m\n\u001b[1;32m---> 13\u001b[1;33m         verbose=False)\n\u001b[0m\u001b[0;32m     14\u001b[0m     )\n\u001b[0;32m     15\u001b[0m \u001b[1;33m\u001b[0m\u001b[0m\n",
      "\u001b[1;32m<ipython-input-54-2a3cdd3894a0>\u001b[0m in \u001b[0;36mreg_cv_train\u001b[1;34m(features, estimator, mode, plot, verbose, test_df)\u001b[0m\n\u001b[0;32m     44\u001b[0m         ])\n\u001b[0;32m     45\u001b[0m \u001b[1;33m\u001b[0m\u001b[0m\n\u001b[1;32m---> 46\u001b[1;33m         \u001b[0mpipe\u001b[0m\u001b[1;33m.\u001b[0m\u001b[0mfit\u001b[0m\u001b[1;33m(\u001b[0m\u001b[0mX_train\u001b[0m\u001b[1;33m,\u001b[0m \u001b[0my_train\u001b[0m\u001b[1;33m)\u001b[0m\u001b[1;33m\u001b[0m\u001b[0m\n\u001b[0m\u001b[0;32m     47\u001b[0m \u001b[1;33m\u001b[0m\u001b[0m\n\u001b[0;32m     48\u001b[0m         \u001b[1;31m# predict values:\u001b[0m\u001b[1;33m\u001b[0m\u001b[1;33m\u001b[0m\u001b[0m\n",
      "\u001b[1;32mc:\\users\\matan\\github\\kaggle-march-madness-2021\\venv\\lib\\site-packages\\sklearn\\pipeline.py\u001b[0m in \u001b[0;36mfit\u001b[1;34m(self, X, y, **fit_params)\u001b[0m\n\u001b[0;32m    344\u001b[0m             \u001b[1;32mif\u001b[0m \u001b[0mself\u001b[0m\u001b[1;33m.\u001b[0m\u001b[0m_final_estimator\u001b[0m \u001b[1;33m!=\u001b[0m \u001b[1;34m'passthrough'\u001b[0m\u001b[1;33m:\u001b[0m\u001b[1;33m\u001b[0m\u001b[0m\n\u001b[0;32m    345\u001b[0m                 \u001b[0mfit_params_last_step\u001b[0m \u001b[1;33m=\u001b[0m \u001b[0mfit_params_steps\u001b[0m\u001b[1;33m[\u001b[0m\u001b[0mself\u001b[0m\u001b[1;33m.\u001b[0m\u001b[0msteps\u001b[0m\u001b[1;33m[\u001b[0m\u001b[1;33m-\u001b[0m\u001b[1;36m1\u001b[0m\u001b[1;33m]\u001b[0m\u001b[1;33m[\u001b[0m\u001b[1;36m0\u001b[0m\u001b[1;33m]\u001b[0m\u001b[1;33m]\u001b[0m\u001b[1;33m\u001b[0m\u001b[0m\n\u001b[1;32m--> 346\u001b[1;33m                 \u001b[0mself\u001b[0m\u001b[1;33m.\u001b[0m\u001b[0m_final_estimator\u001b[0m\u001b[1;33m.\u001b[0m\u001b[0mfit\u001b[0m\u001b[1;33m(\u001b[0m\u001b[0mXt\u001b[0m\u001b[1;33m,\u001b[0m \u001b[0my\u001b[0m\u001b[1;33m,\u001b[0m \u001b[1;33m**\u001b[0m\u001b[0mfit_params_last_step\u001b[0m\u001b[1;33m)\u001b[0m\u001b[1;33m\u001b[0m\u001b[0m\n\u001b[0m\u001b[0;32m    347\u001b[0m \u001b[1;33m\u001b[0m\u001b[0m\n\u001b[0;32m    348\u001b[0m         \u001b[1;32mreturn\u001b[0m \u001b[0mself\u001b[0m\u001b[1;33m\u001b[0m\u001b[0m\n",
      "\u001b[1;32mc:\\users\\matan\\github\\kaggle-march-madness-2021\\venv\\lib\\site-packages\\sklearn\\ensemble\\_forest.py\u001b[0m in \u001b[0;36mfit\u001b[1;34m(self, X, y, sample_weight)\u001b[0m\n\u001b[0;32m    377\u001b[0m             trees = [self._make_estimator(append=False,\n\u001b[0;32m    378\u001b[0m                                           random_state=random_state)\n\u001b[1;32m--> 379\u001b[1;33m                      for i in range(n_more_estimators)]\n\u001b[0m\u001b[0;32m    380\u001b[0m \u001b[1;33m\u001b[0m\u001b[0m\n\u001b[0;32m    381\u001b[0m             \u001b[1;31m# Parallel loop: we prefer the threading backend as the Cython code\u001b[0m\u001b[1;33m\u001b[0m\u001b[1;33m\u001b[0m\u001b[0m\n",
      "\u001b[1;32mc:\\users\\matan\\github\\kaggle-march-madness-2021\\venv\\lib\\site-packages\\sklearn\\ensemble\\_forest.py\u001b[0m in \u001b[0;36m<listcomp>\u001b[1;34m(.0)\u001b[0m\n\u001b[0;32m    377\u001b[0m             trees = [self._make_estimator(append=False,\n\u001b[0;32m    378\u001b[0m                                           random_state=random_state)\n\u001b[1;32m--> 379\u001b[1;33m                      for i in range(n_more_estimators)]\n\u001b[0m\u001b[0;32m    380\u001b[0m \u001b[1;33m\u001b[0m\u001b[0m\n\u001b[0;32m    381\u001b[0m             \u001b[1;31m# Parallel loop: we prefer the threading backend as the Cython code\u001b[0m\u001b[1;33m\u001b[0m\u001b[1;33m\u001b[0m\u001b[0m\n",
      "\u001b[1;32mc:\\users\\matan\\github\\kaggle-march-madness-2021\\venv\\lib\\site-packages\\sklearn\\ensemble\\_base.py\u001b[0m in \u001b[0;36m_make_estimator\u001b[1;34m(self, append, random_state)\u001b[0m\n\u001b[0;32m    150\u001b[0m         \u001b[0mestimator\u001b[0m \u001b[1;33m=\u001b[0m \u001b[0mclone\u001b[0m\u001b[1;33m(\u001b[0m\u001b[0mself\u001b[0m\u001b[1;33m.\u001b[0m\u001b[0mbase_estimator_\u001b[0m\u001b[1;33m)\u001b[0m\u001b[1;33m\u001b[0m\u001b[0m\n\u001b[0;32m    151\u001b[0m         estimator.set_params(**{p: getattr(self, p)\n\u001b[1;32m--> 152\u001b[1;33m                                 for p in self.estimator_params})\n\u001b[0m\u001b[0;32m    153\u001b[0m \u001b[1;33m\u001b[0m\u001b[0m\n\u001b[0;32m    154\u001b[0m         \u001b[1;32mif\u001b[0m \u001b[0mrandom_state\u001b[0m \u001b[1;32mis\u001b[0m \u001b[1;32mnot\u001b[0m \u001b[1;32mNone\u001b[0m\u001b[1;33m:\u001b[0m\u001b[1;33m\u001b[0m\u001b[0m\n",
      "\u001b[1;32mc:\\users\\matan\\github\\kaggle-march-madness-2021\\venv\\lib\\site-packages\\sklearn\\ensemble\\_base.py\u001b[0m in \u001b[0;36m<dictcomp>\u001b[1;34m(.0)\u001b[0m\n\u001b[0;32m    150\u001b[0m         \u001b[0mestimator\u001b[0m \u001b[1;33m=\u001b[0m \u001b[0mclone\u001b[0m\u001b[1;33m(\u001b[0m\u001b[0mself\u001b[0m\u001b[1;33m.\u001b[0m\u001b[0mbase_estimator_\u001b[0m\u001b[1;33m)\u001b[0m\u001b[1;33m\u001b[0m\u001b[0m\n\u001b[0;32m    151\u001b[0m         estimator.set_params(**{p: getattr(self, p)\n\u001b[1;32m--> 152\u001b[1;33m                                 for p in self.estimator_params})\n\u001b[0m\u001b[0;32m    153\u001b[0m \u001b[1;33m\u001b[0m\u001b[0m\n\u001b[0;32m    154\u001b[0m         \u001b[1;32mif\u001b[0m \u001b[0mrandom_state\u001b[0m \u001b[1;32mis\u001b[0m \u001b[1;32mnot\u001b[0m \u001b[1;32mNone\u001b[0m\u001b[1;33m:\u001b[0m\u001b[1;33m\u001b[0m\u001b[0m\n",
      "\u001b[1;31mKeyboardInterrupt\u001b[0m: "
     ]
    }
   ],
   "source": [
    "#feature set choice:\n",
    "scores = []\n",
    "params = dict(random_state = 1)\n",
    "model = RandomForestClassifier(**params)\n",
    "\n",
    "for f in [features, features_old, features2, features3, features4, features5]:\n",
    "    scores.append(\n",
    "        reg_cv_train(\n",
    "        features=f, \n",
    "        estimator=model,\n",
    "        mode='cls', \n",
    "        plot=False, \n",
    "        verbose=False)\n",
    "    )\n",
    "    \n",
    "scores"
   ]
  },
  {
   "cell_type": "code",
   "execution_count": null,
   "metadata": {},
   "outputs": [],
   "source": [
    "# basic model:\n",
    "model = RandomForestClassifier()\n",
    "\n",
    "reg_cv_train(\n",
    "        features=features, \n",
    "        estimator=model,\n",
    "        mode='cls', \n",
    "        plot=False, \n",
    "        verbose=False)\n",
    "\n",
    "n_estimators = [5, 10, 50, 100, 150, 200]\n",
    "params = dict(\n",
    "    random_state = 1\n",
    ")\n",
    "\n",
    "scores = []\n",
    "for n in n_estimators:\n",
    "    model = RandomForestClassifier(n_estimators=n, **params)\n",
    "    scores.append(reg_cv_train(\n",
    "        features=features, \n",
    "        estimator=model,\n",
    "        mode='cls', \n",
    "        plot=False, \n",
    "        verbose=False)\n",
    "                 )"
   ]
  },
  {
   "cell_type": "markdown",
   "metadata": {},
   "source": [
    "# Test Set"
   ]
  },
  {
   "cell_type": "code",
   "execution_count": 15,
   "metadata": {
    "ExecuteTime": {
     "end_time": "2021-03-15T17:23:41.620264Z",
     "start_time": "2021-03-15T17:23:40.702420Z"
    }
   },
   "outputs": [],
   "source": [
    "from src.features import build_features\n",
    "\n",
    "test_data = pd.read_csv(\"../data/external/MSampleSubmissionStage1.csv\")\n",
    "test_data[['Season', 'T1_TeamID', 'T2_TeamID']] = test_data['ID'].str.split(\"_\",expand=True)\n",
    "for c in ['Season', 'T1_TeamID', 'T2_TeamID']:\n",
    "    test_data[c] = test_data[c].astype(int)\n",
    "    \n",
    "test_data = build_features.build_test_data(test_data)"
   ]
  },
  {
   "cell_type": "code",
   "execution_count": 16,
   "metadata": {
    "ExecuteTime": {
     "end_time": "2021-03-15T17:23:42.322101Z",
     "start_time": "2021-03-15T17:23:41.667130Z"
    }
   },
   "outputs": [
    {
     "name": "stdout",
     "output_type": "stream",
     "text": [
      "Local CV Loss : 0.500  -----  LogisticRegression\n"
     ]
    },
    {
     "data": {
      "image/png": "[encoded data removed]",
      "text/plain": [
       "<Figure size 432x288 with 1 Axes>"
      ]
     },
     "metadata": {
      "needs_background": "light"
     },
     "output_type": "display_data"
    }
   ],
   "source": [
    "cv_score, test_preds = reg_cv_train(\n",
    "        features=features4, \n",
    "        estimator=linear_model.LogisticRegression(),\n",
    "        mode='cls', \n",
    "        plot=False, \n",
    "        verbose=False,\n",
    "        test_df=test_data\n",
    ")"
   ]
  },
  {
   "cell_type": "code",
   "execution_count": 17,
   "metadata": {
    "ExecuteTime": {
     "end_time": "2021-03-15T17:23:44.807299Z",
     "start_time": "2021-03-15T17:23:44.591441Z"
    }
   },
   "outputs": [
    {
     "data": {
      "text/plain": [
       "<AxesSubplot:ylabel='Count'>"
      ]
     },
     "execution_count": 17,
     "metadata": {},
     "output_type": "execute_result"
    },
    {
     "data": {
      "image/png": "[encoded data removed]",
      "text/plain": [
       "<Figure size 432x288 with 1 Axes>"
      ]
     },
     "metadata": {
      "needs_background": "light"
     },
     "output_type": "display_data"
    }
   ],
   "source": [
    "sns.histplot(test_preds)"
   ]
  },
  {
   "cell_type": "code",
   "execution_count": null,
   "metadata": {},
   "outputs": [],
   "source": []
  }
 ],
 "metadata": {
  "kernelspec": {
   "display_name": "Python 3",
   "language": "python",
   "name": "python3"
  },
  "language_info": {
   "codemirror_mode": {
    "name": "ipython",
    "version": 3
   },
   "file_extension": ".py",
   "mimetype": "text/x-python",
   "name": "python",
   "nbconvert_exporter": "python",
   "pygments_lexer": "ipython3",
   "version": "3.7.0"
  },
  "toc": {
   "base_numbering": 1,
   "nav_menu": {},
   "number_sections": true,
   "sideBar": true,
   "skip_h1_title": false,
   "title_cell": "Table of Contents",
   "title_sidebar": "Contents",
   "toc_cell": false,
   "toc_position": {},
   "toc_section_display": true,
   "toc_window_display": false
  }
 },
 "nbformat": 4,
 "nbformat_minor": 4
}
