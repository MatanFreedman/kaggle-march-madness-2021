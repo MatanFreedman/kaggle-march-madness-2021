{
 "cells": [
  {
   "cell_type": "code",
   "execution_count": 1,
   "metadata": {
    "ExecuteTime": {
     "end_time": "2021-03-31T01:41:17.913912Z",
     "start_time": "2021-03-31T01:41:17.861331Z"
    }
   },
   "outputs": [],
   "source": [
    "# OPTIONAL: Load the \"autoreload\" extension so that code can change\n",
    "%load_ext autoreload\n",
    "\n",
    "# OPTIONAL: always reload modules so that as you change code in src, it gets loaded\n",
    "%autoreload 2"
   ]
  },
  {
   "cell_type": "code",
   "execution_count": 2,
   "metadata": {
    "ExecuteTime": {
     "end_time": "2021-03-31T01:41:19.818555Z",
     "start_time": "2021-03-31T01:41:18.161185Z"
    }
   },
   "outputs": [],
   "source": [
    "import pandas as pd\n",
    "import numpy as np\n",
    "\n",
    "from pathlib import Path"
   ]
  },
  {
   "cell_type": "markdown",
   "metadata": {},
   "source": [
    "# Load Data"
   ]
  },
  {
   "cell_type": "markdown",
   "metadata": {},
   "source": [
    "Note: I added new features and fixed some old features, so older models might perform worse/better if running the same notebook."
   ]
  },
  {
   "cell_type": "code",
   "execution_count": 3,
   "metadata": {
    "ExecuteTime": {
     "end_time": "2021-03-31T01:41:19.949723Z",
     "start_time": "2021-03-31T01:41:19.818555Z"
    }
   },
   "outputs": [],
   "source": [
    "tourney_data = pd.read_csv(\"../data/processed/tourney_data.csv\")"
   ]
  },
  {
   "cell_type": "code",
   "execution_count": 4,
   "metadata": {
    "ExecuteTime": {
     "end_time": "2021-03-31T01:41:20.034379Z",
     "start_time": "2021-03-31T01:41:19.949723Z"
    }
   },
   "outputs": [
    {
     "data": {
      "text/html": [
       "<div>\n",
       "<style scoped>\n",
       "    .dataframe tbody tr th:only-of-type {\n",
       "        vertical-align: middle;\n",
       "    }\n",
       "\n",
       "    .dataframe tbody tr th {\n",
       "        vertical-align: top;\n",
       "    }\n",
       "\n",
       "    .dataframe thead th {\n",
       "        text-align: right;\n",
       "    }\n",
       "</style>\n",
       "<table border=\"1\" class=\"dataframe\">\n",
       "  <thead>\n",
       "    <tr style=\"text-align: right;\">\n",
       "      <th></th>\n",
       "      <th>Season</th>\n",
       "      <th>DayNum</th>\n",
       "      <th>T1_TeamID</th>\n",
       "      <th>T1_Score</th>\n",
       "      <th>T2_TeamID</th>\n",
       "      <th>T2_Score</th>\n",
       "      <th>location</th>\n",
       "      <th>NumOT</th>\n",
       "      <th>T1_FGM</th>\n",
       "      <th>T1_FGA</th>\n",
       "      <th>...</th>\n",
       "      <th>T2_AdjD</th>\n",
       "      <th>T2_AdjT</th>\n",
       "      <th>T2_Luck</th>\n",
       "      <th>T2_Strength of Schedule_AdjEM</th>\n",
       "      <th>T2_Strength of Schedule_OppO</th>\n",
       "      <th>T2_Strength of Schedule_OppD</th>\n",
       "      <th>T2_NCSOS_AdjEM</th>\n",
       "      <th>T1_seed</th>\n",
       "      <th>T2_seed</th>\n",
       "      <th>SeedDiff</th>\n",
       "    </tr>\n",
       "  </thead>\n",
       "  <tbody>\n",
       "    <tr>\n",
       "      <th>0</th>\n",
       "      <td>2003</td>\n",
       "      <td>134</td>\n",
       "      <td>1421</td>\n",
       "      <td>92</td>\n",
       "      <td>1411</td>\n",
       "      <td>84</td>\n",
       "      <td>0</td>\n",
       "      <td>1</td>\n",
       "      <td>32</td>\n",
       "      <td>69</td>\n",
       "      <td>...</td>\n",
       "      <td>108.7</td>\n",
       "      <td>68.4</td>\n",
       "      <td>0.037</td>\n",
       "      <td>-12.96</td>\n",
       "      <td>94.4</td>\n",
       "      <td>107.4</td>\n",
       "      <td>-8.09</td>\n",
       "      <td>16</td>\n",
       "      <td>16</td>\n",
       "      <td>0</td>\n",
       "    </tr>\n",
       "    <tr>\n",
       "      <th>1</th>\n",
       "      <td>2003</td>\n",
       "      <td>134</td>\n",
       "      <td>1411</td>\n",
       "      <td>84</td>\n",
       "      <td>1421</td>\n",
       "      <td>92</td>\n",
       "      <td>0</td>\n",
       "      <td>1</td>\n",
       "      <td>29</td>\n",
       "      <td>67</td>\n",
       "      <td>...</td>\n",
       "      <td>113.5</td>\n",
       "      <td>68.0</td>\n",
       "      <td>0.119</td>\n",
       "      <td>-6.45</td>\n",
       "      <td>98.3</td>\n",
       "      <td>104.7</td>\n",
       "      <td>11.61</td>\n",
       "      <td>16</td>\n",
       "      <td>16</td>\n",
       "      <td>0</td>\n",
       "    </tr>\n",
       "    <tr>\n",
       "      <th>2</th>\n",
       "      <td>2003</td>\n",
       "      <td>136</td>\n",
       "      <td>1436</td>\n",
       "      <td>51</td>\n",
       "      <td>1112</td>\n",
       "      <td>80</td>\n",
       "      <td>0</td>\n",
       "      <td>0</td>\n",
       "      <td>20</td>\n",
       "      <td>64</td>\n",
       "      <td>...</td>\n",
       "      <td>88.8</td>\n",
       "      <td>72.7</td>\n",
       "      <td>-0.007</td>\n",
       "      <td>8.69</td>\n",
       "      <td>107.2</td>\n",
       "      <td>98.5</td>\n",
       "      <td>8.19</td>\n",
       "      <td>16</td>\n",
       "      <td>1</td>\n",
       "      <td>15</td>\n",
       "    </tr>\n",
       "    <tr>\n",
       "      <th>3</th>\n",
       "      <td>2003</td>\n",
       "      <td>136</td>\n",
       "      <td>1112</td>\n",
       "      <td>80</td>\n",
       "      <td>1436</td>\n",
       "      <td>51</td>\n",
       "      <td>0</td>\n",
       "      <td>0</td>\n",
       "      <td>31</td>\n",
       "      <td>66</td>\n",
       "      <td>...</td>\n",
       "      <td>99.5</td>\n",
       "      <td>64.4</td>\n",
       "      <td>0.019</td>\n",
       "      <td>-5.14</td>\n",
       "      <td>99.3</td>\n",
       "      <td>104.4</td>\n",
       "      <td>-2.29</td>\n",
       "      <td>1</td>\n",
       "      <td>16</td>\n",
       "      <td>-15</td>\n",
       "    </tr>\n",
       "    <tr>\n",
       "      <th>4</th>\n",
       "      <td>2003</td>\n",
       "      <td>136</td>\n",
       "      <td>1113</td>\n",
       "      <td>84</td>\n",
       "      <td>1272</td>\n",
       "      <td>71</td>\n",
       "      <td>0</td>\n",
       "      <td>0</td>\n",
       "      <td>31</td>\n",
       "      <td>59</td>\n",
       "      <td>...</td>\n",
       "      <td>94.1</td>\n",
       "      <td>68.3</td>\n",
       "      <td>0.005</td>\n",
       "      <td>4.83</td>\n",
       "      <td>103.4</td>\n",
       "      <td>98.6</td>\n",
       "      <td>3.33</td>\n",
       "      <td>10</td>\n",
       "      <td>7</td>\n",
       "      <td>3</td>\n",
       "    </tr>\n",
       "    <tr>\n",
       "      <th>...</th>\n",
       "      <td>...</td>\n",
       "      <td>...</td>\n",
       "      <td>...</td>\n",
       "      <td>...</td>\n",
       "      <td>...</td>\n",
       "      <td>...</td>\n",
       "      <td>...</td>\n",
       "      <td>...</td>\n",
       "      <td>...</td>\n",
       "      <td>...</td>\n",
       "      <td>...</td>\n",
       "      <td>...</td>\n",
       "      <td>...</td>\n",
       "      <td>...</td>\n",
       "      <td>...</td>\n",
       "      <td>...</td>\n",
       "      <td>...</td>\n",
       "      <td>...</td>\n",
       "      <td>...</td>\n",
       "      <td>...</td>\n",
       "      <td>...</td>\n",
       "    </tr>\n",
       "    <tr>\n",
       "      <th>2225</th>\n",
       "      <td>2019</td>\n",
       "      <td>152</td>\n",
       "      <td>1403</td>\n",
       "      <td>61</td>\n",
       "      <td>1277</td>\n",
       "      <td>51</td>\n",
       "      <td>0</td>\n",
       "      <td>0</td>\n",
       "      <td>22</td>\n",
       "      <td>51</td>\n",
       "      <td>...</td>\n",
       "      <td>90.2</td>\n",
       "      <td>66.9</td>\n",
       "      <td>0.001</td>\n",
       "      <td>13.67</td>\n",
       "      <td>110.6</td>\n",
       "      <td>96.9</td>\n",
       "      <td>3.24</td>\n",
       "      <td>3</td>\n",
       "      <td>2</td>\n",
       "      <td>1</td>\n",
       "    </tr>\n",
       "    <tr>\n",
       "      <th>2226</th>\n",
       "      <td>2019</td>\n",
       "      <td>152</td>\n",
       "      <td>1120</td>\n",
       "      <td>62</td>\n",
       "      <td>1438</td>\n",
       "      <td>63</td>\n",
       "      <td>0</td>\n",
       "      <td>0</td>\n",
       "      <td>21</td>\n",
       "      <td>55</td>\n",
       "      <td>...</td>\n",
       "      <td>89.2</td>\n",
       "      <td>59.4</td>\n",
       "      <td>0.050</td>\n",
       "      <td>11.18</td>\n",
       "      <td>109.2</td>\n",
       "      <td>98.1</td>\n",
       "      <td>-3.24</td>\n",
       "      <td>5</td>\n",
       "      <td>1</td>\n",
       "      <td>4</td>\n",
       "    </tr>\n",
       "    <tr>\n",
       "      <th>2227</th>\n",
       "      <td>2019</td>\n",
       "      <td>152</td>\n",
       "      <td>1438</td>\n",
       "      <td>63</td>\n",
       "      <td>1120</td>\n",
       "      <td>62</td>\n",
       "      <td>0</td>\n",
       "      <td>0</td>\n",
       "      <td>25</td>\n",
       "      <td>51</td>\n",
       "      <td>...</td>\n",
       "      <td>95.9</td>\n",
       "      <td>67.9</td>\n",
       "      <td>0.008</td>\n",
       "      <td>12.23</td>\n",
       "      <td>110.7</td>\n",
       "      <td>98.5</td>\n",
       "      <td>2.63</td>\n",
       "      <td>1</td>\n",
       "      <td>5</td>\n",
       "      <td>-4</td>\n",
       "    </tr>\n",
       "    <tr>\n",
       "      <th>2228</th>\n",
       "      <td>2019</td>\n",
       "      <td>154</td>\n",
       "      <td>1438</td>\n",
       "      <td>85</td>\n",
       "      <td>1403</td>\n",
       "      <td>77</td>\n",
       "      <td>0</td>\n",
       "      <td>1</td>\n",
       "      <td>27</td>\n",
       "      <td>59</td>\n",
       "      <td>...</td>\n",
       "      <td>84.1</td>\n",
       "      <td>66.6</td>\n",
       "      <td>0.004</td>\n",
       "      <td>11.18</td>\n",
       "      <td>109.8</td>\n",
       "      <td>98.7</td>\n",
       "      <td>-5.39</td>\n",
       "      <td>1</td>\n",
       "      <td>3</td>\n",
       "      <td>-2</td>\n",
       "    </tr>\n",
       "    <tr>\n",
       "      <th>2229</th>\n",
       "      <td>2019</td>\n",
       "      <td>154</td>\n",
       "      <td>1403</td>\n",
       "      <td>77</td>\n",
       "      <td>1438</td>\n",
       "      <td>85</td>\n",
       "      <td>0</td>\n",
       "      <td>1</td>\n",
       "      <td>27</td>\n",
       "      <td>63</td>\n",
       "      <td>...</td>\n",
       "      <td>89.2</td>\n",
       "      <td>59.4</td>\n",
       "      <td>0.050</td>\n",
       "      <td>11.18</td>\n",
       "      <td>109.2</td>\n",
       "      <td>98.1</td>\n",
       "      <td>-3.24</td>\n",
       "      <td>3</td>\n",
       "      <td>1</td>\n",
       "      <td>2</td>\n",
       "    </tr>\n",
       "  </tbody>\n",
       "</table>\n",
       "<p>2230 rows × 189 columns</p>\n",
       "</div>"
      ],
      "text/plain": [
       "      Season  DayNum  T1_TeamID  T1_Score  T2_TeamID  T2_Score  location  \\\n",
       "0       2003     134       1421        92       1411        84         0   \n",
       "1       2003     134       1411        84       1421        92         0   \n",
       "2       2003     136       1436        51       1112        80         0   \n",
       "3       2003     136       1112        80       1436        51         0   \n",
       "4       2003     136       1113        84       1272        71         0   \n",
       "...      ...     ...        ...       ...        ...       ...       ...   \n",
       "2225    2019     152       1403        61       1277        51         0   \n",
       "2226    2019     152       1120        62       1438        63         0   \n",
       "2227    2019     152       1438        63       1120        62         0   \n",
       "2228    2019     154       1438        85       1403        77         0   \n",
       "2229    2019     154       1403        77       1438        85         0   \n",
       "\n",
       "      NumOT  T1_FGM  T1_FGA  ...  T2_AdjD  T2_AdjT  T2_Luck  \\\n",
       "0         1      32      69  ...    108.7     68.4    0.037   \n",
       "1         1      29      67  ...    113.5     68.0    0.119   \n",
       "2         0      20      64  ...     88.8     72.7   -0.007   \n",
       "3         0      31      66  ...     99.5     64.4    0.019   \n",
       "4         0      31      59  ...     94.1     68.3    0.005   \n",
       "...     ...     ...     ...  ...      ...      ...      ...   \n",
       "2225      0      22      51  ...     90.2     66.9    0.001   \n",
       "2226      0      21      55  ...     89.2     59.4    0.050   \n",
       "2227      0      25      51  ...     95.9     67.9    0.008   \n",
       "2228      1      27      59  ...     84.1     66.6    0.004   \n",
       "2229      1      27      63  ...     89.2     59.4    0.050   \n",
       "\n",
       "      T2_Strength of Schedule_AdjEM  T2_Strength of Schedule_OppO  \\\n",
       "0                            -12.96                          94.4   \n",
       "1                             -6.45                          98.3   \n",
       "2                              8.69                         107.2   \n",
       "3                             -5.14                          99.3   \n",
       "4                              4.83                         103.4   \n",
       "...                             ...                           ...   \n",
       "2225                          13.67                         110.6   \n",
       "2226                          11.18                         109.2   \n",
       "2227                          12.23                         110.7   \n",
       "2228                          11.18                         109.8   \n",
       "2229                          11.18                         109.2   \n",
       "\n",
       "      T2_Strength of Schedule_OppD  T2_NCSOS_AdjEM  T1_seed  T2_seed  SeedDiff  \n",
       "0                            107.4           -8.09       16       16         0  \n",
       "1                            104.7           11.61       16       16         0  \n",
       "2                             98.5            8.19       16        1        15  \n",
       "3                            104.4           -2.29        1       16       -15  \n",
       "4                             98.6            3.33       10        7         3  \n",
       "...                            ...             ...      ...      ...       ...  \n",
       "2225                          96.9            3.24        3        2         1  \n",
       "2226                          98.1           -3.24        5        1         4  \n",
       "2227                          98.5            2.63        1        5        -4  \n",
       "2228                          98.7           -5.39        1        3        -2  \n",
       "2229                          98.1           -3.24        3        1         2  \n",
       "\n",
       "[2230 rows x 189 columns]"
      ]
     },
     "execution_count": 4,
     "metadata": {},
     "output_type": "execute_result"
    }
   ],
   "source": [
    "tourney_data"
   ]
  },
  {
   "cell_type": "markdown",
   "metadata": {},
   "source": [
    "# Model Building"
   ]
  },
  {
   "cell_type": "code",
   "execution_count": 5,
   "metadata": {
    "ExecuteTime": {
     "end_time": "2021-03-31T01:41:23.947350Z",
     "start_time": "2021-03-31T01:41:20.034379Z"
    }
   },
   "outputs": [],
   "source": [
    "# define log-loss scoring\n",
    "from sklearn.metrics import log_loss, make_scorer\n",
    "from sklearn.model_selection import cross_val_score, GroupKFold, train_test_split\n",
    "from sklearn.linear_model import Lasso\n",
    "from sklearn.ensemble import RandomForestRegressor\n",
    "\n",
    "import matplotlib.pyplot as plt"
   ]
  },
  {
   "cell_type": "code",
   "execution_count": 6,
   "metadata": {
    "ExecuteTime": {
     "end_time": "2021-03-31T01:41:24.015675Z",
     "start_time": "2021-03-31T01:41:23.947350Z"
    }
   },
   "outputs": [],
   "source": [
    "features_all = [\n",
    " 'T1_FGMmean',\n",
    " 'T1_FGAmean',\n",
    " 'T1_FGM3mean',\n",
    " 'T1_FGA3mean',\n",
    " 'T1_FTMmean',\n",
    " 'T1_FTAmean',\n",
    " 'T1_ORmean',\n",
    " 'T1_DRmean',\n",
    " 'T1_Astmean',\n",
    " 'T1_TOmean',\n",
    " 'T1_Stlmean',\n",
    " 'T1_Blkmean',\n",
    " 'T1_PFmean',\n",
    " 'T1_opponent_FGMmean',\n",
    " 'T1_opponent_FGAmean',\n",
    " 'T1_opponent_FGM3mean',\n",
    " 'T1_opponent_FGA3mean',\n",
    " 'T1_opponent_FTMmean',\n",
    " 'T1_opponent_FTAmean',\n",
    " 'T1_opponent_ORmean',\n",
    " 'T1_opponent_DRmean',\n",
    " 'T1_opponent_Astmean',\n",
    " 'T1_opponent_TOmean',\n",
    " 'T1_opponent_Stlmean',\n",
    " 'T1_opponent_Blkmean',\n",
    " 'T1_opponent_PFmean',\n",
    " 'T1_Ptsmean',\n",
    " 'T1_opponent_Ptsmean',\n",
    " 'Posmean',\n",
    " 'T1_OffRtgmean',\n",
    " 'T1_opponent_OffRtgmean',\n",
    " 'T1_DefRtgmean',\n",
    " 'T1_opponent_DefRtgmean',\n",
    " 'T1_NetRtgmean',\n",
    " 'T1_opponent_NetRtgmean',\n",
    " 'T1_AstRmean',\n",
    " 'T1_opponent_AstRmean',\n",
    " 'T1_TORmean',\n",
    " 'T1_opponent_TORmean',\n",
    " 'T1_TSPmean',\n",
    " 'T1_opponent_TSPmean',\n",
    " 'T1_eFGPmean',\n",
    " 'T1_opponent_eFGPmean',\n",
    " 'T1_FTARmean',\n",
    " 'T1_opponent_FTARmean',\n",
    " 'T1_ORPmean',\n",
    " 'T1_opponent_ORPmean',\n",
    " 'T1_DRPmean',\n",
    " 'T1_opponent_DRPmean',\n",
    " 'T1_RPmean',\n",
    " 'T1_opponent_RPmean',\n",
    " 'T1_PointDiffmean',\n",
    " 'T2_FGMmean',\n",
    " 'T2_FGAmean',\n",
    " 'T2_FGM3mean',\n",
    " 'T2_FGA3mean',\n",
    " 'T2_FTMmean',\n",
    " 'T2_FTAmean',\n",
    " 'T2_ORmean',\n",
    " 'T2_DRmean',\n",
    " 'T2_Astmean',\n",
    " 'T2_TOmean',\n",
    " 'T2_Stlmean',\n",
    " 'T2_Blkmean',\n",
    " 'T2_PFmean',\n",
    " 'T2_opponent_FGMmean',\n",
    " 'T2_opponent_FGAmean',\n",
    " 'T2_opponent_FGM3mean',\n",
    " 'T2_opponent_FGA3mean',\n",
    " 'T2_opponent_FTMmean',\n",
    " 'T2_opponent_FTAmean',\n",
    " 'T2_opponent_ORmean',\n",
    " 'T2_opponent_DRmean',\n",
    " 'T2_opponent_Astmean',\n",
    " 'T2_opponent_TOmean',\n",
    " 'T2_opponent_Stlmean',\n",
    " 'T2_opponent_Blkmean',\n",
    " 'T2_opponent_PFmean',\n",
    " 'T2_Ptsmean',\n",
    " 'T2_opponent_Ptsmean',\n",
    " 'T2_Posmean',\n",
    " 'T2_OffRtgmean',\n",
    " 'T2_opponent_OffRtgmean',\n",
    " 'T2_DefRtgmean',\n",
    " 'T2_opponent_DefRtgmean',\n",
    " 'T2_NetRtgmean',\n",
    " 'T2_opponent_NetRtgmean',\n",
    " 'T2_AstRmean',\n",
    " 'T2_opponent_AstRmean',\n",
    " 'T2_TORmean',\n",
    " 'T2_opponent_TORmean',\n",
    " 'T2_TSPmean',\n",
    " 'T2_opponent_TSPmean',\n",
    " 'T2_eFGPmean',\n",
    " 'T2_opponent_eFGPmean',\n",
    " 'T2_FTARmean',\n",
    " 'T2_opponent_FTARmean',\n",
    " 'T2_ORPmean',\n",
    " 'T2_opponent_ORPmean',\n",
    " 'T2_DRPmean',\n",
    " 'T2_opponent_DRPmean',\n",
    " 'T2_RPmean',\n",
    " 'T2_opponent_RPmean',\n",
    " 'T2_PointDiffmean',\n",
    " 'T1_win_ratio_14d',\n",
    " 'T2_win_ratio_14d',\n",
    "#  'T1_Rk',\n",
    " 'T1_AdjEM',\n",
    " 'T1_AdjO',\n",
    " 'T1_AdjD',\n",
    " 'T1_AdjT',\n",
    " 'T1_Luck',\n",
    " 'T1_Strength of Schedule_AdjEM',\n",
    " 'T1_Strength of Schedule_OppO',\n",
    " 'T1_Strength of Schedule_OppD',\n",
    " 'T1_NCSOS_AdjEM',\n",
    "#  'T2_Rk',\n",
    " 'T2_AdjEM',\n",
    " 'T2_AdjO',\n",
    " 'T2_AdjD',\n",
    " 'T2_AdjT',\n",
    " 'T2_Luck',\n",
    " 'T2_Strength of Schedule_AdjEM',\n",
    " 'T2_Strength of Schedule_OppO',\n",
    " 'T2_Strength of Schedule_OppD',\n",
    " 'T2_NCSOS_AdjEM',\n",
    "#  'T1_seed',\n",
    "#  'T2_seed',\n",
    "#  'SeedDiff'\n",
    "]\n",
    "\n",
    "features_old = [\n",
    "       'T1_FGMmean', 'T1_FGAmean', 'T1_FGM3mean', 'T1_FGA3mean',\n",
    "       'T1_ORmean', 'T1_Astmean', 'T1_TOmean', 'T1_Stlmean', 'T1_PFmean',\n",
    "       'T1_opponent_FGMmean', 'T1_opponent_FGAmean', 'T1_opponent_FGM3mean',\n",
    "       'T1_opponent_FGA3mean', 'T1_opponent_ORmean', 'T1_opponent_Astmean',\n",
    "       'T1_opponent_TOmean', 'T1_opponent_Stlmean', 'T1_opponent_Blkmean',\n",
    "       'T1_PointDiffmean', 'T2_FGMmean', 'T2_FGAmean', 'T2_FGM3mean',\n",
    "       'T2_FGA3mean', 'T2_ORmean', 'T2_Astmean', 'T2_TOmean', 'T2_Stlmean',\n",
    "       'T2_PFmean', 'T2_opponent_FGMmean', 'T2_opponent_FGAmean',\n",
    "       'T2_opponent_FGM3mean', 'T2_opponent_FGA3mean', 'T2_opponent_ORmean',\n",
    "       'T2_opponent_Astmean', 'T2_opponent_TOmean', 'T2_opponent_Stlmean',\n",
    "       'T2_opponent_Blkmean', 'T2_PointDiffmean', 'T1_win_ratio_14d', 'T2_win_ratio_14d', 'T1_Rk',\n",
    "       'T1_AdjEM', 'T1_AdjO', 'T1_AdjD', 'T1_AdjT', 'T1_Luck',\n",
    "       'T1_Strength of Schedule_AdjEM', 'T1_Strength of Schedule_OppO',\n",
    "       'T1_Strength of Schedule_OppD', 'T1_NCSOS_AdjEM', 'T2_Rk', 'T2_AdjEM',\n",
    "       'T2_AdjO', 'T2_AdjD', 'T2_AdjT', 'T2_Luck',\n",
    "       'T2_Strength of Schedule_AdjEM', 'T2_Strength of Schedule_OppO',\n",
    "       'T2_Strength of Schedule_OppD', 'T2_NCSOS_AdjEM', \n",
    "    'T1_seed', 'T2_seed',\n",
    "#        'SeedDiff'\n",
    "]\n",
    "\n",
    "features2 = [\n",
    "    'T1_win_ratio_14d', 'T2_win_ratio_14d', 'T1_Rk',\n",
    "   'T1_AdjEM', 'T1_AdjO', 'T1_AdjD', 'T1_AdjT', 'T1_Luck',\n",
    "   'T1_Strength of Schedule_AdjEM', 'T1_Strength of Schedule_OppO',\n",
    "   'T1_Strength of Schedule_OppD', 'T1_NCSOS_AdjEM', 'T2_Rk', 'T2_AdjEM',\n",
    "   'T2_AdjO', 'T2_AdjD', 'T2_AdjT', 'T2_Luck',\n",
    "   'T2_Strength of Schedule_AdjEM', 'T2_Strength of Schedule_OppO',\n",
    "   'T2_Strength of Schedule_OppD', 'T2_NCSOS_AdjEM', 'T1_seed', 'T2_seed',\n",
    "   'SeedDiff'\n",
    "]"
   ]
  },
  {
   "cell_type": "code",
   "execution_count": 7,
   "metadata": {
    "ExecuteTime": {
     "end_time": "2021-03-31T01:41:24.093729Z",
     "start_time": "2021-03-31T01:41:24.015675Z"
    }
   },
   "outputs": [],
   "source": [
    "boxscore_features = [\n",
    " 'T1_FGMmean',\n",
    " 'T1_FGAmean',\n",
    " 'T1_FGM3mean',\n",
    " 'T1_FGA3mean',\n",
    " 'T1_FTMmean',\n",
    " 'T1_FTAmean',\n",
    " 'T1_ORmean',\n",
    " 'T1_DRmean',\n",
    " 'T1_Astmean',\n",
    " 'T1_TOmean',\n",
    " 'T1_Stlmean',\n",
    " 'T1_Blkmean',\n",
    " 'T1_PFmean',\n",
    " 'T1_opponent_FGMmean',\n",
    " 'T1_opponent_FGAmean',\n",
    " 'T1_opponent_FGM3mean',\n",
    " 'T1_opponent_FGA3mean',\n",
    " 'T1_opponent_FTMmean',\n",
    " 'T1_opponent_FTAmean',\n",
    " 'T1_opponent_ORmean',\n",
    " 'T1_opponent_DRmean',\n",
    " 'T1_opponent_Astmean',\n",
    " 'T1_opponent_TOmean',\n",
    " 'T1_opponent_Stlmean',\n",
    " 'T1_opponent_Blkmean',\n",
    " 'T1_opponent_PFmean',\n",
    " 'T1_Ptsmean',\n",
    " 'T1_opponent_Ptsmean',\n",
    " 'Posmean',\n",
    " 'T1_OffRtgmean',\n",
    " 'T1_opponent_OffRtgmean',\n",
    " 'T1_DefRtgmean',\n",
    " 'T1_opponent_DefRtgmean',\n",
    " 'T1_NetRtgmean',\n",
    " 'T1_opponent_NetRtgmean',\n",
    " 'T1_AstRmean',\n",
    " 'T1_opponent_AstRmean',\n",
    " 'T1_TORmean',\n",
    " 'T1_opponent_TORmean',\n",
    " 'T1_TSPmean',\n",
    " 'T1_opponent_TSPmean',\n",
    " 'T1_eFGPmean',\n",
    " 'T1_opponent_eFGPmean',\n",
    " 'T1_FTARmean',\n",
    " 'T1_opponent_FTARmean',\n",
    " 'T1_ORPmean',\n",
    " 'T1_opponent_ORPmean',\n",
    " 'T1_DRPmean',\n",
    " 'T1_opponent_DRPmean',\n",
    " 'T1_RPmean',\n",
    " 'T1_opponent_RPmean',\n",
    " 'T1_PointDiffmean',\n",
    " 'T2_FGMmean',\n",
    " 'T2_FGAmean',\n",
    " 'T2_FGM3mean',\n",
    " 'T2_FGA3mean',\n",
    " 'T2_FTMmean',\n",
    " 'T2_FTAmean',\n",
    " 'T2_ORmean',\n",
    " 'T2_DRmean',\n",
    " 'T2_Astmean',\n",
    " 'T2_TOmean',\n",
    " 'T2_Stlmean',\n",
    " 'T2_Blkmean',\n",
    " 'T2_PFmean',\n",
    " 'T2_opponent_FGMmean',\n",
    " 'T2_opponent_FGAmean',\n",
    " 'T2_opponent_FGM3mean',\n",
    " 'T2_opponent_FGA3mean',\n",
    " 'T2_opponent_FTMmean',\n",
    " 'T2_opponent_FTAmean',\n",
    " 'T2_opponent_ORmean',\n",
    " 'T2_opponent_DRmean',\n",
    " 'T2_opponent_Astmean',\n",
    " 'T2_opponent_TOmean',\n",
    " 'T2_opponent_Stlmean',\n",
    " 'T2_opponent_Blkmean',\n",
    " 'T2_opponent_PFmean',\n",
    " 'T2_Ptsmean',\n",
    " 'T2_opponent_Ptsmean',\n",
    " 'T2_Posmean',\n",
    " 'T2_OffRtgmean',\n",
    " 'T2_opponent_OffRtgmean',\n",
    " 'T2_DefRtgmean',\n",
    " 'T2_opponent_DefRtgmean',\n",
    " 'T2_NetRtgmean',\n",
    " 'T2_opponent_NetRtgmean',\n",
    " 'T2_AstRmean',\n",
    " 'T2_opponent_AstRmean',\n",
    " 'T2_TORmean',\n",
    " 'T2_opponent_TORmean',\n",
    " 'T2_TSPmean',\n",
    " 'T2_opponent_TSPmean',\n",
    " 'T2_eFGPmean',\n",
    " 'T2_opponent_eFGPmean',\n",
    " 'T2_FTARmean',\n",
    " 'T2_opponent_FTARmean',\n",
    " 'T2_ORPmean',\n",
    " 'T2_opponent_ORPmean',\n",
    " 'T2_DRPmean',\n",
    " 'T2_opponent_DRPmean',\n",
    " 'T2_RPmean',\n",
    " 'T2_opponent_RPmean',\n",
    " 'T2_PointDiffmean',\n",
    " 'T1_win_ratio_14d',\n",
    " 'T2_win_ratio_14d',\n",
    "#  'T1_seed',\n",
    "#  'T2_seed',\n",
    "#  'SeedDiff'\n",
    "]\n",
    "\n",
    "kenpom_features = [\n",
    "#  'T1_Rk',\n",
    " 'T1_AdjEM',\n",
    " 'T1_AdjO',\n",
    " 'T1_AdjD',\n",
    " 'T1_AdjT',\n",
    " 'T1_Luck',\n",
    " 'T1_Strength of Schedule_AdjEM',\n",
    " 'T1_Strength of Schedule_OppO',\n",
    " 'T1_Strength of Schedule_OppD',\n",
    " 'T1_NCSOS_AdjEM',\n",
    "#  'T2_Rk',\n",
    " 'T2_AdjEM',\n",
    " 'T2_AdjO',\n",
    " 'T2_AdjD',\n",
    " 'T2_AdjT',\n",
    " 'T2_Luck',\n",
    " 'T2_Strength of Schedule_AdjEM',\n",
    " 'T2_Strength of Schedule_OppO',\n",
    " 'T2_Strength of Schedule_OppD',\n",
    " 'T2_NCSOS_AdjEM',\n",
    "]"
   ]
  },
  {
   "cell_type": "code",
   "execution_count": 8,
   "metadata": {
    "ExecuteTime": {
     "end_time": "2021-03-31T01:41:24.162746Z",
     "start_time": "2021-03-31T01:41:24.093729Z"
    }
   },
   "outputs": [],
   "source": [
    "def print_score(m):\n",
    "    res = {\n",
    "        \"train log loss\":log_loss(y_train, m.predict(X_train)), \n",
    "        \"val log loss\" : log_loss(y_val, m.predict(X_val)),\n",
    "        \"training r^2\" : m.score(X_train, y_train), \n",
    "        \"validation r^2\" : m.score(X_val, y_val)\n",
    "        }\n",
    "    if hasattr(m, 'oob_score_'): \n",
    "        res['oob score'] = m.oob_score_\n",
    "    for label, val in res.items(): \n",
    "        print(label + \": \", val)"
   ]
  },
  {
   "cell_type": "markdown",
   "metadata": {},
   "source": [
    "# Model Building Pipeline"
   ]
  },
  {
   "cell_type": "code",
   "execution_count": 9,
   "metadata": {
    "ExecuteTime": {
     "end_time": "2021-03-31T01:41:24.394898Z",
     "start_time": "2021-03-31T01:41:24.162746Z"
    },
    "scrolled": true
   },
   "outputs": [],
   "source": [
    "from sklearn.pipeline import Pipeline\n",
    "from sklearn.preprocessing import StandardScaler\n",
    "from sklearn.decomposition import PCA\n",
    "import seaborn as sns\n",
    "from sklearn.model_selection import LeaveOneGroupOut\n",
    "from sklearn import linear_model\n",
    "from sklearn.metrics import log_loss\n",
    "import matplotlib.pyplot as plt\n",
    "\n",
    "def increase_risk(df, train_ix, train_preds):\n",
    "    winners = df[(df['T1_seed'] == 1) & (df['T2_seed'] == 16)].index\n",
    "    fix_preds_ix = [np.where(train_ix == ix)[0][0] for ix in winners if ix in train_ix]\n",
    "    train_preds[fix_preds_ix] = 0.93\n",
    "    \n",
    "    losers = df[(df['T1_seed'] == 16) & (df['T2_seed'] == 1)].index\n",
    "    fix_preds_ix = [np.where(train_ix == ix)[0][0] for ix in losers if ix in train_ix]\n",
    "    train_preds[fix_preds_ix] = 0.07\n",
    "    return train_preds\n",
    "\n",
    "def reg_cv_train(\n",
    "    features, \n",
    "    estimator, \n",
    "     mode='reg', \n",
    "     plot=False, \n",
    "     verbose=False,\n",
    "     test_df=None,\n",
    "     tourney_data=tourney_data,\n",
    "     increase_risky_preds=False\n",
    "                ):\n",
    "    preds_test=None\n",
    "    # get full dataset:\n",
    "    df = tourney_data.dropna(how='any').reset_index().copy()\n",
    "\n",
    "    # split X and y:\n",
    "    X = df[features]\n",
    "    y = np.where(df['T1_PointDiff'] > 0, 1, 0)\n",
    "\n",
    "    # use leave-one-group-out:\n",
    "    logo = LeaveOneGroupOut()\n",
    "    groups = df['Season']\n",
    "\n",
    "    cvs = []\n",
    "    \n",
    "    season_ix = list(set(groups))\n",
    "    season_ix.sort()\n",
    "\n",
    "    for i , (train_ix, val_ix) in enumerate(logo.split(X, y, groups)):\n",
    "        # split data:\n",
    "        X_train = X.iloc[train_ix]\n",
    "        y_train = y[train_ix]\n",
    "        X_val = X.iloc[val_ix]\n",
    "        y_val = y[val_ix]\n",
    "\n",
    "\n",
    "        # fit pipeline:\n",
    "        pipe = Pipeline([\n",
    "            ('scaler', StandardScaler()),\n",
    "            ('pca', PCA(n_components=0.8)),\n",
    "            ('estimator', estimator)\n",
    "        ])\n",
    "\n",
    "        pipe.fit(X_train, y_train)\n",
    "\n",
    "        # predict values:\n",
    "        if mode == \"reg\":\n",
    "            pred = pipe.predict(X_val)\n",
    "            pred = np.clip(pred, 0, 1) # because regression\n",
    "            \n",
    "            if test_df is not None:\n",
    "                preds_test = pipe.predict(test_df[features])\n",
    "                preds_test = np.clip(preds_test, 0, 1)\n",
    "        else:\n",
    "            pred = pipe.predict_proba(X_val)[:, 1]\n",
    "\n",
    "            if test_df is not None:\n",
    "                preds_test = pipe.predict_proba(test_df[features])[:, 1]\n",
    "                \n",
    "        if increase_risky_preds:\n",
    "            pred = increase_risk(df, val_ix, pred)\n",
    "            if test_df is not None:\n",
    "                preds_test = increase_risk(df, test_df.index, preds_test)\n",
    "\n",
    "            \n",
    "        # plot:\n",
    "        if plot:\n",
    "            plt.figure(figsize=(15,6))\n",
    "            plt.subplot(1,2,1)\n",
    "            plt.scatter(pred, df.loc[val_ix, 'PointDiff'], s=5)\n",
    "            plt.subplot(1,2,2)\n",
    "            sns.histplot(pred)\n",
    "            plt.show()\n",
    "\n",
    "        # loss:\n",
    "        loss = log_loss(y_val, pred)\n",
    "        cvs.append(loss)\n",
    "\n",
    "        if verbose: print(f\"{season_ix[i]} Loss : {loss}\")\n",
    "    \n",
    "    plt.figure()\n",
    "    plt.plot(range(min(groups), min(groups) + len(set(groups))), cvs)\n",
    "    plt.xlabel(\"Year\")\n",
    "    plt.ylabel(\"Log Loss\")\n",
    "\n",
    "    print(f\"Local CV Loss : {np.mean(cvs):.3f}  -----  {estimator.__class__.__name__}\")\n",
    "    return np.mean(cvs), preds_test"
   ]
  },
  {
   "cell_type": "markdown",
   "metadata": {},
   "source": [
    "# Logistic Regression"
   ]
  },
  {
   "cell_type": "code",
   "execution_count": 10,
   "metadata": {
    "ExecuteTime": {
     "end_time": "2021-03-31T01:41:26.504246Z",
     "start_time": "2021-03-31T01:41:25.069140Z"
    },
    "scrolled": true
   },
   "outputs": [
    {
     "name": "stdout",
     "output_type": "stream",
     "text": [
      "2003 Loss : 0.5129051746884563\n",
      "2004 Loss : 0.475305408058807\n",
      "2005 Loss : 0.4908312551954169\n",
      "2006 Loss : 0.521837072741723\n",
      "2007 Loss : 0.43627593186901004\n",
      "2008 Loss : 0.4666039716412225\n",
      "2009 Loss : 0.5121688088798064\n",
      "2010 Loss : 0.5761466071862507\n",
      "2011 Loss : 0.6236314931070601\n",
      "2012 Loss : 0.5551714136456014\n",
      "2013 Loss : 0.5504858624529613\n",
      "2014 Loss : 0.5453881898462077\n",
      "2015 Loss : 0.47514036081180516\n",
      "2016 Loss : 0.5581017776193178\n",
      "2017 Loss : 0.48035413712264746\n",
      "2018 Loss : 0.5951384298804929\n",
      "2019 Loss : 0.4329320349603095\n",
      "Local CV Loss : 0.518  -----  LogisticRegression\n",
      "Wall time: 1.23 s\n"
     ]
    },
    {
     "data": {
      "text/plain": [
       "(0.518142231159241, None)"
      ]
     },
     "execution_count": 10,
     "metadata": {},
     "output_type": "execute_result"
    },
    {
     "data": {
      "image/png": "[encoded data removed]",
      "text/plain": [
       "<Figure size 432x288 with 1 Axes>"
      ]
     },
     "metadata": {
      "needs_background": "light"
     },
     "output_type": "display_data"
    }
   ],
   "source": [
    "%%time\n",
    "from sklearn.linear_model import LinearRegression, LogisticRegression\n",
    "\n",
    "# basic model:\n",
    "model = LogisticRegression(max_iter=200)\n",
    "\n",
    "reg_cv_train(\n",
    "        features=features_all, \n",
    "        estimator=model,\n",
    "        mode='cls', \n",
    "        plot=False, \n",
    "        verbose=True\n",
    ")"
   ]
  },
  {
   "cell_type": "code",
   "execution_count": 11,
   "metadata": {
    "ExecuteTime": {
     "end_time": "2021-03-31T01:41:33.754298Z",
     "start_time": "2021-03-31T01:41:32.583355Z"
    },
    "scrolled": true
   },
   "outputs": [
    {
     "name": "stdout",
     "output_type": "stream",
     "text": [
      "2003 Loss : 0.6109169043306728\n",
      "2004 Loss : 0.5901626112659132\n",
      "2005 Loss : 0.533174020434815\n",
      "2006 Loss : 0.5733161694599749\n",
      "2007 Loss : 0.5317419631160332\n",
      "2008 Loss : 0.49545980324463657\n",
      "2009 Loss : 0.60898423840121\n",
      "2010 Loss : 0.6541538937394622\n",
      "2011 Loss : 0.6623726480585518\n",
      "2012 Loss : 0.5927667032794672\n",
      "2013 Loss : 0.5829470225445986\n",
      "2014 Loss : 0.6075362057334802\n",
      "2015 Loss : 0.538574034666998\n",
      "2016 Loss : 0.6248727813790111\n",
      "2017 Loss : 0.5903332176392768\n",
      "2018 Loss : 0.6585995020259384\n",
      "2019 Loss : 0.5792145196524092\n",
      "Local CV Loss : 0.590  -----  LogisticRegression\n"
     ]
    },
    {
     "data": {
      "text/plain": [
       "(0.5903015434689676, None)"
      ]
     },
     "execution_count": 11,
     "metadata": {},
     "output_type": "execute_result"
    },
    {
     "data": {
      "image/png": "[encoded data removed]",
      "text/plain": [
       "<Figure size 432x288 with 1 Axes>"
      ]
     },
     "metadata": {
      "needs_background": "light"
     },
     "output_type": "display_data"
    }
   ],
   "source": [
    "# basic model:\n",
    "model = LogisticRegression(max_iter=200)\n",
    "\n",
    "reg_cv_train(\n",
    "        features=boxscore_features, \n",
    "        estimator=model,\n",
    "        mode='cls', \n",
    "        plot=False, \n",
    "        verbose=True,\n",
    "    increase_risky_preds=True\n",
    ")"
   ]
  },
  {
   "cell_type": "code",
   "execution_count": 12,
   "metadata": {
    "ExecuteTime": {
     "end_time": "2021-03-31T01:41:34.217751Z",
     "start_time": "2021-03-31T01:41:33.754298Z"
    },
    "scrolled": true
   },
   "outputs": [
    {
     "name": "stdout",
     "output_type": "stream",
     "text": [
      "2003 Loss : 0.40835346532350475\n",
      "2004 Loss : 0.4574339737828678\n",
      "2005 Loss : 0.4558581497141333\n",
      "2006 Loss : 0.5181483288663642\n",
      "2007 Loss : 0.44233334360753906\n",
      "2008 Loss : 0.49712757034347604\n",
      "2009 Loss : 0.4409794833916052\n",
      "2010 Loss : 0.5267450021602758\n",
      "2011 Loss : 0.5801721007082877\n",
      "2012 Loss : 0.5433029361506343\n",
      "2013 Loss : 0.5213212692670316\n",
      "2014 Loss : 0.4924382129600605\n",
      "2015 Loss : 0.4734317458689915\n",
      "2016 Loss : 0.5729551500723271\n",
      "2017 Loss : 0.45599893261813773\n",
      "2018 Loss : 0.529761086233843\n",
      "2019 Loss : 0.4621641472156088\n",
      "Local CV Loss : 0.493  -----  LogisticRegression\n"
     ]
    },
    {
     "data": {
      "text/plain": [
       "(0.49285440578145223, None)"
      ]
     },
     "execution_count": 12,
     "metadata": {},
     "output_type": "execute_result"
    },
    {
     "data": {
      "image/png": "[encoded data removed]",
      "text/plain": [
       "<Figure size 432x288 with 1 Axes>"
      ]
     },
     "metadata": {
      "needs_background": "light"
     },
     "output_type": "display_data"
    }
   ],
   "source": [
    "# basic model:\n",
    "model = LogisticRegression(max_iter=200)\n",
    "\n",
    "reg_cv_train(\n",
    "        features=kenpom_features, \n",
    "        estimator=model,\n",
    "        mode='cls', \n",
    "        plot=False, \n",
    "        verbose=True)"
   ]
  },
  {
   "cell_type": "markdown",
   "metadata": {},
   "source": [
    "# Testing Multicollinearity"
   ]
  },
  {
   "cell_type": "code",
   "execution_count": 13,
   "metadata": {
    "ExecuteTime": {
     "end_time": "2021-03-31T01:41:37.818717Z",
     "start_time": "2021-03-31T01:41:36.349944Z"
    }
   },
   "outputs": [],
   "source": [
    "import statsmodels.api as sm\n",
    "from statsmodels.stats.outliers_influence import variance_inflation_factor "
   ]
  },
  {
   "cell_type": "code",
   "execution_count": 14,
   "metadata": {
    "ExecuteTime": {
     "end_time": "2021-03-31T01:41:44.905936Z",
     "start_time": "2021-03-31T01:41:38.337483Z"
    }
   },
   "outputs": [
    {
     "name": "stderr",
     "output_type": "stream",
     "text": [
      "c:\\users\\matan\\github\\kaggle-march-madness-2021\\venv\\lib\\site-packages\\statsmodels\\stats\\outliers_influence.py:193: RuntimeWarning: divide by zero encountered in double_scalars\n",
      "  vif = 1. / (1. - r_squared_i)\n"
     ]
    }
   ],
   "source": [
    "# test on all variables:\n",
    "df = tourney_data.dropna(how='any').reset_index().copy()\n",
    "\n",
    "# split X and y:\n",
    "X = df[features_all]\n",
    "y = np.where(df['T1_PointDiff'] > 0, 1, 0)\n",
    "\n",
    "X = sm.add_constant(X)\n",
    "\n",
    "# fit the regression model\n",
    "reg = sm.OLS(y, X).fit()\n",
    "# get Variance Inflation Factor (VIF) \n",
    "vifs = pd.DataFrame({'variables':X.columns[1:], 'VIF':[variance_inflation_factor(X.values, i+1) \n",
    "                for i in range(len(X.columns[1:]))]})\n",
    "\n",
    "vifs = vifs.sort_values(by='VIF')"
   ]
  },
  {
   "cell_type": "markdown",
   "metadata": {},
   "source": [
    "There is a lot of multicollinearity, must reduce features."
   ]
  },
  {
   "cell_type": "code",
   "execution_count": 16,
   "metadata": {
    "ExecuteTime": {
     "end_time": "2021-03-31T01:43:08.560888Z",
     "start_time": "2021-03-31T01:42:28.632471Z"
    }
   },
   "outputs": [
    {
     "name": "stdout",
     "output_type": "stream",
     "text": [
      "Wall time: 39.8 s\n"
     ]
    }
   ],
   "source": [
    "%%time\n",
    "# plan:\n",
    "# 1. Calculate VIF using all variables\n",
    "# 2. Get column with max VIF\n",
    "# 3. Remove columns with correlation > 0.5 to that column\n",
    "# 4. Repeat until no VIFs > 4\n",
    "\n",
    "def calc_vif(X):\n",
    "    X = sm.add_constant(X.copy())\n",
    "    reg = sm.OLS(y, X).fit()\n",
    "    vifs = pd.DataFrame({'variable':X.columns[1:], 'VIF':[variance_inflation_factor(X.values, i+1) \n",
    "                for i in range(len(X.columns[1:]))]}).sort_values(by='VIF', ascending=False)\n",
    "    return vifs\n",
    "\n",
    "import warnings\n",
    "warnings.filterwarnings(\"ignore\")\n",
    "\n",
    "# initialize:\n",
    "df = tourney_data.dropna(how='any').reset_index().copy()\n",
    "X = df[features_all]\n",
    "y = np.where(df['T1_PointDiff'] > 0, 1, 0)\n",
    "vifs = calc_vif(X)\n",
    "max_vif = vifs[vifs['VIF'] == max(vifs['VIF'])].head(1)\n",
    "\n",
    "# remove correlated columns from top VIF variables:\n",
    "while all(max_vif['VIF'] > 4):\n",
    "    corr = X.corr()\n",
    "    col = max_vif['variable']\n",
    "    remove_cols = corr[(abs(corr[col]) > 0.5).values][col].index.tolist()\n",
    "    new_features = [c for c in X.columns if (c not in remove_cols) and all(c != max_vif['variable'])]\n",
    "    X = df[new_features]\n",
    "    vifs = calc_vif(X)\n",
    "    max_vif = vifs[vifs['VIF'] == max(vifs['VIF'])].head(1)"
   ]
  },
  {
   "cell_type": "code",
   "execution_count": 17,
   "metadata": {
    "ExecuteTime": {
     "end_time": "2021-03-31T01:43:08.676757Z",
     "start_time": "2021-03-31T01:43:08.560888Z"
    }
   },
   "outputs": [
    {
     "name": "stdout",
     "output_type": "stream",
     "text": [
      "['T1_ORmean', 'T1_DRmean', 'T1_Blkmean', 'T1_opponent_FGA3mean', 'T1_opponent_ORmean', 'T1_opponent_Blkmean', 'T1_AstRmean', 'T1_TSPmean', 'T2_ORmean', 'T2_Astmean', 'T2_TOmean', 'T2_Blkmean', 'T2_opponent_FGM3mean', 'T2_opponent_Stlmean', 'T2_opponent_Blkmean', 'T1_win_ratio_14d', 'T2_win_ratio_14d', 'T1_Luck', 'T1_NCSOS_AdjEM', 'T2_Luck', 'T2_NCSOS_AdjEM']\n"
     ]
    }
   ],
   "source": [
    "print(new_features)"
   ]
  },
  {
   "cell_type": "code",
   "execution_count": 18,
   "metadata": {
    "ExecuteTime": {
     "end_time": "2021-03-31T01:43:08.808271Z",
     "start_time": "2021-03-31T01:43:08.676757Z"
    }
   },
   "outputs": [],
   "source": [
    "remove_cols = [\n",
    "    \"T1_NCSOS_AdjEM\",\n",
    "    \"T2_NCSOS_AdjEM\",\n",
    "    \"T1_opponent_FGA3mean\",\n",
    "    \"T2_opponent_FGA3mean\",\n",
    "    \"T1_opponent_Blkmean\",\n",
    "    \"T2_opponent_Blkmean\",\n",
    "    \"T2_opponent_FGM3mean\",\n",
    "    \"T2_opponent_Stlmean\",\n",
    "    \"T1_DRmean\",\n",
    "    \"T1_win_ratio_14d\",\n",
    "    \"T2_win_ratio_14d\",\n",
    "]"
   ]
  },
  {
   "cell_type": "code",
   "execution_count": 19,
   "metadata": {
    "ExecuteTime": {
     "end_time": "2021-03-31T01:43:08.961885Z",
     "start_time": "2021-03-31T01:43:08.808271Z"
    },
    "scrolled": false
   },
   "outputs": [
    {
     "name": "stdout",
     "output_type": "stream",
     "text": [
      "Optimization terminated successfully.\n",
      "         Current function value: 0.627048\n",
      "         Iterations 5\n",
      "                           Logit Regression Results                           \n",
      "==============================================================================\n",
      "Dep. Variable:                      y   No. Observations:                 2226\n",
      "Model:                          Logit   Df Residuals:                     2214\n",
      "Method:                           MLE   Df Model:                           11\n",
      "Date:                Tue, 30 Mar 2021   Pseudo R-squ.:                 0.09536\n",
      "Time:                        21:43:08   Log-Likelihood:                -1395.8\n",
      "converged:                       True   LL-Null:                       -1542.9\n",
      "Covariance Type:            nonrobust   LLR p-value:                 1.409e-56\n",
      "======================================================================================\n",
      "                         coef    std err          z      P>|z|      [0.025      0.975]\n",
      "--------------------------------------------------------------------------------------\n",
      "const                 -8.4153      1.455     -5.783      0.000     -11.268      -5.563\n",
      "T1_ORmean              0.1734      0.031      5.660      0.000       0.113       0.233\n",
      "T1_Blkmean             0.3072      0.045      6.775      0.000       0.218       0.396\n",
      "T1_opponent_ORmean    -0.1826      0.038     -4.770      0.000      -0.258      -0.108\n",
      "T1_AstRmean            0.0782      0.036      2.164      0.030       0.007       0.149\n",
      "T1_TSPmean             0.1298      0.025      5.249      0.000       0.081       0.178\n",
      "T2_ORmean             -0.1219      0.028     -4.281      0.000      -0.178      -0.066\n",
      "T2_Astmean            -0.1474      0.025     -5.783      0.000      -0.197      -0.097\n",
      "T2_TOmean              0.2492      0.031      7.959      0.000       0.188       0.311\n",
      "T2_Blkmean            -0.2321      0.040     -5.732      0.000      -0.311      -0.153\n",
      "T1_Luck                2.0577      1.065      1.931      0.053      -0.030       4.146\n",
      "T2_Luck               -2.5088      1.068     -2.350      0.019      -4.601      -0.416\n",
      "======================================================================================\n"
     ]
    }
   ],
   "source": [
    "X = df[[c for c in new_features if c not in remove_cols]]\n",
    "model = sm.Logit(endog=y, exog=sm.add_constant(X)).fit()\n",
    "print(model.summary())"
   ]
  },
  {
   "cell_type": "code",
   "execution_count": 20,
   "metadata": {
    "ExecuteTime": {
     "end_time": "2021-03-31T01:43:12.679043Z",
     "start_time": "2021-03-31T01:43:12.240607Z"
    }
   },
   "outputs": [
    {
     "name": "stdout",
     "output_type": "stream",
     "text": [
      "['T1_ORmean', 'T1_Blkmean', 'T1_opponent_ORmean', 'T1_AstRmean', 'T1_TSPmean', 'T2_ORmean', 'T2_Astmean', 'T2_TOmean', 'T2_Blkmean', 'T1_Luck', 'T2_Luck']\n",
      "2003 Loss : 0.6132911606676184\n",
      "2004 Loss : 0.6038980897687076\n",
      "2005 Loss : 0.6314387407972241\n",
      "2006 Loss : 0.6374453444396758\n",
      "2007 Loss : 0.6220662510449855\n",
      "2008 Loss : 0.6186616966681445\n",
      "2009 Loss : 0.6173146418025459\n",
      "2010 Loss : 0.6891209983218755\n",
      "2011 Loss : 0.6629877578514645\n",
      "2012 Loss : 0.6247677017761784\n",
      "2013 Loss : 0.6501760350327442\n",
      "2014 Loss : 0.6592943419417299\n",
      "2015 Loss : 0.6415870467598258\n",
      "2016 Loss : 0.6433319612251754\n",
      "2017 Loss : 0.6310622623878841\n",
      "2018 Loss : 0.6659565645011152\n",
      "2019 Loss : 0.6080891447126758\n",
      "Local CV Loss : 0.636  -----  LogisticRegression\n"
     ]
    },
    {
     "data": {
      "text/plain": [
       "(0.6364993964529159, None)"
      ]
     },
     "execution_count": 20,
     "metadata": {},
     "output_type": "execute_result"
    },
    {
     "data": {
      "image/png": "[encoded data removed]",
      "text/plain": [
       "<Figure size 432x288 with 1 Axes>"
      ]
     },
     "metadata": {
      "needs_background": "light"
     },
     "output_type": "display_data"
    }
   ],
   "source": [
    "print([c for c in new_features if c not in remove_cols])\n",
    "model = LogisticRegression(max_iter=200)\n",
    "\n",
    "reg_cv_train(\n",
    "        features=[c for c in new_features if c not in remove_cols], \n",
    "        estimator=model,\n",
    "        mode='cls', \n",
    "        plot=False, \n",
    "        verbose=True, increase_risky_preds=True\n",
    ")"
   ]
  },
  {
   "cell_type": "markdown",
   "metadata": {},
   "source": [
    "# Test Set"
   ]
  },
  {
   "cell_type": "code",
   "execution_count": 21,
   "metadata": {
    "ExecuteTime": {
     "end_time": "2021-03-31T01:43:39.118199Z",
     "start_time": "2021-03-31T01:43:37.830330Z"
    }
   },
   "outputs": [],
   "source": [
    "from src.features import build_features\n",
    "\n",
    "test_data = pd.read_csv(\"../data/external/MSampleSubmissionStage2.csv\")\n",
    "test_data[['Season', 'T1_TeamID', 'T2_TeamID']] = test_data['ID'].str.split(\"_\",expand=True)\n",
    "for c in ['Season', 'T1_TeamID', 'T2_TeamID']:\n",
    "    test_data[c] = test_data[c].astype(int)\n",
    "    \n",
    "test_data = build_features.build_test_data(test_data)"
   ]
  },
  {
   "cell_type": "code",
   "execution_count": 22,
   "metadata": {
    "ExecuteTime": {
     "end_time": "2021-03-31T01:44:07.553496Z",
     "start_time": "2021-03-31T01:44:07.099750Z"
    }
   },
   "outputs": [
    {
     "name": "stdout",
     "output_type": "stream",
     "text": [
      "Local CV Loss : 0.652  -----  LogisticRegression\n"
     ]
    },
    {
     "data": {
      "image/png": "[encoded data removed]",
      "text/plain": [
       "<Figure size 432x288 with 1 Axes>"
      ]
     },
     "metadata": {
      "needs_background": "light"
     },
     "output_type": "display_data"
    }
   ],
   "source": [
    "cv_scores = []\n",
    "train_preds_all = []\n",
    "model = linear_model.LogisticRegression(max_iter=300)\n",
    "\n",
    "train_set = tourney_data.dropna(how='any').reset_index(drop=True).copy()\n",
    "\n",
    "f_set = [c for c in new_features if c not in remove_cols]\n",
    "scores, train_preds = reg_cv_train(\n",
    "        features=f_set, \n",
    "        estimator=model,\n",
    "        mode='cls', \n",
    "        plot=False, \n",
    "        verbose=False,\n",
    "        test_df=train_set\n",
    ")"
   ]
  },
  {
   "cell_type": "code",
   "execution_count": 23,
   "metadata": {
    "ExecuteTime": {
     "end_time": "2021-03-31T01:44:40.687386Z",
     "start_time": "2021-03-31T01:44:40.609280Z"
    }
   },
   "outputs": [
    {
     "data": {
      "text/plain": [
       "array([0.65186689, 0.63698497, 0.3257359 , ..., 0.43941033, 0.47959697,\n",
       "       0.40434166])"
      ]
     },
     "execution_count": 23,
     "metadata": {},
     "output_type": "execute_result"
    }
   ],
   "source": [
    "train_preds"
   ]
  },
  {
   "cell_type": "markdown",
   "metadata": {},
   "source": [
    "# Final Model"
   ]
  },
  {
   "cell_type": "code",
   "execution_count": 24,
   "metadata": {
    "ExecuteTime": {
     "end_time": "2021-03-31T01:45:00.876622Z",
     "start_time": "2021-03-31T01:45:00.760793Z"
    }
   },
   "outputs": [
    {
     "data": {
      "text/html": [
       "<div>\n",
       "<style scoped>\n",
       "    .dataframe tbody tr th:only-of-type {\n",
       "        vertical-align: middle;\n",
       "    }\n",
       "\n",
       "    .dataframe tbody tr th {\n",
       "        vertical-align: top;\n",
       "    }\n",
       "\n",
       "    .dataframe thead th {\n",
       "        text-align: right;\n",
       "    }\n",
       "</style>\n",
       "<table border=\"1\" class=\"dataframe\">\n",
       "  <thead>\n",
       "    <tr style=\"text-align: right;\">\n",
       "      <th></th>\n",
       "      <th>ID</th>\n",
       "      <th>Pred</th>\n",
       "      <th>Season</th>\n",
       "      <th>T1_TeamID</th>\n",
       "      <th>T2_TeamID</th>\n",
       "      <th>T1_FGMmean</th>\n",
       "      <th>T1_FGAmean</th>\n",
       "      <th>T1_FGM3mean</th>\n",
       "      <th>T1_FGA3mean</th>\n",
       "      <th>T1_FTMmean</th>\n",
       "      <th>...</th>\n",
       "      <th>T2_AdjD</th>\n",
       "      <th>T2_AdjT</th>\n",
       "      <th>T2_Luck</th>\n",
       "      <th>T2_Strength of Schedule_AdjEM</th>\n",
       "      <th>T2_Strength of Schedule_OppO</th>\n",
       "      <th>T2_Strength of Schedule_OppD</th>\n",
       "      <th>T2_NCSOS_AdjEM</th>\n",
       "      <th>T1_seed</th>\n",
       "      <th>T2_seed</th>\n",
       "      <th>SeedDiff</th>\n",
       "    </tr>\n",
       "  </thead>\n",
       "  <tbody>\n",
       "    <tr>\n",
       "      <th>0</th>\n",
       "      <td>2021_1101_1104</td>\n",
       "      <td>0.5</td>\n",
       "      <td>2021</td>\n",
       "      <td>1101</td>\n",
       "      <td>1104</td>\n",
       "      <td>27.173913</td>\n",
       "      <td>59.043478</td>\n",
       "      <td>8.130435</td>\n",
       "      <td>21.565217</td>\n",
       "      <td>13.826087</td>\n",
       "      <td>...</td>\n",
       "      <td>86.0</td>\n",
       "      <td>73.9</td>\n",
       "      <td>0.031</td>\n",
       "      <td>14.20</td>\n",
       "      <td>109.7</td>\n",
       "      <td>95.5</td>\n",
       "      <td>8.88</td>\n",
       "      <td>14</td>\n",
       "      <td>2</td>\n",
       "      <td>12</td>\n",
       "    </tr>\n",
       "    <tr>\n",
       "      <th>1</th>\n",
       "      <td>2021_1101_1111</td>\n",
       "      <td>0.5</td>\n",
       "      <td>2021</td>\n",
       "      <td>1101</td>\n",
       "      <td>1111</td>\n",
       "      <td>27.173913</td>\n",
       "      <td>59.043478</td>\n",
       "      <td>8.130435</td>\n",
       "      <td>21.565217</td>\n",
       "      <td>13.826087</td>\n",
       "      <td>...</td>\n",
       "      <td>103.0</td>\n",
       "      <td>65.7</td>\n",
       "      <td>0.060</td>\n",
       "      <td>-2.97</td>\n",
       "      <td>100.1</td>\n",
       "      <td>103.1</td>\n",
       "      <td>5.72</td>\n",
       "      <td>14</td>\n",
       "      <td>16</td>\n",
       "      <td>-2</td>\n",
       "    </tr>\n",
       "    <tr>\n",
       "      <th>2</th>\n",
       "      <td>2021_1101_1116</td>\n",
       "      <td>0.5</td>\n",
       "      <td>2021</td>\n",
       "      <td>1101</td>\n",
       "      <td>1116</td>\n",
       "      <td>27.173913</td>\n",
       "      <td>59.043478</td>\n",
       "      <td>8.130435</td>\n",
       "      <td>21.565217</td>\n",
       "      <td>13.826087</td>\n",
       "      <td>...</td>\n",
       "      <td>89.2</td>\n",
       "      <td>73.1</td>\n",
       "      <td>0.056</td>\n",
       "      <td>11.19</td>\n",
       "      <td>108.2</td>\n",
       "      <td>97.0</td>\n",
       "      <td>-5.28</td>\n",
       "      <td>14</td>\n",
       "      <td>3</td>\n",
       "      <td>11</td>\n",
       "    </tr>\n",
       "    <tr>\n",
       "      <th>3</th>\n",
       "      <td>2021_1101_1124</td>\n",
       "      <td>0.5</td>\n",
       "      <td>2021</td>\n",
       "      <td>1101</td>\n",
       "      <td>1124</td>\n",
       "      <td>27.173913</td>\n",
       "      <td>59.043478</td>\n",
       "      <td>8.130435</td>\n",
       "      <td>21.565217</td>\n",
       "      <td>13.826087</td>\n",
       "      <td>...</td>\n",
       "      <td>93.0</td>\n",
       "      <td>68.4</td>\n",
       "      <td>0.050</td>\n",
       "      <td>9.57</td>\n",
       "      <td>106.4</td>\n",
       "      <td>96.9</td>\n",
       "      <td>-4.18</td>\n",
       "      <td>14</td>\n",
       "      <td>1</td>\n",
       "      <td>13</td>\n",
       "    </tr>\n",
       "    <tr>\n",
       "      <th>4</th>\n",
       "      <td>2021_1101_1140</td>\n",
       "      <td>0.5</td>\n",
       "      <td>2021</td>\n",
       "      <td>1101</td>\n",
       "      <td>1140</td>\n",
       "      <td>27.173913</td>\n",
       "      <td>59.043478</td>\n",
       "      <td>8.130435</td>\n",
       "      <td>21.565217</td>\n",
       "      <td>13.826087</td>\n",
       "      <td>...</td>\n",
       "      <td>91.4</td>\n",
       "      <td>68.0</td>\n",
       "      <td>0.045</td>\n",
       "      <td>10.28</td>\n",
       "      <td>107.8</td>\n",
       "      <td>97.5</td>\n",
       "      <td>8.69</td>\n",
       "      <td>14</td>\n",
       "      <td>6</td>\n",
       "      <td>8</td>\n",
       "    </tr>\n",
       "    <tr>\n",
       "      <th>...</th>\n",
       "      <td>...</td>\n",
       "      <td>...</td>\n",
       "      <td>...</td>\n",
       "      <td>...</td>\n",
       "      <td>...</td>\n",
       "      <td>...</td>\n",
       "      <td>...</td>\n",
       "      <td>...</td>\n",
       "      <td>...</td>\n",
       "      <td>...</td>\n",
       "      <td>...</td>\n",
       "      <td>...</td>\n",
       "      <td>...</td>\n",
       "      <td>...</td>\n",
       "      <td>...</td>\n",
       "      <td>...</td>\n",
       "      <td>...</td>\n",
       "      <td>...</td>\n",
       "      <td>...</td>\n",
       "      <td>...</td>\n",
       "      <td>...</td>\n",
       "    </tr>\n",
       "    <tr>\n",
       "      <th>2273</th>\n",
       "      <td>2021_1452_1457</td>\n",
       "      <td>0.5</td>\n",
       "      <td>2021</td>\n",
       "      <td>1452</td>\n",
       "      <td>1457</td>\n",
       "      <td>26.333333</td>\n",
       "      <td>61.481481</td>\n",
       "      <td>7.259259</td>\n",
       "      <td>20.333333</td>\n",
       "      <td>17.370370</td>\n",
       "      <td>...</td>\n",
       "      <td>95.4</td>\n",
       "      <td>73.6</td>\n",
       "      <td>0.032</td>\n",
       "      <td>-6.45</td>\n",
       "      <td>98.8</td>\n",
       "      <td>105.3</td>\n",
       "      <td>3.95</td>\n",
       "      <td>3</td>\n",
       "      <td>12</td>\n",
       "      <td>-9</td>\n",
       "    </tr>\n",
       "    <tr>\n",
       "      <th>2274</th>\n",
       "      <td>2021_1452_1458</td>\n",
       "      <td>0.5</td>\n",
       "      <td>2021</td>\n",
       "      <td>1452</td>\n",
       "      <td>1458</td>\n",
       "      <td>26.333333</td>\n",
       "      <td>61.481481</td>\n",
       "      <td>7.259259</td>\n",
       "      <td>20.333333</td>\n",
       "      <td>17.370370</td>\n",
       "      <td>...</td>\n",
       "      <td>89.1</td>\n",
       "      <td>64.9</td>\n",
       "      <td>-0.049</td>\n",
       "      <td>18.06</td>\n",
       "      <td>111.7</td>\n",
       "      <td>93.7</td>\n",
       "      <td>1.22</td>\n",
       "      <td>3</td>\n",
       "      <td>9</td>\n",
       "      <td>-6</td>\n",
       "    </tr>\n",
       "    <tr>\n",
       "      <th>2275</th>\n",
       "      <td>2021_1455_1457</td>\n",
       "      <td>0.5</td>\n",
       "      <td>2021</td>\n",
       "      <td>1455</td>\n",
       "      <td>1457</td>\n",
       "      <td>23.894737</td>\n",
       "      <td>59.000000</td>\n",
       "      <td>8.368421</td>\n",
       "      <td>24.263158</td>\n",
       "      <td>15.736842</td>\n",
       "      <td>...</td>\n",
       "      <td>95.4</td>\n",
       "      <td>73.6</td>\n",
       "      <td>0.032</td>\n",
       "      <td>-6.45</td>\n",
       "      <td>98.8</td>\n",
       "      <td>105.3</td>\n",
       "      <td>3.95</td>\n",
       "      <td>11</td>\n",
       "      <td>12</td>\n",
       "      <td>-1</td>\n",
       "    </tr>\n",
       "    <tr>\n",
       "      <th>2276</th>\n",
       "      <td>2021_1455_1458</td>\n",
       "      <td>0.5</td>\n",
       "      <td>2021</td>\n",
       "      <td>1455</td>\n",
       "      <td>1458</td>\n",
       "      <td>23.894737</td>\n",
       "      <td>59.000000</td>\n",
       "      <td>8.368421</td>\n",
       "      <td>24.263158</td>\n",
       "      <td>15.736842</td>\n",
       "      <td>...</td>\n",
       "      <td>89.1</td>\n",
       "      <td>64.9</td>\n",
       "      <td>-0.049</td>\n",
       "      <td>18.06</td>\n",
       "      <td>111.7</td>\n",
       "      <td>93.7</td>\n",
       "      <td>1.22</td>\n",
       "      <td>11</td>\n",
       "      <td>9</td>\n",
       "      <td>2</td>\n",
       "    </tr>\n",
       "    <tr>\n",
       "      <th>2277</th>\n",
       "      <td>2021_1457_1458</td>\n",
       "      <td>0.5</td>\n",
       "      <td>2021</td>\n",
       "      <td>1457</td>\n",
       "      <td>1458</td>\n",
       "      <td>28.083333</td>\n",
       "      <td>60.958333</td>\n",
       "      <td>8.458333</td>\n",
       "      <td>23.958333</td>\n",
       "      <td>14.916667</td>\n",
       "      <td>...</td>\n",
       "      <td>89.1</td>\n",
       "      <td>64.9</td>\n",
       "      <td>-0.049</td>\n",
       "      <td>18.06</td>\n",
       "      <td>111.7</td>\n",
       "      <td>93.7</td>\n",
       "      <td>1.22</td>\n",
       "      <td>12</td>\n",
       "      <td>9</td>\n",
       "      <td>3</td>\n",
       "    </tr>\n",
       "  </tbody>\n",
       "</table>\n",
       "<p>2278 rows × 134 columns</p>\n",
       "</div>"
      ],
      "text/plain": [
       "                  ID  Pred  Season  T1_TeamID  T2_TeamID  T1_FGMmean  \\\n",
       "0     2021_1101_1104   0.5    2021       1101       1104   27.173913   \n",
       "1     2021_1101_1111   0.5    2021       1101       1111   27.173913   \n",
       "2     2021_1101_1116   0.5    2021       1101       1116   27.173913   \n",
       "3     2021_1101_1124   0.5    2021       1101       1124   27.173913   \n",
       "4     2021_1101_1140   0.5    2021       1101       1140   27.173913   \n",
       "...              ...   ...     ...        ...        ...         ...   \n",
       "2273  2021_1452_1457   0.5    2021       1452       1457   26.333333   \n",
       "2274  2021_1452_1458   0.5    2021       1452       1458   26.333333   \n",
       "2275  2021_1455_1457   0.5    2021       1455       1457   23.894737   \n",
       "2276  2021_1455_1458   0.5    2021       1455       1458   23.894737   \n",
       "2277  2021_1457_1458   0.5    2021       1457       1458   28.083333   \n",
       "\n",
       "      T1_FGAmean  T1_FGM3mean  T1_FGA3mean  T1_FTMmean  ...  T2_AdjD  T2_AdjT  \\\n",
       "0      59.043478     8.130435    21.565217   13.826087  ...     86.0     73.9   \n",
       "1      59.043478     8.130435    21.565217   13.826087  ...    103.0     65.7   \n",
       "2      59.043478     8.130435    21.565217   13.826087  ...     89.2     73.1   \n",
       "3      59.043478     8.130435    21.565217   13.826087  ...     93.0     68.4   \n",
       "4      59.043478     8.130435    21.565217   13.826087  ...     91.4     68.0   \n",
       "...          ...          ...          ...         ...  ...      ...      ...   \n",
       "2273   61.481481     7.259259    20.333333   17.370370  ...     95.4     73.6   \n",
       "2274   61.481481     7.259259    20.333333   17.370370  ...     89.1     64.9   \n",
       "2275   59.000000     8.368421    24.263158   15.736842  ...     95.4     73.6   \n",
       "2276   59.000000     8.368421    24.263158   15.736842  ...     89.1     64.9   \n",
       "2277   60.958333     8.458333    23.958333   14.916667  ...     89.1     64.9   \n",
       "\n",
       "      T2_Luck  T2_Strength of Schedule_AdjEM  T2_Strength of Schedule_OppO  \\\n",
       "0       0.031                          14.20                         109.7   \n",
       "1       0.060                          -2.97                         100.1   \n",
       "2       0.056                          11.19                         108.2   \n",
       "3       0.050                           9.57                         106.4   \n",
       "4       0.045                          10.28                         107.8   \n",
       "...       ...                            ...                           ...   \n",
       "2273    0.032                          -6.45                          98.8   \n",
       "2274   -0.049                          18.06                         111.7   \n",
       "2275    0.032                          -6.45                          98.8   \n",
       "2276   -0.049                          18.06                         111.7   \n",
       "2277   -0.049                          18.06                         111.7   \n",
       "\n",
       "      T2_Strength of Schedule_OppD  T2_NCSOS_AdjEM  T1_seed  T2_seed  SeedDiff  \n",
       "0                             95.5            8.88       14        2        12  \n",
       "1                            103.1            5.72       14       16        -2  \n",
       "2                             97.0           -5.28       14        3        11  \n",
       "3                             96.9           -4.18       14        1        13  \n",
       "4                             97.5            8.69       14        6         8  \n",
       "...                            ...             ...      ...      ...       ...  \n",
       "2273                         105.3            3.95        3       12        -9  \n",
       "2274                          93.7            1.22        3        9        -6  \n",
       "2275                         105.3            3.95       11       12        -1  \n",
       "2276                          93.7            1.22       11        9         2  \n",
       "2277                          93.7            1.22       12        9         3  \n",
       "\n",
       "[2278 rows x 134 columns]"
      ]
     },
     "execution_count": 24,
     "metadata": {},
     "output_type": "execute_result"
    }
   ],
   "source": [
    "test_data"
   ]
  },
  {
   "cell_type": "code",
   "execution_count": 27,
   "metadata": {
    "ExecuteTime": {
     "end_time": "2021-03-31T01:48:25.869708Z",
     "start_time": "2021-03-31T01:48:25.753848Z"
    },
    "scrolled": true
   },
   "outputs": [
    {
     "name": "stdout",
     "output_type": "stream",
     "text": [
      "Final Log Loss : 0.6270491644925522\n"
     ]
    }
   ],
   "source": [
    "# get full dataset:\n",
    "train_set = tourney_data.dropna(how='any').reset_index(drop=True).copy()\n",
    "scaler = StandardScaler()\n",
    "\n",
    "y = np.where(train_set['T1_PointDiff'] > 0, 1, 0)\n",
    "\n",
    "scaler.fit(train_set)\n",
    "train_set_scaled = pd.DataFrame(scaler.fit_transform(train_set[f_set]), columns=f_set)\n",
    "\n",
    "# boxscore model:\n",
    "f_set_model = LogisticRegression(max_iter=300)\n",
    "f_set_model.fit(train_set_scaled[f_set], y)\n",
    "f_set_preds = f_set_model.predict_proba(train_set_scaled[f_set])[:, 1]\n",
    "\n",
    "# final log_loss:\n",
    "print(f\"Final Log Loss : {log_loss(y, f_set_model.predict_proba(train_set_scaled[f_set])[:, 1])}\")\n",
    "\n",
    "test_data_scaled = pd.DataFrame(scaler.transform(test_data[f_set]),  columns=f_set)\n",
    "test_preds = f_set_model.predict_proba(test_data_scaled[f_set])[:, 1]"
   ]
  },
  {
   "cell_type": "code",
   "execution_count": 29,
   "metadata": {
    "ExecuteTime": {
     "end_time": "2021-03-31T01:49:37.110789Z",
     "start_time": "2021-03-31T01:49:37.010014Z"
    }
   },
   "outputs": [],
   "source": [
    "test_data[\"Pred\"] = test_preds\n",
    "sub_ = test_data[['ID', 'Pred']]\n",
    "sub_.to_csv(\"../models/logit_03_30.csv\", index=False)"
   ]
  },
  {
   "cell_type": "code",
   "execution_count": 30,
   "metadata": {
    "ExecuteTime": {
     "end_time": "2021-03-31T01:49:44.643417Z",
     "start_time": "2021-03-31T01:49:44.459086Z"
    }
   },
   "outputs": [
    {
     "data": {
      "image/png": "[encoded data removed]",
      "text/plain": [
       "<Figure size 432x288 with 1 Axes>"
      ]
     },
     "metadata": {
      "needs_background": "light"
     },
     "output_type": "display_data"
    }
   ],
   "source": [
    "plt.hist(test_preds);"
   ]
  },
  {
   "cell_type": "code",
   "execution_count": null,
   "metadata": {},
   "outputs": [],
   "source": []
  }
 ],
 "metadata": {
  "kernelspec": {
   "display_name": "Python 3",
   "language": "python",
   "name": "python3"
  },
  "language_info": {
   "codemirror_mode": {
    "name": "ipython",
    "version": 3
   },
   "file_extension": ".py",
   "mimetype": "text/x-python",
   "name": "python",
   "nbconvert_exporter": "python",
   "pygments_lexer": "ipython3",
   "version": "3.7.0"
  },
  "toc": {
   "base_numbering": 1,
   "nav_menu": {},
   "number_sections": true,
   "sideBar": true,
   "skip_h1_title": false,
   "title_cell": "Table of Contents",
   "title_sidebar": "Contents",
   "toc_cell": false,
   "toc_position": {},
   "toc_section_display": true,
   "toc_window_display": false
  }
 },
 "nbformat": 4,
 "nbformat_minor": 4
}
