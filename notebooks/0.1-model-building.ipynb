{
 "cells": [
  {
   "cell_type": "code",
   "execution_count": 13,
   "metadata": {},
   "outputs": [
    {
     "name": "stdout",
     "output_type": "stream",
     "text": [
      "The autoreload extension is already loaded. To reload it, use:\n",
      "  %reload_ext autoreload\n"
     ]
    }
   ],
   "source": [
    "# OPTIONAL: Load the \"autoreload\" extension so that code can change\n",
    "%load_ext autoreload\n",
    "\n",
    "# OPTIONAL: always reload modules so that as you change code in src, it gets loaded\n",
    "%autoreload 2"
   ]
  },
  {
   "cell_type": "code",
   "execution_count": 14,
   "metadata": {},
   "outputs": [],
   "source": [
    "import pandas as pd\n",
    "import numpy as np\n",
    "\n",
    "from pathlib import Path"
   ]
  },
  {
   "cell_type": "markdown",
   "metadata": {},
   "source": [
    "# Load Data"
   ]
  },
  {
   "cell_type": "code",
   "execution_count": 39,
   "metadata": {},
   "outputs": [],
   "source": [
    "tourney_data = pd.read_csv(\"../data/processed/tourney_data.csv\")"
   ]
  },
  {
   "cell_type": "markdown",
   "metadata": {},
   "source": [
    "# Model Building"
   ]
  },
  {
   "cell_type": "code",
   "execution_count": 40,
   "metadata": {},
   "outputs": [],
   "source": [
    "# define log-loss scoring\n",
    "from sklearn.metrics import log_loss, make_scorer\n",
    "from sklearn.model_selection import cross_val_score, GroupKFold, train_test_split\n",
    "from sklearn.linear_model import Lasso\n",
    "from sklearn.ensemble import RandomForestRegressor\n",
    "\n",
    "import matplotlib.pyplot as plt"
   ]
  },
  {
   "cell_type": "code",
   "execution_count": 41,
   "metadata": {},
   "outputs": [],
   "source": [
    "features = [\n",
    "       'location', 'T1_FGMmean', 'T1_FGAmean', 'T1_FGM3mean', 'T1_FGA3mean',\n",
    "       'T1_ORmean', 'T1_Astmean', 'T1_TOmean', 'T1_Stlmean', 'T1_PFmean',\n",
    "       'T1_opponent_FGMmean', 'T1_opponent_FGAmean', 'T1_opponent_FGM3mean',\n",
    "       'T1_opponent_FGA3mean', 'T1_opponent_ORmean', 'T1_opponent_Astmean',\n",
    "       'T1_opponent_TOmean', 'T1_opponent_Stlmean', 'T1_opponent_Blkmean',\n",
    "       'PointDiffmean', 'T2_FGMmean', 'T2_FGAmean', 'T2_FGM3mean',\n",
    "       'T2_FGA3mean', 'T2_ORmean', 'T2_Astmean', 'T2_TOmean', 'T2_Stlmean',\n",
    "       'T2_PFmean', 'T2_opponent_FGMmean', 'T2_opponent_FGAmean',\n",
    "       'T2_opponent_FGM3mean', 'T2_opponent_FGA3mean', 'T2_opponent_ORmean',\n",
    "       'T2_opponent_Astmean', 'T2_opponent_TOmean', 'T2_opponent_Stlmean',\n",
    "       'T2_opponent_Blkmean', 'T2_PointDiffmean', 'T1_win_ratio_14d',\n",
    "       'T2_win_ratio_14d', 'T1_seed', 'T2_seed', 'SeedDiff', 'T1_Rk',\n",
    "       'T1_AdjEM', 'T1_AdjO', 'T1_Strength of Schedule_AdjD', 'T1_NCSOS_AdjT',\n",
    "       'T2_Rk', 'T2_AdjEM', 'T2_AdjO', 'T2_Strength of Schedule_AdjD',\n",
    "       'T2_NCSOS_AdjT'\n",
    "]\n",
    "\n",
    "features = [\n",
    "    'T1_win_ratio_14d',\n",
    "    'T2_win_ratio_14d', 'T1_seed', 'T2_seed', 'SeedDiff', 'T1_Rk',\n",
    "    'T1_AdjEM', 'T1_AdjO', 'T1_Strength of Schedule_AdjD', 'T1_NCSOS_AdjT',\n",
    "    'T2_Rk', 'T2_AdjEM', 'T2_AdjO', 'T2_Strength of Schedule_AdjD',\n",
    "    'T2_NCSOS_AdjT'\n",
    "]\n",
    "\n",
    "df = tourney_data.dropna(how='any')\n",
    "\n",
    "X = df[features].copy()\n",
    "y = np.where(df['T1_Score'] - df['T2_Score'] > 0, 1, 0)\n",
    "\n",
    "# split training and testing:\n",
    "X_train, X_test, y_train, y_test = train_test_split(X, y, train_size=0.8)\n",
    "X_train, X_val, y_train, y_val = train_test_split(X_train, y_train, train_size=0.8)\n",
    "\n",
    "# group_kfold = GroupKFold(n_splits=len(set(groups)))"
   ]
  },
  {
   "cell_type": "code",
   "execution_count": 42,
   "metadata": {},
   "outputs": [],
   "source": [
    "def print_score(m):\n",
    "    res = {\n",
    "        \"train log loss\":log_loss(y_train, m.predict(X_train)), \n",
    "        \"val log loss\" : log_loss(y_val, m.predict(X_val)),\n",
    "        \"training r^2\" : m.score(X_train, y_train), \n",
    "        \"validation r^2\" : m.score(X_val, y_val)\n",
    "        }\n",
    "    if hasattr(m, 'oob_score_'): \n",
    "        res['oob score'] = m.oob_score_\n",
    "    for label, val in res.items(): \n",
    "        print(label + \": \", val)"
   ]
  },
  {
   "cell_type": "markdown",
   "metadata": {},
   "source": [
    "## Random Forest\n",
    "Just to get warmed up again."
   ]
  },
  {
   "cell_type": "code",
   "execution_count": 46,
   "metadata": {
    "scrolled": true
   },
   "outputs": [
    {
     "name": "stdout",
     "output_type": "stream",
     "text": [
      "Wall time: 248 ms\n",
      "train log loss:  0.13725532647832867\n",
      "val log loss:  0.5348223972651062\n",
      "training r^2:  0.9011876509156056\n",
      "validation r^2:  0.29951422497223534\n"
     ]
    }
   ],
   "source": [
    "random_state = 1\n",
    "model = RandomForestRegressor(n_jobs=-1, n_estimators=100)\n",
    "\n",
    "%time model.fit(X_train, y_train)\n",
    "\n",
    "print_score(model)"
   ]
  },
  {
   "cell_type": "code",
   "execution_count": 63,
   "metadata": {
    "scrolled": false
   },
   "outputs": [
    {
     "name": "stderr",
     "output_type": "stream",
     "text": [
      "C:\\ProgramData\\Anaconda3\\lib\\site-packages\\sklearn\\ensemble\\_forest.py:815: UserWarning: Some inputs do not have OOB scores. This probably means too few trees were used to compute any reliable oob estimates.\n",
      "  warn(\"Some inputs do not have OOB scores. \"\n"
     ]
    },
    {
     "data": {
      "text/plain": [
       "[<matplotlib.lines.Line2D at 0x1e645dcda88>]"
      ]
     },
     "execution_count": 63,
     "metadata": {},
     "output_type": "execute_result"
    },
    {
     "data": {
      "image/png": "[encoded data removed]",
      "text/plain": [
       "<Figure size 432x288 with 1 Axes>"
      ]
     },
     "metadata": {
      "needs_background": "light"
     },
     "output_type": "display_data"
    }
   ],
   "source": [
    "n_trees = [10, 50, 100, 150, 200, 300]\n",
    "val_log_loss = []\n",
    "for n in n_trees:\n",
    "    model = RandomForestRegressor(\n",
    "        n_estimators=n, n_jobs=-1, oob_score=True, random_state=random_state\n",
    "    )\n",
    "    model.fit(X_train, y_train)\n",
    "    val_log_loss.append(log_loss(y_val, model.predict(X_val)))\n",
    "\n",
    "plt.plot(n_trees, val_log_loss)"
   ]
  },
  {
   "cell_type": "code",
   "execution_count": 67,
   "metadata": {},
   "outputs": [
    {
     "data": {
      "text/plain": [
       "[<matplotlib.lines.Line2D at 0x1e6445cce08>]"
      ]
     },
     "execution_count": 67,
     "metadata": {},
     "output_type": "execute_result"
    },
    {
     "data": {
      "image/png": "[encoded data removed]",
      "text/plain": [
       "<Figure size 432x288 with 1 Axes>"
      ]
     },
     "metadata": {
      "needs_background": "light"
     },
     "output_type": "display_data"
    }
   ],
   "source": [
    "params = dict(\n",
    "    n_jobs=-1,\n",
    "    oob_score=True, \n",
    "    n_estimators=150,\n",
    ")\n",
    "\n",
    "min_samples_leaf = [2, 5, 10, 20, 50]\n",
    "val_log_loss = []\n",
    "for msl in min_samples_leaf:\n",
    "    model = RandomForestRegressor(  \n",
    "        min_samples_leaf=msl,\n",
    "        **params\n",
    "    )\n",
    "    model.fit(X_train, y_train)\n",
    "    val_log_loss.append(log_loss(y_val, model.predict(X_val)))\n",
    "\n",
    "plt.plot(min_samples_leaf, val_log_loss)"
   ]
  },
  {
   "cell_type": "code",
   "execution_count": 68,
   "metadata": {},
   "outputs": [],
   "source": [
    "val, idx = min((val, idx) for (idx, val) in enumerate(val_log_loss))\n",
    "params['min_samples_leaf'] = min_samples_leaf[idx]"
   ]
  },
  {
   "cell_type": "code",
   "execution_count": 69,
   "metadata": {},
   "outputs": [
    {
     "data": {
      "image/png": "[encoded data removed]",
      "text/plain": [
       "<Figure size 432x288 with 1 Axes>"
      ]
     },
     "metadata": {
      "needs_background": "light"
     },
     "output_type": "display_data"
    }
   ],
   "source": [
    "max_leaf_nodes = [10, 20, 30, 40, 50, 60, 70]\n",
    "\n",
    "val_log_loss = []\n",
    "for m in max_leaf_nodes:\n",
    "    model = RandomForestRegressor(\n",
    "     max_leaf_nodes=m, **params\n",
    "    )\n",
    "    model.fit(X_train, y_train)\n",
    "    val_log_loss.append(log_loss(y_val, model.predict(X_val)))\n",
    "\n",
    "plt.plot(max_leaf_nodes, val_log_loss)\n",
    "val, idx = min((val, idx) for (idx, val) in enumerate(val_log_loss))"
   ]
  },
  {
   "cell_type": "code",
   "execution_count": 70,
   "metadata": {},
   "outputs": [
    {
     "name": "stdout",
     "output_type": "stream",
     "text": [
      "Max leaf nodes:  20\n"
     ]
    }
   ],
   "source": [
    "params['max_leaf_nodes'] = max_leaf_nodes[idx]\n",
    "print(\"Max leaf nodes: \", max_leaf_nodes[idx])"
   ]
  },
  {
   "cell_type": "code",
   "execution_count": 71,
   "metadata": {},
   "outputs": [
    {
     "name": "stdout",
     "output_type": "stream",
     "text": [
      "{'n_jobs': -1, 'oob_score': True, 'n_estimators': 150, 'min_samples_leaf': 20, 'max_leaf_nodes': 20}\n",
      "train log loss:  0.42717101454686945\n",
      "val log loss:  0.5064004764168678\n",
      "training r^2:  0.4498398924325429\n",
      "validation r^2:  0.3263477706522231\n",
      "oob score:  0.32347332287631547\n"
     ]
    }
   ],
   "source": [
    "print(params)\n",
    "model = RandomForestRegressor(\n",
    "     **params\n",
    "    )\n",
    "model.fit(X_train, y_train)\n",
    "print_score(model)"
   ]
  },
  {
   "cell_type": "markdown",
   "metadata": {},
   "source": [
    "## CV Pipe"
   ]
  },
  {
   "cell_type": "code",
   "execution_count": 81,
   "metadata": {
    "scrolled": true
   },
   "outputs": [],
   "source": [
    "from sklearn.model_selection import LeaveOneGroupOut\n",
    "def cv_score(m, X_test_, y_test_, print_=True):\n",
    "    res = log_loss(y_test_, m.predict(X_test_))\n",
    "    if print_: print(f\"Val log loss: {res}\")\n",
    "    return res\n",
    "\n",
    "def leave_one_out_CV(estimater, params, folds, df, features):\n",
    "    X = df[features].copy()\n",
    "    y = np.where(df['T1_Score'] - df['T2_Score'] > 0, 1, 0)\n",
    "    groups = df['Season'].values - 2003\n",
    "\n",
    "    # split training and testing:\n",
    "    X_train, X_test, y_train, y_test = train_test_split(X, y, train_size=0.8)\n",
    "    X_train, X_val, y_train, y_val = train_test_split(X_train, y_train, train_size=0.8)\n",
    "\n",
    "\n",
    "    cv_res = {}\n",
    "    group_kfold = LeaveOneGroupOut()\n",
    "    groups_ = groups[X_train.index]\n",
    "\n",
    "    for i in range(folds):\n",
    "        print(f\"Fold repeater {i}\")\n",
    "        cv_res[i] = []\n",
    "        for train_index, test_index in group_kfold.split(X_train.values, y_train, groups_):\n",
    "            X_train_, X_test_ = X_train.iloc[train_index], X_train.iloc[test_index]\n",
    "            y_train_, y_test_ = y_train[train_index], y_train[test_index]\n",
    "\n",
    "            if hasattr(estimator, \"random_state\"):\n",
    "                params['random_state'] = i\n",
    "\n",
    "            m = estimater(**params)\n",
    "            m.fit(X_train_, y_train_)\n",
    "            cv_res[i].append(cv_score(m, X_test_, y_test_, print_=False))\n",
    "        print(f\"Fold Log Loss: {np.mean(cv_res[i])}\")\n",
    "\n",
    "    cv_results = [np.mean(vals) for i, vals in cv_res.items()]\n",
    "    print(\"CV Fold Results\", cv_results)\n",
    "    print(\"Mean CV Log Loss: \", np.mean(cv_results))"
   ]
  },
  {
   "cell_type": "code",
   "execution_count": 82,
   "metadata": {},
   "outputs": [
    {
     "name": "stdout",
     "output_type": "stream",
     "text": [
      "Fold repeater 0\n",
      "Fold Log Loss: 0.48496709323237075\n",
      "Fold repeater 1\n",
      "Fold Log Loss: 0.48474398195871454\n",
      "Fold repeater 2\n",
      "Fold Log Loss: 0.48450253374367686\n",
      "CV Fold Results [0.48496709323237075, 0.48474398195871454, 0.48450253374367686]\n",
      "Mean CV Log Loss:  0.4847378696449207\n"
     ]
    }
   ],
   "source": [
    "df = tourney_data.dropna(how='any').reset_index(drop=True)\n",
    "\n",
    "leave_one_out_CV(estimater=RandomForestRegressor, params=params, \n",
    "                 folds=3, df=df, features=features)"
   ]
  },
  {
   "cell_type": "code",
   "execution_count": 83,
   "metadata": {},
   "outputs": [
    {
     "name": "stdout",
     "output_type": "stream",
     "text": [
      "Fold repeater 0\n",
      "Fold Log Loss: 0.6462987497953133\n",
      "Fold repeater 1\n",
      "Fold Log Loss: 0.6462987497953133\n",
      "Fold repeater 2\n",
      "Fold Log Loss: 0.6462987497953133\n",
      "CV Fold Results [0.6462987497953133, 0.6462987497953133, 0.6462987497953133]\n",
      "Mean CV Log Loss:  0.6462987497953133\n"
     ]
    }
   ],
   "source": [
    "from sklearn.linear_model import LinearRegression\n",
    "\n",
    "leave_one_out_CV(estimater=LinearRegression, params={}, folds=3, df=df, features=features)"
   ]
  },
  {
   "cell_type": "code",
   "execution_count": null,
   "metadata": {},
   "outputs": [],
   "source": []
  }
 ],
 "metadata": {
  "kernelspec": {
   "display_name": "Python 3",
   "language": "python",
   "name": "python3"
  },
  "language_info": {
   "codemirror_mode": {
    "name": "ipython",
    "version": 3
   },
   "file_extension": ".py",
   "mimetype": "text/x-python",
   "name": "python",
   "nbconvert_exporter": "python",
   "pygments_lexer": "ipython3",
   "version": "3.7.6"
  }
 },
 "nbformat": 4,
 "nbformat_minor": 4
}
