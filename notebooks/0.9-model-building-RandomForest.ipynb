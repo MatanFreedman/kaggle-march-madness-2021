{
 "cells": [
  {
   "cell_type": "code",
   "execution_count": 1,
   "metadata": {
    "ExecuteTime": {
     "end_time": "2021-03-18T14:36:23.793535Z",
     "start_time": "2021-03-18T14:36:23.746243Z"
    }
   },
   "outputs": [],
   "source": [
    "# OPTIONAL: Load the \"autoreload\" extension so that code can change\n",
    "%load_ext autoreload\n",
    "\n",
    "# OPTIONAL: always reload modules so that as you change code in src, it gets loaded\n",
    "%autoreload 2"
   ]
  },
  {
   "cell_type": "code",
   "execution_count": 2,
   "metadata": {
    "ExecuteTime": {
     "end_time": "2021-03-18T14:36:24.573639Z",
     "start_time": "2021-03-18T14:36:23.991342Z"
    }
   },
   "outputs": [],
   "source": [
    "import pandas as pd\n",
    "import numpy as np\n",
    "\n",
    "from pathlib import Path"
   ]
  },
  {
   "cell_type": "markdown",
   "metadata": {},
   "source": [
    "# Load Data"
   ]
  },
  {
   "cell_type": "markdown",
   "metadata": {},
   "source": [
    "Note: I added new features and fixed some old features, so older models might perform worse/better if running the same notebook."
   ]
  },
  {
   "cell_type": "code",
   "execution_count": 3,
   "metadata": {
    "ExecuteTime": {
     "end_time": "2021-03-18T14:36:36.616499Z",
     "start_time": "2021-03-18T14:36:36.497037Z"
    }
   },
   "outputs": [],
   "source": [
    "tourney_data = pd.read_csv(\"../data/processed/tourney_data.csv\")"
   ]
  },
  {
   "cell_type": "code",
   "execution_count": 4,
   "metadata": {
    "ExecuteTime": {
     "end_time": "2021-03-18T14:36:37.027842Z",
     "start_time": "2021-03-18T14:36:36.953724Z"
    }
   },
   "outputs": [
    {
     "data": {
      "text/html": [
       "<div>\n",
       "<style scoped>\n",
       "    .dataframe tbody tr th:only-of-type {\n",
       "        vertical-align: middle;\n",
       "    }\n",
       "\n",
       "    .dataframe tbody tr th {\n",
       "        vertical-align: top;\n",
       "    }\n",
       "\n",
       "    .dataframe thead th {\n",
       "        text-align: right;\n",
       "    }\n",
       "</style>\n",
       "<table border=\"1\" class=\"dataframe\">\n",
       "  <thead>\n",
       "    <tr style=\"text-align: right;\">\n",
       "      <th></th>\n",
       "      <th>Season</th>\n",
       "      <th>DayNum</th>\n",
       "      <th>T1_TeamID</th>\n",
       "      <th>T1_Score</th>\n",
       "      <th>T2_TeamID</th>\n",
       "      <th>T2_Score</th>\n",
       "      <th>location</th>\n",
       "      <th>NumOT</th>\n",
       "      <th>T1_FGM</th>\n",
       "      <th>T1_FGA</th>\n",
       "      <th>...</th>\n",
       "      <th>T2_AdjD</th>\n",
       "      <th>T2_AdjT</th>\n",
       "      <th>T2_Luck</th>\n",
       "      <th>T2_Strength of Schedule_AdjEM</th>\n",
       "      <th>T2_Strength of Schedule_OppO</th>\n",
       "      <th>T2_Strength of Schedule_OppD</th>\n",
       "      <th>T2_NCSOS_AdjEM</th>\n",
       "      <th>T1_seed</th>\n",
       "      <th>T2_seed</th>\n",
       "      <th>SeedDiff</th>\n",
       "    </tr>\n",
       "  </thead>\n",
       "  <tbody>\n",
       "    <tr>\n",
       "      <th>0</th>\n",
       "      <td>2003</td>\n",
       "      <td>134</td>\n",
       "      <td>1421</td>\n",
       "      <td>92</td>\n",
       "      <td>1411</td>\n",
       "      <td>84</td>\n",
       "      <td>0</td>\n",
       "      <td>1</td>\n",
       "      <td>32</td>\n",
       "      <td>69</td>\n",
       "      <td>...</td>\n",
       "      <td>108.7</td>\n",
       "      <td>68.4</td>\n",
       "      <td>0.037</td>\n",
       "      <td>-12.96</td>\n",
       "      <td>94.4</td>\n",
       "      <td>107.4</td>\n",
       "      <td>-8.09</td>\n",
       "      <td>16</td>\n",
       "      <td>16</td>\n",
       "      <td>0</td>\n",
       "    </tr>\n",
       "    <tr>\n",
       "      <th>1</th>\n",
       "      <td>2003</td>\n",
       "      <td>134</td>\n",
       "      <td>1411</td>\n",
       "      <td>84</td>\n",
       "      <td>1421</td>\n",
       "      <td>92</td>\n",
       "      <td>0</td>\n",
       "      <td>1</td>\n",
       "      <td>29</td>\n",
       "      <td>67</td>\n",
       "      <td>...</td>\n",
       "      <td>113.5</td>\n",
       "      <td>68.0</td>\n",
       "      <td>0.119</td>\n",
       "      <td>-6.45</td>\n",
       "      <td>98.3</td>\n",
       "      <td>104.7</td>\n",
       "      <td>11.61</td>\n",
       "      <td>16</td>\n",
       "      <td>16</td>\n",
       "      <td>0</td>\n",
       "    </tr>\n",
       "    <tr>\n",
       "      <th>2</th>\n",
       "      <td>2003</td>\n",
       "      <td>136</td>\n",
       "      <td>1436</td>\n",
       "      <td>51</td>\n",
       "      <td>1112</td>\n",
       "      <td>80</td>\n",
       "      <td>0</td>\n",
       "      <td>0</td>\n",
       "      <td>20</td>\n",
       "      <td>64</td>\n",
       "      <td>...</td>\n",
       "      <td>88.8</td>\n",
       "      <td>72.7</td>\n",
       "      <td>-0.007</td>\n",
       "      <td>8.69</td>\n",
       "      <td>107.2</td>\n",
       "      <td>98.5</td>\n",
       "      <td>8.19</td>\n",
       "      <td>16</td>\n",
       "      <td>1</td>\n",
       "      <td>15</td>\n",
       "    </tr>\n",
       "    <tr>\n",
       "      <th>3</th>\n",
       "      <td>2003</td>\n",
       "      <td>136</td>\n",
       "      <td>1112</td>\n",
       "      <td>80</td>\n",
       "      <td>1436</td>\n",
       "      <td>51</td>\n",
       "      <td>0</td>\n",
       "      <td>0</td>\n",
       "      <td>31</td>\n",
       "      <td>66</td>\n",
       "      <td>...</td>\n",
       "      <td>99.5</td>\n",
       "      <td>64.4</td>\n",
       "      <td>0.019</td>\n",
       "      <td>-5.14</td>\n",
       "      <td>99.3</td>\n",
       "      <td>104.4</td>\n",
       "      <td>-2.29</td>\n",
       "      <td>1</td>\n",
       "      <td>16</td>\n",
       "      <td>-15</td>\n",
       "    </tr>\n",
       "    <tr>\n",
       "      <th>4</th>\n",
       "      <td>2003</td>\n",
       "      <td>136</td>\n",
       "      <td>1113</td>\n",
       "      <td>84</td>\n",
       "      <td>1272</td>\n",
       "      <td>71</td>\n",
       "      <td>0</td>\n",
       "      <td>0</td>\n",
       "      <td>31</td>\n",
       "      <td>59</td>\n",
       "      <td>...</td>\n",
       "      <td>94.1</td>\n",
       "      <td>68.3</td>\n",
       "      <td>0.005</td>\n",
       "      <td>4.83</td>\n",
       "      <td>103.4</td>\n",
       "      <td>98.6</td>\n",
       "      <td>3.33</td>\n",
       "      <td>10</td>\n",
       "      <td>7</td>\n",
       "      <td>3</td>\n",
       "    </tr>\n",
       "    <tr>\n",
       "      <th>...</th>\n",
       "      <td>...</td>\n",
       "      <td>...</td>\n",
       "      <td>...</td>\n",
       "      <td>...</td>\n",
       "      <td>...</td>\n",
       "      <td>...</td>\n",
       "      <td>...</td>\n",
       "      <td>...</td>\n",
       "      <td>...</td>\n",
       "      <td>...</td>\n",
       "      <td>...</td>\n",
       "      <td>...</td>\n",
       "      <td>...</td>\n",
       "      <td>...</td>\n",
       "      <td>...</td>\n",
       "      <td>...</td>\n",
       "      <td>...</td>\n",
       "      <td>...</td>\n",
       "      <td>...</td>\n",
       "      <td>...</td>\n",
       "      <td>...</td>\n",
       "    </tr>\n",
       "    <tr>\n",
       "      <th>2225</th>\n",
       "      <td>2019</td>\n",
       "      <td>152</td>\n",
       "      <td>1403</td>\n",
       "      <td>61</td>\n",
       "      <td>1277</td>\n",
       "      <td>51</td>\n",
       "      <td>0</td>\n",
       "      <td>0</td>\n",
       "      <td>22</td>\n",
       "      <td>51</td>\n",
       "      <td>...</td>\n",
       "      <td>90.2</td>\n",
       "      <td>66.9</td>\n",
       "      <td>0.001</td>\n",
       "      <td>13.67</td>\n",
       "      <td>110.6</td>\n",
       "      <td>96.9</td>\n",
       "      <td>3.24</td>\n",
       "      <td>3</td>\n",
       "      <td>2</td>\n",
       "      <td>1</td>\n",
       "    </tr>\n",
       "    <tr>\n",
       "      <th>2226</th>\n",
       "      <td>2019</td>\n",
       "      <td>152</td>\n",
       "      <td>1120</td>\n",
       "      <td>62</td>\n",
       "      <td>1438</td>\n",
       "      <td>63</td>\n",
       "      <td>0</td>\n",
       "      <td>0</td>\n",
       "      <td>21</td>\n",
       "      <td>55</td>\n",
       "      <td>...</td>\n",
       "      <td>89.2</td>\n",
       "      <td>59.4</td>\n",
       "      <td>0.050</td>\n",
       "      <td>11.18</td>\n",
       "      <td>109.2</td>\n",
       "      <td>98.1</td>\n",
       "      <td>-3.24</td>\n",
       "      <td>5</td>\n",
       "      <td>1</td>\n",
       "      <td>4</td>\n",
       "    </tr>\n",
       "    <tr>\n",
       "      <th>2227</th>\n",
       "      <td>2019</td>\n",
       "      <td>152</td>\n",
       "      <td>1438</td>\n",
       "      <td>63</td>\n",
       "      <td>1120</td>\n",
       "      <td>62</td>\n",
       "      <td>0</td>\n",
       "      <td>0</td>\n",
       "      <td>25</td>\n",
       "      <td>51</td>\n",
       "      <td>...</td>\n",
       "      <td>95.9</td>\n",
       "      <td>67.9</td>\n",
       "      <td>0.008</td>\n",
       "      <td>12.23</td>\n",
       "      <td>110.7</td>\n",
       "      <td>98.5</td>\n",
       "      <td>2.63</td>\n",
       "      <td>1</td>\n",
       "      <td>5</td>\n",
       "      <td>-4</td>\n",
       "    </tr>\n",
       "    <tr>\n",
       "      <th>2228</th>\n",
       "      <td>2019</td>\n",
       "      <td>154</td>\n",
       "      <td>1438</td>\n",
       "      <td>85</td>\n",
       "      <td>1403</td>\n",
       "      <td>77</td>\n",
       "      <td>0</td>\n",
       "      <td>1</td>\n",
       "      <td>27</td>\n",
       "      <td>59</td>\n",
       "      <td>...</td>\n",
       "      <td>84.1</td>\n",
       "      <td>66.6</td>\n",
       "      <td>0.004</td>\n",
       "      <td>11.18</td>\n",
       "      <td>109.8</td>\n",
       "      <td>98.7</td>\n",
       "      <td>-5.39</td>\n",
       "      <td>1</td>\n",
       "      <td>3</td>\n",
       "      <td>-2</td>\n",
       "    </tr>\n",
       "    <tr>\n",
       "      <th>2229</th>\n",
       "      <td>2019</td>\n",
       "      <td>154</td>\n",
       "      <td>1403</td>\n",
       "      <td>77</td>\n",
       "      <td>1438</td>\n",
       "      <td>85</td>\n",
       "      <td>0</td>\n",
       "      <td>1</td>\n",
       "      <td>27</td>\n",
       "      <td>63</td>\n",
       "      <td>...</td>\n",
       "      <td>89.2</td>\n",
       "      <td>59.4</td>\n",
       "      <td>0.050</td>\n",
       "      <td>11.18</td>\n",
       "      <td>109.2</td>\n",
       "      <td>98.1</td>\n",
       "      <td>-3.24</td>\n",
       "      <td>3</td>\n",
       "      <td>1</td>\n",
       "      <td>2</td>\n",
       "    </tr>\n",
       "  </tbody>\n",
       "</table>\n",
       "<p>2230 rows × 189 columns</p>\n",
       "</div>"
      ],
      "text/plain": [
       "      Season  DayNum  T1_TeamID  T1_Score  T2_TeamID  T2_Score  location  \\\n",
       "0       2003     134       1421        92       1411        84         0   \n",
       "1       2003     134       1411        84       1421        92         0   \n",
       "2       2003     136       1436        51       1112        80         0   \n",
       "3       2003     136       1112        80       1436        51         0   \n",
       "4       2003     136       1113        84       1272        71         0   \n",
       "...      ...     ...        ...       ...        ...       ...       ...   \n",
       "2225    2019     152       1403        61       1277        51         0   \n",
       "2226    2019     152       1120        62       1438        63         0   \n",
       "2227    2019     152       1438        63       1120        62         0   \n",
       "2228    2019     154       1438        85       1403        77         0   \n",
       "2229    2019     154       1403        77       1438        85         0   \n",
       "\n",
       "      NumOT  T1_FGM  T1_FGA  ...  T2_AdjD  T2_AdjT  T2_Luck  \\\n",
       "0         1      32      69  ...    108.7     68.4    0.037   \n",
       "1         1      29      67  ...    113.5     68.0    0.119   \n",
       "2         0      20      64  ...     88.8     72.7   -0.007   \n",
       "3         0      31      66  ...     99.5     64.4    0.019   \n",
       "4         0      31      59  ...     94.1     68.3    0.005   \n",
       "...     ...     ...     ...  ...      ...      ...      ...   \n",
       "2225      0      22      51  ...     90.2     66.9    0.001   \n",
       "2226      0      21      55  ...     89.2     59.4    0.050   \n",
       "2227      0      25      51  ...     95.9     67.9    0.008   \n",
       "2228      1      27      59  ...     84.1     66.6    0.004   \n",
       "2229      1      27      63  ...     89.2     59.4    0.050   \n",
       "\n",
       "      T2_Strength of Schedule_AdjEM  T2_Strength of Schedule_OppO  \\\n",
       "0                            -12.96                          94.4   \n",
       "1                             -6.45                          98.3   \n",
       "2                              8.69                         107.2   \n",
       "3                             -5.14                          99.3   \n",
       "4                              4.83                         103.4   \n",
       "...                             ...                           ...   \n",
       "2225                          13.67                         110.6   \n",
       "2226                          11.18                         109.2   \n",
       "2227                          12.23                         110.7   \n",
       "2228                          11.18                         109.8   \n",
       "2229                          11.18                         109.2   \n",
       "\n",
       "      T2_Strength of Schedule_OppD  T2_NCSOS_AdjEM  T1_seed  T2_seed  SeedDiff  \n",
       "0                            107.4           -8.09       16       16         0  \n",
       "1                            104.7           11.61       16       16         0  \n",
       "2                             98.5            8.19       16        1        15  \n",
       "3                            104.4           -2.29        1       16       -15  \n",
       "4                             98.6            3.33       10        7         3  \n",
       "...                            ...             ...      ...      ...       ...  \n",
       "2225                          96.9            3.24        3        2         1  \n",
       "2226                          98.1           -3.24        5        1         4  \n",
       "2227                          98.5            2.63        1        5        -4  \n",
       "2228                          98.7           -5.39        1        3        -2  \n",
       "2229                          98.1           -3.24        3        1         2  \n",
       "\n",
       "[2230 rows x 189 columns]"
      ]
     },
     "execution_count": 4,
     "metadata": {},
     "output_type": "execute_result"
    }
   ],
   "source": [
    "tourney_data"
   ]
  },
  {
   "cell_type": "markdown",
   "metadata": {},
   "source": [
    "# Model Building"
   ]
  },
  {
   "cell_type": "code",
   "execution_count": 15,
   "metadata": {
    "ExecuteTime": {
     "end_time": "2021-03-18T14:56:05.258382Z",
     "start_time": "2021-03-18T14:56:05.176706Z"
    }
   },
   "outputs": [],
   "source": [
    "# define log-loss scoring\n",
    "from sklearn.metrics import log_loss, make_scorer\n",
    "from sklearn.model_selection import cross_val_score, GroupKFold, train_test_split\n",
    "from sklearn.linear_model import Lasso\n",
    "from sklearn.ensemble import RandomForestRegressor, RandomForestClassifier\n",
    "\n",
    "import matplotlib.pyplot as plt"
   ]
  },
  {
   "cell_type": "code",
   "execution_count": 6,
   "metadata": {
    "ExecuteTime": {
     "end_time": "2021-03-18T14:37:00.016743Z",
     "start_time": "2021-03-18T14:36:59.944703Z"
    }
   },
   "outputs": [],
   "source": [
    "features_all = [\n",
    " 'T1_FGMmean',\n",
    " 'T1_FGAmean',\n",
    " 'T1_FGM3mean',\n",
    " 'T1_FGA3mean',\n",
    " 'T1_FTMmean',\n",
    " 'T1_FTAmean',\n",
    " 'T1_ORmean',\n",
    " 'T1_DRmean',\n",
    " 'T1_Astmean',\n",
    " 'T1_TOmean',\n",
    " 'T1_Stlmean',\n",
    " 'T1_Blkmean',\n",
    " 'T1_PFmean',\n",
    " 'T1_opponent_FGMmean',\n",
    " 'T1_opponent_FGAmean',\n",
    " 'T1_opponent_FGM3mean',\n",
    " 'T1_opponent_FGA3mean',\n",
    " 'T1_opponent_FTMmean',\n",
    " 'T1_opponent_FTAmean',\n",
    " 'T1_opponent_ORmean',\n",
    " 'T1_opponent_DRmean',\n",
    " 'T1_opponent_Astmean',\n",
    " 'T1_opponent_TOmean',\n",
    " 'T1_opponent_Stlmean',\n",
    " 'T1_opponent_Blkmean',\n",
    " 'T1_opponent_PFmean',\n",
    " 'T1_Ptsmean',\n",
    " 'T1_opponent_Ptsmean',\n",
    " 'Posmean',\n",
    " 'T1_OffRtgmean',\n",
    " 'T1_opponent_OffRtgmean',\n",
    " 'T1_DefRtgmean',\n",
    " 'T1_opponent_DefRtgmean',\n",
    " 'T1_NetRtgmean',\n",
    " 'T1_opponent_NetRtgmean',\n",
    " 'T1_AstRmean',\n",
    " 'T1_opponent_AstRmean',\n",
    " 'T1_TORmean',\n",
    " 'T1_opponent_TORmean',\n",
    " 'T1_TSPmean',\n",
    " 'T1_opponent_TSPmean',\n",
    " 'T1_eFGPmean',\n",
    " 'T1_opponent_eFGPmean',\n",
    " 'T1_FTARmean',\n",
    " 'T1_opponent_FTARmean',\n",
    " 'T1_ORPmean',\n",
    " 'T1_opponent_ORPmean',\n",
    " 'T1_DRPmean',\n",
    " 'T1_opponent_DRPmean',\n",
    " 'T1_RPmean',\n",
    " 'T1_opponent_RPmean',\n",
    " 'T1_PointDiffmean',\n",
    " 'T2_FGMmean',\n",
    " 'T2_FGAmean',\n",
    " 'T2_FGM3mean',\n",
    " 'T2_FGA3mean',\n",
    " 'T2_FTMmean',\n",
    " 'T2_FTAmean',\n",
    " 'T2_ORmean',\n",
    " 'T2_DRmean',\n",
    " 'T2_Astmean',\n",
    " 'T2_TOmean',\n",
    " 'T2_Stlmean',\n",
    " 'T2_Blkmean',\n",
    " 'T2_PFmean',\n",
    " 'T2_opponent_FGMmean',\n",
    " 'T2_opponent_FGAmean',\n",
    " 'T2_opponent_FGM3mean',\n",
    " 'T2_opponent_FGA3mean',\n",
    " 'T2_opponent_FTMmean',\n",
    " 'T2_opponent_FTAmean',\n",
    " 'T2_opponent_ORmean',\n",
    " 'T2_opponent_DRmean',\n",
    " 'T2_opponent_Astmean',\n",
    " 'T2_opponent_TOmean',\n",
    " 'T2_opponent_Stlmean',\n",
    " 'T2_opponent_Blkmean',\n",
    " 'T2_opponent_PFmean',\n",
    " 'T2_Ptsmean',\n",
    " 'T2_opponent_Ptsmean',\n",
    " 'T2_Posmean',\n",
    " 'T2_OffRtgmean',\n",
    " 'T2_opponent_OffRtgmean',\n",
    " 'T2_DefRtgmean',\n",
    " 'T2_opponent_DefRtgmean',\n",
    " 'T2_NetRtgmean',\n",
    " 'T2_opponent_NetRtgmean',\n",
    " 'T2_AstRmean',\n",
    " 'T2_opponent_AstRmean',\n",
    " 'T2_TORmean',\n",
    " 'T2_opponent_TORmean',\n",
    " 'T2_TSPmean',\n",
    " 'T2_opponent_TSPmean',\n",
    " 'T2_eFGPmean',\n",
    " 'T2_opponent_eFGPmean',\n",
    " 'T2_FTARmean',\n",
    " 'T2_opponent_FTARmean',\n",
    " 'T2_ORPmean',\n",
    " 'T2_opponent_ORPmean',\n",
    " 'T2_DRPmean',\n",
    " 'T2_opponent_DRPmean',\n",
    " 'T2_RPmean',\n",
    " 'T2_opponent_RPmean',\n",
    " 'T2_PointDiffmean',\n",
    " 'T1_win_ratio_14d',\n",
    " 'T2_win_ratio_14d',\n",
    "#  'T1_Rk',\n",
    " 'T1_AdjEM',\n",
    " 'T1_AdjO',\n",
    " 'T1_AdjD',\n",
    " 'T1_AdjT',\n",
    " 'T1_Luck',\n",
    " 'T1_Strength of Schedule_AdjEM',\n",
    " 'T1_Strength of Schedule_OppO',\n",
    " 'T1_Strength of Schedule_OppD',\n",
    " 'T1_NCSOS_AdjEM',\n",
    "#  'T2_Rk',\n",
    " 'T2_AdjEM',\n",
    " 'T2_AdjO',\n",
    " 'T2_AdjD',\n",
    " 'T2_AdjT',\n",
    " 'T2_Luck',\n",
    " 'T2_Strength of Schedule_AdjEM',\n",
    " 'T2_Strength of Schedule_OppO',\n",
    " 'T2_Strength of Schedule_OppD',\n",
    " 'T2_NCSOS_AdjEM',\n",
    "#  'T1_seed',\n",
    "#  'T2_seed',\n",
    "#  'SeedDiff'\n",
    "]\n",
    "\n",
    "features2 = [\n",
    "    'T1_win_ratio_14d', 'T2_win_ratio_14d', 'T1_Rk',\n",
    "   'T1_AdjEM', 'T1_AdjO', 'T1_AdjD', 'T1_AdjT', 'T1_Luck',\n",
    "   'T1_Strength of Schedule_AdjEM', 'T1_Strength of Schedule_OppO',\n",
    "   'T1_Strength of Schedule_OppD', 'T1_NCSOS_AdjEM', 'T2_Rk', 'T2_AdjEM',\n",
    "   'T2_AdjO', 'T2_AdjD', 'T2_AdjT', 'T2_Luck',\n",
    "   'T2_Strength of Schedule_AdjEM', 'T2_Strength of Schedule_OppO',\n",
    "   'T2_Strength of Schedule_OppD', 'T2_NCSOS_AdjEM', 'T1_seed', 'T2_seed',\n",
    "   'SeedDiff'\n",
    "]"
   ]
  },
  {
   "cell_type": "code",
   "execution_count": 7,
   "metadata": {
    "ExecuteTime": {
     "end_time": "2021-03-18T14:37:00.457923Z",
     "start_time": "2021-03-18T14:37:00.384914Z"
    },
    "code_folding": [
     0
    ]
   },
   "outputs": [],
   "source": [
    "boxscore_features = [\n",
    " 'T1_FGMmean',\n",
    " 'T1_FGAmean',\n",
    " 'T1_FGM3mean',\n",
    " 'T1_FGA3mean',\n",
    " 'T1_FTMmean',\n",
    " 'T1_FTAmean',\n",
    " 'T1_ORmean',\n",
    " 'T1_DRmean',\n",
    " 'T1_Astmean',\n",
    " 'T1_TOmean',\n",
    " 'T1_Stlmean',\n",
    " 'T1_Blkmean',\n",
    " 'T1_PFmean',\n",
    " 'T1_opponent_FGMmean',\n",
    " 'T1_opponent_FGAmean',\n",
    " 'T1_opponent_FGM3mean',\n",
    " 'T1_opponent_FGA3mean',\n",
    " 'T1_opponent_FTMmean',\n",
    " 'T1_opponent_FTAmean',\n",
    " 'T1_opponent_ORmean',\n",
    " 'T1_opponent_DRmean',\n",
    " 'T1_opponent_Astmean',\n",
    " 'T1_opponent_TOmean',\n",
    " 'T1_opponent_Stlmean',\n",
    " 'T1_opponent_Blkmean',\n",
    " 'T1_opponent_PFmean',\n",
    " 'T1_Ptsmean',\n",
    " 'T1_opponent_Ptsmean',\n",
    " 'Posmean',\n",
    " 'T1_OffRtgmean',\n",
    " 'T1_opponent_OffRtgmean',\n",
    " 'T1_DefRtgmean',\n",
    " 'T1_opponent_DefRtgmean',\n",
    " 'T1_NetRtgmean',\n",
    " 'T1_opponent_NetRtgmean',\n",
    " 'T1_AstRmean',\n",
    " 'T1_opponent_AstRmean',\n",
    " 'T1_TORmean',\n",
    " 'T1_opponent_TORmean',\n",
    " 'T1_TSPmean',\n",
    " 'T1_opponent_TSPmean',\n",
    " 'T1_eFGPmean',\n",
    " 'T1_opponent_eFGPmean',\n",
    " 'T1_FTARmean',\n",
    " 'T1_opponent_FTARmean',\n",
    " 'T1_ORPmean',\n",
    " 'T1_opponent_ORPmean',\n",
    " 'T1_DRPmean',\n",
    " 'T1_opponent_DRPmean',\n",
    " 'T1_RPmean',\n",
    " 'T1_opponent_RPmean',\n",
    " 'T1_PointDiffmean',\n",
    " 'T2_FGMmean',\n",
    " 'T2_FGAmean',\n",
    " 'T2_FGM3mean',\n",
    " 'T2_FGA3mean',\n",
    " 'T2_FTMmean',\n",
    " 'T2_FTAmean',\n",
    " 'T2_ORmean',\n",
    " 'T2_DRmean',\n",
    " 'T2_Astmean',\n",
    " 'T2_TOmean',\n",
    " 'T2_Stlmean',\n",
    " 'T2_Blkmean',\n",
    " 'T2_PFmean',\n",
    " 'T2_opponent_FGMmean',\n",
    " 'T2_opponent_FGAmean',\n",
    " 'T2_opponent_FGM3mean',\n",
    " 'T2_opponent_FGA3mean',\n",
    " 'T2_opponent_FTMmean',\n",
    " 'T2_opponent_FTAmean',\n",
    " 'T2_opponent_ORmean',\n",
    " 'T2_opponent_DRmean',\n",
    " 'T2_opponent_Astmean',\n",
    " 'T2_opponent_TOmean',\n",
    " 'T2_opponent_Stlmean',\n",
    " 'T2_opponent_Blkmean',\n",
    " 'T2_opponent_PFmean',\n",
    " 'T2_Ptsmean',\n",
    " 'T2_opponent_Ptsmean',\n",
    " 'T2_Posmean',\n",
    " 'T2_OffRtgmean',\n",
    " 'T2_opponent_OffRtgmean',\n",
    " 'T2_DefRtgmean',\n",
    " 'T2_opponent_DefRtgmean',\n",
    " 'T2_NetRtgmean',\n",
    " 'T2_opponent_NetRtgmean',\n",
    " 'T2_AstRmean',\n",
    " 'T2_opponent_AstRmean',\n",
    " 'T2_TORmean',\n",
    " 'T2_opponent_TORmean',\n",
    " 'T2_TSPmean',\n",
    " 'T2_opponent_TSPmean',\n",
    " 'T2_eFGPmean',\n",
    " 'T2_opponent_eFGPmean',\n",
    " 'T2_FTARmean',\n",
    " 'T2_opponent_FTARmean',\n",
    " 'T2_ORPmean',\n",
    " 'T2_opponent_ORPmean',\n",
    " 'T2_DRPmean',\n",
    " 'T2_opponent_DRPmean',\n",
    " 'T2_RPmean',\n",
    " 'T2_opponent_RPmean',\n",
    " 'T2_PointDiffmean',\n",
    " 'T1_win_ratio_14d',\n",
    " 'T2_win_ratio_14d',\n",
    "#  'T1_seed',\n",
    "#  'T2_seed',\n",
    "#  'SeedDiff'\n",
    "]\n",
    "\n",
    "kenpom_features = [\n",
    "#  'T1_Rk',\n",
    " 'T1_AdjEM',\n",
    " 'T1_AdjO',\n",
    " 'T1_AdjD',\n",
    " 'T1_AdjT',\n",
    " 'T1_Luck',\n",
    " 'T1_Strength of Schedule_AdjEM',\n",
    " 'T1_Strength of Schedule_OppO',\n",
    " 'T1_Strength of Schedule_OppD',\n",
    " 'T1_NCSOS_AdjEM',\n",
    "#  'T2_Rk',\n",
    " 'T2_AdjEM',\n",
    " 'T2_AdjO',\n",
    " 'T2_AdjD',\n",
    " 'T2_AdjT',\n",
    " 'T2_Luck',\n",
    " 'T2_Strength of Schedule_AdjEM',\n",
    " 'T2_Strength of Schedule_OppO',\n",
    " 'T2_Strength of Schedule_OppD',\n",
    " 'T2_NCSOS_AdjEM',\n",
    "]"
   ]
  },
  {
   "cell_type": "code",
   "execution_count": 8,
   "metadata": {
    "ExecuteTime": {
     "end_time": "2021-03-18T14:37:09.144490Z",
     "start_time": "2021-03-18T14:37:09.069823Z"
    }
   },
   "outputs": [],
   "source": [
    "def print_score(m):\n",
    "    res = {\n",
    "        \"train log loss\":log_loss(y_train, m.predict(X_train)), \n",
    "        \"val log loss\" : log_loss(y_val, m.predict(X_val)),\n",
    "        \"training r^2\" : m.score(X_train, y_train), \n",
    "        \"validation r^2\" : m.score(X_val, y_val)\n",
    "        }\n",
    "    if hasattr(m, 'oob_score_'): \n",
    "        res['oob score'] = m.oob_score_\n",
    "    for label, val in res.items(): \n",
    "        print(label + \": \", val)"
   ]
  },
  {
   "cell_type": "markdown",
   "metadata": {},
   "source": [
    "# Model Building Pipeline"
   ]
  },
  {
   "cell_type": "code",
   "execution_count": 9,
   "metadata": {
    "ExecuteTime": {
     "end_time": "2021-03-18T14:37:12.560621Z",
     "start_time": "2021-03-18T14:37:12.372098Z"
    },
    "scrolled": true
   },
   "outputs": [],
   "source": [
    "from sklearn.pipeline import Pipeline\n",
    "from sklearn.preprocessing import StandardScaler\n",
    "from sklearn.decomposition import PCA\n",
    "import seaborn as sns\n",
    "from sklearn.model_selection import LeaveOneGroupOut\n",
    "from sklearn import linear_model\n",
    "from sklearn.metrics import log_loss\n",
    "import matplotlib.pyplot as plt\n",
    "\n",
    "def reg_cv_train(\n",
    "    features, \n",
    "                estimator, \n",
    "                 mode='reg', \n",
    "                 plot=False, \n",
    "                 verbose=False,\n",
    "                 test_df=None,\n",
    "                 tourney_data=tourney_data\n",
    "                ):\n",
    "    preds_test=None\n",
    "    # get full dataset:\n",
    "    df = tourney_data.dropna(how='any').reset_index().copy()\n",
    "\n",
    "    # split X and y:\n",
    "    X = df[features]\n",
    "    y = np.where(df['T1_PointDiff'] > 0, 1, 0)\n",
    "\n",
    "    # use leave-one-group-out:\n",
    "    logo = LeaveOneGroupOut()\n",
    "    groups = df['Season']\n",
    "\n",
    "    cvs = []\n",
    "    \n",
    "    season_ix = list(set(groups))\n",
    "    season_ix.sort()\n",
    "\n",
    "    for i , (train_ix, val_ix) in enumerate(logo.split(X, y, groups)):\n",
    "        # split data:\n",
    "        X_train = X.iloc[train_ix]\n",
    "        y_train = y[train_ix]\n",
    "        X_val = X.iloc[val_ix]\n",
    "        y_val = y[val_ix]\n",
    "\n",
    "\n",
    "        # fit pipeline:\n",
    "        pipe = Pipeline([\n",
    "            ('scaler', StandardScaler()),\n",
    "            ('estimator', estimator)\n",
    "        ])\n",
    "\n",
    "        pipe.fit(X_train, y_train)\n",
    "\n",
    "        # predict values:\n",
    "        if mode == \"reg\":\n",
    "            pred = pipe.predict(X_val)\n",
    "            pred = np.clip(pred, 0, 1) # because regression\n",
    "            if test_df is not None:\n",
    "                preds_test = pipe.predict(test_df[features])\n",
    "                preds_test = np.clip(preds_test, 0, 1)\n",
    "        else:\n",
    "            pred = pipe.predict_proba(X_val)[:, 1]\n",
    "            if test_df is not None:\n",
    "                preds_test = pipe.predict_proba(test_df[features])[:, 1]\n",
    "        # plot:\n",
    "        if plot:\n",
    "            plt.figure(figsize=(15,6))\n",
    "            plt.subplot(1,2,1)\n",
    "            plt.scatter(pred, df.loc[val_ix, 'PointDiff'], s=5)\n",
    "            plt.subplot(1,2,2)\n",
    "            sns.histplot(pred)\n",
    "            plt.show()\n",
    "\n",
    "        # loss:\n",
    "        loss = log_loss(y_val, pred)\n",
    "        cvs.append(loss)\n",
    "\n",
    "        if verbose: print(f\"{season_ix[i]} Loss : {loss}\")\n",
    "    \n",
    "    plt.figure()\n",
    "    plt.plot(range(min(groups), min(groups) + len(set(groups))), cvs)\n",
    "    plt.xlabel(\"Year\")\n",
    "    plt.ylabel(\"Log Loss\")\n",
    "\n",
    "    print(f\"Local CV Loss : {np.mean(cvs):.3f}  -----  {estimator.__class__.__name__}\")\n",
    "    return np.mean(cvs), preds_test"
   ]
  },
  {
   "cell_type": "markdown",
   "metadata": {},
   "source": [
    "# Random Forest"
   ]
  },
  {
   "cell_type": "code",
   "execution_count": 16,
   "metadata": {
    "ExecuteTime": {
     "end_time": "2021-03-18T14:56:26.621993Z",
     "start_time": "2021-03-18T14:56:17.500364Z"
    },
    "scrolled": true
   },
   "outputs": [
    {
     "name": "stdout",
     "output_type": "stream",
     "text": [
      "2003 Loss : 0.513330349298351\n",
      "2004 Loss : 0.4839626524637034\n",
      "2005 Loss : 0.5144096799274137\n",
      "2006 Loss : 0.5429942116983071\n",
      "2007 Loss : 0.44225104883229616\n",
      "2008 Loss : 0.4581618722293226\n",
      "2009 Loss : 0.4544626129602637\n",
      "2010 Loss : 0.5530638813521738\n",
      "2011 Loss : 0.6468524452993627\n",
      "2012 Loss : 0.5495433645008883\n",
      "2013 Loss : 0.5166843545420317\n",
      "2014 Loss : 0.5284388577980285\n",
      "2015 Loss : 0.5226597352328218\n",
      "2016 Loss : 0.5213676669737299\n",
      "2017 Loss : 0.48728409553650176\n",
      "2018 Loss : 0.5438278422990719\n",
      "2019 Loss : 0.47367287447099693\n",
      "Local CV Loss : 0.515  -----  RandomForestClassifier\n",
      "Wall time: 8.97 s\n"
     ]
    },
    {
     "data": {
      "text/plain": [
       "(0.5148804438479567, None)"
      ]
     },
     "execution_count": 16,
     "metadata": {},
     "output_type": "execute_result"
    },
    {
     "data": {
      "image/png": "[encoded data removed]",
      "text/plain": [
       "<Figure size 432x288 with 1 Axes>"
      ]
     },
     "metadata": {
      "needs_background": "light"
     },
     "output_type": "display_data"
    }
   ],
   "source": [
    "%%time\n",
    "# basic model:\n",
    "random_state = 1\n",
    "model = RandomForestClassifier(n_estimators=100, max_features='auto', n_jobs=-1, random_state=random_state)\n",
    "\n",
    "reg_cv_train(\n",
    "        features=features_all, \n",
    "        estimator=model,\n",
    "        mode='cls', \n",
    "        plot=False, \n",
    "        verbose=True)"
   ]
  },
  {
   "cell_type": "code",
   "execution_count": 17,
   "metadata": {
    "ExecuteTime": {
     "end_time": "2021-03-18T14:58:28.426329Z",
     "start_time": "2021-03-18T14:56:38.588055Z"
    },
    "scrolled": true
   },
   "outputs": [
    {
     "name": "stdout",
     "output_type": "stream",
     "text": [
      "Local CV Loss : 0.857  -----  RandomForestClassifier\n",
      "Local CV Loss : 0.532  -----  RandomForestClassifier\n",
      "Local CV Loss : 0.515  -----  RandomForestClassifier\n",
      "Local CV Loss : 0.513  -----  RandomForestClassifier\n",
      "Local CV Loss : 0.512  -----  RandomForestClassifier\n",
      "Local CV Loss : 0.511  -----  RandomForestClassifier\n",
      "Local CV Loss : 0.512  -----  RandomForestClassifier\n",
      "Wall time: 1min 49s\n"
     ]
    },
    {
     "data": {
      "image/png": "[encoded data removed]",
      "text/plain": [
       "<Figure size 432x288 with 1 Axes>"
      ]
     },
     "metadata": {
      "needs_background": "light"
     },
     "output_type": "display_data"
    },
    {
     "data": {
      "image/png": "[encoded data removed]",
      "text/plain": [
       "<Figure size 432x288 with 1 Axes>"
      ]
     },
     "metadata": {
      "needs_background": "light"
     },
     "output_type": "display_data"
    },
    {
     "data": {
      "image/png": "[encoded data removed]",
      "text/plain": [
       "<Figure size 432x288 with 1 Axes>"
      ]
     },
     "metadata": {
      "needs_background": "light"
     },
     "output_type": "display_data"
    },
    {
     "data": {
      "image/png": "[encoded data removed]",
      "text/plain": [
       "<Figure size 432x288 with 1 Axes>"
      ]
     },
     "metadata": {
      "needs_background": "light"
     },
     "output_type": "display_data"
    },
    {
     "data": {
      "image/png": "[encoded data removed]",
      "text/plain": [
       "<Figure size 432x288 with 1 Axes>"
      ]
     },
     "metadata": {
      "needs_background": "light"
     },
     "output_type": "display_data"
    },
    {
     "data": {
      "image/png": "[encoded data removed]",
      "text/plain": [
       "<Figure size 432x288 with 1 Axes>"
      ]
     },
     "metadata": {
      "needs_background": "light"
     },
     "output_type": "display_data"
    },
    {
     "data": {
      "image/png": "[encoded data removed]",
      "text/plain": [
       "<Figure size 432x288 with 1 Axes>"
      ]
     },
     "metadata": {
      "needs_background": "light"
     },
     "output_type": "display_data"
    }
   ],
   "source": [
    "%%time\n",
    "# basic model:\n",
    "params = dict(\n",
    "    random_state=random_state,\n",
    "    n_jobs=-1,\n",
    ")\n",
    "\n",
    "n_estimators = [10, 50, 100, 150, 200, 300, 500]\n",
    "scores = []\n",
    "\n",
    "for n in n_estimators:\n",
    "    model = RandomForestClassifier(n_estimators=n, **params)\n",
    "\n",
    "    score, _ = reg_cv_train(\n",
    "        features=features_all, \n",
    "        estimator=model,\n",
    "        mode='cls', \n",
    "        plot=False, \n",
    "        verbose=False)\n",
    "    \n",
    "    scores.append(score)"
   ]
  },
  {
   "cell_type": "code",
   "execution_count": 21,
   "metadata": {
    "ExecuteTime": {
     "end_time": "2021-03-18T15:00:59.187088Z",
     "start_time": "2021-03-18T15:00:36.277482Z"
    }
   },
   "outputs": [
    {
     "name": "stdout",
     "output_type": "stream",
     "text": [
      "Local CV Loss : 0.857  -----  RandomForestClassifier\n",
      "Local CV Loss : 0.564  -----  RandomForestClassifier\n",
      "Local CV Loss : 0.530  -----  RandomForestClassifier\n",
      "Local CV Loss : 0.515  -----  RandomForestClassifier\n",
      "Wall time: 22.8 s\n"
     ]
    },
    {
     "data": {
      "text/plain": [
       "[<matplotlib.lines.Line2D at 0x215c4cb7a90>]"
      ]
     },
     "execution_count": 21,
     "metadata": {},
     "output_type": "execute_result"
    },
    {
     "data": {
      "image/png": "[encoded data removed]",
      "text/plain": [
       "<Figure size 432x288 with 1 Axes>"
      ]
     },
     "metadata": {
      "needs_background": "light"
     },
     "output_type": "display_data"
    }
   ],
   "source": [
    "%%time\n",
    "# basic model:\n",
    "params = dict(\n",
    "    random_state=random_state,\n",
    "    n_jobs=-1,\n",
    ")\n",
    "\n",
    "n_estimators = [10, 30, 60, 100]\n",
    "scores = []\n",
    "\n",
    "for n in n_estimators:\n",
    "    model = RandomForestClassifier(n_estimators=n, **params)\n",
    "\n",
    "    score, _ = reg_cv_train(\n",
    "        features=features_all, \n",
    "        estimator=model,\n",
    "        mode='cls', \n",
    "        plot=False, \n",
    "        verbose=False)\n",
    "    plt.close()\n",
    "    \n",
    "    scores.append(score)\n",
    "plt.figure()\n",
    "plt.plot(n_estimators, scores);"
   ]
  },
  {
   "cell_type": "code",
   "execution_count": 22,
   "metadata": {
    "ExecuteTime": {
     "end_time": "2021-03-18T15:08:29.231772Z",
     "start_time": "2021-03-18T15:06:10.029453Z"
    }
   },
   "outputs": [
    {
     "name": "stdout",
     "output_type": "stream",
     "text": [
      "Local CV Loss : 0.506  -----  RandomForestClassifier\n",
      "Local CV Loss : 0.526  -----  RandomForestClassifier\n",
      "Local CV Loss : 0.560  -----  RandomForestClassifier\n",
      "Local CV Loss : 0.522  -----  RandomForestClassifier\n",
      "Local CV Loss : 0.515  -----  RandomForestClassifier\n",
      "Wall time: 2min 18s\n"
     ]
    },
    {
     "data": {
      "text/plain": [
       "[<matplotlib.lines.Line2D at 0x215c5693908>]"
      ]
     },
     "execution_count": 22,
     "metadata": {},
     "output_type": "execute_result"
    },
    {
     "data": {
      "image/png": "[encoded data removed]",
      "text/plain": [
       "<Figure size 432x288 with 1 Axes>"
      ]
     },
     "metadata": {
      "needs_background": "light"
     },
     "output_type": "display_data"
    }
   ],
   "source": [
    "%%time\n",
    "# basic model:\n",
    "params = dict(\n",
    "    random_state=random_state,\n",
    "    n_jobs=-1,\n",
    "    n_estimators=80\n",
    ")\n",
    "\n",
    "max_features = [0.3, 0.5, 0.7, 0.9, 'auto']\n",
    "scores = []\n",
    "\n",
    "for m in max_features:\n",
    "    model = RandomForestClassifier(max_features=m, **params)\n",
    "\n",
    "    score, _ = reg_cv_train(\n",
    "        features=features_all, \n",
    "        estimator=model,\n",
    "        mode='cls', \n",
    "        plot=False, \n",
    "        verbose=False)\n",
    "    plt.close()\n",
    "    \n",
    "    scores.append(score)\n",
    "plt.figure()\n",
    "plt.plot(max_features, scores);"
   ]
  },
  {
   "cell_type": "code",
   "execution_count": null,
   "metadata": {},
   "outputs": [],
   "source": []
  },
  {
   "cell_type": "code",
   "execution_count": null,
   "metadata": {},
   "outputs": [],
   "source": []
  },
  {
   "cell_type": "code",
   "execution_count": null,
   "metadata": {},
   "outputs": [],
   "source": []
  },
  {
   "cell_type": "code",
   "execution_count": 17,
   "metadata": {
    "ExecuteTime": {
     "end_time": "2021-03-18T14:25:11.932175Z",
     "start_time": "2021-03-18T14:25:11.644979Z"
    },
    "scrolled": true
   },
   "outputs": [
    {
     "name": "stdout",
     "output_type": "stream",
     "text": [
      "2003 Loss : 0.5045839501541298\n",
      "2004 Loss : 0.4879018371613438\n",
      "2005 Loss : 0.48556207029973086\n",
      "2006 Loss : 0.5440013066394436\n",
      "2007 Loss : 0.4804795950740458\n",
      "2008 Loss : 0.46863048343956537\n",
      "2009 Loss : 0.4776866392986375\n",
      "2010 Loss : 0.546321074772818\n",
      "2011 Loss : 0.5738926447215544\n",
      "2012 Loss : 0.5320805734666496\n",
      "2013 Loss : 0.7848406962068483\n",
      "2014 Loss : 0.5307264464370147\n",
      "2015 Loss : 0.5141427540556279\n",
      "2016 Loss : 0.546953034976454\n",
      "2017 Loss : 0.4725596545656791\n",
      "2018 Loss : 0.9999807619682194\n",
      "2019 Loss : 0.46901325397460475\n",
      "Local CV Loss : 0.554  -----  LinearRegression\n"
     ]
    },
    {
     "data": {
      "text/plain": [
       "(0.5540798104242569, None)"
      ]
     },
     "execution_count": 17,
     "metadata": {},
     "output_type": "execute_result"
    },
    {
     "data": {
      "image/png": "[encoded data removed]",
      "text/plain": [
       "<Figure size 432x288 with 1 Axes>"
      ]
     },
     "metadata": {
      "needs_background": "light"
     },
     "output_type": "display_data"
    }
   ],
   "source": [
    "# basic model:\n",
    "model = LinearRegression(n_jobs=-1, normalize=False, positive=True)\n",
    "\n",
    "reg_cv_train(\n",
    "        features=kenpom_features, \n",
    "        estimator=model,\n",
    "        mode='reg', \n",
    "        plot=False, \n",
    "        verbose=True)"
   ]
  },
  {
   "cell_type": "markdown",
   "metadata": {},
   "source": [
    "# Test Set"
   ]
  },
  {
   "cell_type": "code",
   "execution_count": 18,
   "metadata": {
    "ExecuteTime": {
     "end_time": "2021-03-18T14:25:25.523266Z",
     "start_time": "2021-03-18T14:25:24.306290Z"
    }
   },
   "outputs": [],
   "source": [
    "from src.features import build_features\n",
    "\n",
    "test_data = pd.read_csv(\"../data/external/MSampleSubmissionStage2.csv\")\n",
    "test_data[['Season', 'T1_TeamID', 'T2_TeamID']] = test_data['ID'].str.split(\"_\",expand=True)\n",
    "for c in ['Season', 'T1_TeamID', 'T2_TeamID']:\n",
    "    test_data[c] = test_data[c].astype(int)\n",
    "    \n",
    "test_data = build_features.build_test_data(test_data)"
   ]
  },
  {
   "cell_type": "code",
   "execution_count": 20,
   "metadata": {
    "ExecuteTime": {
     "end_time": "2021-03-18T14:25:47.609299Z",
     "start_time": "2021-03-18T14:25:45.941064Z"
    }
   },
   "outputs": [
    {
     "name": "stdout",
     "output_type": "stream",
     "text": [
      "Local CV Loss : 0.534  -----  LinearRegression\n",
      "Local CV Loss : 0.595  -----  LinearRegression\n",
      "Local CV Loss : 0.554  -----  LinearRegression\n"
     ]
    },
    {
     "data": {
      "image/png": "[encoded data removed]",
      "text/plain": [
       "<Figure size 432x288 with 1 Axes>"
      ]
     },
     "metadata": {
      "needs_background": "light"
     },
     "output_type": "display_data"
    },
    {
     "data": {
      "image/png": "[encoded data removed]",
      "text/plain": [
       "<Figure size 432x288 with 1 Axes>"
      ]
     },
     "metadata": {
      "needs_background": "light"
     },
     "output_type": "display_data"
    },
    {
     "data": {
      "image/png": "[encoded data removed]",
      "text/plain": [
       "<Figure size 432x288 with 1 Axes>"
      ]
     },
     "metadata": {
      "needs_background": "light"
     },
     "output_type": "display_data"
    }
   ],
   "source": [
    "cv_scores = []\n",
    "train_preds_all = []\n",
    "model = linear_model.LinearRegression(n_jobs=-1, normalize=False, positive=True)\n",
    "\n",
    "train_set = tourney_data.dropna(how='any').reset_index(drop=True).copy()\n",
    "\n",
    "for f_set in [features_all, boxscore_features, kenpom_features]:\n",
    "    scores, train_preds = reg_cv_train(\n",
    "            features=f_set, \n",
    "            estimator=model,\n",
    "            mode='reg', \n",
    "            plot=False, \n",
    "            verbose=False,\n",
    "            test_df=train_set\n",
    "    )\n",
    "    cv_scores.append(scores)\n",
    "    train_preds_all.append(train_preds)"
   ]
  },
  {
   "cell_type": "code",
   "execution_count": 22,
   "metadata": {
    "ExecuteTime": {
     "end_time": "2021-03-18T14:26:14.919399Z",
     "start_time": "2021-03-18T14:26:13.151814Z"
    },
    "scrolled": true
   },
   "outputs": [
    {
     "name": "stdout",
     "output_type": "stream",
     "text": [
      "2003 Loss : 0.5903726187501923\n",
      "2004 Loss : 0.608966518677001\n",
      "2005 Loss : 0.6151186893348861\n",
      "2006 Loss : 0.6357962364773473\n",
      "2007 Loss : 0.6372653855611786\n",
      "2008 Loss : 0.6129157281230826\n",
      "2009 Loss : 0.5866523528745595\n",
      "2010 Loss : 0.6183269324748445\n",
      "2011 Loss : 0.636757068496612\n",
      "2012 Loss : 0.6117708882920835\n",
      "2013 Loss : 0.6370527407901073\n",
      "2014 Loss : 0.8779396026234924\n",
      "2015 Loss : 0.6087414937625478\n",
      "2016 Loss : 0.9207539908572598\n",
      "2017 Loss : 0.6008567994038186\n",
      "2018 Loss : 0.6584701389212391\n",
      "2019 Loss : 0.6176513136044537\n",
      "Local CV Loss : 0.651  -----  LinearRegression\n",
      "Wall time: 1.61 s\n"
     ]
    },
    {
     "data": {
      "image/png": "[encoded data removed]",
      "text/plain": [
       "<Figure size 432x288 with 1 Axes>"
      ]
     },
     "metadata": {
      "needs_background": "light"
     },
     "output_type": "display_data"
    }
   ],
   "source": [
    "%%time\n",
    "from sklearn.feature_selection import RFE\n",
    "\n",
    "model = LinearRegression(n_jobs=-1, normalize=False, positive=True)\n",
    "\n",
    "# get full dataset:\n",
    "df = tourney_data.dropna(how='any').reset_index(drop=True).copy()\n",
    "\n",
    "# split X and y:\n",
    "features_RFE = [f for f in features_all if f not in ['T1_seed', 'T2_seed']]\n",
    "X = df[features_RFE]\n",
    "y = np.where(df['T1_PointDiff'] > 0, 1, 0)\n",
    "\n",
    "selector = RFE(model, step=1, n_features_to_select=8)\n",
    "selector.fit(X, y)\n",
    "\n",
    "from itertools import compress\n",
    "features_RFE = list(compress(features_RFE, selector.support_))\n",
    "\n",
    "rfe_scores, rfe_train_preds = reg_cv_train(\n",
    "        features=features_RFE, \n",
    "        estimator=model,\n",
    "        mode='reg', \n",
    "        plot=False, \n",
    "        verbose=True,\n",
    "        test_df=df\n",
    ")\n",
    "train_preds_all.append(rfe_train_preds)"
   ]
  },
  {
   "cell_type": "code",
   "execution_count": 22,
   "metadata": {
    "ExecuteTime": {
     "end_time": "2021-03-18T14:17:38.837467Z",
     "start_time": "2021-03-18T14:17:38.700348Z"
    }
   },
   "outputs": [],
   "source": [
    "train_preds = pd.DataFrame(train_preds_all, index=['All', 'Boxscore', 'KenPom', 'RFE']).T\n",
    "train_preds = train_preds.reset_index(drop=True)"
   ]
  },
  {
   "cell_type": "code",
   "execution_count": 23,
   "metadata": {
    "ExecuteTime": {
     "end_time": "2021-03-18T14:17:39.088169Z",
     "start_time": "2021-03-18T14:17:39.003291Z"
    }
   },
   "outputs": [
    {
     "data": {
      "text/html": [
       "<div>\n",
       "<style scoped>\n",
       "    .dataframe tbody tr th:only-of-type {\n",
       "        vertical-align: middle;\n",
       "    }\n",
       "\n",
       "    .dataframe tbody tr th {\n",
       "        vertical-align: top;\n",
       "    }\n",
       "\n",
       "    .dataframe thead th {\n",
       "        text-align: right;\n",
       "    }\n",
       "</style>\n",
       "<table border=\"1\" class=\"dataframe\">\n",
       "  <thead>\n",
       "    <tr style=\"text-align: right;\">\n",
       "      <th></th>\n",
       "      <th>All</th>\n",
       "      <th>Boxscore</th>\n",
       "      <th>KenPom</th>\n",
       "      <th>RFE</th>\n",
       "      <th>target</th>\n",
       "    </tr>\n",
       "  </thead>\n",
       "  <tbody>\n",
       "    <tr>\n",
       "      <th>0</th>\n",
       "      <td>0.911960</td>\n",
       "      <td>0.284001</td>\n",
       "      <td>0.734015</td>\n",
       "      <td>0.675848</td>\n",
       "      <td>1</td>\n",
       "    </tr>\n",
       "    <tr>\n",
       "      <th>1</th>\n",
       "      <td>0.088039</td>\n",
       "      <td>0.716017</td>\n",
       "      <td>0.265986</td>\n",
       "      <td>0.324152</td>\n",
       "      <td>0</td>\n",
       "    </tr>\n",
       "    <tr>\n",
       "      <th>2</th>\n",
       "      <td>0.007577</td>\n",
       "      <td>0.187645</td>\n",
       "      <td>0.009083</td>\n",
       "      <td>0.015042</td>\n",
       "      <td>0</td>\n",
       "    </tr>\n",
       "    <tr>\n",
       "      <th>3</th>\n",
       "      <td>0.992423</td>\n",
       "      <td>0.812357</td>\n",
       "      <td>0.990917</td>\n",
       "      <td>0.984958</td>\n",
       "      <td>1</td>\n",
       "    </tr>\n",
       "    <tr>\n",
       "      <th>4</th>\n",
       "      <td>0.453234</td>\n",
       "      <td>0.560878</td>\n",
       "      <td>0.465342</td>\n",
       "      <td>0.476830</td>\n",
       "      <td>1</td>\n",
       "    </tr>\n",
       "    <tr>\n",
       "      <th>...</th>\n",
       "      <td>...</td>\n",
       "      <td>...</td>\n",
       "      <td>...</td>\n",
       "      <td>...</td>\n",
       "      <td>...</td>\n",
       "    </tr>\n",
       "    <tr>\n",
       "      <th>2221</th>\n",
       "      <td>0.694219</td>\n",
       "      <td>0.748919</td>\n",
       "      <td>0.457897</td>\n",
       "      <td>0.368835</td>\n",
       "      <td>1</td>\n",
       "    </tr>\n",
       "    <tr>\n",
       "      <th>2222</th>\n",
       "      <td>0.296425</td>\n",
       "      <td>0.262971</td>\n",
       "      <td>0.135899</td>\n",
       "      <td>0.316711</td>\n",
       "      <td>0</td>\n",
       "    </tr>\n",
       "    <tr>\n",
       "      <th>2223</th>\n",
       "      <td>0.703579</td>\n",
       "      <td>0.737019</td>\n",
       "      <td>0.864101</td>\n",
       "      <td>0.683289</td>\n",
       "      <td>1</td>\n",
       "    </tr>\n",
       "    <tr>\n",
       "      <th>2224</th>\n",
       "      <td>0.650319</td>\n",
       "      <td>0.583037</td>\n",
       "      <td>0.725094</td>\n",
       "      <td>0.604642</td>\n",
       "      <td>1</td>\n",
       "    </tr>\n",
       "    <tr>\n",
       "      <th>2225</th>\n",
       "      <td>0.349681</td>\n",
       "      <td>0.416946</td>\n",
       "      <td>0.274905</td>\n",
       "      <td>0.395358</td>\n",
       "      <td>0</td>\n",
       "    </tr>\n",
       "  </tbody>\n",
       "</table>\n",
       "<p>2226 rows × 5 columns</p>\n",
       "</div>"
      ],
      "text/plain": [
       "           All  Boxscore    KenPom       RFE  target\n",
       "0     0.911960  0.284001  0.734015  0.675848       1\n",
       "1     0.088039  0.716017  0.265986  0.324152       0\n",
       "2     0.007577  0.187645  0.009083  0.015042       0\n",
       "3     0.992423  0.812357  0.990917  0.984958       1\n",
       "4     0.453234  0.560878  0.465342  0.476830       1\n",
       "...        ...       ...       ...       ...     ...\n",
       "2221  0.694219  0.748919  0.457897  0.368835       1\n",
       "2222  0.296425  0.262971  0.135899  0.316711       0\n",
       "2223  0.703579  0.737019  0.864101  0.683289       1\n",
       "2224  0.650319  0.583037  0.725094  0.604642       1\n",
       "2225  0.349681  0.416946  0.274905  0.395358       0\n",
       "\n",
       "[2226 rows x 5 columns]"
      ]
     },
     "execution_count": 23,
     "metadata": {},
     "output_type": "execute_result"
    }
   ],
   "source": [
    "train_preds['target'] = y\n",
    "train_preds"
   ]
  },
  {
   "cell_type": "code",
   "execution_count": 24,
   "metadata": {
    "ExecuteTime": {
     "end_time": "2021-03-18T14:18:33.887267Z",
     "start_time": "2021-03-18T14:18:33.801323Z"
    }
   },
   "outputs": [
    {
     "data": {
      "text/plain": [
       "0.4524226692659316"
      ]
     },
     "execution_count": 24,
     "metadata": {},
     "output_type": "execute_result"
    }
   ],
   "source": [
    "# ensemble:\n",
    "model_ensemble = linear_model.LogisticRegression()\n",
    "\n",
    "X = train_preds[['Boxscore', 'KenPom', 'RFE']]\n",
    "y = train_preds['target']\n",
    "\n",
    "model.fit(X, y)\n",
    "\n",
    "ensemble_preds = model.predict_proba(X)[:, 1]\n",
    "\n",
    "log_loss(y, ensemble_preds)"
   ]
  },
  {
   "cell_type": "markdown",
   "metadata": {},
   "source": [
    "# Final Model"
   ]
  },
  {
   "cell_type": "code",
   "execution_count": 25,
   "metadata": {
    "ExecuteTime": {
     "end_time": "2021-03-18T14:18:36.183595Z",
     "start_time": "2021-03-18T14:18:36.091709Z"
    }
   },
   "outputs": [
    {
     "data": {
      "text/html": [
       "<div>\n",
       "<style scoped>\n",
       "    .dataframe tbody tr th:only-of-type {\n",
       "        vertical-align: middle;\n",
       "    }\n",
       "\n",
       "    .dataframe tbody tr th {\n",
       "        vertical-align: top;\n",
       "    }\n",
       "\n",
       "    .dataframe thead th {\n",
       "        text-align: right;\n",
       "    }\n",
       "</style>\n",
       "<table border=\"1\" class=\"dataframe\">\n",
       "  <thead>\n",
       "    <tr style=\"text-align: right;\">\n",
       "      <th></th>\n",
       "      <th>ID</th>\n",
       "      <th>Pred</th>\n",
       "      <th>Season</th>\n",
       "      <th>T1_TeamID</th>\n",
       "      <th>T2_TeamID</th>\n",
       "      <th>T1_FGMmean</th>\n",
       "      <th>T1_FGAmean</th>\n",
       "      <th>T1_FGM3mean</th>\n",
       "      <th>T1_FGA3mean</th>\n",
       "      <th>T1_FTMmean</th>\n",
       "      <th>...</th>\n",
       "      <th>T2_AdjD</th>\n",
       "      <th>T2_AdjT</th>\n",
       "      <th>T2_Luck</th>\n",
       "      <th>T2_Strength of Schedule_AdjEM</th>\n",
       "      <th>T2_Strength of Schedule_OppO</th>\n",
       "      <th>T2_Strength of Schedule_OppD</th>\n",
       "      <th>T2_NCSOS_AdjEM</th>\n",
       "      <th>T1_seed</th>\n",
       "      <th>T2_seed</th>\n",
       "      <th>SeedDiff</th>\n",
       "    </tr>\n",
       "  </thead>\n",
       "  <tbody>\n",
       "    <tr>\n",
       "      <th>0</th>\n",
       "      <td>2021_1101_1104</td>\n",
       "      <td>0.5</td>\n",
       "      <td>2021</td>\n",
       "      <td>1101</td>\n",
       "      <td>1104</td>\n",
       "      <td>27.173913</td>\n",
       "      <td>59.043478</td>\n",
       "      <td>8.130435</td>\n",
       "      <td>21.565217</td>\n",
       "      <td>13.826087</td>\n",
       "      <td>...</td>\n",
       "      <td>86.0</td>\n",
       "      <td>73.9</td>\n",
       "      <td>0.031</td>\n",
       "      <td>14.20</td>\n",
       "      <td>109.7</td>\n",
       "      <td>95.5</td>\n",
       "      <td>8.88</td>\n",
       "      <td>14</td>\n",
       "      <td>2</td>\n",
       "      <td>12</td>\n",
       "    </tr>\n",
       "    <tr>\n",
       "      <th>1</th>\n",
       "      <td>2021_1101_1111</td>\n",
       "      <td>0.5</td>\n",
       "      <td>2021</td>\n",
       "      <td>1101</td>\n",
       "      <td>1111</td>\n",
       "      <td>27.173913</td>\n",
       "      <td>59.043478</td>\n",
       "      <td>8.130435</td>\n",
       "      <td>21.565217</td>\n",
       "      <td>13.826087</td>\n",
       "      <td>...</td>\n",
       "      <td>103.0</td>\n",
       "      <td>65.7</td>\n",
       "      <td>0.060</td>\n",
       "      <td>-2.97</td>\n",
       "      <td>100.1</td>\n",
       "      <td>103.1</td>\n",
       "      <td>5.72</td>\n",
       "      <td>14</td>\n",
       "      <td>16</td>\n",
       "      <td>-2</td>\n",
       "    </tr>\n",
       "    <tr>\n",
       "      <th>2</th>\n",
       "      <td>2021_1101_1116</td>\n",
       "      <td>0.5</td>\n",
       "      <td>2021</td>\n",
       "      <td>1101</td>\n",
       "      <td>1116</td>\n",
       "      <td>27.173913</td>\n",
       "      <td>59.043478</td>\n",
       "      <td>8.130435</td>\n",
       "      <td>21.565217</td>\n",
       "      <td>13.826087</td>\n",
       "      <td>...</td>\n",
       "      <td>89.2</td>\n",
       "      <td>73.1</td>\n",
       "      <td>0.056</td>\n",
       "      <td>11.19</td>\n",
       "      <td>108.2</td>\n",
       "      <td>97.0</td>\n",
       "      <td>-5.28</td>\n",
       "      <td>14</td>\n",
       "      <td>3</td>\n",
       "      <td>11</td>\n",
       "    </tr>\n",
       "    <tr>\n",
       "      <th>3</th>\n",
       "      <td>2021_1101_1124</td>\n",
       "      <td>0.5</td>\n",
       "      <td>2021</td>\n",
       "      <td>1101</td>\n",
       "      <td>1124</td>\n",
       "      <td>27.173913</td>\n",
       "      <td>59.043478</td>\n",
       "      <td>8.130435</td>\n",
       "      <td>21.565217</td>\n",
       "      <td>13.826087</td>\n",
       "      <td>...</td>\n",
       "      <td>93.0</td>\n",
       "      <td>68.4</td>\n",
       "      <td>0.050</td>\n",
       "      <td>9.57</td>\n",
       "      <td>106.4</td>\n",
       "      <td>96.9</td>\n",
       "      <td>-4.18</td>\n",
       "      <td>14</td>\n",
       "      <td>1</td>\n",
       "      <td>13</td>\n",
       "    </tr>\n",
       "    <tr>\n",
       "      <th>4</th>\n",
       "      <td>2021_1101_1140</td>\n",
       "      <td>0.5</td>\n",
       "      <td>2021</td>\n",
       "      <td>1101</td>\n",
       "      <td>1140</td>\n",
       "      <td>27.173913</td>\n",
       "      <td>59.043478</td>\n",
       "      <td>8.130435</td>\n",
       "      <td>21.565217</td>\n",
       "      <td>13.826087</td>\n",
       "      <td>...</td>\n",
       "      <td>91.4</td>\n",
       "      <td>68.0</td>\n",
       "      <td>0.045</td>\n",
       "      <td>10.28</td>\n",
       "      <td>107.8</td>\n",
       "      <td>97.5</td>\n",
       "      <td>8.69</td>\n",
       "      <td>14</td>\n",
       "      <td>6</td>\n",
       "      <td>8</td>\n",
       "    </tr>\n",
       "    <tr>\n",
       "      <th>...</th>\n",
       "      <td>...</td>\n",
       "      <td>...</td>\n",
       "      <td>...</td>\n",
       "      <td>...</td>\n",
       "      <td>...</td>\n",
       "      <td>...</td>\n",
       "      <td>...</td>\n",
       "      <td>...</td>\n",
       "      <td>...</td>\n",
       "      <td>...</td>\n",
       "      <td>...</td>\n",
       "      <td>...</td>\n",
       "      <td>...</td>\n",
       "      <td>...</td>\n",
       "      <td>...</td>\n",
       "      <td>...</td>\n",
       "      <td>...</td>\n",
       "      <td>...</td>\n",
       "      <td>...</td>\n",
       "      <td>...</td>\n",
       "      <td>...</td>\n",
       "    </tr>\n",
       "    <tr>\n",
       "      <th>2273</th>\n",
       "      <td>2021_1452_1457</td>\n",
       "      <td>0.5</td>\n",
       "      <td>2021</td>\n",
       "      <td>1452</td>\n",
       "      <td>1457</td>\n",
       "      <td>26.333333</td>\n",
       "      <td>61.481481</td>\n",
       "      <td>7.259259</td>\n",
       "      <td>20.333333</td>\n",
       "      <td>17.370370</td>\n",
       "      <td>...</td>\n",
       "      <td>95.4</td>\n",
       "      <td>73.6</td>\n",
       "      <td>0.032</td>\n",
       "      <td>-6.45</td>\n",
       "      <td>98.8</td>\n",
       "      <td>105.3</td>\n",
       "      <td>3.95</td>\n",
       "      <td>3</td>\n",
       "      <td>12</td>\n",
       "      <td>-9</td>\n",
       "    </tr>\n",
       "    <tr>\n",
       "      <th>2274</th>\n",
       "      <td>2021_1452_1458</td>\n",
       "      <td>0.5</td>\n",
       "      <td>2021</td>\n",
       "      <td>1452</td>\n",
       "      <td>1458</td>\n",
       "      <td>26.333333</td>\n",
       "      <td>61.481481</td>\n",
       "      <td>7.259259</td>\n",
       "      <td>20.333333</td>\n",
       "      <td>17.370370</td>\n",
       "      <td>...</td>\n",
       "      <td>89.1</td>\n",
       "      <td>64.9</td>\n",
       "      <td>-0.049</td>\n",
       "      <td>18.06</td>\n",
       "      <td>111.7</td>\n",
       "      <td>93.7</td>\n",
       "      <td>1.22</td>\n",
       "      <td>3</td>\n",
       "      <td>9</td>\n",
       "      <td>-6</td>\n",
       "    </tr>\n",
       "    <tr>\n",
       "      <th>2275</th>\n",
       "      <td>2021_1455_1457</td>\n",
       "      <td>0.5</td>\n",
       "      <td>2021</td>\n",
       "      <td>1455</td>\n",
       "      <td>1457</td>\n",
       "      <td>23.894737</td>\n",
       "      <td>59.000000</td>\n",
       "      <td>8.368421</td>\n",
       "      <td>24.263158</td>\n",
       "      <td>15.736842</td>\n",
       "      <td>...</td>\n",
       "      <td>95.4</td>\n",
       "      <td>73.6</td>\n",
       "      <td>0.032</td>\n",
       "      <td>-6.45</td>\n",
       "      <td>98.8</td>\n",
       "      <td>105.3</td>\n",
       "      <td>3.95</td>\n",
       "      <td>11</td>\n",
       "      <td>12</td>\n",
       "      <td>-1</td>\n",
       "    </tr>\n",
       "    <tr>\n",
       "      <th>2276</th>\n",
       "      <td>2021_1455_1458</td>\n",
       "      <td>0.5</td>\n",
       "      <td>2021</td>\n",
       "      <td>1455</td>\n",
       "      <td>1458</td>\n",
       "      <td>23.894737</td>\n",
       "      <td>59.000000</td>\n",
       "      <td>8.368421</td>\n",
       "      <td>24.263158</td>\n",
       "      <td>15.736842</td>\n",
       "      <td>...</td>\n",
       "      <td>89.1</td>\n",
       "      <td>64.9</td>\n",
       "      <td>-0.049</td>\n",
       "      <td>18.06</td>\n",
       "      <td>111.7</td>\n",
       "      <td>93.7</td>\n",
       "      <td>1.22</td>\n",
       "      <td>11</td>\n",
       "      <td>9</td>\n",
       "      <td>2</td>\n",
       "    </tr>\n",
       "    <tr>\n",
       "      <th>2277</th>\n",
       "      <td>2021_1457_1458</td>\n",
       "      <td>0.5</td>\n",
       "      <td>2021</td>\n",
       "      <td>1457</td>\n",
       "      <td>1458</td>\n",
       "      <td>28.083333</td>\n",
       "      <td>60.958333</td>\n",
       "      <td>8.458333</td>\n",
       "      <td>23.958333</td>\n",
       "      <td>14.916667</td>\n",
       "      <td>...</td>\n",
       "      <td>89.1</td>\n",
       "      <td>64.9</td>\n",
       "      <td>-0.049</td>\n",
       "      <td>18.06</td>\n",
       "      <td>111.7</td>\n",
       "      <td>93.7</td>\n",
       "      <td>1.22</td>\n",
       "      <td>12</td>\n",
       "      <td>9</td>\n",
       "      <td>3</td>\n",
       "    </tr>\n",
       "  </tbody>\n",
       "</table>\n",
       "<p>2278 rows × 134 columns</p>\n",
       "</div>"
      ],
      "text/plain": [
       "                  ID  Pred  Season  T1_TeamID  T2_TeamID  T1_FGMmean  \\\n",
       "0     2021_1101_1104   0.5    2021       1101       1104   27.173913   \n",
       "1     2021_1101_1111   0.5    2021       1101       1111   27.173913   \n",
       "2     2021_1101_1116   0.5    2021       1101       1116   27.173913   \n",
       "3     2021_1101_1124   0.5    2021       1101       1124   27.173913   \n",
       "4     2021_1101_1140   0.5    2021       1101       1140   27.173913   \n",
       "...              ...   ...     ...        ...        ...         ...   \n",
       "2273  2021_1452_1457   0.5    2021       1452       1457   26.333333   \n",
       "2274  2021_1452_1458   0.5    2021       1452       1458   26.333333   \n",
       "2275  2021_1455_1457   0.5    2021       1455       1457   23.894737   \n",
       "2276  2021_1455_1458   0.5    2021       1455       1458   23.894737   \n",
       "2277  2021_1457_1458   0.5    2021       1457       1458   28.083333   \n",
       "\n",
       "      T1_FGAmean  T1_FGM3mean  T1_FGA3mean  T1_FTMmean  ...  T2_AdjD  T2_AdjT  \\\n",
       "0      59.043478     8.130435    21.565217   13.826087  ...     86.0     73.9   \n",
       "1      59.043478     8.130435    21.565217   13.826087  ...    103.0     65.7   \n",
       "2      59.043478     8.130435    21.565217   13.826087  ...     89.2     73.1   \n",
       "3      59.043478     8.130435    21.565217   13.826087  ...     93.0     68.4   \n",
       "4      59.043478     8.130435    21.565217   13.826087  ...     91.4     68.0   \n",
       "...          ...          ...          ...         ...  ...      ...      ...   \n",
       "2273   61.481481     7.259259    20.333333   17.370370  ...     95.4     73.6   \n",
       "2274   61.481481     7.259259    20.333333   17.370370  ...     89.1     64.9   \n",
       "2275   59.000000     8.368421    24.263158   15.736842  ...     95.4     73.6   \n",
       "2276   59.000000     8.368421    24.263158   15.736842  ...     89.1     64.9   \n",
       "2277   60.958333     8.458333    23.958333   14.916667  ...     89.1     64.9   \n",
       "\n",
       "      T2_Luck  T2_Strength of Schedule_AdjEM  T2_Strength of Schedule_OppO  \\\n",
       "0       0.031                          14.20                         109.7   \n",
       "1       0.060                          -2.97                         100.1   \n",
       "2       0.056                          11.19                         108.2   \n",
       "3       0.050                           9.57                         106.4   \n",
       "4       0.045                          10.28                         107.8   \n",
       "...       ...                            ...                           ...   \n",
       "2273    0.032                          -6.45                          98.8   \n",
       "2274   -0.049                          18.06                         111.7   \n",
       "2275    0.032                          -6.45                          98.8   \n",
       "2276   -0.049                          18.06                         111.7   \n",
       "2277   -0.049                          18.06                         111.7   \n",
       "\n",
       "      T2_Strength of Schedule_OppD  T2_NCSOS_AdjEM  T1_seed  T2_seed  SeedDiff  \n",
       "0                             95.5            8.88       14        2        12  \n",
       "1                            103.1            5.72       14       16        -2  \n",
       "2                             97.0           -5.28       14        3        11  \n",
       "3                             96.9           -4.18       14        1        13  \n",
       "4                             97.5            8.69       14        6         8  \n",
       "...                            ...             ...      ...      ...       ...  \n",
       "2273                         105.3            3.95        3       12        -9  \n",
       "2274                          93.7            1.22        3        9        -6  \n",
       "2275                         105.3            3.95       11       12        -1  \n",
       "2276                          93.7            1.22       11        9         2  \n",
       "2277                          93.7            1.22       12        9         3  \n",
       "\n",
       "[2278 rows x 134 columns]"
      ]
     },
     "execution_count": 25,
     "metadata": {},
     "output_type": "execute_result"
    }
   ],
   "source": [
    "test_data"
   ]
  },
  {
   "cell_type": "code",
   "execution_count": 26,
   "metadata": {
    "ExecuteTime": {
     "end_time": "2021-03-18T14:18:40.532112Z",
     "start_time": "2021-03-18T14:18:40.012459Z"
    }
   },
   "outputs": [
    {
     "name": "stdout",
     "output_type": "stream",
     "text": [
      "Final Log Loss : 0.45267684643718953\n"
     ]
    }
   ],
   "source": [
    "# get full dataset:\n",
    "train_set = tourney_data.dropna(how='any').reset_index(drop=True).copy()\n",
    "scaler = StandardScaler()\n",
    "\n",
    "y = np.where(train_set['T1_PointDiff'] > 0, 1, 0)\n",
    "\n",
    "scaler.fit(train_set)\n",
    "train_set_scaled = pd.DataFrame(scaler.fit_transform(train_set[features_all]), columns=features_all)\n",
    "\n",
    "# boxscore model:\n",
    "bs_model = LogisticRegression(max_iter=300)\n",
    "bs_model.fit(train_set_scaled[boxscore_features], y)\n",
    "bs_preds = bs_model.predict_proba(train_set_scaled[boxscore_features])[:, 1]\n",
    "\n",
    "# kenpom model:\n",
    "kp_model = LogisticRegression(max_iter=300)\n",
    "kp_model.fit(train_set_scaled[kenpom_features], y)\n",
    "kp_preds = kp_model.predict_proba(train_set_scaled[kenpom_features])[:, 1]\n",
    "\n",
    "\n",
    "# RFE model:\n",
    "rfe_model = LogisticRegression(max_iter=300)\n",
    "rfe_model.fit(train_set_scaled[features_RFE], y)\n",
    "rfe_preds = rfe_model.predict_proba(train_set_scaled[features_RFE])[:, 1]\n",
    "\n",
    "# all features model\n",
    "all_model = LogisticRegression(max_iter=300)\n",
    "all_model.fit(train_set_scaled[features_all], y)\n",
    "\n",
    "# preds:\n",
    "preds = pd.DataFrame([\n",
    "    bs_model.predict_proba(train_set_scaled[boxscore_features])[:, 1],\n",
    "    kp_model.predict_proba(train_set_scaled[kenpom_features])[:, 1],\n",
    "    rfe_model.predict_proba(train_set_scaled[features_RFE])[:, 1]\n",
    "])\n",
    "\n",
    "# ensemble model:\n",
    "ens_model = LogisticRegression(max_iter=300)\n",
    "ens_model.fit(preds.T, y)\n",
    "ens_preds = ens_model.predict_proba(preds.T)[:, 1]\n",
    "\n",
    "# final log_loss:\n",
    "print(f\"Final Log Loss : {log_loss(y, ens_model.predict_proba(preds.T)[:, 1])}\")\n",
    "\n",
    "test_data_scaled = pd.DataFrame(scaler.transform(test_data[features_all]),  columns=features_all)\n",
    "final_preds_1 = pd.DataFrame([\n",
    "    bs_model.predict_proba(test_data_scaled[boxscore_features])[:, 1],\n",
    "    kp_model.predict_proba(test_data_scaled[kenpom_features])[:, 1],\n",
    "    rfe_model.predict_proba(test_data_scaled[features_RFE])[:, 1]\n",
    "], index=['boxscore', 'kenpom', 'rfe'])\n",
    "final_preds_1 = final_preds_1.T\n",
    "final_preds_2 = ens_model.predict_proba(final_preds_1)[:, 1]\n",
    "\n",
    "all_model_final_preds = all_model.predict_proba(test_data_scaled[features_all])[:, 1]"
   ]
  },
  {
   "cell_type": "code",
   "execution_count": 27,
   "metadata": {
    "ExecuteTime": {
     "end_time": "2021-03-18T14:18:58.794680Z",
     "start_time": "2021-03-18T14:18:58.680118Z"
    }
   },
   "outputs": [],
   "source": [
    "for c in final_preds_1.columns:\n",
    "    test_data[f\"preds_{c}\"] = final_preds_1[c]\n",
    "    sub = test_data[['ID', f\"preds_{c}\"]]\n",
    "    sub.columns = ['ID', 'Pred']\n",
    "    sub.to_csv(f'../models/{c}_03_18.csv', index=False)\n",
    "    \n",
    "test_data[f\"all_feats_preds\"] = all_model_final_preds\n",
    "sub_ = test_data[['ID', 'all_feats_preds']]\n",
    "sub_.columns = ['ID', 'Pred']\n",
    "sub_.to_csv(\"../models/all_feats_03_18.csv\", index=False)"
   ]
  },
  {
   "cell_type": "code",
   "execution_count": 28,
   "metadata": {
    "ExecuteTime": {
     "end_time": "2021-03-18T14:18:59.746822Z",
     "start_time": "2021-03-18T14:18:59.588851Z"
    }
   },
   "outputs": [
    {
     "data": {
      "image/png": "[encoded data removed]",
      "text/plain": [
       "<Figure size 432x288 with 1 Axes>"
      ]
     },
     "metadata": {
      "needs_background": "light"
     },
     "output_type": "display_data"
    }
   ],
   "source": [
    "plt.hist(all_model_final_preds);"
   ]
  },
  {
   "cell_type": "code",
   "execution_count": 29,
   "metadata": {
    "ExecuteTime": {
     "end_time": "2021-03-18T14:19:00.295697Z",
     "start_time": "2021-03-18T14:19:00.074582Z"
    },
    "scrolled": true
   },
   "outputs": [
    {
     "data": {
      "image/png": "[encoded data removed]",
      "text/plain": [
       "<Figure size 432x288 with 1 Axes>"
      ]
     },
     "metadata": {
      "needs_background": "light"
     },
     "output_type": "display_data"
    }
   ],
   "source": [
    "plt.hist(bs_preds);"
   ]
  },
  {
   "cell_type": "code",
   "execution_count": 30,
   "metadata": {
    "ExecuteTime": {
     "end_time": "2021-03-18T14:19:00.752882Z",
     "start_time": "2021-03-18T14:19:00.577236Z"
    }
   },
   "outputs": [
    {
     "data": {
      "image/png": "[encoded data removed]",
      "text/plain": [
       "<Figure size 432x288 with 1 Axes>"
      ]
     },
     "metadata": {
      "needs_background": "light"
     },
     "output_type": "display_data"
    }
   ],
   "source": [
    "plt.hist(kp_preds);"
   ]
  },
  {
   "cell_type": "code",
   "execution_count": 31,
   "metadata": {
    "ExecuteTime": {
     "end_time": "2021-03-18T14:19:03.099758Z",
     "start_time": "2021-03-18T14:19:02.946650Z"
    }
   },
   "outputs": [
    {
     "data": {
      "image/png": "[encoded data removed]",
      "text/plain": [
       "<Figure size 432x288 with 1 Axes>"
      ]
     },
     "metadata": {
      "needs_background": "light"
     },
     "output_type": "display_data"
    }
   ],
   "source": [
    "plt.hist(rfe_preds);"
   ]
  },
  {
   "cell_type": "code",
   "execution_count": 32,
   "metadata": {
    "ExecuteTime": {
     "end_time": "2021-03-18T14:19:05.085832Z",
     "start_time": "2021-03-18T14:19:04.937718Z"
    }
   },
   "outputs": [
    {
     "data": {
      "image/png": "[encoded data removed]",
      "text/plain": [
       "<Figure size 432x288 with 1 Axes>"
      ]
     },
     "metadata": {
      "needs_background": "light"
     },
     "output_type": "display_data"
    }
   ],
   "source": [
    "plt.hist(ens_preds);"
   ]
  },
  {
   "cell_type": "code",
   "execution_count": 38,
   "metadata": {
    "ExecuteTime": {
     "end_time": "2021-03-18T14:19:49.867928Z",
     "start_time": "2021-03-18T14:19:49.718646Z"
    }
   },
   "outputs": [
    {
     "data": {
      "image/png": "[encoded data removed]",
      "text/plain": [
       "<Figure size 432x288 with 1 Axes>"
      ]
     },
     "metadata": {
      "needs_background": "light"
     },
     "output_type": "display_data"
    }
   ],
   "source": [
    "plt.hist(all_model_final_preds);"
   ]
  },
  {
   "cell_type": "code",
   "execution_count": 35,
   "metadata": {
    "ExecuteTime": {
     "end_time": "2021-03-18T14:19:16.942300Z",
     "start_time": "2021-03-18T14:19:16.857971Z"
    }
   },
   "outputs": [],
   "source": [
    "train_set['ens_preds'] = ens_preds"
   ]
  },
  {
   "cell_type": "code",
   "execution_count": 36,
   "metadata": {
    "ExecuteTime": {
     "end_time": "2021-03-18T14:19:18.197940Z",
     "start_time": "2021-03-18T14:19:17.997231Z"
    }
   },
   "outputs": [
    {
     "name": "stdout",
     "output_type": "stream",
     "text": [
      "2003 Loss : 0.4545937580847\n",
      "2004 Loss : 0.45271170534503624\n",
      "2005 Loss : 0.4548089408773732\n",
      "2006 Loss : 0.4513234075667498\n",
      "2007 Loss : 0.45860088862200266\n",
      "2008 Loss : 0.45546023881104497\n",
      "2009 Loss : 0.45481046420518967\n",
      "2010 Loss : 0.4523475422320554\n",
      "2011 Loss : 0.4442958666310685\n",
      "2012 Loss : 0.45147823970743794\n",
      "2013 Loss : 0.4504663699062702\n",
      "2014 Loss : 0.44979399268500353\n",
      "2015 Loss : 0.45246208119709513\n",
      "2016 Loss : 0.4512752736616581\n",
      "2017 Loss : 0.4542226286094075\n",
      "2018 Loss : 0.4499004302812112\n",
      "2019 Loss : 0.456915066450234\n",
      "Local CV Loss : 0.453  ---- Ensemble\n"
     ]
    },
    {
     "data": {
      "image/png": "[encoded data removed]",
      "text/plain": [
       "<Figure size 432x288 with 1 Axes>"
      ]
     },
     "metadata": {
      "needs_background": "light"
     },
     "output_type": "display_data"
    }
   ],
   "source": [
    "df = train_set.copy()\n",
    "\n",
    "# split X and y:\n",
    "X = df.copy()\n",
    "y = np.where(df['T1_PointDiff'] > 0, 1, 0)\n",
    "\n",
    "# use leave-one-group-out:\n",
    "logo = LeaveOneGroupOut()\n",
    "groups = df['Season']\n",
    "\n",
    "cvs = []\n",
    "\n",
    "season_ix = list(set(groups))\n",
    "season_ix.sort()\n",
    "\n",
    "for i , (train_ix, val_ix) in enumerate(logo.split(X, y, groups)):\n",
    "    pred = df.loc[train_ix, 'ens_preds']\n",
    "    y_val = y[train_ix]\n",
    "\n",
    "    # loss:\n",
    "    loss = log_loss(y_val, pred)\n",
    "    cvs.append(loss)\n",
    "\n",
    "    print(f\"{season_ix[i]} Loss : {loss}\")\n",
    "\n",
    "plt.figure()\n",
    "plt.plot(range(min(groups), min(groups) + len(set(groups))), cvs)\n",
    "plt.xlabel(\"Year\")\n",
    "plt.ylabel(\"Log Loss\")\n",
    "\n",
    "print(f\"Local CV Loss : {np.mean(cvs):.3f}  ---- Ensemble\")\n"
   ]
  },
  {
   "cell_type": "code",
   "execution_count": 39,
   "metadata": {
    "ExecuteTime": {
     "end_time": "2021-03-18T14:20:02.015198Z",
     "start_time": "2021-03-18T14:20:01.936321Z"
    }
   },
   "outputs": [],
   "source": [
    "# save predictions\n",
    "test_data['Pred'] = all_model_final_preds\n",
    "\n",
    "submission = test_data[['ID', 'Pred']]\n",
    "submission.to_csv('../models/ens_03_18.csv', index=False)"
   ]
  },
  {
   "cell_type": "code",
   "execution_count": null,
   "metadata": {},
   "outputs": [],
   "source": []
  },
  {
   "cell_type": "code",
   "execution_count": null,
   "metadata": {},
   "outputs": [],
   "source": []
  }
 ],
 "metadata": {
  "kernelspec": {
   "display_name": "Python 3",
   "language": "python",
   "name": "python3"
  },
  "language_info": {
   "codemirror_mode": {
    "name": "ipython",
    "version": 3
   },
   "file_extension": ".py",
   "mimetype": "text/x-python",
   "name": "python",
   "nbconvert_exporter": "python",
   "pygments_lexer": "ipython3",
   "version": "3.7.0"
  },
  "toc": {
   "base_numbering": 1,
   "nav_menu": {},
   "number_sections": true,
   "sideBar": true,
   "skip_h1_title": false,
   "title_cell": "Table of Contents",
   "title_sidebar": "Contents",
   "toc_cell": false,
   "toc_position": {},
   "toc_section_display": true,
   "toc_window_display": false
  }
 },
 "nbformat": 4,
 "nbformat_minor": 4
}
