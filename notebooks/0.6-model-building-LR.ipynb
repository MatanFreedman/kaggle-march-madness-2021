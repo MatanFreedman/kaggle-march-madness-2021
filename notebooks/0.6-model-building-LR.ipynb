{
 "cells": [
  {
   "cell_type": "code",
   "execution_count": 1,
   "metadata": {
    "ExecuteTime": {
     "end_time": "2021-03-18T00:11:55.683193Z",
     "start_time": "2021-03-18T00:11:55.641274Z"
    }
   },
   "outputs": [],
   "source": [
    "# OPTIONAL: Load the \"autoreload\" extension so that code can change\n",
    "%load_ext autoreload\n",
    "\n",
    "# OPTIONAL: always reload modules so that as you change code in src, it gets loaded\n",
    "%autoreload 2"
   ]
  },
  {
   "cell_type": "code",
   "execution_count": 2,
   "metadata": {
    "ExecuteTime": {
     "end_time": "2021-03-18T00:11:57.412930Z",
     "start_time": "2021-03-18T00:11:55.685193Z"
    }
   },
   "outputs": [],
   "source": [
    "import pandas as pd\n",
    "import numpy as np\n",
    "\n",
    "from pathlib import Path"
   ]
  },
  {
   "cell_type": "markdown",
   "metadata": {},
   "source": [
    "# Load Data"
   ]
  },
  {
   "cell_type": "markdown",
   "metadata": {},
   "source": [
    "Note: I added new features and fixed some old features, so older models might perform worse/better if running the same notebook."
   ]
  },
  {
   "cell_type": "code",
   "execution_count": 3,
   "metadata": {
    "ExecuteTime": {
     "end_time": "2021-03-18T00:11:57.553039Z",
     "start_time": "2021-03-18T00:11:57.418917Z"
    }
   },
   "outputs": [],
   "source": [
    "tourney_data = pd.read_csv(\"../data/processed/tourney_data.csv\")"
   ]
  },
  {
   "cell_type": "code",
   "execution_count": 4,
   "metadata": {
    "ExecuteTime": {
     "end_time": "2021-03-18T00:11:57.646940Z",
     "start_time": "2021-03-18T00:11:57.554984Z"
    }
   },
   "outputs": [
    {
     "data": {
      "text/html": [
       "<div>\n",
       "<style scoped>\n",
       "    .dataframe tbody tr th:only-of-type {\n",
       "        vertical-align: middle;\n",
       "    }\n",
       "\n",
       "    .dataframe tbody tr th {\n",
       "        vertical-align: top;\n",
       "    }\n",
       "\n",
       "    .dataframe thead th {\n",
       "        text-align: right;\n",
       "    }\n",
       "</style>\n",
       "<table border=\"1\" class=\"dataframe\">\n",
       "  <thead>\n",
       "    <tr style=\"text-align: right;\">\n",
       "      <th></th>\n",
       "      <th>Season</th>\n",
       "      <th>DayNum</th>\n",
       "      <th>T1_TeamID</th>\n",
       "      <th>T1_Score</th>\n",
       "      <th>T2_TeamID</th>\n",
       "      <th>T2_Score</th>\n",
       "      <th>location</th>\n",
       "      <th>NumOT</th>\n",
       "      <th>T1_FGM</th>\n",
       "      <th>T1_FGA</th>\n",
       "      <th>...</th>\n",
       "      <th>T2_AdjD</th>\n",
       "      <th>T2_AdjT</th>\n",
       "      <th>T2_Luck</th>\n",
       "      <th>T2_Strength of Schedule_AdjEM</th>\n",
       "      <th>T2_Strength of Schedule_OppO</th>\n",
       "      <th>T2_Strength of Schedule_OppD</th>\n",
       "      <th>T2_NCSOS_AdjEM</th>\n",
       "      <th>T1_seed</th>\n",
       "      <th>T2_seed</th>\n",
       "      <th>SeedDiff</th>\n",
       "    </tr>\n",
       "  </thead>\n",
       "  <tbody>\n",
       "    <tr>\n",
       "      <th>0</th>\n",
       "      <td>2003</td>\n",
       "      <td>134</td>\n",
       "      <td>1421</td>\n",
       "      <td>92</td>\n",
       "      <td>1411</td>\n",
       "      <td>84</td>\n",
       "      <td>0</td>\n",
       "      <td>1</td>\n",
       "      <td>32</td>\n",
       "      <td>69</td>\n",
       "      <td>...</td>\n",
       "      <td>108.7</td>\n",
       "      <td>68.4</td>\n",
       "      <td>0.037</td>\n",
       "      <td>-12.96</td>\n",
       "      <td>94.4</td>\n",
       "      <td>107.4</td>\n",
       "      <td>-8.09</td>\n",
       "      <td>16</td>\n",
       "      <td>16</td>\n",
       "      <td>0</td>\n",
       "    </tr>\n",
       "    <tr>\n",
       "      <th>1</th>\n",
       "      <td>2003</td>\n",
       "      <td>134</td>\n",
       "      <td>1411</td>\n",
       "      <td>84</td>\n",
       "      <td>1421</td>\n",
       "      <td>92</td>\n",
       "      <td>0</td>\n",
       "      <td>1</td>\n",
       "      <td>29</td>\n",
       "      <td>67</td>\n",
       "      <td>...</td>\n",
       "      <td>113.5</td>\n",
       "      <td>68.0</td>\n",
       "      <td>0.119</td>\n",
       "      <td>-6.45</td>\n",
       "      <td>98.3</td>\n",
       "      <td>104.7</td>\n",
       "      <td>11.61</td>\n",
       "      <td>16</td>\n",
       "      <td>16</td>\n",
       "      <td>0</td>\n",
       "    </tr>\n",
       "    <tr>\n",
       "      <th>2</th>\n",
       "      <td>2003</td>\n",
       "      <td>136</td>\n",
       "      <td>1436</td>\n",
       "      <td>51</td>\n",
       "      <td>1112</td>\n",
       "      <td>80</td>\n",
       "      <td>0</td>\n",
       "      <td>0</td>\n",
       "      <td>20</td>\n",
       "      <td>64</td>\n",
       "      <td>...</td>\n",
       "      <td>88.8</td>\n",
       "      <td>72.7</td>\n",
       "      <td>-0.007</td>\n",
       "      <td>8.69</td>\n",
       "      <td>107.2</td>\n",
       "      <td>98.5</td>\n",
       "      <td>8.19</td>\n",
       "      <td>16</td>\n",
       "      <td>1</td>\n",
       "      <td>15</td>\n",
       "    </tr>\n",
       "    <tr>\n",
       "      <th>3</th>\n",
       "      <td>2003</td>\n",
       "      <td>136</td>\n",
       "      <td>1112</td>\n",
       "      <td>80</td>\n",
       "      <td>1436</td>\n",
       "      <td>51</td>\n",
       "      <td>0</td>\n",
       "      <td>0</td>\n",
       "      <td>31</td>\n",
       "      <td>66</td>\n",
       "      <td>...</td>\n",
       "      <td>99.5</td>\n",
       "      <td>64.4</td>\n",
       "      <td>0.019</td>\n",
       "      <td>-5.14</td>\n",
       "      <td>99.3</td>\n",
       "      <td>104.4</td>\n",
       "      <td>-2.29</td>\n",
       "      <td>1</td>\n",
       "      <td>16</td>\n",
       "      <td>-15</td>\n",
       "    </tr>\n",
       "    <tr>\n",
       "      <th>4</th>\n",
       "      <td>2003</td>\n",
       "      <td>136</td>\n",
       "      <td>1113</td>\n",
       "      <td>84</td>\n",
       "      <td>1272</td>\n",
       "      <td>71</td>\n",
       "      <td>0</td>\n",
       "      <td>0</td>\n",
       "      <td>31</td>\n",
       "      <td>59</td>\n",
       "      <td>...</td>\n",
       "      <td>94.1</td>\n",
       "      <td>68.3</td>\n",
       "      <td>0.005</td>\n",
       "      <td>4.83</td>\n",
       "      <td>103.4</td>\n",
       "      <td>98.6</td>\n",
       "      <td>3.33</td>\n",
       "      <td>10</td>\n",
       "      <td>7</td>\n",
       "      <td>3</td>\n",
       "    </tr>\n",
       "    <tr>\n",
       "      <th>...</th>\n",
       "      <td>...</td>\n",
       "      <td>...</td>\n",
       "      <td>...</td>\n",
       "      <td>...</td>\n",
       "      <td>...</td>\n",
       "      <td>...</td>\n",
       "      <td>...</td>\n",
       "      <td>...</td>\n",
       "      <td>...</td>\n",
       "      <td>...</td>\n",
       "      <td>...</td>\n",
       "      <td>...</td>\n",
       "      <td>...</td>\n",
       "      <td>...</td>\n",
       "      <td>...</td>\n",
       "      <td>...</td>\n",
       "      <td>...</td>\n",
       "      <td>...</td>\n",
       "      <td>...</td>\n",
       "      <td>...</td>\n",
       "      <td>...</td>\n",
       "    </tr>\n",
       "    <tr>\n",
       "      <th>2225</th>\n",
       "      <td>2019</td>\n",
       "      <td>152</td>\n",
       "      <td>1403</td>\n",
       "      <td>61</td>\n",
       "      <td>1277</td>\n",
       "      <td>51</td>\n",
       "      <td>0</td>\n",
       "      <td>0</td>\n",
       "      <td>22</td>\n",
       "      <td>51</td>\n",
       "      <td>...</td>\n",
       "      <td>90.2</td>\n",
       "      <td>66.9</td>\n",
       "      <td>0.001</td>\n",
       "      <td>13.67</td>\n",
       "      <td>110.6</td>\n",
       "      <td>96.9</td>\n",
       "      <td>3.24</td>\n",
       "      <td>3</td>\n",
       "      <td>2</td>\n",
       "      <td>1</td>\n",
       "    </tr>\n",
       "    <tr>\n",
       "      <th>2226</th>\n",
       "      <td>2019</td>\n",
       "      <td>152</td>\n",
       "      <td>1120</td>\n",
       "      <td>62</td>\n",
       "      <td>1438</td>\n",
       "      <td>63</td>\n",
       "      <td>0</td>\n",
       "      <td>0</td>\n",
       "      <td>21</td>\n",
       "      <td>55</td>\n",
       "      <td>...</td>\n",
       "      <td>89.2</td>\n",
       "      <td>59.4</td>\n",
       "      <td>0.050</td>\n",
       "      <td>11.18</td>\n",
       "      <td>109.2</td>\n",
       "      <td>98.1</td>\n",
       "      <td>-3.24</td>\n",
       "      <td>5</td>\n",
       "      <td>1</td>\n",
       "      <td>4</td>\n",
       "    </tr>\n",
       "    <tr>\n",
       "      <th>2227</th>\n",
       "      <td>2019</td>\n",
       "      <td>152</td>\n",
       "      <td>1438</td>\n",
       "      <td>63</td>\n",
       "      <td>1120</td>\n",
       "      <td>62</td>\n",
       "      <td>0</td>\n",
       "      <td>0</td>\n",
       "      <td>25</td>\n",
       "      <td>51</td>\n",
       "      <td>...</td>\n",
       "      <td>95.9</td>\n",
       "      <td>67.9</td>\n",
       "      <td>0.008</td>\n",
       "      <td>12.23</td>\n",
       "      <td>110.7</td>\n",
       "      <td>98.5</td>\n",
       "      <td>2.63</td>\n",
       "      <td>1</td>\n",
       "      <td>5</td>\n",
       "      <td>-4</td>\n",
       "    </tr>\n",
       "    <tr>\n",
       "      <th>2228</th>\n",
       "      <td>2019</td>\n",
       "      <td>154</td>\n",
       "      <td>1438</td>\n",
       "      <td>85</td>\n",
       "      <td>1403</td>\n",
       "      <td>77</td>\n",
       "      <td>0</td>\n",
       "      <td>1</td>\n",
       "      <td>27</td>\n",
       "      <td>59</td>\n",
       "      <td>...</td>\n",
       "      <td>84.1</td>\n",
       "      <td>66.6</td>\n",
       "      <td>0.004</td>\n",
       "      <td>11.18</td>\n",
       "      <td>109.8</td>\n",
       "      <td>98.7</td>\n",
       "      <td>-5.39</td>\n",
       "      <td>1</td>\n",
       "      <td>3</td>\n",
       "      <td>-2</td>\n",
       "    </tr>\n",
       "    <tr>\n",
       "      <th>2229</th>\n",
       "      <td>2019</td>\n",
       "      <td>154</td>\n",
       "      <td>1403</td>\n",
       "      <td>77</td>\n",
       "      <td>1438</td>\n",
       "      <td>85</td>\n",
       "      <td>0</td>\n",
       "      <td>1</td>\n",
       "      <td>27</td>\n",
       "      <td>63</td>\n",
       "      <td>...</td>\n",
       "      <td>89.2</td>\n",
       "      <td>59.4</td>\n",
       "      <td>0.050</td>\n",
       "      <td>11.18</td>\n",
       "      <td>109.2</td>\n",
       "      <td>98.1</td>\n",
       "      <td>-3.24</td>\n",
       "      <td>3</td>\n",
       "      <td>1</td>\n",
       "      <td>2</td>\n",
       "    </tr>\n",
       "  </tbody>\n",
       "</table>\n",
       "<p>2230 rows × 189 columns</p>\n",
       "</div>"
      ],
      "text/plain": [
       "      Season  DayNum  T1_TeamID  T1_Score  T2_TeamID  T2_Score  location  \\\n",
       "0       2003     134       1421        92       1411        84         0   \n",
       "1       2003     134       1411        84       1421        92         0   \n",
       "2       2003     136       1436        51       1112        80         0   \n",
       "3       2003     136       1112        80       1436        51         0   \n",
       "4       2003     136       1113        84       1272        71         0   \n",
       "...      ...     ...        ...       ...        ...       ...       ...   \n",
       "2225    2019     152       1403        61       1277        51         0   \n",
       "2226    2019     152       1120        62       1438        63         0   \n",
       "2227    2019     152       1438        63       1120        62         0   \n",
       "2228    2019     154       1438        85       1403        77         0   \n",
       "2229    2019     154       1403        77       1438        85         0   \n",
       "\n",
       "      NumOT  T1_FGM  T1_FGA  ...  T2_AdjD  T2_AdjT  T2_Luck  \\\n",
       "0         1      32      69  ...    108.7     68.4    0.037   \n",
       "1         1      29      67  ...    113.5     68.0    0.119   \n",
       "2         0      20      64  ...     88.8     72.7   -0.007   \n",
       "3         0      31      66  ...     99.5     64.4    0.019   \n",
       "4         0      31      59  ...     94.1     68.3    0.005   \n",
       "...     ...     ...     ...  ...      ...      ...      ...   \n",
       "2225      0      22      51  ...     90.2     66.9    0.001   \n",
       "2226      0      21      55  ...     89.2     59.4    0.050   \n",
       "2227      0      25      51  ...     95.9     67.9    0.008   \n",
       "2228      1      27      59  ...     84.1     66.6    0.004   \n",
       "2229      1      27      63  ...     89.2     59.4    0.050   \n",
       "\n",
       "      T2_Strength of Schedule_AdjEM  T2_Strength of Schedule_OppO  \\\n",
       "0                            -12.96                          94.4   \n",
       "1                             -6.45                          98.3   \n",
       "2                              8.69                         107.2   \n",
       "3                             -5.14                          99.3   \n",
       "4                              4.83                         103.4   \n",
       "...                             ...                           ...   \n",
       "2225                          13.67                         110.6   \n",
       "2226                          11.18                         109.2   \n",
       "2227                          12.23                         110.7   \n",
       "2228                          11.18                         109.8   \n",
       "2229                          11.18                         109.2   \n",
       "\n",
       "      T2_Strength of Schedule_OppD  T2_NCSOS_AdjEM  T1_seed  T2_seed  SeedDiff  \n",
       "0                            107.4           -8.09       16       16         0  \n",
       "1                            104.7           11.61       16       16         0  \n",
       "2                             98.5            8.19       16        1        15  \n",
       "3                            104.4           -2.29        1       16       -15  \n",
       "4                             98.6            3.33       10        7         3  \n",
       "...                            ...             ...      ...      ...       ...  \n",
       "2225                          96.9            3.24        3        2         1  \n",
       "2226                          98.1           -3.24        5        1         4  \n",
       "2227                          98.5            2.63        1        5        -4  \n",
       "2228                          98.7           -5.39        1        3        -2  \n",
       "2229                          98.1           -3.24        3        1         2  \n",
       "\n",
       "[2230 rows x 189 columns]"
      ]
     },
     "execution_count": 4,
     "metadata": {},
     "output_type": "execute_result"
    }
   ],
   "source": [
    "tourney_data"
   ]
  },
  {
   "cell_type": "markdown",
   "metadata": {},
   "source": [
    "# Model Building"
   ]
  },
  {
   "cell_type": "code",
   "execution_count": 5,
   "metadata": {
    "ExecuteTime": {
     "end_time": "2021-03-18T00:12:01.684690Z",
     "start_time": "2021-03-18T00:11:57.648893Z"
    }
   },
   "outputs": [],
   "source": [
    "# define log-loss scoring\n",
    "from sklearn.metrics import log_loss, make_scorer\n",
    "from sklearn.model_selection import cross_val_score, GroupKFold, train_test_split\n",
    "from sklearn.linear_model import Lasso\n",
    "from sklearn.ensemble import RandomForestRegressor\n",
    "\n",
    "import matplotlib.pyplot as plt"
   ]
  },
  {
   "cell_type": "code",
   "execution_count": 6,
   "metadata": {
    "ExecuteTime": {
     "end_time": "2021-03-18T00:12:01.749391Z",
     "start_time": "2021-03-18T00:12:01.684690Z"
    }
   },
   "outputs": [],
   "source": [
    "features_all = [\n",
    " 'T1_FGMmean',\n",
    " 'T1_FGAmean',\n",
    " 'T1_FGM3mean',\n",
    " 'T1_FGA3mean',\n",
    " 'T1_FTMmean',\n",
    " 'T1_FTAmean',\n",
    " 'T1_ORmean',\n",
    " 'T1_DRmean',\n",
    " 'T1_Astmean',\n",
    " 'T1_TOmean',\n",
    " 'T1_Stlmean',\n",
    " 'T1_Blkmean',\n",
    " 'T1_PFmean',\n",
    " 'T1_opponent_FGMmean',\n",
    " 'T1_opponent_FGAmean',\n",
    " 'T1_opponent_FGM3mean',\n",
    " 'T1_opponent_FGA3mean',\n",
    " 'T1_opponent_FTMmean',\n",
    " 'T1_opponent_FTAmean',\n",
    " 'T1_opponent_ORmean',\n",
    " 'T1_opponent_DRmean',\n",
    " 'T1_opponent_Astmean',\n",
    " 'T1_opponent_TOmean',\n",
    " 'T1_opponent_Stlmean',\n",
    " 'T1_opponent_Blkmean',\n",
    " 'T1_opponent_PFmean',\n",
    " 'T1_Ptsmean',\n",
    " 'T1_opponent_Ptsmean',\n",
    " 'Posmean',\n",
    " 'T1_OffRtgmean',\n",
    " 'T1_opponent_OffRtgmean',\n",
    " 'T1_DefRtgmean',\n",
    " 'T1_opponent_DefRtgmean',\n",
    " 'T1_NetRtgmean',\n",
    " 'T1_opponent_NetRtgmean',\n",
    " 'T1_AstRmean',\n",
    " 'T1_opponent_AstRmean',\n",
    " 'T1_TORmean',\n",
    " 'T1_opponent_TORmean',\n",
    " 'T1_TSPmean',\n",
    " 'T1_opponent_TSPmean',\n",
    " 'T1_eFGPmean',\n",
    " 'T1_opponent_eFGPmean',\n",
    " 'T1_FTARmean',\n",
    " 'T1_opponent_FTARmean',\n",
    " 'T1_ORPmean',\n",
    " 'T1_opponent_ORPmean',\n",
    " 'T1_DRPmean',\n",
    " 'T1_opponent_DRPmean',\n",
    " 'T1_RPmean',\n",
    " 'T1_opponent_RPmean',\n",
    " 'T1_PointDiffmean',\n",
    " 'T2_FGMmean',\n",
    " 'T2_FGAmean',\n",
    " 'T2_FGM3mean',\n",
    " 'T2_FGA3mean',\n",
    " 'T2_FTMmean',\n",
    " 'T2_FTAmean',\n",
    " 'T2_ORmean',\n",
    " 'T2_DRmean',\n",
    " 'T2_Astmean',\n",
    " 'T2_TOmean',\n",
    " 'T2_Stlmean',\n",
    " 'T2_Blkmean',\n",
    " 'T2_PFmean',\n",
    " 'T2_opponent_FGMmean',\n",
    " 'T2_opponent_FGAmean',\n",
    " 'T2_opponent_FGM3mean',\n",
    " 'T2_opponent_FGA3mean',\n",
    " 'T2_opponent_FTMmean',\n",
    " 'T2_opponent_FTAmean',\n",
    " 'T2_opponent_ORmean',\n",
    " 'T2_opponent_DRmean',\n",
    " 'T2_opponent_Astmean',\n",
    " 'T2_opponent_TOmean',\n",
    " 'T2_opponent_Stlmean',\n",
    " 'T2_opponent_Blkmean',\n",
    " 'T2_opponent_PFmean',\n",
    " 'T2_Ptsmean',\n",
    " 'T2_opponent_Ptsmean',\n",
    " 'T2_Posmean',\n",
    " 'T2_OffRtgmean',\n",
    " 'T2_opponent_OffRtgmean',\n",
    " 'T2_DefRtgmean',\n",
    " 'T2_opponent_DefRtgmean',\n",
    " 'T2_NetRtgmean',\n",
    " 'T2_opponent_NetRtgmean',\n",
    " 'T2_AstRmean',\n",
    " 'T2_opponent_AstRmean',\n",
    " 'T2_TORmean',\n",
    " 'T2_opponent_TORmean',\n",
    " 'T2_TSPmean',\n",
    " 'T2_opponent_TSPmean',\n",
    " 'T2_eFGPmean',\n",
    " 'T2_opponent_eFGPmean',\n",
    " 'T2_FTARmean',\n",
    " 'T2_opponent_FTARmean',\n",
    " 'T2_ORPmean',\n",
    " 'T2_opponent_ORPmean',\n",
    " 'T2_DRPmean',\n",
    " 'T2_opponent_DRPmean',\n",
    " 'T2_RPmean',\n",
    " 'T2_opponent_RPmean',\n",
    " 'T2_PointDiffmean',\n",
    " 'T1_win_ratio_14d',\n",
    " 'T2_win_ratio_14d',\n",
    " 'T1_Rk',\n",
    " 'T1_AdjEM',\n",
    " 'T1_AdjO',\n",
    " 'T1_AdjD',\n",
    " 'T1_AdjT',\n",
    " 'T1_Luck',\n",
    " 'T1_Strength of Schedule_AdjEM',\n",
    " 'T1_Strength of Schedule_OppO',\n",
    " 'T1_Strength of Schedule_OppD',\n",
    " 'T1_NCSOS_AdjEM',\n",
    " 'T2_Rk',\n",
    " 'T2_AdjEM',\n",
    " 'T2_AdjO',\n",
    " 'T2_AdjD',\n",
    " 'T2_AdjT',\n",
    " 'T2_Luck',\n",
    " 'T2_Strength of Schedule_AdjEM',\n",
    " 'T2_Strength of Schedule_OppO',\n",
    " 'T2_Strength of Schedule_OppD',\n",
    " 'T2_NCSOS_AdjEM',\n",
    " 'T1_seed',\n",
    " 'T2_seed',\n",
    " 'SeedDiff'\n",
    "]\n",
    "\n",
    "features_old = [\n",
    "       'T1_FGMmean', 'T1_FGAmean', 'T1_FGM3mean', 'T1_FGA3mean',\n",
    "       'T1_ORmean', 'T1_Astmean', 'T1_TOmean', 'T1_Stlmean', 'T1_PFmean',\n",
    "       'T1_opponent_FGMmean', 'T1_opponent_FGAmean', 'T1_opponent_FGM3mean',\n",
    "       'T1_opponent_FGA3mean', 'T1_opponent_ORmean', 'T1_opponent_Astmean',\n",
    "       'T1_opponent_TOmean', 'T1_opponent_Stlmean', 'T1_opponent_Blkmean',\n",
    "       'T1_PointDiffmean', 'T2_FGMmean', 'T2_FGAmean', 'T2_FGM3mean',\n",
    "       'T2_FGA3mean', 'T2_ORmean', 'T2_Astmean', 'T2_TOmean', 'T2_Stlmean',\n",
    "       'T2_PFmean', 'T2_opponent_FGMmean', 'T2_opponent_FGAmean',\n",
    "       'T2_opponent_FGM3mean', 'T2_opponent_FGA3mean', 'T2_opponent_ORmean',\n",
    "       'T2_opponent_Astmean', 'T2_opponent_TOmean', 'T2_opponent_Stlmean',\n",
    "       'T2_opponent_Blkmean', 'T2_PointDiffmean', 'T1_win_ratio_14d', 'T2_win_ratio_14d', 'T1_Rk',\n",
    "       'T1_AdjEM', 'T1_AdjO', 'T1_AdjD', 'T1_AdjT', 'T1_Luck',\n",
    "       'T1_Strength of Schedule_AdjEM', 'T1_Strength of Schedule_OppO',\n",
    "       'T1_Strength of Schedule_OppD', 'T1_NCSOS_AdjEM', 'T2_Rk', 'T2_AdjEM',\n",
    "       'T2_AdjO', 'T2_AdjD', 'T2_AdjT', 'T2_Luck',\n",
    "       'T2_Strength of Schedule_AdjEM', 'T2_Strength of Schedule_OppO',\n",
    "       'T2_Strength of Schedule_OppD', 'T2_NCSOS_AdjEM', \n",
    "    'T1_seed', 'T2_seed',\n",
    "#        'SeedDiff'\n",
    "]\n",
    "\n",
    "features2 = [\n",
    "    'T1_win_ratio_14d', 'T2_win_ratio_14d', 'T1_Rk',\n",
    "   'T1_AdjEM', 'T1_AdjO', 'T1_AdjD', 'T1_AdjT', 'T1_Luck',\n",
    "   'T1_Strength of Schedule_AdjEM', 'T1_Strength of Schedule_OppO',\n",
    "   'T1_Strength of Schedule_OppD', 'T1_NCSOS_AdjEM', 'T2_Rk', 'T2_AdjEM',\n",
    "   'T2_AdjO', 'T2_AdjD', 'T2_AdjT', 'T2_Luck',\n",
    "   'T2_Strength of Schedule_AdjEM', 'T2_Strength of Schedule_OppO',\n",
    "   'T2_Strength of Schedule_OppD', 'T2_NCSOS_AdjEM', 'T1_seed', 'T2_seed',\n",
    "   'SeedDiff'\n",
    "]"
   ]
  },
  {
   "cell_type": "code",
   "execution_count": 7,
   "metadata": {
    "ExecuteTime": {
     "end_time": "2021-03-18T00:12:01.824984Z",
     "start_time": "2021-03-18T00:12:01.749391Z"
    }
   },
   "outputs": [],
   "source": [
    "boxscore_features = [\n",
    " 'T1_FGMmean',\n",
    " 'T1_FGAmean',\n",
    " 'T1_FGM3mean',\n",
    " 'T1_FGA3mean',\n",
    " 'T1_FTMmean',\n",
    " 'T1_FTAmean',\n",
    " 'T1_ORmean',\n",
    " 'T1_DRmean',\n",
    " 'T1_Astmean',\n",
    " 'T1_TOmean',\n",
    " 'T1_Stlmean',\n",
    " 'T1_Blkmean',\n",
    " 'T1_PFmean',\n",
    " 'T1_opponent_FGMmean',\n",
    " 'T1_opponent_FGAmean',\n",
    " 'T1_opponent_FGM3mean',\n",
    " 'T1_opponent_FGA3mean',\n",
    " 'T1_opponent_FTMmean',\n",
    " 'T1_opponent_FTAmean',\n",
    " 'T1_opponent_ORmean',\n",
    " 'T1_opponent_DRmean',\n",
    " 'T1_opponent_Astmean',\n",
    " 'T1_opponent_TOmean',\n",
    " 'T1_opponent_Stlmean',\n",
    " 'T1_opponent_Blkmean',\n",
    " 'T1_opponent_PFmean',\n",
    " 'T1_Ptsmean',\n",
    " 'T1_opponent_Ptsmean',\n",
    " 'Posmean',\n",
    " 'T1_OffRtgmean',\n",
    " 'T1_opponent_OffRtgmean',\n",
    " 'T1_DefRtgmean',\n",
    " 'T1_opponent_DefRtgmean',\n",
    " 'T1_NetRtgmean',\n",
    " 'T1_opponent_NetRtgmean',\n",
    " 'T1_AstRmean',\n",
    " 'T1_opponent_AstRmean',\n",
    " 'T1_TORmean',\n",
    " 'T1_opponent_TORmean',\n",
    " 'T1_TSPmean',\n",
    " 'T1_opponent_TSPmean',\n",
    " 'T1_eFGPmean',\n",
    " 'T1_opponent_eFGPmean',\n",
    " 'T1_FTARmean',\n",
    " 'T1_opponent_FTARmean',\n",
    " 'T1_ORPmean',\n",
    " 'T1_opponent_ORPmean',\n",
    " 'T1_DRPmean',\n",
    " 'T1_opponent_DRPmean',\n",
    " 'T1_RPmean',\n",
    " 'T1_opponent_RPmean',\n",
    " 'T1_PointDiffmean',\n",
    " 'T2_FGMmean',\n",
    " 'T2_FGAmean',\n",
    " 'T2_FGM3mean',\n",
    " 'T2_FGA3mean',\n",
    " 'T2_FTMmean',\n",
    " 'T2_FTAmean',\n",
    " 'T2_ORmean',\n",
    " 'T2_DRmean',\n",
    " 'T2_Astmean',\n",
    " 'T2_TOmean',\n",
    " 'T2_Stlmean',\n",
    " 'T2_Blkmean',\n",
    " 'T2_PFmean',\n",
    " 'T2_opponent_FGMmean',\n",
    " 'T2_opponent_FGAmean',\n",
    " 'T2_opponent_FGM3mean',\n",
    " 'T2_opponent_FGA3mean',\n",
    " 'T2_opponent_FTMmean',\n",
    " 'T2_opponent_FTAmean',\n",
    " 'T2_opponent_ORmean',\n",
    " 'T2_opponent_DRmean',\n",
    " 'T2_opponent_Astmean',\n",
    " 'T2_opponent_TOmean',\n",
    " 'T2_opponent_Stlmean',\n",
    " 'T2_opponent_Blkmean',\n",
    " 'T2_opponent_PFmean',\n",
    " 'T2_Ptsmean',\n",
    " 'T2_opponent_Ptsmean',\n",
    " 'T2_Posmean',\n",
    " 'T2_OffRtgmean',\n",
    " 'T2_opponent_OffRtgmean',\n",
    " 'T2_DefRtgmean',\n",
    " 'T2_opponent_DefRtgmean',\n",
    " 'T2_NetRtgmean',\n",
    " 'T2_opponent_NetRtgmean',\n",
    " 'T2_AstRmean',\n",
    " 'T2_opponent_AstRmean',\n",
    " 'T2_TORmean',\n",
    " 'T2_opponent_TORmean',\n",
    " 'T2_TSPmean',\n",
    " 'T2_opponent_TSPmean',\n",
    " 'T2_eFGPmean',\n",
    " 'T2_opponent_eFGPmean',\n",
    " 'T2_FTARmean',\n",
    " 'T2_opponent_FTARmean',\n",
    " 'T2_ORPmean',\n",
    " 'T2_opponent_ORPmean',\n",
    " 'T2_DRPmean',\n",
    " 'T2_opponent_DRPmean',\n",
    " 'T2_RPmean',\n",
    " 'T2_opponent_RPmean',\n",
    " 'T2_PointDiffmean',\n",
    " 'T1_win_ratio_14d',\n",
    " 'T2_win_ratio_14d',\n",
    "#  'T1_seed',\n",
    "#  'T2_seed',\n",
    "#  'SeedDiff'\n",
    "]\n",
    "\n",
    "kenpom_features = [\n",
    "#  'T1_Rk',\n",
    " 'T1_AdjEM',\n",
    " 'T1_AdjO',\n",
    " 'T1_AdjD',\n",
    " 'T1_AdjT',\n",
    " 'T1_Luck',\n",
    " 'T1_Strength of Schedule_AdjEM',\n",
    " 'T1_Strength of Schedule_OppO',\n",
    " 'T1_Strength of Schedule_OppD',\n",
    " 'T1_NCSOS_AdjEM',\n",
    "#  'T2_Rk',\n",
    " 'T2_AdjEM',\n",
    " 'T2_AdjO',\n",
    " 'T2_AdjD',\n",
    " 'T2_AdjT',\n",
    " 'T2_Luck',\n",
    " 'T2_Strength of Schedule_AdjEM',\n",
    " 'T2_Strength of Schedule_OppO',\n",
    " 'T2_Strength of Schedule_OppD',\n",
    " 'T2_NCSOS_AdjEM',\n",
    "]"
   ]
  },
  {
   "cell_type": "code",
   "execution_count": 8,
   "metadata": {
    "ExecuteTime": {
     "end_time": "2021-03-18T00:12:01.900814Z",
     "start_time": "2021-03-18T00:12:01.824984Z"
    }
   },
   "outputs": [],
   "source": [
    "def print_score(m):\n",
    "    res = {\n",
    "        \"train log loss\":log_loss(y_train, m.predict(X_train)), \n",
    "        \"val log loss\" : log_loss(y_val, m.predict(X_val)),\n",
    "        \"training r^2\" : m.score(X_train, y_train), \n",
    "        \"validation r^2\" : m.score(X_val, y_val)\n",
    "        }\n",
    "    if hasattr(m, 'oob_score_'): \n",
    "        res['oob score'] = m.oob_score_\n",
    "    for label, val in res.items(): \n",
    "        print(label + \": \", val)"
   ]
  },
  {
   "cell_type": "markdown",
   "metadata": {},
   "source": [
    "# Model Building Pipeline"
   ]
  },
  {
   "cell_type": "code",
   "execution_count": 9,
   "metadata": {
    "ExecuteTime": {
     "end_time": "2021-03-18T00:12:04.674618Z",
     "start_time": "2021-03-18T00:12:04.413448Z"
    },
    "scrolled": true
   },
   "outputs": [],
   "source": [
    "from sklearn.pipeline import Pipeline\n",
    "from sklearn.preprocessing import StandardScaler\n",
    "from sklearn.decomposition import PCA\n",
    "import seaborn as sns\n",
    "from sklearn.model_selection import LeaveOneGroupOut\n",
    "from sklearn import linear_model\n",
    "from sklearn.metrics import log_loss\n",
    "import matplotlib.pyplot as plt\n",
    "\n",
    "def reg_cv_train(\n",
    "    features, \n",
    "                estimator, \n",
    "                 mode='reg', \n",
    "                 plot=False, \n",
    "                 verbose=False,\n",
    "                 test_df=None,\n",
    "                 tourney_data=tourney_data\n",
    "                ):\n",
    "    preds_test=None\n",
    "    # get full dataset:\n",
    "    df = tourney_data.dropna(how='any').reset_index().copy()\n",
    "\n",
    "    # split X and y:\n",
    "    X = df[features]\n",
    "    y = np.where(df['T1_PointDiff'] > 0, 1, 0)\n",
    "\n",
    "    # use leave-one-group-out:\n",
    "    logo = LeaveOneGroupOut()\n",
    "    groups = df['Season']\n",
    "\n",
    "    cvs = []\n",
    "    \n",
    "    season_ix = list(set(groups))\n",
    "    season_ix.sort()\n",
    "\n",
    "    for i , (train_ix, val_ix) in enumerate(logo.split(X, y, groups)):\n",
    "        # split data:\n",
    "        X_train = X.iloc[train_ix]\n",
    "        y_train = y[train_ix]\n",
    "        X_val = X.iloc[val_ix]\n",
    "        y_val = y[val_ix]\n",
    "\n",
    "\n",
    "        # fit pipeline:\n",
    "        pipe = Pipeline([\n",
    "            ('scaler', StandardScaler()),\n",
    "            ('estimator', estimator)\n",
    "        ])\n",
    "\n",
    "        pipe.fit(X_train, y_train)\n",
    "\n",
    "        # predict values:\n",
    "        if mode == \"reg\":\n",
    "            pred = pipe.predict(X_val)\n",
    "            pred = np.clip(pred, 0, 1) # because regression\n",
    "            if test_df is not None:\n",
    "                preds_test = pipe.predict(test_df[features])\n",
    "                preds_test = np.clip(preds_test, 0, 1)\n",
    "        else:\n",
    "            pred = pipe.predict_proba(X_val)[:, 1]\n",
    "            if test_df is not None:\n",
    "                preds_test = pipe.predict_proba(test_df[features])[:, 1]\n",
    "        # plot:\n",
    "        if plot:\n",
    "            plt.figure(figsize=(15,6))\n",
    "            plt.subplot(1,2,1)\n",
    "            plt.scatter(pred, df.loc[val_ix, 'PointDiff'], s=5)\n",
    "            plt.subplot(1,2,2)\n",
    "            sns.histplot(pred)\n",
    "            plt.show()\n",
    "\n",
    "        # loss:\n",
    "        loss = log_loss(y_val, pred)\n",
    "        cvs.append(loss)\n",
    "\n",
    "        if verbose: print(f\"{season_ix[i]} Loss : {loss}\")\n",
    "    \n",
    "    plt.figure()\n",
    "    plt.plot(range(min(groups), min(groups) + len(set(groups))), cvs)\n",
    "    plt.xlabel(\"Year\")\n",
    "    plt.ylabel(\"Log Loss\")\n",
    "\n",
    "    print(f\"Local CV Loss : {np.mean(cvs):.3f}  -----  {estimator.__class__.__name__}\")\n",
    "    return np.mean(cvs), preds_test"
   ]
  },
  {
   "cell_type": "markdown",
   "metadata": {},
   "source": [
    "# Logistic Regression"
   ]
  },
  {
   "cell_type": "code",
   "execution_count": 10,
   "metadata": {
    "ExecuteTime": {
     "end_time": "2021-03-18T00:12:10.280374Z",
     "start_time": "2021-03-18T00:12:08.170449Z"
    },
    "scrolled": true
   },
   "outputs": [
    {
     "name": "stdout",
     "output_type": "stream",
     "text": [
      "2003 Loss : 0.4630641746663534\n",
      "2004 Loss : 0.44849707975975106\n"
     ]
    },
    {
     "name": "stderr",
     "output_type": "stream",
     "text": [
      "c:\\users\\matan\\github\\kaggle-march-madness-2021\\venv\\lib\\site-packages\\sklearn\\linear_model\\_logistic.py:765: ConvergenceWarning: lbfgs failed to converge (status=1):\n",
      "STOP: TOTAL NO. of ITERATIONS REACHED LIMIT.\n",
      "\n",
      "Increase the number of iterations (max_iter) or scale the data as shown in:\n",
      "    https://scikit-learn.org/stable/modules/preprocessing.html\n",
      "Please also refer to the documentation for alternative solver options:\n",
      "    https://scikit-learn.org/stable/modules/linear_model.html#logistic-regression\n",
      "  extra_warning_msg=_LOGISTIC_SOLVER_CONVERGENCE_MSG)\n"
     ]
    },
    {
     "name": "stdout",
     "output_type": "stream",
     "text": [
      "2005 Loss : 0.34332860829593603\n",
      "2006 Loss : 0.3974110133555204\n",
      "2007 Loss : 0.4129735498461494\n",
      "2008 Loss : 0.3380480615145452\n",
      "2009 Loss : 0.37626458278464686\n",
      "2010 Loss : 0.4302262199040111\n",
      "2011 Loss : 0.6479250717885154\n",
      "2012 Loss : 0.4556712447593269\n",
      "2013 Loss : 0.3695742087288778\n",
      "2014 Loss : 0.3909809634407182\n",
      "2015 Loss : 0.4772647747704335\n",
      "2016 Loss : 0.46316077918659715\n",
      "2017 Loss : 0.38657190728907903\n",
      "2018 Loss : 0.42162507010290434\n",
      "2019 Loss : 0.2799110085801475\n",
      "Local CV Loss : 0.418  -----  LogisticRegression\n",
      "Wall time: 1.93 s\n"
     ]
    },
    {
     "data": {
      "text/plain": [
       "(0.41779401875138317, None)"
      ]
     },
     "execution_count": 10,
     "metadata": {},
     "output_type": "execute_result"
    },
    {
     "data": {
      "image/png": "[encoded data removed]",
      "text/plain": [
       "<Figure size 432x288 with 1 Axes>"
      ]
     },
     "metadata": {
      "needs_background": "light"
     },
     "output_type": "display_data"
    }
   ],
   "source": [
    "%%time\n",
    "from sklearn.linear_model import LinearRegression, LogisticRegression\n",
    "\n",
    "# basic model:\n",
    "model = LogisticRegression(max_iter=200)\n",
    "\n",
    "reg_cv_train(\n",
    "        features=features_all, \n",
    "        estimator=model,\n",
    "        mode='cls', \n",
    "        plot=False, \n",
    "        verbose=True)"
   ]
  },
  {
   "cell_type": "code",
   "execution_count": 11,
   "metadata": {
    "ExecuteTime": {
     "end_time": "2021-03-18T00:12:13.214493Z",
     "start_time": "2021-03-18T00:12:11.260232Z"
    },
    "scrolled": true
   },
   "outputs": [
    {
     "name": "stdout",
     "output_type": "stream",
     "text": [
      "2003 Loss : 0.5870319107634772\n",
      "2004 Loss : 0.6154256291664867\n",
      "2005 Loss : 0.5128020424955245\n",
      "2006 Loss : 0.6068651150882121\n",
      "2007 Loss : 0.49889097166854685\n",
      "2008 Loss : 0.4807005020853071\n",
      "2009 Loss : 0.6154823952550024\n",
      "2010 Loss : 0.6352110886028872\n",
      "2011 Loss : 0.6535756990318132\n",
      "2012 Loss : 0.6138930026923797\n",
      "2013 Loss : 0.5800242542036015\n",
      "2014 Loss : 0.6067960724299931\n",
      "2015 Loss : 0.5724271442117443\n",
      "2016 Loss : 0.5996846138516116\n",
      "2017 Loss : 0.5624731347871711\n",
      "2018 Loss : 0.6565135298267926\n",
      "2019 Loss : 0.5349191121825976\n",
      "Local CV Loss : 0.584  -----  LogisticRegression\n"
     ]
    },
    {
     "data": {
      "text/plain": [
       "(0.5842774246084206, None)"
      ]
     },
     "execution_count": 11,
     "metadata": {},
     "output_type": "execute_result"
    },
    {
     "data": {
      "image/png": "[encoded data removed]",
      "text/plain": [
       "<Figure size 432x288 with 1 Axes>"
      ]
     },
     "metadata": {
      "needs_background": "light"
     },
     "output_type": "display_data"
    }
   ],
   "source": [
    "# basic model:\n",
    "model = LogisticRegression(max_iter=200)\n",
    "\n",
    "reg_cv_train(\n",
    "        features=boxscore_features, \n",
    "        estimator=model,\n",
    "        mode='cls', \n",
    "        plot=False, \n",
    "        verbose=True)"
   ]
  },
  {
   "cell_type": "code",
   "execution_count": 12,
   "metadata": {
    "ExecuteTime": {
     "end_time": "2021-03-18T00:12:13.776270Z",
     "start_time": "2021-03-18T00:12:13.214493Z"
    },
    "scrolled": true
   },
   "outputs": [
    {
     "name": "stdout",
     "output_type": "stream",
     "text": [
      "2003 Loss : 0.41576511264510485\n",
      "2004 Loss : 0.4516529228989616\n",
      "2005 Loss : 0.40655650123182907\n",
      "2006 Loss : 0.47459357820923015\n",
      "2007 Loss : 0.3596051963856328\n",
      "2008 Loss : 0.4252213808784183\n",
      "2009 Loss : 0.4046541905093657\n",
      "2010 Loss : 0.46590820935947064\n",
      "2011 Loss : 0.6042696382902006\n",
      "2012 Loss : 0.49529605330239873\n",
      "2013 Loss : 0.5009354598177387\n",
      "2014 Loss : 0.48023637634445354\n",
      "2015 Loss : 0.4636191686287932\n",
      "2016 Loss : 0.5025340899548981\n",
      "2017 Loss : 0.4102838081351097\n",
      "2018 Loss : 0.5139386855330439\n",
      "2019 Loss : 0.39376844241923725\n",
      "Local CV Loss : 0.457  -----  LogisticRegression\n"
     ]
    },
    {
     "data": {
      "text/plain": [
       "(0.45699051850258154, None)"
      ]
     },
     "execution_count": 12,
     "metadata": {},
     "output_type": "execute_result"
    },
    {
     "data": {
      "image/png": "[encoded data removed]",
      "text/plain": [
       "<Figure size 432x288 with 1 Axes>"
      ]
     },
     "metadata": {
      "needs_background": "light"
     },
     "output_type": "display_data"
    }
   ],
   "source": [
    "# basic model:\n",
    "model = LogisticRegression(max_iter=200)\n",
    "\n",
    "reg_cv_train(\n",
    "        features=kenpom_features, \n",
    "        estimator=model,\n",
    "        mode='cls', \n",
    "        plot=False, \n",
    "        verbose=True)"
   ]
  },
  {
   "cell_type": "markdown",
   "metadata": {},
   "source": [
    "# Test Set"
   ]
  },
  {
   "cell_type": "code",
   "execution_count": 13,
   "metadata": {
    "ExecuteTime": {
     "end_time": "2021-03-18T00:12:22.567702Z",
     "start_time": "2021-03-18T00:12:21.285998Z"
    }
   },
   "outputs": [],
   "source": [
    "from src.features import build_features\n",
    "\n",
    "test_data = pd.read_csv(\"../data/external/MSampleSubmissionStage2.csv\")\n",
    "test_data[['Season', 'T1_TeamID', 'T2_TeamID']] = test_data['ID'].str.split(\"_\",expand=True)\n",
    "for c in ['Season', 'T1_TeamID', 'T2_TeamID']:\n",
    "    test_data[c] = test_data[c].astype(int)\n",
    "    \n",
    "test_data = build_features.build_test_data(test_data)"
   ]
  },
  {
   "cell_type": "code",
   "execution_count": 14,
   "metadata": {
    "ExecuteTime": {
     "end_time": "2021-03-18T00:12:34.844756Z",
     "start_time": "2021-03-18T00:12:30.329116Z"
    }
   },
   "outputs": [
    {
     "name": "stdout",
     "output_type": "stream",
     "text": [
      "Local CV Loss : 0.418  -----  LogisticRegression\n",
      "Local CV Loss : 0.584  -----  LogisticRegression\n",
      "Local CV Loss : 0.457  -----  LogisticRegression\n"
     ]
    },
    {
     "data": {
      "image/png": "[encoded data removed]",
      "text/plain": [
       "<Figure size 432x288 with 1 Axes>"
      ]
     },
     "metadata": {
      "needs_background": "light"
     },
     "output_type": "display_data"
    },
    {
     "data": {
      "image/png": "[encoded data removed]",
      "text/plain": [
       "<Figure size 432x288 with 1 Axes>"
      ]
     },
     "metadata": {
      "needs_background": "light"
     },
     "output_type": "display_data"
    },
    {
     "data": {
      "image/png": "[encoded data removed]",
      "text/plain": [
       "<Figure size 432x288 with 1 Axes>"
      ]
     },
     "metadata": {
      "needs_background": "light"
     },
     "output_type": "display_data"
    }
   ],
   "source": [
    "cv_scores = []\n",
    "train_preds_all = []\n",
    "model = linear_model.LogisticRegression(max_iter=300)\n",
    "\n",
    "train_set = tourney_data.dropna(how='any').reset_index(drop=True).copy()\n",
    "\n",
    "for f_set in [features_all, boxscore_features, kenpom_features]:\n",
    "    scores, train_preds = reg_cv_train(\n",
    "            features=f_set, \n",
    "            estimator=model,\n",
    "            mode='cls', \n",
    "            plot=False, \n",
    "            verbose=False,\n",
    "            test_df=train_set\n",
    "    )\n",
    "    cv_scores.append(scores)\n",
    "    train_preds_all.append(train_preds)"
   ]
  },
  {
   "cell_type": "code",
   "execution_count": 15,
   "metadata": {
    "ExecuteTime": {
     "end_time": "2021-03-18T00:13:04.582427Z",
     "start_time": "2021-03-18T00:13:02.334382Z"
    },
    "scrolled": true
   },
   "outputs": [
    {
     "name": "stdout",
     "output_type": "stream",
     "text": [
      "2003 Loss : 0.6559333930106233\n",
      "2004 Loss : 0.666525862527203\n",
      "2005 Loss : 0.6249244562393552\n",
      "2006 Loss : 0.6365970519887543\n",
      "2007 Loss : 0.5874235956449255\n",
      "2008 Loss : 0.5845405626521313\n",
      "2009 Loss : 0.6356191612567132\n",
      "2010 Loss : 0.6533927039278392\n",
      "2011 Loss : 0.671106645183274\n",
      "2012 Loss : 0.6375530459385358\n",
      "2013 Loss : 0.6415290825285571\n",
      "2014 Loss : 0.6324397118914366\n",
      "2015 Loss : 0.6181173864498694\n",
      "2016 Loss : 0.6196927468036099\n",
      "2017 Loss : 0.6559298105615045\n",
      "2018 Loss : 0.6516370320612306\n",
      "2019 Loss : 0.6044362212974004\n",
      "Local CV Loss : 0.634  -----  LogisticRegression\n",
      "Wall time: 2.1 s\n"
     ]
    },
    {
     "data": {
      "image/png": "[encoded data removed]",
      "text/plain": [
       "<Figure size 432x288 with 1 Axes>"
      ]
     },
     "metadata": {
      "needs_background": "light"
     },
     "output_type": "display_data"
    }
   ],
   "source": [
    "%%time\n",
    "from sklearn.feature_selection import RFE\n",
    "\n",
    "model = LinearRegression()\n",
    "\n",
    "# get full dataset:\n",
    "df = tourney_data.dropna(how='any').reset_index(drop=True).copy()\n",
    "\n",
    "# split X and y:\n",
    "features_RFE = [f for f in features_all if f not in ['T1_seed', 'T2_seed']]\n",
    "X = df[features_RFE]\n",
    "y = np.where(df['T1_PointDiff'] > 0, 1, 0)\n",
    "\n",
    "selector = RFE(model, step=1, n_features_to_select=8)\n",
    "selector.fit(X, y)\n",
    "\n",
    "from itertools import compress\n",
    "features_RFE = list(compress(features_RFE, selector.support_))\n",
    "\n",
    "model = LogisticRegression(max_iter=300)\n",
    "\n",
    "rfe_scores, rfe_train_preds = reg_cv_train(\n",
    "        features=features_RFE, \n",
    "        estimator=model,\n",
    "        mode='cls', \n",
    "        plot=False, \n",
    "        verbose=True,\n",
    "        test_df=df\n",
    ")\n",
    "train_preds_all.append(rfe_train_preds)"
   ]
  },
  {
   "cell_type": "code",
   "execution_count": 16,
   "metadata": {
    "ExecuteTime": {
     "end_time": "2021-03-18T00:13:35.417356Z",
     "start_time": "2021-03-18T00:13:35.266168Z"
    }
   },
   "outputs": [],
   "source": [
    "train_preds = pd.DataFrame(train_preds_all, index=['All', 'Boxscore', 'KenPom', 'RFE']).T\n",
    "train_preds = train_preds.reset_index(drop=True)"
   ]
  },
  {
   "cell_type": "code",
   "execution_count": 17,
   "metadata": {
    "ExecuteTime": {
     "end_time": "2021-03-18T00:13:35.660355Z",
     "start_time": "2021-03-18T00:13:35.590536Z"
    }
   },
   "outputs": [
    {
     "data": {
      "text/html": [
       "<div>\n",
       "<style scoped>\n",
       "    .dataframe tbody tr th:only-of-type {\n",
       "        vertical-align: middle;\n",
       "    }\n",
       "\n",
       "    .dataframe tbody tr th {\n",
       "        vertical-align: top;\n",
       "    }\n",
       "\n",
       "    .dataframe thead th {\n",
       "        text-align: right;\n",
       "    }\n",
       "</style>\n",
       "<table border=\"1\" class=\"dataframe\">\n",
       "  <thead>\n",
       "    <tr style=\"text-align: right;\">\n",
       "      <th></th>\n",
       "      <th>All</th>\n",
       "      <th>Boxscore</th>\n",
       "      <th>KenPom</th>\n",
       "      <th>RFE</th>\n",
       "      <th>target</th>\n",
       "    </tr>\n",
       "  </thead>\n",
       "  <tbody>\n",
       "    <tr>\n",
       "      <th>0</th>\n",
       "      <td>0.922818</td>\n",
       "      <td>0.284001</td>\n",
       "      <td>0.734015</td>\n",
       "      <td>0.079168</td>\n",
       "      <td>1</td>\n",
       "    </tr>\n",
       "    <tr>\n",
       "      <th>1</th>\n",
       "      <td>0.077164</td>\n",
       "      <td>0.716017</td>\n",
       "      <td>0.265986</td>\n",
       "      <td>0.440574</td>\n",
       "      <td>0</td>\n",
       "    </tr>\n",
       "    <tr>\n",
       "      <th>2</th>\n",
       "      <td>0.001971</td>\n",
       "      <td>0.187645</td>\n",
       "      <td>0.009083</td>\n",
       "      <td>0.390533</td>\n",
       "      <td>0</td>\n",
       "    </tr>\n",
       "    <tr>\n",
       "      <th>3</th>\n",
       "      <td>0.998028</td>\n",
       "      <td>0.812357</td>\n",
       "      <td>0.990917</td>\n",
       "      <td>0.643402</td>\n",
       "      <td>1</td>\n",
       "    </tr>\n",
       "    <tr>\n",
       "      <th>4</th>\n",
       "      <td>0.654667</td>\n",
       "      <td>0.560878</td>\n",
       "      <td>0.465342</td>\n",
       "      <td>0.401820</td>\n",
       "      <td>1</td>\n",
       "    </tr>\n",
       "    <tr>\n",
       "      <th>...</th>\n",
       "      <td>...</td>\n",
       "      <td>...</td>\n",
       "      <td>...</td>\n",
       "      <td>...</td>\n",
       "      <td>...</td>\n",
       "    </tr>\n",
       "    <tr>\n",
       "      <th>2221</th>\n",
       "      <td>0.645681</td>\n",
       "      <td>0.748919</td>\n",
       "      <td>0.457897</td>\n",
       "      <td>0.645365</td>\n",
       "      <td>1</td>\n",
       "    </tr>\n",
       "    <tr>\n",
       "      <th>2222</th>\n",
       "      <td>0.163505</td>\n",
       "      <td>0.262971</td>\n",
       "      <td>0.135899</td>\n",
       "      <td>0.374033</td>\n",
       "      <td>0</td>\n",
       "    </tr>\n",
       "    <tr>\n",
       "      <th>2223</th>\n",
       "      <td>0.836522</td>\n",
       "      <td>0.737019</td>\n",
       "      <td>0.864101</td>\n",
       "      <td>0.824620</td>\n",
       "      <td>1</td>\n",
       "    </tr>\n",
       "    <tr>\n",
       "      <th>2224</th>\n",
       "      <td>0.727998</td>\n",
       "      <td>0.583037</td>\n",
       "      <td>0.725094</td>\n",
       "      <td>0.766123</td>\n",
       "      <td>1</td>\n",
       "    </tr>\n",
       "    <tr>\n",
       "      <th>2225</th>\n",
       "      <td>0.272034</td>\n",
       "      <td>0.416946</td>\n",
       "      <td>0.274905</td>\n",
       "      <td>0.494051</td>\n",
       "      <td>0</td>\n",
       "    </tr>\n",
       "  </tbody>\n",
       "</table>\n",
       "<p>2226 rows × 5 columns</p>\n",
       "</div>"
      ],
      "text/plain": [
       "           All  Boxscore    KenPom       RFE  target\n",
       "0     0.922818  0.284001  0.734015  0.079168       1\n",
       "1     0.077164  0.716017  0.265986  0.440574       0\n",
       "2     0.001971  0.187645  0.009083  0.390533       0\n",
       "3     0.998028  0.812357  0.990917  0.643402       1\n",
       "4     0.654667  0.560878  0.465342  0.401820       1\n",
       "...        ...       ...       ...       ...     ...\n",
       "2221  0.645681  0.748919  0.457897  0.645365       1\n",
       "2222  0.163505  0.262971  0.135899  0.374033       0\n",
       "2223  0.836522  0.737019  0.864101  0.824620       1\n",
       "2224  0.727998  0.583037  0.725094  0.766123       1\n",
       "2225  0.272034  0.416946  0.274905  0.494051       0\n",
       "\n",
       "[2226 rows x 5 columns]"
      ]
     },
     "execution_count": 17,
     "metadata": {},
     "output_type": "execute_result"
    }
   ],
   "source": [
    "train_preds['target'] = y\n",
    "train_preds"
   ]
  },
  {
   "cell_type": "code",
   "execution_count": 18,
   "metadata": {
    "ExecuteTime": {
     "end_time": "2021-03-18T00:13:44.653074Z",
     "start_time": "2021-03-18T00:13:44.571599Z"
    }
   },
   "outputs": [
    {
     "data": {
      "text/plain": [
       "0.45550554071784344"
      ]
     },
     "execution_count": 18,
     "metadata": {},
     "output_type": "execute_result"
    }
   ],
   "source": [
    "# ensemble:\n",
    "model_ensemble = linear_model.LogisticRegression()\n",
    "\n",
    "X = train_preds[['Boxscore', 'KenPom', 'RFE']]\n",
    "y = train_preds['target']\n",
    "\n",
    "model.fit(X, y)\n",
    "\n",
    "ensemble_preds = model.predict_proba(X)[:, 1]\n",
    "\n",
    "log_loss(y, ensemble_preds)"
   ]
  },
  {
   "cell_type": "markdown",
   "metadata": {},
   "source": [
    "# Final Model"
   ]
  },
  {
   "cell_type": "code",
   "execution_count": 115,
   "metadata": {
    "ExecuteTime": {
     "end_time": "2021-03-16T21:38:19.998845Z",
     "start_time": "2021-03-16T21:38:19.854639Z"
    }
   },
   "outputs": [
    {
     "data": {
      "text/html": [
       "<div>\n",
       "<style scoped>\n",
       "    .dataframe tbody tr th:only-of-type {\n",
       "        vertical-align: middle;\n",
       "    }\n",
       "\n",
       "    .dataframe tbody tr th {\n",
       "        vertical-align: top;\n",
       "    }\n",
       "\n",
       "    .dataframe thead th {\n",
       "        text-align: right;\n",
       "    }\n",
       "</style>\n",
       "<table border=\"1\" class=\"dataframe\">\n",
       "  <thead>\n",
       "    <tr style=\"text-align: right;\">\n",
       "      <th></th>\n",
       "      <th>ID</th>\n",
       "      <th>Pred</th>\n",
       "      <th>Season</th>\n",
       "      <th>T1_TeamID</th>\n",
       "      <th>T2_TeamID</th>\n",
       "      <th>T1_FGMmean</th>\n",
       "      <th>T1_FGAmean</th>\n",
       "      <th>T1_FGM3mean</th>\n",
       "      <th>T1_FGA3mean</th>\n",
       "      <th>T1_FTMmean</th>\n",
       "      <th>...</th>\n",
       "      <th>T2_AdjD</th>\n",
       "      <th>T2_AdjT</th>\n",
       "      <th>T2_Luck</th>\n",
       "      <th>T2_Strength of Schedule_AdjEM</th>\n",
       "      <th>T2_Strength of Schedule_OppO</th>\n",
       "      <th>T2_Strength of Schedule_OppD</th>\n",
       "      <th>T2_NCSOS_AdjEM</th>\n",
       "      <th>T1_seed</th>\n",
       "      <th>T2_seed</th>\n",
       "      <th>SeedDiff</th>\n",
       "    </tr>\n",
       "  </thead>\n",
       "  <tbody>\n",
       "    <tr>\n",
       "      <th>0</th>\n",
       "      <td>2021_1101_1104</td>\n",
       "      <td>0.5</td>\n",
       "      <td>2021</td>\n",
       "      <td>1101</td>\n",
       "      <td>1104</td>\n",
       "      <td>27.173913</td>\n",
       "      <td>59.043478</td>\n",
       "      <td>8.130435</td>\n",
       "      <td>21.565217</td>\n",
       "      <td>13.826087</td>\n",
       "      <td>...</td>\n",
       "      <td>86.0</td>\n",
       "      <td>73.9</td>\n",
       "      <td>0.031</td>\n",
       "      <td>14.20</td>\n",
       "      <td>109.7</td>\n",
       "      <td>95.5</td>\n",
       "      <td>8.88</td>\n",
       "      <td>14</td>\n",
       "      <td>2</td>\n",
       "      <td>12</td>\n",
       "    </tr>\n",
       "    <tr>\n",
       "      <th>1</th>\n",
       "      <td>2021_1101_1111</td>\n",
       "      <td>0.5</td>\n",
       "      <td>2021</td>\n",
       "      <td>1101</td>\n",
       "      <td>1111</td>\n",
       "      <td>27.173913</td>\n",
       "      <td>59.043478</td>\n",
       "      <td>8.130435</td>\n",
       "      <td>21.565217</td>\n",
       "      <td>13.826087</td>\n",
       "      <td>...</td>\n",
       "      <td>103.0</td>\n",
       "      <td>65.7</td>\n",
       "      <td>0.060</td>\n",
       "      <td>-2.97</td>\n",
       "      <td>100.1</td>\n",
       "      <td>103.1</td>\n",
       "      <td>5.72</td>\n",
       "      <td>14</td>\n",
       "      <td>16</td>\n",
       "      <td>-2</td>\n",
       "    </tr>\n",
       "    <tr>\n",
       "      <th>2</th>\n",
       "      <td>2021_1101_1116</td>\n",
       "      <td>0.5</td>\n",
       "      <td>2021</td>\n",
       "      <td>1101</td>\n",
       "      <td>1116</td>\n",
       "      <td>27.173913</td>\n",
       "      <td>59.043478</td>\n",
       "      <td>8.130435</td>\n",
       "      <td>21.565217</td>\n",
       "      <td>13.826087</td>\n",
       "      <td>...</td>\n",
       "      <td>89.2</td>\n",
       "      <td>73.1</td>\n",
       "      <td>0.056</td>\n",
       "      <td>11.19</td>\n",
       "      <td>108.2</td>\n",
       "      <td>97.0</td>\n",
       "      <td>-5.28</td>\n",
       "      <td>14</td>\n",
       "      <td>3</td>\n",
       "      <td>11</td>\n",
       "    </tr>\n",
       "    <tr>\n",
       "      <th>3</th>\n",
       "      <td>2021_1101_1124</td>\n",
       "      <td>0.5</td>\n",
       "      <td>2021</td>\n",
       "      <td>1101</td>\n",
       "      <td>1124</td>\n",
       "      <td>27.173913</td>\n",
       "      <td>59.043478</td>\n",
       "      <td>8.130435</td>\n",
       "      <td>21.565217</td>\n",
       "      <td>13.826087</td>\n",
       "      <td>...</td>\n",
       "      <td>93.0</td>\n",
       "      <td>68.4</td>\n",
       "      <td>0.050</td>\n",
       "      <td>9.57</td>\n",
       "      <td>106.4</td>\n",
       "      <td>96.9</td>\n",
       "      <td>-4.18</td>\n",
       "      <td>14</td>\n",
       "      <td>1</td>\n",
       "      <td>13</td>\n",
       "    </tr>\n",
       "    <tr>\n",
       "      <th>4</th>\n",
       "      <td>2021_1101_1140</td>\n",
       "      <td>0.5</td>\n",
       "      <td>2021</td>\n",
       "      <td>1101</td>\n",
       "      <td>1140</td>\n",
       "      <td>27.173913</td>\n",
       "      <td>59.043478</td>\n",
       "      <td>8.130435</td>\n",
       "      <td>21.565217</td>\n",
       "      <td>13.826087</td>\n",
       "      <td>...</td>\n",
       "      <td>91.4</td>\n",
       "      <td>68.0</td>\n",
       "      <td>0.045</td>\n",
       "      <td>10.28</td>\n",
       "      <td>107.8</td>\n",
       "      <td>97.5</td>\n",
       "      <td>8.69</td>\n",
       "      <td>14</td>\n",
       "      <td>6</td>\n",
       "      <td>8</td>\n",
       "    </tr>\n",
       "    <tr>\n",
       "      <th>...</th>\n",
       "      <td>...</td>\n",
       "      <td>...</td>\n",
       "      <td>...</td>\n",
       "      <td>...</td>\n",
       "      <td>...</td>\n",
       "      <td>...</td>\n",
       "      <td>...</td>\n",
       "      <td>...</td>\n",
       "      <td>...</td>\n",
       "      <td>...</td>\n",
       "      <td>...</td>\n",
       "      <td>...</td>\n",
       "      <td>...</td>\n",
       "      <td>...</td>\n",
       "      <td>...</td>\n",
       "      <td>...</td>\n",
       "      <td>...</td>\n",
       "      <td>...</td>\n",
       "      <td>...</td>\n",
       "      <td>...</td>\n",
       "      <td>...</td>\n",
       "    </tr>\n",
       "    <tr>\n",
       "      <th>2273</th>\n",
       "      <td>2021_1452_1457</td>\n",
       "      <td>0.5</td>\n",
       "      <td>2021</td>\n",
       "      <td>1452</td>\n",
       "      <td>1457</td>\n",
       "      <td>26.333333</td>\n",
       "      <td>61.481481</td>\n",
       "      <td>7.259259</td>\n",
       "      <td>20.333333</td>\n",
       "      <td>17.370370</td>\n",
       "      <td>...</td>\n",
       "      <td>95.4</td>\n",
       "      <td>73.6</td>\n",
       "      <td>0.032</td>\n",
       "      <td>-6.45</td>\n",
       "      <td>98.8</td>\n",
       "      <td>105.3</td>\n",
       "      <td>3.95</td>\n",
       "      <td>3</td>\n",
       "      <td>12</td>\n",
       "      <td>-9</td>\n",
       "    </tr>\n",
       "    <tr>\n",
       "      <th>2274</th>\n",
       "      <td>2021_1452_1458</td>\n",
       "      <td>0.5</td>\n",
       "      <td>2021</td>\n",
       "      <td>1452</td>\n",
       "      <td>1458</td>\n",
       "      <td>26.333333</td>\n",
       "      <td>61.481481</td>\n",
       "      <td>7.259259</td>\n",
       "      <td>20.333333</td>\n",
       "      <td>17.370370</td>\n",
       "      <td>...</td>\n",
       "      <td>89.1</td>\n",
       "      <td>64.9</td>\n",
       "      <td>-0.049</td>\n",
       "      <td>18.06</td>\n",
       "      <td>111.7</td>\n",
       "      <td>93.7</td>\n",
       "      <td>1.22</td>\n",
       "      <td>3</td>\n",
       "      <td>9</td>\n",
       "      <td>-6</td>\n",
       "    </tr>\n",
       "    <tr>\n",
       "      <th>2275</th>\n",
       "      <td>2021_1455_1457</td>\n",
       "      <td>0.5</td>\n",
       "      <td>2021</td>\n",
       "      <td>1455</td>\n",
       "      <td>1457</td>\n",
       "      <td>23.894737</td>\n",
       "      <td>59.000000</td>\n",
       "      <td>8.368421</td>\n",
       "      <td>24.263158</td>\n",
       "      <td>15.736842</td>\n",
       "      <td>...</td>\n",
       "      <td>95.4</td>\n",
       "      <td>73.6</td>\n",
       "      <td>0.032</td>\n",
       "      <td>-6.45</td>\n",
       "      <td>98.8</td>\n",
       "      <td>105.3</td>\n",
       "      <td>3.95</td>\n",
       "      <td>11</td>\n",
       "      <td>12</td>\n",
       "      <td>-1</td>\n",
       "    </tr>\n",
       "    <tr>\n",
       "      <th>2276</th>\n",
       "      <td>2021_1455_1458</td>\n",
       "      <td>0.5</td>\n",
       "      <td>2021</td>\n",
       "      <td>1455</td>\n",
       "      <td>1458</td>\n",
       "      <td>23.894737</td>\n",
       "      <td>59.000000</td>\n",
       "      <td>8.368421</td>\n",
       "      <td>24.263158</td>\n",
       "      <td>15.736842</td>\n",
       "      <td>...</td>\n",
       "      <td>89.1</td>\n",
       "      <td>64.9</td>\n",
       "      <td>-0.049</td>\n",
       "      <td>18.06</td>\n",
       "      <td>111.7</td>\n",
       "      <td>93.7</td>\n",
       "      <td>1.22</td>\n",
       "      <td>11</td>\n",
       "      <td>9</td>\n",
       "      <td>2</td>\n",
       "    </tr>\n",
       "    <tr>\n",
       "      <th>2277</th>\n",
       "      <td>2021_1457_1458</td>\n",
       "      <td>0.5</td>\n",
       "      <td>2021</td>\n",
       "      <td>1457</td>\n",
       "      <td>1458</td>\n",
       "      <td>28.083333</td>\n",
       "      <td>60.958333</td>\n",
       "      <td>8.458333</td>\n",
       "      <td>23.958333</td>\n",
       "      <td>14.916667</td>\n",
       "      <td>...</td>\n",
       "      <td>89.1</td>\n",
       "      <td>64.9</td>\n",
       "      <td>-0.049</td>\n",
       "      <td>18.06</td>\n",
       "      <td>111.7</td>\n",
       "      <td>93.7</td>\n",
       "      <td>1.22</td>\n",
       "      <td>12</td>\n",
       "      <td>9</td>\n",
       "      <td>3</td>\n",
       "    </tr>\n",
       "  </tbody>\n",
       "</table>\n",
       "<p>2278 rows × 134 columns</p>\n",
       "</div>"
      ],
      "text/plain": [
       "                  ID  Pred  Season  T1_TeamID  T2_TeamID  T1_FGMmean  \\\n",
       "0     2021_1101_1104   0.5    2021       1101       1104   27.173913   \n",
       "1     2021_1101_1111   0.5    2021       1101       1111   27.173913   \n",
       "2     2021_1101_1116   0.5    2021       1101       1116   27.173913   \n",
       "3     2021_1101_1124   0.5    2021       1101       1124   27.173913   \n",
       "4     2021_1101_1140   0.5    2021       1101       1140   27.173913   \n",
       "...              ...   ...     ...        ...        ...         ...   \n",
       "2273  2021_1452_1457   0.5    2021       1452       1457   26.333333   \n",
       "2274  2021_1452_1458   0.5    2021       1452       1458   26.333333   \n",
       "2275  2021_1455_1457   0.5    2021       1455       1457   23.894737   \n",
       "2276  2021_1455_1458   0.5    2021       1455       1458   23.894737   \n",
       "2277  2021_1457_1458   0.5    2021       1457       1458   28.083333   \n",
       "\n",
       "      T1_FGAmean  T1_FGM3mean  T1_FGA3mean  T1_FTMmean  ...  T2_AdjD  T2_AdjT  \\\n",
       "0      59.043478     8.130435    21.565217   13.826087  ...     86.0     73.9   \n",
       "1      59.043478     8.130435    21.565217   13.826087  ...    103.0     65.7   \n",
       "2      59.043478     8.130435    21.565217   13.826087  ...     89.2     73.1   \n",
       "3      59.043478     8.130435    21.565217   13.826087  ...     93.0     68.4   \n",
       "4      59.043478     8.130435    21.565217   13.826087  ...     91.4     68.0   \n",
       "...          ...          ...          ...         ...  ...      ...      ...   \n",
       "2273   61.481481     7.259259    20.333333   17.370370  ...     95.4     73.6   \n",
       "2274   61.481481     7.259259    20.333333   17.370370  ...     89.1     64.9   \n",
       "2275   59.000000     8.368421    24.263158   15.736842  ...     95.4     73.6   \n",
       "2276   59.000000     8.368421    24.263158   15.736842  ...     89.1     64.9   \n",
       "2277   60.958333     8.458333    23.958333   14.916667  ...     89.1     64.9   \n",
       "\n",
       "      T2_Luck  T2_Strength of Schedule_AdjEM  T2_Strength of Schedule_OppO  \\\n",
       "0       0.031                          14.20                         109.7   \n",
       "1       0.060                          -2.97                         100.1   \n",
       "2       0.056                          11.19                         108.2   \n",
       "3       0.050                           9.57                         106.4   \n",
       "4       0.045                          10.28                         107.8   \n",
       "...       ...                            ...                           ...   \n",
       "2273    0.032                          -6.45                          98.8   \n",
       "2274   -0.049                          18.06                         111.7   \n",
       "2275    0.032                          -6.45                          98.8   \n",
       "2276   -0.049                          18.06                         111.7   \n",
       "2277   -0.049                          18.06                         111.7   \n",
       "\n",
       "      T2_Strength of Schedule_OppD  T2_NCSOS_AdjEM  T1_seed  T2_seed  SeedDiff  \n",
       "0                             95.5            8.88       14        2        12  \n",
       "1                            103.1            5.72       14       16        -2  \n",
       "2                             97.0           -5.28       14        3        11  \n",
       "3                             96.9           -4.18       14        1        13  \n",
       "4                             97.5            8.69       14        6         8  \n",
       "...                            ...             ...      ...      ...       ...  \n",
       "2273                         105.3            3.95        3       12        -9  \n",
       "2274                          93.7            1.22        3        9        -6  \n",
       "2275                         105.3            3.95       11       12        -1  \n",
       "2276                          93.7            1.22       11        9         2  \n",
       "2277                          93.7            1.22       12        9         3  \n",
       "\n",
       "[2278 rows x 134 columns]"
      ]
     },
     "execution_count": 115,
     "metadata": {},
     "output_type": "execute_result"
    }
   ],
   "source": [
    "test_data"
   ]
  },
  {
   "cell_type": "code",
   "execution_count": 54,
   "metadata": {
    "ExecuteTime": {
     "end_time": "2021-03-18T00:36:54.058740Z",
     "start_time": "2021-03-18T00:36:53.549754Z"
    }
   },
   "outputs": [
    {
     "name": "stdout",
     "output_type": "stream",
     "text": [
      "Final Log Loss : 0.4552497098046966\n"
     ]
    }
   ],
   "source": [
    "# get full dataset:\n",
    "train_set = tourney_data.dropna(how='any').reset_index(drop=True).copy()\n",
    "scaler = StandardScaler()\n",
    "\n",
    "y = np.where(train_set['T1_PointDiff'] > 0, 1, 0)\n",
    "\n",
    "scaler.fit(train_set)\n",
    "train_set_scaled = pd.DataFrame(scaler.fit_transform(train_set[features_all]), columns=features_all)\n",
    "\n",
    "# boxscore model:\n",
    "bs_model = LogisticRegression(max_iter=300)\n",
    "bs_model.fit(train_set_scaled[boxscore_features], y)\n",
    "bs_preds = bs_model.predict_proba(train_set_scaled[boxscore_features])[:, 1]\n",
    "\n",
    "# kenpom model:\n",
    "kp_model = LogisticRegression(max_iter=300)\n",
    "kp_model.fit(train_set_scaled[kenpom_features], y)\n",
    "kp_preds = kp_model.predict_proba(train_set_scaled[kenpom_features])[:, 1]\n",
    "\n",
    "\n",
    "# RFE model:\n",
    "rfe_model = LogisticRegression(max_iter=300)\n",
    "rfe_model.fit(train_set_scaled[features_RFE], y)\n",
    "rfe_preds = rfe_model.predict_proba(train_set_scaled[features_RFE])[:, 1]\n",
    "\n",
    "# all features model\n",
    "all_model = LogisticRegression(max_iter=300)\n",
    "all_model.fit(train_set_scaled[features_all], y)\n",
    "\n",
    "# preds:\n",
    "preds = pd.DataFrame([\n",
    "    bs_model.predict_proba(train_set_scaled[boxscore_features])[:, 1],\n",
    "    kp_model.predict_proba(train_set_scaled[kenpom_features])[:, 1],\n",
    "    rfe_model.predict_proba(train_set_scaled[features_RFE])[:, 1]\n",
    "])\n",
    "\n",
    "# ensemble model:\n",
    "ens_model = LogisticRegression(max_iter=300)\n",
    "ens_model.fit(preds.T, y)\n",
    "ens_preds = ens_model.predict_proba(preds.T)[:, 1]\n",
    "\n",
    "# final log_loss:\n",
    "print(f\"Final Log Loss : {log_loss(y, ens_model.predict_proba(preds.T)[:, 1])}\")\n",
    "\n",
    "test_data_scaled = pd.DataFrame(scaler.transform(test_data[features_all]),  columns=features_all)\n",
    "final_preds_1 = pd.DataFrame([\n",
    "    bs_model.predict_proba(test_data_scaled[boxscore_features])[:, 1],\n",
    "    kp_model.predict_proba(test_data_scaled[kenpom_features])[:, 1],\n",
    "    rfe_model.predict_proba(test_data_scaled[features_RFE])[:, 1]\n",
    "], index=['boxscore', 'kenpom', 'rfe'])\n",
    "final_preds_1 = final_preds_1.T\n",
    "final_preds_2 = ens_model.predict_proba(final_preds_1)[:, 1]\n",
    "\n",
    "all_model_final_preds = all_model.predict_proba(test_data_scaled[features_all])[:, 1]"
   ]
  },
  {
   "cell_type": "code",
   "execution_count": 58,
   "metadata": {
    "ExecuteTime": {
     "end_time": "2021-03-18T00:45:03.995020Z",
     "start_time": "2021-03-18T00:45:03.877248Z"
    }
   },
   "outputs": [],
   "source": [
    "for c in final_preds_1.columns:\n",
    "    test_data[f\"preds_{c}\"] = final_preds_1[c]\n",
    "    sub = test_data[['ID', f\"preds_{c}\"]]\n",
    "    sub.columns = ['ID', 'Pred']\n",
    "    sub.to_csv(f'../models/{c}.csv', index=False)\n",
    "    \n",
    "test_data[f\"all_feats_preds\"] = all_model_final_preds\n",
    "sub_ = test_data[['ID', 'all_feats_preds']]\n",
    "sub_.columns = ['ID', 'Pred']\n",
    "sub_.to_csv(\"../models/all_feats.csv\", index=False)"
   ]
  },
  {
   "cell_type": "code",
   "execution_count": 57,
   "metadata": {
    "ExecuteTime": {
     "end_time": "2021-03-18T00:38:15.512085Z",
     "start_time": "2021-03-18T00:38:15.352466Z"
    }
   },
   "outputs": [
    {
     "data": {
      "image/png": "[encoded data removed]",
      "text/plain": [
       "<Figure size 432x288 with 1 Axes>"
      ]
     },
     "metadata": {
      "needs_background": "light"
     },
     "output_type": "display_data"
    }
   ],
   "source": [
    "plt.hist(all_model_final_preds);"
   ]
  },
  {
   "cell_type": "code",
   "execution_count": 35,
   "metadata": {
    "ExecuteTime": {
     "end_time": "2021-03-18T00:21:23.180528Z",
     "start_time": "2021-03-18T00:21:23.018424Z"
    },
    "scrolled": true
   },
   "outputs": [
    {
     "data": {
      "image/png": "[encoded data removed]",
      "text/plain": [
       "<Figure size 432x288 with 1 Axes>"
      ]
     },
     "metadata": {
      "needs_background": "light"
     },
     "output_type": "display_data"
    }
   ],
   "source": [
    "plt.hist(bs_preds);"
   ]
  },
  {
   "cell_type": "code",
   "execution_count": 36,
   "metadata": {
    "ExecuteTime": {
     "end_time": "2021-03-18T00:21:23.779485Z",
     "start_time": "2021-03-18T00:21:23.633820Z"
    }
   },
   "outputs": [
    {
     "data": {
      "image/png": "[encoded data removed]",
      "text/plain": [
       "<Figure size 432x288 with 1 Axes>"
      ]
     },
     "metadata": {
      "needs_background": "light"
     },
     "output_type": "display_data"
    }
   ],
   "source": [
    "plt.hist(kp_preds);"
   ]
  },
  {
   "cell_type": "code",
   "execution_count": 37,
   "metadata": {
    "ExecuteTime": {
     "end_time": "2021-03-18T00:21:25.698885Z",
     "start_time": "2021-03-18T00:21:25.549404Z"
    }
   },
   "outputs": [
    {
     "data": {
      "image/png": "[encoded data removed]",
      "text/plain": [
       "<Figure size 432x288 with 1 Axes>"
      ]
     },
     "metadata": {
      "needs_background": "light"
     },
     "output_type": "display_data"
    }
   ],
   "source": [
    "plt.hist(rfe_preds);"
   ]
  },
  {
   "cell_type": "code",
   "execution_count": 38,
   "metadata": {
    "ExecuteTime": {
     "end_time": "2021-03-18T00:21:52.689630Z",
     "start_time": "2021-03-18T00:21:52.547155Z"
    }
   },
   "outputs": [
    {
     "data": {
      "image/png": "[encoded data removed]",
      "text/plain": [
       "<Figure size 432x288 with 1 Axes>"
      ]
     },
     "metadata": {
      "needs_background": "light"
     },
     "output_type": "display_data"
    }
   ],
   "source": [
    "plt.hist(ens_preds);"
   ]
  },
  {
   "cell_type": "code",
   "execution_count": 39,
   "metadata": {
    "ExecuteTime": {
     "end_time": "2021-03-18T00:21:53.127179Z",
     "start_time": "2021-03-18T00:21:52.965307Z"
    }
   },
   "outputs": [
    {
     "data": {
      "image/png": "[encoded data removed]",
      "text/plain": [
       "<Figure size 432x288 with 1 Axes>"
      ]
     },
     "metadata": {
      "needs_background": "light"
     },
     "output_type": "display_data"
    }
   ],
   "source": [
    "plt.hist(final_preds);"
   ]
  },
  {
   "cell_type": "code",
   "execution_count": 40,
   "metadata": {
    "ExecuteTime": {
     "end_time": "2021-03-18T00:22:01.476262Z",
     "start_time": "2021-03-18T00:22:01.405392Z"
    }
   },
   "outputs": [],
   "source": [
    "train_set['ens_preds'] = ens_preds"
   ]
  },
  {
   "cell_type": "code",
   "execution_count": 42,
   "metadata": {
    "ExecuteTime": {
     "end_time": "2021-03-18T00:22:18.828873Z",
     "start_time": "2021-03-18T00:22:18.628146Z"
    }
   },
   "outputs": [
    {
     "name": "stdout",
     "output_type": "stream",
     "text": [
      "2003 Loss : 0.45822008741675757\n",
      "2004 Loss : 0.45421849475634474\n",
      "2005 Loss : 0.45805115940971464\n",
      "2006 Loss : 0.4535731745642965\n",
      "2007 Loss : 0.46191380804371013\n",
      "2008 Loss : 0.4570451091482002\n",
      "2009 Loss : 0.45740924568356206\n",
      "2010 Loss : 0.4551766004410845\n",
      "2011 Loss : 0.4456042073363778\n",
      "2012 Loss : 0.45401894241506574\n",
      "2013 Loss : 0.4534771267977293\n",
      "2014 Loss : 0.45299300815583915\n",
      "2015 Loss : 0.45530131376740685\n",
      "2016 Loss : 0.4532671577165647\n",
      "2017 Loss : 0.45741412327712727\n",
      "2018 Loss : 0.4526047533783779\n",
      "2019 Loss : 0.45891718015081123\n",
      "Local CV Loss : 0.455  ---- Ensemble\n"
     ]
    },
    {
     "data": {
      "image/png": "[encoded data removed]",
      "text/plain": [
       "<Figure size 432x288 with 1 Axes>"
      ]
     },
     "metadata": {
      "needs_background": "light"
     },
     "output_type": "display_data"
    }
   ],
   "source": [
    "df = train_set.copy()\n",
    "\n",
    "# split X and y:\n",
    "X = df.copy()\n",
    "y = np.where(df['T1_PointDiff'] > 0, 1, 0)\n",
    "\n",
    "# use leave-one-group-out:\n",
    "logo = LeaveOneGroupOut()\n",
    "groups = df['Season']\n",
    "\n",
    "cvs = []\n",
    "\n",
    "season_ix = list(set(groups))\n",
    "season_ix.sort()\n",
    "\n",
    "for i , (train_ix, val_ix) in enumerate(logo.split(X, y, groups)):\n",
    "    pred = df.loc[train_ix, 'ens_preds']\n",
    "    y_val = y[train_ix]\n",
    "\n",
    "    # loss:\n",
    "    loss = log_loss(y_val, pred)\n",
    "    cvs.append(loss)\n",
    "\n",
    "    print(f\"{season_ix[i]} Loss : {loss}\")\n",
    "\n",
    "plt.figure()\n",
    "plt.plot(range(min(groups), min(groups) + len(set(groups))), cvs)\n",
    "plt.xlabel(\"Year\")\n",
    "plt.ylabel(\"Log Loss\")\n",
    "\n",
    "print(f\"Local CV Loss : {np.mean(cvs):.3f}  ---- Ensemble\")\n"
   ]
  },
  {
   "cell_type": "code",
   "execution_count": 43,
   "metadata": {
    "ExecuteTime": {
     "end_time": "2021-03-18T00:22:29.169128Z",
     "start_time": "2021-03-18T00:22:29.087951Z"
    }
   },
   "outputs": [],
   "source": [
    "# save predictions\n",
    "test_data['Pred'] = final_preds\n",
    "\n",
    "submission = test_data[['ID', 'Pred']]\n",
    "submission.to_csv('../models/logistic_ensemble_2.csv', index=False)"
   ]
  },
  {
   "cell_type": "code",
   "execution_count": null,
   "metadata": {},
   "outputs": [],
   "source": []
  },
  {
   "cell_type": "code",
   "execution_count": null,
   "metadata": {},
   "outputs": [],
   "source": []
  }
 ],
 "metadata": {
  "kernelspec": {
   "display_name": "Python 3",
   "language": "python",
   "name": "python3"
  },
  "language_info": {
   "codemirror_mode": {
    "name": "ipython",
    "version": 3
   },
   "file_extension": ".py",
   "mimetype": "text/x-python",
   "name": "python",
   "nbconvert_exporter": "python",
   "pygments_lexer": "ipython3",
   "version": "3.7.0"
  },
  "toc": {
   "base_numbering": 1,
   "nav_menu": {},
   "number_sections": true,
   "sideBar": true,
   "skip_h1_title": false,
   "title_cell": "Table of Contents",
   "title_sidebar": "Contents",
   "toc_cell": false,
   "toc_position": {},
   "toc_section_display": true,
   "toc_window_display": false
  }
 },
 "nbformat": 4,
 "nbformat_minor": 4
}
