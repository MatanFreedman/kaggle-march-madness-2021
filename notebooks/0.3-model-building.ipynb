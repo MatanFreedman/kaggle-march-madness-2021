{
 "cells": [
  {
   "cell_type": "code",
   "execution_count": 1,
   "metadata": {},
   "outputs": [],
   "source": [
    "# OPTIONAL: Load the \"autoreload\" extension so that code can change\n",
    "%load_ext autoreload\n",
    "\n",
    "# OPTIONAL: always reload modules so that as you change code in src, it gets loaded\n",
    "%autoreload 2"
   ]
  },
  {
   "cell_type": "code",
   "execution_count": 2,
   "metadata": {},
   "outputs": [],
   "source": [
    "import pandas as pd\n",
    "import numpy as np\n",
    "\n",
    "from pathlib import Path"
   ]
  },
  {
   "cell_type": "markdown",
   "metadata": {},
   "source": [
    "# Load Data"
   ]
  },
  {
   "cell_type": "code",
   "execution_count": 3,
   "metadata": {},
   "outputs": [],
   "source": [
    "tourney_data = pd.read_csv(\"../data/processed/tourney_data.csv\")"
   ]
  },
  {
   "cell_type": "code",
   "execution_count": 4,
   "metadata": {},
   "outputs": [
    {
     "data": {
      "text/html": [
       "<div>\n",
       "<style scoped>\n",
       "    .dataframe tbody tr th:only-of-type {\n",
       "        vertical-align: middle;\n",
       "    }\n",
       "\n",
       "    .dataframe tbody tr th {\n",
       "        vertical-align: top;\n",
       "    }\n",
       "\n",
       "    .dataframe thead th {\n",
       "        text-align: right;\n",
       "    }\n",
       "</style>\n",
       "<table border=\"1\" class=\"dataframe\">\n",
       "  <thead>\n",
       "    <tr style=\"text-align: right;\">\n",
       "      <th></th>\n",
       "      <th>Season</th>\n",
       "      <th>DayNum</th>\n",
       "      <th>T1_TeamID</th>\n",
       "      <th>T1_Score</th>\n",
       "      <th>T2_TeamID</th>\n",
       "      <th>T2_Score</th>\n",
       "      <th>location</th>\n",
       "      <th>NumOT</th>\n",
       "      <th>T1_FGM</th>\n",
       "      <th>T1_FGA</th>\n",
       "      <th>...</th>\n",
       "      <th>T2_AdjD</th>\n",
       "      <th>T2_AdjT</th>\n",
       "      <th>T2_Luck</th>\n",
       "      <th>T2_Strength of Schedule_AdjEM</th>\n",
       "      <th>T2_Strength of Schedule_OppO</th>\n",
       "      <th>T2_Strength of Schedule_OppD</th>\n",
       "      <th>T2_NCSOS_AdjEM</th>\n",
       "      <th>T1_seed</th>\n",
       "      <th>T2_seed</th>\n",
       "      <th>SeedDiff</th>\n",
       "    </tr>\n",
       "  </thead>\n",
       "  <tbody>\n",
       "    <tr>\n",
       "      <th>0</th>\n",
       "      <td>2003</td>\n",
       "      <td>134</td>\n",
       "      <td>1421</td>\n",
       "      <td>92</td>\n",
       "      <td>1411</td>\n",
       "      <td>84</td>\n",
       "      <td>0</td>\n",
       "      <td>1</td>\n",
       "      <td>32</td>\n",
       "      <td>69</td>\n",
       "      <td>...</td>\n",
       "      <td>108.7</td>\n",
       "      <td>68.4</td>\n",
       "      <td>0.037</td>\n",
       "      <td>-12.96</td>\n",
       "      <td>94.4</td>\n",
       "      <td>107.4</td>\n",
       "      <td>-8.09</td>\n",
       "      <td>16</td>\n",
       "      <td>16</td>\n",
       "      <td>0</td>\n",
       "    </tr>\n",
       "    <tr>\n",
       "      <th>1</th>\n",
       "      <td>2003</td>\n",
       "      <td>134</td>\n",
       "      <td>1411</td>\n",
       "      <td>84</td>\n",
       "      <td>1421</td>\n",
       "      <td>92</td>\n",
       "      <td>0</td>\n",
       "      <td>1</td>\n",
       "      <td>29</td>\n",
       "      <td>67</td>\n",
       "      <td>...</td>\n",
       "      <td>113.5</td>\n",
       "      <td>68.0</td>\n",
       "      <td>0.119</td>\n",
       "      <td>-6.45</td>\n",
       "      <td>98.3</td>\n",
       "      <td>104.7</td>\n",
       "      <td>11.61</td>\n",
       "      <td>16</td>\n",
       "      <td>16</td>\n",
       "      <td>0</td>\n",
       "    </tr>\n",
       "    <tr>\n",
       "      <th>2</th>\n",
       "      <td>2003</td>\n",
       "      <td>136</td>\n",
       "      <td>1436</td>\n",
       "      <td>51</td>\n",
       "      <td>1112</td>\n",
       "      <td>80</td>\n",
       "      <td>0</td>\n",
       "      <td>0</td>\n",
       "      <td>20</td>\n",
       "      <td>64</td>\n",
       "      <td>...</td>\n",
       "      <td>88.8</td>\n",
       "      <td>72.7</td>\n",
       "      <td>-0.007</td>\n",
       "      <td>8.69</td>\n",
       "      <td>107.2</td>\n",
       "      <td>98.5</td>\n",
       "      <td>8.19</td>\n",
       "      <td>16</td>\n",
       "      <td>1</td>\n",
       "      <td>15</td>\n",
       "    </tr>\n",
       "    <tr>\n",
       "      <th>3</th>\n",
       "      <td>2003</td>\n",
       "      <td>136</td>\n",
       "      <td>1112</td>\n",
       "      <td>80</td>\n",
       "      <td>1436</td>\n",
       "      <td>51</td>\n",
       "      <td>0</td>\n",
       "      <td>0</td>\n",
       "      <td>31</td>\n",
       "      <td>66</td>\n",
       "      <td>...</td>\n",
       "      <td>99.5</td>\n",
       "      <td>64.4</td>\n",
       "      <td>0.019</td>\n",
       "      <td>-5.14</td>\n",
       "      <td>99.3</td>\n",
       "      <td>104.4</td>\n",
       "      <td>-2.29</td>\n",
       "      <td>1</td>\n",
       "      <td>16</td>\n",
       "      <td>-15</td>\n",
       "    </tr>\n",
       "    <tr>\n",
       "      <th>4</th>\n",
       "      <td>2003</td>\n",
       "      <td>136</td>\n",
       "      <td>1113</td>\n",
       "      <td>84</td>\n",
       "      <td>1272</td>\n",
       "      <td>71</td>\n",
       "      <td>0</td>\n",
       "      <td>0</td>\n",
       "      <td>31</td>\n",
       "      <td>59</td>\n",
       "      <td>...</td>\n",
       "      <td>94.1</td>\n",
       "      <td>68.3</td>\n",
       "      <td>0.005</td>\n",
       "      <td>4.83</td>\n",
       "      <td>103.4</td>\n",
       "      <td>98.6</td>\n",
       "      <td>3.33</td>\n",
       "      <td>10</td>\n",
       "      <td>7</td>\n",
       "      <td>3</td>\n",
       "    </tr>\n",
       "    <tr>\n",
       "      <th>...</th>\n",
       "      <td>...</td>\n",
       "      <td>...</td>\n",
       "      <td>...</td>\n",
       "      <td>...</td>\n",
       "      <td>...</td>\n",
       "      <td>...</td>\n",
       "      <td>...</td>\n",
       "      <td>...</td>\n",
       "      <td>...</td>\n",
       "      <td>...</td>\n",
       "      <td>...</td>\n",
       "      <td>...</td>\n",
       "      <td>...</td>\n",
       "      <td>...</td>\n",
       "      <td>...</td>\n",
       "      <td>...</td>\n",
       "      <td>...</td>\n",
       "      <td>...</td>\n",
       "      <td>...</td>\n",
       "      <td>...</td>\n",
       "      <td>...</td>\n",
       "    </tr>\n",
       "    <tr>\n",
       "      <th>2225</th>\n",
       "      <td>2019</td>\n",
       "      <td>152</td>\n",
       "      <td>1403</td>\n",
       "      <td>61</td>\n",
       "      <td>1277</td>\n",
       "      <td>51</td>\n",
       "      <td>0</td>\n",
       "      <td>0</td>\n",
       "      <td>22</td>\n",
       "      <td>51</td>\n",
       "      <td>...</td>\n",
       "      <td>90.2</td>\n",
       "      <td>66.9</td>\n",
       "      <td>0.001</td>\n",
       "      <td>13.67</td>\n",
       "      <td>110.6</td>\n",
       "      <td>96.9</td>\n",
       "      <td>3.24</td>\n",
       "      <td>3</td>\n",
       "      <td>2</td>\n",
       "      <td>1</td>\n",
       "    </tr>\n",
       "    <tr>\n",
       "      <th>2226</th>\n",
       "      <td>2019</td>\n",
       "      <td>152</td>\n",
       "      <td>1120</td>\n",
       "      <td>62</td>\n",
       "      <td>1438</td>\n",
       "      <td>63</td>\n",
       "      <td>0</td>\n",
       "      <td>0</td>\n",
       "      <td>21</td>\n",
       "      <td>55</td>\n",
       "      <td>...</td>\n",
       "      <td>89.2</td>\n",
       "      <td>59.4</td>\n",
       "      <td>0.050</td>\n",
       "      <td>11.18</td>\n",
       "      <td>109.2</td>\n",
       "      <td>98.1</td>\n",
       "      <td>-3.24</td>\n",
       "      <td>5</td>\n",
       "      <td>1</td>\n",
       "      <td>4</td>\n",
       "    </tr>\n",
       "    <tr>\n",
       "      <th>2227</th>\n",
       "      <td>2019</td>\n",
       "      <td>152</td>\n",
       "      <td>1438</td>\n",
       "      <td>63</td>\n",
       "      <td>1120</td>\n",
       "      <td>62</td>\n",
       "      <td>0</td>\n",
       "      <td>0</td>\n",
       "      <td>25</td>\n",
       "      <td>51</td>\n",
       "      <td>...</td>\n",
       "      <td>95.9</td>\n",
       "      <td>67.9</td>\n",
       "      <td>0.008</td>\n",
       "      <td>12.23</td>\n",
       "      <td>110.7</td>\n",
       "      <td>98.5</td>\n",
       "      <td>2.63</td>\n",
       "      <td>1</td>\n",
       "      <td>5</td>\n",
       "      <td>-4</td>\n",
       "    </tr>\n",
       "    <tr>\n",
       "      <th>2228</th>\n",
       "      <td>2019</td>\n",
       "      <td>154</td>\n",
       "      <td>1438</td>\n",
       "      <td>85</td>\n",
       "      <td>1403</td>\n",
       "      <td>77</td>\n",
       "      <td>0</td>\n",
       "      <td>1</td>\n",
       "      <td>27</td>\n",
       "      <td>59</td>\n",
       "      <td>...</td>\n",
       "      <td>84.1</td>\n",
       "      <td>66.6</td>\n",
       "      <td>0.004</td>\n",
       "      <td>11.18</td>\n",
       "      <td>109.8</td>\n",
       "      <td>98.7</td>\n",
       "      <td>-5.39</td>\n",
       "      <td>1</td>\n",
       "      <td>3</td>\n",
       "      <td>-2</td>\n",
       "    </tr>\n",
       "    <tr>\n",
       "      <th>2229</th>\n",
       "      <td>2019</td>\n",
       "      <td>154</td>\n",
       "      <td>1403</td>\n",
       "      <td>77</td>\n",
       "      <td>1438</td>\n",
       "      <td>85</td>\n",
       "      <td>0</td>\n",
       "      <td>1</td>\n",
       "      <td>27</td>\n",
       "      <td>63</td>\n",
       "      <td>...</td>\n",
       "      <td>89.2</td>\n",
       "      <td>59.4</td>\n",
       "      <td>0.050</td>\n",
       "      <td>11.18</td>\n",
       "      <td>109.2</td>\n",
       "      <td>98.1</td>\n",
       "      <td>-3.24</td>\n",
       "      <td>3</td>\n",
       "      <td>1</td>\n",
       "      <td>2</td>\n",
       "    </tr>\n",
       "  </tbody>\n",
       "</table>\n",
       "<p>2230 rows × 98 columns</p>\n",
       "</div>"
      ],
      "text/plain": [
       "      Season  DayNum  T1_TeamID  T1_Score  T2_TeamID  T2_Score  location  \\\n",
       "0       2003     134       1421        92       1411        84         0   \n",
       "1       2003     134       1411        84       1421        92         0   \n",
       "2       2003     136       1436        51       1112        80         0   \n",
       "3       2003     136       1112        80       1436        51         0   \n",
       "4       2003     136       1113        84       1272        71         0   \n",
       "...      ...     ...        ...       ...        ...       ...       ...   \n",
       "2225    2019     152       1403        61       1277        51         0   \n",
       "2226    2019     152       1120        62       1438        63         0   \n",
       "2227    2019     152       1438        63       1120        62         0   \n",
       "2228    2019     154       1438        85       1403        77         0   \n",
       "2229    2019     154       1403        77       1438        85         0   \n",
       "\n",
       "      NumOT  T1_FGM  T1_FGA  ...  T2_AdjD  T2_AdjT  T2_Luck  \\\n",
       "0         1      32      69  ...    108.7     68.4    0.037   \n",
       "1         1      29      67  ...    113.5     68.0    0.119   \n",
       "2         0      20      64  ...     88.8     72.7   -0.007   \n",
       "3         0      31      66  ...     99.5     64.4    0.019   \n",
       "4         0      31      59  ...     94.1     68.3    0.005   \n",
       "...     ...     ...     ...  ...      ...      ...      ...   \n",
       "2225      0      22      51  ...     90.2     66.9    0.001   \n",
       "2226      0      21      55  ...     89.2     59.4    0.050   \n",
       "2227      0      25      51  ...     95.9     67.9    0.008   \n",
       "2228      1      27      59  ...     84.1     66.6    0.004   \n",
       "2229      1      27      63  ...     89.2     59.4    0.050   \n",
       "\n",
       "      T2_Strength of Schedule_AdjEM  T2_Strength of Schedule_OppO  \\\n",
       "0                            -12.96                          94.4   \n",
       "1                             -6.45                          98.3   \n",
       "2                              8.69                         107.2   \n",
       "3                             -5.14                          99.3   \n",
       "4                              4.83                         103.4   \n",
       "...                             ...                           ...   \n",
       "2225                          13.67                         110.6   \n",
       "2226                          11.18                         109.2   \n",
       "2227                          12.23                         110.7   \n",
       "2228                          11.18                         109.8   \n",
       "2229                          11.18                         109.2   \n",
       "\n",
       "      T2_Strength of Schedule_OppD  T2_NCSOS_AdjEM  T1_seed  T2_seed  SeedDiff  \n",
       "0                            107.4           -8.09       16       16         0  \n",
       "1                            104.7           11.61       16       16         0  \n",
       "2                             98.5            8.19       16        1        15  \n",
       "3                            104.4           -2.29        1       16       -15  \n",
       "4                             98.6            3.33       10        7         3  \n",
       "...                            ...             ...      ...      ...       ...  \n",
       "2225                          96.9            3.24        3        2         1  \n",
       "2226                          98.1           -3.24        5        1         4  \n",
       "2227                          98.5            2.63        1        5        -4  \n",
       "2228                          98.7           -5.39        1        3        -2  \n",
       "2229                          98.1           -3.24        3        1         2  \n",
       "\n",
       "[2230 rows x 98 columns]"
      ]
     },
     "execution_count": 4,
     "metadata": {},
     "output_type": "execute_result"
    }
   ],
   "source": [
    "tourney_data"
   ]
  },
  {
   "cell_type": "code",
   "execution_count": 142,
   "metadata": {},
   "outputs": [
    {
     "data": {
      "text/plain": [
       "Index(['T2_ORmean', 'T2_Astmean', 'T2_TOmean', 'T2_Stlmean', 'T2_PFmean',\n",
       "       'T2_opponent_FGMmean', 'T2_opponent_FGAmean', 'T2_opponent_FGM3mean',\n",
       "       'T2_opponent_FGA3mean', 'T2_opponent_ORmean', 'T2_opponent_Astmean',\n",
       "       'T2_opponent_TOmean', 'T2_opponent_Stlmean', 'T2_opponent_Blkmean',\n",
       "       'T2_PointDiffmean', 'T1_win_ratio_14d', 'T2_win_ratio_14d', 'T1_Rk',\n",
       "       'T1_AdjEM', 'T1_AdjO', 'T1_AdjD', 'T1_AdjT', 'T1_Luck',\n",
       "       'T1_Strength of Schedule_AdjEM', 'T1_Strength of Schedule_OppO',\n",
       "       'T1_Strength of Schedule_OppD', 'T1_NCSOS_AdjEM', 'T2_Rk', 'T2_AdjEM',\n",
       "       'T2_AdjO', 'T2_AdjD', 'T2_AdjT', 'T2_Luck',\n",
       "       'T2_Strength of Schedule_AdjEM', 'T2_Strength of Schedule_OppO',\n",
       "       'T2_Strength of Schedule_OppD', 'T2_NCSOS_AdjEM', 'T1_seed', 'T2_seed',\n",
       "       'SeedDiff'],\n",
       "      dtype='object')"
      ]
     },
     "execution_count": 142,
     "metadata": {},
     "output_type": "execute_result"
    }
   ],
   "source": [
    "tourney_data.columns[-40:]"
   ]
  },
  {
   "cell_type": "markdown",
   "metadata": {},
   "source": [
    "# Model Building"
   ]
  },
  {
   "cell_type": "code",
   "execution_count": 5,
   "metadata": {},
   "outputs": [],
   "source": [
    "# define log-loss scoring\n",
    "from sklearn.metrics import log_loss, make_scorer\n",
    "from sklearn.model_selection import cross_val_score, GroupKFold, train_test_split\n",
    "from sklearn.linear_model import Lasso\n",
    "from sklearn.ensemble import RandomForestRegressor\n",
    "\n",
    "import matplotlib.pyplot as plt"
   ]
  },
  {
   "cell_type": "code",
   "execution_count": 6,
   "metadata": {},
   "outputs": [],
   "source": [
    "features = [\n",
    "       'location', 'T1_FGMmean', 'T1_FGAmean', 'T1_FGM3mean', 'T1_FGA3mean',\n",
    "       'T1_ORmean', 'T1_Astmean', 'T1_TOmean', 'T1_Stlmean', 'T1_PFmean',\n",
    "       'T1_opponent_FGMmean', 'T1_opponent_FGAmean', 'T1_opponent_FGM3mean',\n",
    "       'T1_opponent_FGA3mean', 'T1_opponent_ORmean', 'T1_opponent_Astmean',\n",
    "       'T1_opponent_TOmean', 'T1_opponent_Stlmean', 'T1_opponent_Blkmean',\n",
    "       'PointDiffmean', 'T2_FGMmean', 'T2_FGAmean', 'T2_FGM3mean',\n",
    "       'T2_FGA3mean', 'T2_ORmean', 'T2_Astmean', 'T2_TOmean', 'T2_Stlmean',\n",
    "       'T2_PFmean', 'T2_opponent_FGMmean', 'T2_opponent_FGAmean',\n",
    "       'T2_opponent_FGM3mean', 'T2_opponent_FGA3mean', 'T2_opponent_ORmean',\n",
    "       'T2_opponent_Astmean', 'T2_opponent_TOmean', 'T2_opponent_Stlmean',\n",
    "       'T2_opponent_Blkmean', 'T2_PointDiffmean', 'T1_win_ratio_14d', 'T2_win_ratio_14d', 'T1_Rk',\n",
    "       'T1_AdjEM', 'T1_AdjO', 'T1_AdjD', 'T1_AdjT', 'T1_Luck',\n",
    "       'T1_Strength of Schedule_AdjEM', 'T1_Strength of Schedule_OppO',\n",
    "       'T1_Strength of Schedule_OppD', 'T1_NCSOS_AdjEM', 'T2_Rk', 'T2_AdjEM',\n",
    "       'T2_AdjO', 'T2_AdjD', 'T2_AdjT', 'T2_Luck',\n",
    "       'T2_Strength of Schedule_AdjEM', 'T2_Strength of Schedule_OppO',\n",
    "       'T2_Strength of Schedule_OppD', 'T2_NCSOS_AdjEM', 'T1_seed', 'T2_seed',\n",
    "       'SeedDiff'\n",
    "]\n",
    "\n",
    "features2 = [\n",
    "    'T1_win_ratio_14d', 'T2_win_ratio_14d', 'T1_Rk',\n",
    "   'T1_AdjEM', 'T1_AdjO', 'T1_AdjD', 'T1_AdjT', 'T1_Luck',\n",
    "   'T1_Strength of Schedule_AdjEM', 'T1_Strength of Schedule_OppO',\n",
    "   'T1_Strength of Schedule_OppD', 'T1_NCSOS_AdjEM', 'T2_Rk', 'T2_AdjEM',\n",
    "   'T2_AdjO', 'T2_AdjD', 'T2_AdjT', 'T2_Luck',\n",
    "   'T2_Strength of Schedule_AdjEM', 'T2_Strength of Schedule_OppO',\n",
    "   'T2_Strength of Schedule_OppD', 'T2_NCSOS_AdjEM', 'T1_seed', 'T2_seed',\n",
    "   'SeedDiff'\n",
    "]\n",
    "\n",
    "\n",
    "df = tourney_data.dropna(how='any')\n",
    "\n",
    "X = df[features].copy()\n",
    "y = np.where(df['T1_Score'] - df['T2_Score'] > 0, 1, 0)\n",
    "\n",
    "# split training and testing:\n",
    "random_state = 1\n",
    "X_train, X_test, y_train, y_test = train_test_split(X, y, train_size=0.8, random_state=random_state)\n",
    "X_train, X_val, y_train, y_val = train_test_split(X_train, y_train, train_size=0.8, random_state=random_state)"
   ]
  },
  {
   "cell_type": "code",
   "execution_count": 144,
   "metadata": {},
   "outputs": [],
   "source": [
    "def print_score(m):\n",
    "    res = {\n",
    "        \"train log loss\":log_loss(y_train, m.predict(X_train)), \n",
    "        \"val log loss\" : log_loss(y_val, m.predict(X_val)),\n",
    "        \"training r^2\" : m.score(X_train, y_train), \n",
    "        \"validation r^2\" : m.score(X_val, y_val)\n",
    "        }\n",
    "    if hasattr(m, 'oob_score_'): \n",
    "        res['oob score'] = m.oob_score_\n",
    "    for label, val in res.items(): \n",
    "        print(label + \": \", val)"
   ]
  },
  {
   "cell_type": "markdown",
   "metadata": {},
   "source": [
    "## Random Forest\n",
    "Just to get warmed up again."
   ]
  },
  {
   "cell_type": "code",
   "execution_count": 145,
   "metadata": {
    "scrolled": true
   },
   "outputs": [
    {
     "name": "stdout",
     "output_type": "stream",
     "text": [
      "Wall time: 247 ms\n",
      "train log loss:  0.13342979545364902\n",
      "val log loss:  0.6074676308188095\n",
      "training r^2:  0.9071684183947226\n",
      "validation r^2:  0.31431529322548035\n"
     ]
    }
   ],
   "source": [
    "random_state = 1\n",
    "model = RandomForestRegressor(n_jobs=-1, n_estimators=100)\n",
    "\n",
    "%time model.fit(X_train, y_train)\n",
    "\n",
    "print_score(model)"
   ]
  },
  {
   "cell_type": "code",
   "execution_count": 146,
   "metadata": {
    "scrolled": false
   },
   "outputs": [
    {
     "name": "stderr",
     "output_type": "stream",
     "text": [
      "C:\\ProgramData\\Anaconda3\\lib\\site-packages\\sklearn\\ensemble\\_forest.py:815: UserWarning: Some inputs do not have OOB scores. This probably means too few trees were used to compute any reliable oob estimates.\n",
      "  warn(\"Some inputs do not have OOB scores. \"\n"
     ]
    },
    {
     "data": {
      "text/plain": [
       "[<matplotlib.lines.Line2D at 0x1388778cb88>]"
      ]
     },
     "execution_count": 146,
     "metadata": {},
     "output_type": "execute_result"
    },
    {
     "data": {
      "image/png": "[encoded data removed]",
      "text/plain": [
       "<Figure size 432x288 with 1 Axes>"
      ]
     },
     "metadata": {
      "needs_background": "light"
     },
     "output_type": "display_data"
    }
   ],
   "source": [
    "n_trees = [10, 50, 100, 150, 200, 300]\n",
    "val_log_loss = []\n",
    "for n in n_trees:\n",
    "    model = RandomForestRegressor(\n",
    "        n_estimators=n, n_jobs=-1, oob_score=True, random_state=random_state\n",
    "    )\n",
    "    model.fit(X_train, y_train)\n",
    "    val_log_loss.append(log_loss(y_val, model.predict(X_val)))\n",
    "\n",
    "plt.plot(n_trees, val_log_loss)"
   ]
  },
  {
   "cell_type": "code",
   "execution_count": 148,
   "metadata": {},
   "outputs": [
    {
     "data": {
      "text/plain": [
       "[<matplotlib.lines.Line2D at 0x1388bd5a308>]"
      ]
     },
     "execution_count": 148,
     "metadata": {},
     "output_type": "execute_result"
    },
    {
     "data": {
      "image/png": "[encoded data removed]",
      "text/plain": [
       "<Figure size 432x288 with 1 Axes>"
      ]
     },
     "metadata": {
      "needs_background": "light"
     },
     "output_type": "display_data"
    }
   ],
   "source": [
    "params = dict(\n",
    "    n_jobs=-1,\n",
    "    oob_score=True, \n",
    "    n_estimators=100,\n",
    ")\n",
    "\n",
    "min_samples_leaf = [2, 5, 10, 20, 50]\n",
    "val_log_loss = []\n",
    "for msl in min_samples_leaf:\n",
    "    model = RandomForestRegressor(  \n",
    "        min_samples_leaf=msl,\n",
    "        **params\n",
    "    )\n",
    "    model.fit(X_train, y_train)\n",
    "    val_log_loss.append(log_loss(y_val, model.predict(X_val)))\n",
    "\n",
    "plt.plot(min_samples_leaf, val_log_loss)"
   ]
  },
  {
   "cell_type": "code",
   "execution_count": 149,
   "metadata": {},
   "outputs": [],
   "source": [
    "val, idx = min((val, idx) for (idx, val) in enumerate(val_log_loss))\n",
    "params['min_samples_leaf'] = min_samples_leaf[idx]"
   ]
  },
  {
   "cell_type": "code",
   "execution_count": 150,
   "metadata": {},
   "outputs": [
    {
     "name": "stdout",
     "output_type": "stream",
     "text": [
      "{'n_jobs': -1, 'oob_score': True, 'n_estimators': 100, 'min_samples_leaf': 10}\n"
     ]
    },
    {
     "data": {
      "text/plain": [
       "[<matplotlib.lines.Line2D at 0x13887ed7c08>]"
      ]
     },
     "execution_count": 150,
     "metadata": {},
     "output_type": "execute_result"
    },
    {
     "data": {
      "image/png": "[encoded data removed]",
      "text/plain": [
       "<Figure size 432x288 with 1 Axes>"
      ]
     },
     "metadata": {
      "needs_background": "light"
     },
     "output_type": "display_data"
    }
   ],
   "source": [
    "max_leaf_nodes = [10, 20, 30, 40, 50, 60, 70]\n",
    "print(params)\n",
    "\n",
    "val_log_loss = []\n",
    "for m in max_leaf_nodes:\n",
    "    model = RandomForestRegressor(\n",
    "     max_leaf_nodes=m, **params\n",
    "    )\n",
    "    model.fit(X_train, y_train)\n",
    "    val_log_loss.append(log_loss(y_val, model.predict(X_val)))\n",
    "\n",
    "plt.plot(max_leaf_nodes, val_log_loss)"
   ]
  },
  {
   "cell_type": "code",
   "execution_count": 151,
   "metadata": {},
   "outputs": [
    {
     "name": "stdout",
     "output_type": "stream",
     "text": [
      "Max leaf nodes:  40\n"
     ]
    }
   ],
   "source": [
    "val, idx = min((val, idx) for (idx, val) in enumerate(val_log_loss))\n",
    "params['max_leaf_nodes'] = max_leaf_nodes[idx]\n",
    "print(\"Max leaf nodes: \", max_leaf_nodes[idx])"
   ]
  },
  {
   "cell_type": "code",
   "execution_count": 152,
   "metadata": {},
   "outputs": [
    {
     "name": "stdout",
     "output_type": "stream",
     "text": [
      "{'n_jobs': -1, 'oob_score': True, 'n_estimators': 100, 'min_samples_leaf': 10, 'max_leaf_nodes': 40}\n",
      "train log loss:  0.32761661338612597\n",
      "val log loss:  0.5213464215285195\n",
      "training r^2:  0.6123397815297564\n",
      "validation r^2:  0.29836295356540043\n",
      "oob score:  0.3606834326939863\n"
     ]
    }
   ],
   "source": [
    "print(params)\n",
    "model = RandomForestRegressor(\n",
    "     **params\n",
    "    )\n",
    "model.fit(X_train, y_train)\n",
    "print_score(model)"
   ]
  },
  {
   "cell_type": "markdown",
   "metadata": {},
   "source": [
    "## CV Pipe"
   ]
  },
  {
   "cell_type": "code",
   "execution_count": 153,
   "metadata": {
    "scrolled": true
   },
   "outputs": [],
   "source": [
    "from sklearn.model_selection import LeaveOneGroupOut\n",
    "def cv_score(m, X_test_, y_test_, print_=True):\n",
    "    res = log_loss(y_test_, m.predict(X_test_))\n",
    "    if print_: print(f\"Val log loss: {res}\")\n",
    "    return res\n",
    "\n",
    "def leave_one_out_CV(estimater, params, folds, df, features):\n",
    "    X = df[features].copy()\n",
    "    y = np.where(df['T1_Score'] - df['T2_Score'] > 0, 1, 0)\n",
    "    groups = df['Season'].values - 2003\n",
    "\n",
    "    # split training and testing:\n",
    "    X_train, X_test, y_train, y_test = train_test_split(X, y, train_size=0.8)\n",
    "    X_train, X_val, y_train, y_val = train_test_split(X_train, y_train, train_size=0.8)\n",
    "\n",
    "\n",
    "    cv_res = {}\n",
    "    group_kfold = LeaveOneGroupOut()\n",
    "    groups_ = groups[X_train.index]\n",
    "\n",
    "    for i in range(folds):\n",
    "        cv_res[i] = []\n",
    "        for train_index, test_index in group_kfold.split(X_train.values, y_train, groups_):\n",
    "            X_train_, X_test_ = X_train.iloc[train_index], X_train.iloc[test_index]\n",
    "            y_train_, y_test_ = y_train[train_index], y_train[test_index]\n",
    "\n",
    "            if hasattr(estimater, \"random_state\"):\n",
    "                params['random_state'] = i\n",
    "\n",
    "            m = estimater(**params)\n",
    "            m.fit(X_train_, y_train_)\n",
    "            cv_res[i].append(cv_score(m, X_test_, y_test_, print_=False))\n",
    "        print(f\"Fold {i} Log Loss: {np.mean(cv_res[i])}\")\n",
    "\n",
    "    cv_results = [np.mean(vals) for i, vals in cv_res.items()]\n",
    "    print(\"CV Fold Results\", cv_results)\n",
    "    print(\"Mean CV Log Loss: \", np.mean(cv_results))"
   ]
  },
  {
   "cell_type": "code",
   "execution_count": 154,
   "metadata": {},
   "outputs": [
    {
     "name": "stdout",
     "output_type": "stream",
     "text": [
      "Fold 0 Log Loss: 0.5014495996041992\n",
      "Fold 1 Log Loss: 0.49903129409527336\n",
      "Fold 2 Log Loss: 0.49717686655088117\n",
      "CV Fold Results [0.5014495996041992, 0.49903129409527336, 0.49717686655088117]\n",
      "Mean CV Log Loss:  0.4992192534167846\n"
     ]
    }
   ],
   "source": [
    "df = tourney_data.dropna(how='any').reset_index(drop=True)\n",
    "\n",
    "leave_one_out_CV(estimater=RandomForestRegressor, params=params, \n",
    "                 folds=3, df=df, features=features)"
   ]
  },
  {
   "cell_type": "code",
   "execution_count": 21,
   "metadata": {
    "scrolled": true
   },
   "outputs": [],
   "source": [
    "from sklearn.model_selection import GridSearchCV\n",
    "\n",
    "def custom_scoring(estimator, X, y):\n",
    "    return log_loss(y, estimator.predict(X))\n",
    "\n",
    "# use grid search CV to hyper parameter tune properly:\n",
    "df = tourney_data.dropna(how='any').reset_index().copy()\n",
    "X = df[features].copy()\n",
    "y = np.where(df['T1_Score'] - df['T2_Score'] > 0, 1, 0)\n",
    "groups = df['Season'].values - 2003\n",
    "\n",
    "# split training and testing:\n",
    "X_train, X_test, y_train, y_test = train_test_split(X, y, train_size=0.8)\n",
    "X_train, X_val, y_train, y_val = train_test_split(X_train, y_train, train_size=0.8)\n",
    "\n",
    "\n",
    "cv_res = {}\n",
    "logo = LeaveOneGroupOut()\n",
    "groups_ = groups[X_train.index]\n",
    "\n",
    "param_grid = {\n",
    "    'n_estimators' : [10, 50, 100, 150, 200, 300],\n",
    "    'min_samples_leaf' : [2, 5, 10, 20, 50],\n",
    "    'max_leaf_nodes' : [10, 20, 30, 40, 50, 60, 70]\n",
    "}\n",
    "\n",
    "\n",
    "gs_cv = GridSearchCV(\n",
    "    estimator=RandomForestRegressor(),\n",
    "    param_grid=param_grid,\n",
    "    scoring=None,\n",
    "    n_jobs=-1,\n",
    "    cv=logo.split(X_train, y_train, groups_),\n",
    "    verbose=True\n",
    ")\n",
    "\n",
    "# gs_cv.fit(X_train, y_train)"
   ]
  },
  {
   "cell_type": "code",
   "execution_count": 22,
   "metadata": {},
   "outputs": [
    {
     "name": "stdout",
     "output_type": "stream",
     "text": [
      "Best params: {'max_leaf_nodes': 20, 'min_samples_leaf': 2, 'n_estimators': 300}\n",
      "train log loss:  0.4067260131631536\n",
      "val log loss:  0.50595963487314\n",
      "training r^2:  0.4833226046018928\n",
      "validation r^2:  0.31938667607190174\n"
     ]
    }
   ],
   "source": [
    "best_model = gs_cv.best_estimator_\n",
    "\n",
    "print(f\"Best params: {gs_cv.best_params_}\")\n",
    "print_score(best_model)"
   ]
  },
  {
   "cell_type": "markdown",
   "metadata": {},
   "source": [
    "# Linear Models"
   ]
  },
  {
   "cell_type": "code",
   "execution_count": 155,
   "metadata": {},
   "outputs": [],
   "source": [
    "from sklearn import linear_model\n",
    "from sklearn.model_selection import cross_val_score\n",
    "\n",
    "def custom_scoring(estimator, X, y):\n",
    "    return 1/log_loss(y, estimator.predict(X))\n",
    "\n",
    "ridge = linear_model.Ridge()\n",
    "\n",
    "# use grid search CV to hyper parameter tune properly:\n",
    "df = tourney_data.dropna(how='any').reset_index().copy()\n",
    "X = df[features].copy()\n",
    "y = np.where(df['T1_Score'] - df['T2_Score'] > 0, 1, 0)\n",
    "groups = df['Season'].values - 2003\n",
    "\n",
    "# split training and testing:\n",
    "X_train, X_test, y_train, y_test = train_test_split(X, y, train_size=0.8)\n",
    "X_train, X_val, y_train, y_val = train_test_split(X_train, y_train, train_size=0.8)\n",
    "\n",
    "groups = groups[X_train.index]\n",
    "\n",
    "logo = LeaveOneGroupOut()\n",
    "\n",
    "cv_score = cross_val_score(\n",
    "        estimator=ridge,\n",
    "        X=X_train,\n",
    "        y=y_train,\n",
    "        groups=groups,\n",
    "        scoring = custom_scoring,\n",
    "        cv = logo.split(X_train, y_train, groups),\n",
    "        n_jobs=-1,\n",
    "        verbose=0,\n",
    "    )"
   ]
  },
  {
   "cell_type": "code",
   "execution_count": 156,
   "metadata": {},
   "outputs": [],
   "source": [
    "# bulk trial:\n",
    "estimators = [\n",
    "    linear_model.BayesianRidge(),\n",
    "    linear_model.ARDRegression(),\n",
    "    linear_model.ElasticNetCV(),\n",
    "    linear_model.ElasticNet(),\n",
    "    linear_model.Lasso(),\n",
    "    linear_model.LogisticRegression(),\n",
    "    linear_model.SGDRegressor()\n",
    "]\n",
    "\n",
    "scores = {}\n",
    "\n",
    "for est in estimators:\n",
    "    scores[est.__class__.__name__] = np.mean(1/cross_val_score(\n",
    "        estimator=est,\n",
    "        X=X_train,\n",
    "        y=y_train,\n",
    "        groups=groups,\n",
    "        scoring = custom_scoring,\n",
    "        cv = logo.split(X_train, y_train, groups),\n",
    "        n_jobs=-1,\n",
    "        verbose=0,\n",
    "    ))"
   ]
  },
  {
   "cell_type": "code",
   "execution_count": 157,
   "metadata": {},
   "outputs": [
    {
     "data": {
      "text/plain": [
       "{'BayesianRidge': 0.5118571969592605,\n",
       " 'ARDRegression': 0.4990101240736376,\n",
       " 'ElasticNetCV': 0.5252254478360523,\n",
       " 'ElasticNet': 0.6239820638388103,\n",
       " 'Lasso': 0.6288067550570536,\n",
       " 'LogisticRegression': 8.370226391994187,\n",
       " 'SGDRegressor': 17.31856545483113}"
      ]
     },
     "execution_count": 157,
     "metadata": {},
     "output_type": "execute_result"
    }
   ],
   "source": [
    "scores"
   ]
  },
  {
   "cell_type": "markdown",
   "metadata": {},
   "source": [
    "# Model Building Pipeline"
   ]
  },
  {
   "cell_type": "code",
   "execution_count": 223,
   "metadata": {},
   "outputs": [],
   "source": [
    "features3 = [\n",
    "    'T1_win_ratio_14d', 'T2_win_ratio_14d', \n",
    "   'T1_AdjT', 'T1_Luck',\n",
    "   'T1_Strength of Schedule_AdjEM', 'T1_Strength of Schedule_OppO',\n",
    "   'T1_Strength of Schedule_OppD', 'T1_NCSOS_AdjEM', \n",
    "    'T2_AdjT', 'T2_Luck',\n",
    "   'T2_Strength of Schedule_AdjEM', 'T2_Strength of Schedule_OppO',\n",
    "   'T2_Strength of Schedule_OppD', \n",
    "   'SeedDiff'\n",
    "]\n",
    "\n",
    "features4 = [\n",
    "    'T1_win_ratio_14d', 'T2_win_ratio_14d', \n",
    "   'T1_AdjEM', 'T1_AdjO', 'T1_AdjD', 'T1_AdjT', 'T1_Luck',\n",
    "   'T1_Strength of Schedule_AdjEM', 'T1_Strength of Schedule_OppO',\n",
    "   'T1_Strength of Schedule_OppD', 'T1_NCSOS_AdjEM', 'T2_AdjEM',\n",
    "   'T2_AdjO', 'T2_AdjD', 'T2_AdjT', 'T2_Luck',\n",
    "   'T2_Strength of Schedule_AdjEM', 'T2_Strength of Schedule_OppO',\n",
    "   'T2_Strength of Schedule_OppD', 'T2_NCSOS_AdjEM', 'T1_seed', 'T2_seed',\n",
    "   'SeedDiff'\n",
    "]"
   ]
  },
  {
   "cell_type": "code",
   "execution_count": 238,
   "metadata": {
    "scrolled": true
   },
   "outputs": [],
   "source": [
    "from sklearn.pipeline import Pipeline\n",
    "from sklearn.preprocessing import StandardScaler\n",
    "from sklearn.decomposition import PCA\n",
    "import seaborn as sns\n",
    "from sklearn import linear_model\n",
    "\n",
    "def reg_cv_train(features, estimator, mode='reg', plot=False, verbose=False):\n",
    "    # get full dataset:\n",
    "    df = tourney_data.dropna(how='any').reset_index().copy()\n",
    "\n",
    "    # split X and y:\n",
    "    X = df[features]\n",
    "    y = np.where(df['PointDiff'] > 0, 1, 0)\n",
    "\n",
    "    # use leave-one-group-out:\n",
    "    logo = LeaveOneGroupOut()\n",
    "    groups = df['Season']\n",
    "\n",
    "    cvs = []\n",
    "\n",
    "    for i , (train_ix, val_ix) in enumerate(logo.split(X, y, groups)):\n",
    "        # split data:\n",
    "        X_train = X.iloc[train_ix]\n",
    "        y_train = y[train_ix]\n",
    "        X_val = X.iloc[val_ix]\n",
    "        y_val = y[val_ix]\n",
    "\n",
    "\n",
    "        # fit pipeline:\n",
    "        pipe = Pipeline([\n",
    "            ('scaler', StandardScaler()),\n",
    "            ('pca', PCA(n_components=0.85)),\n",
    "            ('estimator', estimator)\n",
    "        ])\n",
    "\n",
    "        pipe.fit(X_train, y_train)\n",
    "\n",
    "        # predict values:\n",
    "        if mode == \"reg\":\n",
    "            pred = pipe.predict(X_val)\n",
    "            pred = np.clip(pred, 0, 1) # because regression\n",
    "        else:\n",
    "            pred = pipe.predict_proba(X_val)[:, 1]\n",
    "        # plot:\n",
    "        if plot:\n",
    "            plt.figure(figsize=(15,6))\n",
    "            plt.subplot(1,2,1)\n",
    "            plt.scatter(pred, df.loc[val_ix, 'PointDiff'], s=5)\n",
    "            plt.subplot(1,2,2)\n",
    "            sns.distplot(pred)\n",
    "            plt.show()\n",
    "\n",
    "        # loss:\n",
    "        loss = log_loss(y_val, pred)\n",
    "        cvs.append(loss)\n",
    "\n",
    "        if verbose: print(f\"{i+min(groups)} Loss : {loss}\")\n",
    "    \n",
    "    plt.figure()\n",
    "    plt.plot(range(min(groups), min(groups) + len(set(groups))), cvs)\n",
    "    plt.xlabel(\"Year\")\n",
    "    plt.ylabel(\"Log Loss\")\n",
    "\n",
    "    print(f\"Local CV Loss : {np.mean(cvs):.3f}\")\n",
    "    return np.mean(cvs)"
   ]
  },
  {
   "cell_type": "code",
   "execution_count": 239,
   "metadata": {},
   "outputs": [
    {
     "name": "stdout",
     "output_type": "stream",
     "text": [
      "Local CV Loss : 0.530\n"
     ]
    },
    {
     "data": {
      "image/png": "[encoded data removed]",
      "text/plain": [
       "<Figure size 432x288 with 1 Axes>"
      ]
     },
     "metadata": {
      "needs_background": "light"
     },
     "output_type": "display_data"
    }
   ],
   "source": [
    "estimator = linear_model.LinearRegression()\n",
    "\n",
    "plot=False\n",
    "verbose=True\n",
    "\n",
    "cvs = reg_cv_train(features=features4, estimator=estimator, mode='reg', \n",
    "             plot=False, verbose=False)"
   ]
  },
  {
   "cell_type": "code",
   "execution_count": 245,
   "metadata": {
    "scrolled": false
   },
   "outputs": [
    {
     "name": "stdout",
     "output_type": "stream",
     "text": [
      "Local CV Loss : 0.526\n",
      "Local CV Loss : 0.527\n",
      "Local CV Loss : 0.526\n",
      "Local CV Loss : 0.610\n",
      "Local CV Loss : 0.693\n",
      "Local CV Loss : 0.494\n",
      "Local CV Loss : 0.546\n"
     ]
    },
    {
     "data": {
      "image/png": "[encoded data removed]",
      "text/plain": [
       "<Figure size 432x288 with 1 Axes>"
      ]
     },
     "metadata": {
      "needs_background": "light"
     },
     "output_type": "display_data"
    },
    {
     "data": {
      "image/png": "[encoded data removed]",
      "text/plain": [
       "<Figure size 432x288 with 1 Axes>"
      ]
     },
     "metadata": {
      "needs_background": "light"
     },
     "output_type": "display_data"
    },
    {
     "data": {
      "image/png": "[encoded data removed]",
      "text/plain": [
       "<Figure size 432x288 with 1 Axes>"
      ]
     },
     "metadata": {
      "needs_background": "light"
     },
     "output_type": "display_data"
    },
    {
     "data": {
      "image/png": "[encoded data removed]",
      "text/plain": [
       "<Figure size 432x288 with 1 Axes>"
      ]
     },
     "metadata": {
      "needs_background": "light"
     },
     "output_type": "display_data"
    },
    {
     "data": {
      "image/png": "[encoded data removed]",
      "text/plain": [
       "<Figure size 432x288 with 1 Axes>"
      ]
     },
     "metadata": {
      "needs_background": "light"
     },
     "output_type": "display_data"
    },
    {
     "data": {
      "image/png": "[encoded data removed]",
      "text/plain": [
       "<Figure size 432x288 with 1 Axes>"
      ]
     },
     "metadata": {
      "needs_background": "light"
     },
     "output_type": "display_data"
    },
    {
     "data": {
      "image/png": "[encoded data removed]",
      "text/plain": [
       "<Figure size 432x288 with 1 Axes>"
      ]
     },
     "metadata": {
      "needs_background": "light"
     },
     "output_type": "display_data"
    }
   ],
   "source": [
    "# bulk trial:\n",
    "estimators = [\n",
    "    (linear_model.BayesianRidge(), 'reg'),\n",
    "    (linear_model.ARDRegression(), 'reg'),\n",
    "    (linear_model.ElasticNetCV(), 'reg'),\n",
    "    (linear_model.ElasticNet(), 'reg'),\n",
    "    (linear_model.Lasso(), 'reg'),\n",
    "    (linear_model.LogisticRegression(), 'cls'),\n",
    "    (linear_model.SGDRegressor(), 'reg')\n",
    "]\n",
    "\n",
    "scores = {}\n",
    "\n",
    "for e, mode in estimators:\n",
    "    scores[e.__class__.__name__] = reg_cv_train(\n",
    "        features=features, \n",
    "        estimator=e,\n",
    "        mode=mode, \n",
    "        plot=False, \n",
    "        verbose=False)"
   ]
  },
  {
   "cell_type": "code",
   "execution_count": 246,
   "metadata": {},
   "outputs": [
    {
     "data": {
      "text/plain": [
       "{'BayesianRidge': 0.5259635063359314,\n",
       " 'ARDRegression': 0.5265141093393286,\n",
       " 'ElasticNetCV': 0.5260792305025709,\n",
       " 'ElasticNet': 0.6101048932893284,\n",
       " 'Lasso': 0.6931471805599454,\n",
       " 'LogisticRegression': 0.49442651051396047,\n",
       " 'SGDRegressor': 0.5455962708033114}"
      ]
     },
     "execution_count": 246,
     "metadata": {},
     "output_type": "execute_result"
    }
   ],
   "source": [
    "scores"
   ]
  },
  {
   "cell_type": "code",
   "execution_count": null,
   "metadata": {},
   "outputs": [],
   "source": []
  }
 ],
 "metadata": {
  "kernelspec": {
   "display_name": "Python 3",
   "language": "python",
   "name": "python3"
  },
  "language_info": {
   "codemirror_mode": {
    "name": "ipython",
    "version": 3
   },
   "file_extension": ".py",
   "mimetype": "text/x-python",
   "name": "python",
   "nbconvert_exporter": "python",
   "pygments_lexer": "ipython3",
   "version": "3.7.6"
  }
 },
 "nbformat": 4,
 "nbformat_minor": 4
}
