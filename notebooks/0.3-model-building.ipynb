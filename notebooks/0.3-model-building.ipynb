{
 "cells": [
  {
   "cell_type": "code",
   "execution_count": 1,
   "metadata": {},
   "outputs": [],
   "source": [
    "# OPTIONAL: Load the \"autoreload\" extension so that code can change\n",
    "%load_ext autoreload\n",
    "\n",
    "# OPTIONAL: always reload modules so that as you change code in src, it gets loaded\n",
    "%autoreload 2"
   ]
  },
  {
   "cell_type": "code",
   "execution_count": 2,
   "metadata": {},
   "outputs": [],
   "source": [
    "import pandas as pd\n",
    "import numpy as np\n",
    "\n",
    "from pathlib import Path"
   ]
  },
  {
   "cell_type": "markdown",
   "metadata": {},
   "source": [
    "# Load Data"
   ]
  },
  {
   "cell_type": "code",
   "execution_count": 6,
   "metadata": {},
   "outputs": [],
   "source": [
    "tourney_data = pd.read_csv(\"../data/processed/tourney_data.csv\")"
   ]
  },
  {
   "cell_type": "code",
   "execution_count": 7,
   "metadata": {},
   "outputs": [
    {
     "data": {
      "text/html": [
       "<div>\n",
       "<style scoped>\n",
       "    .dataframe tbody tr th:only-of-type {\n",
       "        vertical-align: middle;\n",
       "    }\n",
       "\n",
       "    .dataframe tbody tr th {\n",
       "        vertical-align: top;\n",
       "    }\n",
       "\n",
       "    .dataframe thead th {\n",
       "        text-align: right;\n",
       "    }\n",
       "</style>\n",
       "<table border=\"1\" class=\"dataframe\">\n",
       "  <thead>\n",
       "    <tr style=\"text-align: right;\">\n",
       "      <th></th>\n",
       "      <th>Season</th>\n",
       "      <th>DayNum</th>\n",
       "      <th>T1_TeamID</th>\n",
       "      <th>T1_Score</th>\n",
       "      <th>T2_TeamID</th>\n",
       "      <th>T2_Score</th>\n",
       "      <th>location</th>\n",
       "      <th>NumOT</th>\n",
       "      <th>T1_FGM</th>\n",
       "      <th>T1_FGA</th>\n",
       "      <th>...</th>\n",
       "      <th>T1_Strength of Schedule_AdjD</th>\n",
       "      <th>T1_NCSOS_AdjT</th>\n",
       "      <th>T2_Rk</th>\n",
       "      <th>T2_AdjEM</th>\n",
       "      <th>T2_AdjO</th>\n",
       "      <th>T2_Strength of Schedule_AdjD</th>\n",
       "      <th>T2_NCSOS_AdjT</th>\n",
       "      <th>T1_seed</th>\n",
       "      <th>T2_seed</th>\n",
       "      <th>SeedDiff</th>\n",
       "    </tr>\n",
       "  </thead>\n",
       "  <tbody>\n",
       "    <tr>\n",
       "      <th>0</th>\n",
       "      <td>2003</td>\n",
       "      <td>134</td>\n",
       "      <td>1421</td>\n",
       "      <td>92</td>\n",
       "      <td>1411</td>\n",
       "      <td>84</td>\n",
       "      <td>0</td>\n",
       "      <td>1</td>\n",
       "      <td>32</td>\n",
       "      <td>69</td>\n",
       "      <td>...</td>\n",
       "      <td>187.0</td>\n",
       "      <td>113.5</td>\n",
       "      <td>260.0</td>\n",
       "      <td>-10.45</td>\n",
       "      <td>98.3</td>\n",
       "      <td>238.0</td>\n",
       "      <td>108.7</td>\n",
       "      <td>16</td>\n",
       "      <td>16</td>\n",
       "      <td>0</td>\n",
       "    </tr>\n",
       "    <tr>\n",
       "      <th>1</th>\n",
       "      <td>2003</td>\n",
       "      <td>134</td>\n",
       "      <td>1411</td>\n",
       "      <td>84</td>\n",
       "      <td>1421</td>\n",
       "      <td>92</td>\n",
       "      <td>0</td>\n",
       "      <td>1</td>\n",
       "      <td>29</td>\n",
       "      <td>67</td>\n",
       "      <td>...</td>\n",
       "      <td>238.0</td>\n",
       "      <td>108.7</td>\n",
       "      <td>283.0</td>\n",
       "      <td>-12.35</td>\n",
       "      <td>101.2</td>\n",
       "      <td>187.0</td>\n",
       "      <td>113.5</td>\n",
       "      <td>16</td>\n",
       "      <td>16</td>\n",
       "      <td>0</td>\n",
       "    </tr>\n",
       "    <tr>\n",
       "      <th>2</th>\n",
       "      <td>2003</td>\n",
       "      <td>136</td>\n",
       "      <td>1436</td>\n",
       "      <td>51</td>\n",
       "      <td>1112</td>\n",
       "      <td>80</td>\n",
       "      <td>0</td>\n",
       "      <td>0</td>\n",
       "      <td>20</td>\n",
       "      <td>64</td>\n",
       "      <td>...</td>\n",
       "      <td>191.0</td>\n",
       "      <td>99.5</td>\n",
       "      <td>4.0</td>\n",
       "      <td>26.80</td>\n",
       "      <td>115.6</td>\n",
       "      <td>10.0</td>\n",
       "      <td>88.8</td>\n",
       "      <td>16</td>\n",
       "      <td>1</td>\n",
       "      <td>15</td>\n",
       "    </tr>\n",
       "    <tr>\n",
       "      <th>3</th>\n",
       "      <td>2003</td>\n",
       "      <td>136</td>\n",
       "      <td>1112</td>\n",
       "      <td>80</td>\n",
       "      <td>1436</td>\n",
       "      <td>51</td>\n",
       "      <td>0</td>\n",
       "      <td>0</td>\n",
       "      <td>31</td>\n",
       "      <td>66</td>\n",
       "      <td>...</td>\n",
       "      <td>10.0</td>\n",
       "      <td>88.8</td>\n",
       "      <td>150.0</td>\n",
       "      <td>1.57</td>\n",
       "      <td>101.1</td>\n",
       "      <td>191.0</td>\n",
       "      <td>99.5</td>\n",
       "      <td>1</td>\n",
       "      <td>16</td>\n",
       "      <td>-15</td>\n",
       "    </tr>\n",
       "    <tr>\n",
       "      <th>4</th>\n",
       "      <td>2003</td>\n",
       "      <td>136</td>\n",
       "      <td>1113</td>\n",
       "      <td>84</td>\n",
       "      <td>1272</td>\n",
       "      <td>71</td>\n",
       "      <td>0</td>\n",
       "      <td>0</td>\n",
       "      <td>31</td>\n",
       "      <td>59</td>\n",
       "      <td>...</td>\n",
       "      <td>18.0</td>\n",
       "      <td>97.4</td>\n",
       "      <td>29.0</td>\n",
       "      <td>16.72</td>\n",
       "      <td>110.9</td>\n",
       "      <td>35.0</td>\n",
       "      <td>94.1</td>\n",
       "      <td>10</td>\n",
       "      <td>7</td>\n",
       "      <td>3</td>\n",
       "    </tr>\n",
       "  </tbody>\n",
       "</table>\n",
       "<p>5 rows × 88 columns</p>\n",
       "</div>"
      ],
      "text/plain": [
       "   Season  DayNum  T1_TeamID  T1_Score  T2_TeamID  T2_Score  location  NumOT  \\\n",
       "0    2003     134       1421        92       1411        84         0      1   \n",
       "1    2003     134       1411        84       1421        92         0      1   \n",
       "2    2003     136       1436        51       1112        80         0      0   \n",
       "3    2003     136       1112        80       1436        51         0      0   \n",
       "4    2003     136       1113        84       1272        71         0      0   \n",
       "\n",
       "   T1_FGM  T1_FGA  ...  T1_Strength of Schedule_AdjD  T1_NCSOS_AdjT  T2_Rk  \\\n",
       "0      32      69  ...                         187.0          113.5  260.0   \n",
       "1      29      67  ...                         238.0          108.7  283.0   \n",
       "2      20      64  ...                         191.0           99.5    4.0   \n",
       "3      31      66  ...                          10.0           88.8  150.0   \n",
       "4      31      59  ...                          18.0           97.4   29.0   \n",
       "\n",
       "   T2_AdjEM  T2_AdjO  T2_Strength of Schedule_AdjD  T2_NCSOS_AdjT  T1_seed  \\\n",
       "0    -10.45     98.3                         238.0          108.7       16   \n",
       "1    -12.35    101.2                         187.0          113.5       16   \n",
       "2     26.80    115.6                          10.0           88.8       16   \n",
       "3      1.57    101.1                         191.0           99.5        1   \n",
       "4     16.72    110.9                          35.0           94.1       10   \n",
       "\n",
       "   T2_seed  SeedDiff  \n",
       "0       16         0  \n",
       "1       16         0  \n",
       "2        1        15  \n",
       "3       16       -15  \n",
       "4        7         3  \n",
       "\n",
       "[5 rows x 88 columns]"
      ]
     },
     "execution_count": 7,
     "metadata": {},
     "output_type": "execute_result"
    }
   ],
   "source": [
    "tourney_data.head()"
   ]
  },
  {
   "cell_type": "markdown",
   "metadata": {},
   "source": [
    "# Model Building"
   ]
  },
  {
   "cell_type": "code",
   "execution_count": 8,
   "metadata": {},
   "outputs": [],
   "source": [
    "# define log-loss scoring\n",
    "from sklearn.metrics import log_loss, make_scorer\n",
    "from sklearn.model_selection import cross_val_score, GroupKFold, train_test_split\n",
    "from sklearn.linear_model import Lasso\n",
    "from sklearn.ensemble import RandomForestRegressor\n",
    "\n",
    "import matplotlib.pyplot as plt"
   ]
  },
  {
   "cell_type": "code",
   "execution_count": 10,
   "metadata": {},
   "outputs": [],
   "source": [
    "features1 = [\n",
    "       'location', 'T1_FGMmean', 'T1_FGAmean', 'T1_FGM3mean', 'T1_FGA3mean',\n",
    "       'T1_ORmean', 'T1_Astmean', 'T1_TOmean', 'T1_Stlmean', 'T1_PFmean',\n",
    "       'T1_opponent_FGMmean', 'T1_opponent_FGAmean', 'T1_opponent_FGM3mean',\n",
    "       'T1_opponent_FGA3mean', 'T1_opponent_ORmean', 'T1_opponent_Astmean',\n",
    "       'T1_opponent_TOmean', 'T1_opponent_Stlmean', 'T1_opponent_Blkmean',\n",
    "       'PointDiffmean', 'T2_FGMmean', 'T2_FGAmean', 'T2_FGM3mean',\n",
    "       'T2_FGA3mean', 'T2_ORmean', 'T2_Astmean', 'T2_TOmean', 'T2_Stlmean',\n",
    "       'T2_PFmean', 'T2_opponent_FGMmean', 'T2_opponent_FGAmean',\n",
    "       'T2_opponent_FGM3mean', 'T2_opponent_FGA3mean', 'T2_opponent_ORmean',\n",
    "       'T2_opponent_Astmean', 'T2_opponent_TOmean', 'T2_opponent_Stlmean',\n",
    "       'T2_opponent_Blkmean', 'T2_PointDiffmean', 'T1_win_ratio_14d',\n",
    "       'T2_win_ratio_14d', 'T1_Rk', 'T1_AdjEM', 'T1_AdjO',\n",
    "       'T1_Strength of Schedule_AdjD', 'T1_NCSOS_AdjT', 'T2_Rk', 'T2_AdjEM',\n",
    "       'T2_AdjO', 'T2_Strength of Schedule_AdjD', 'T2_NCSOS_AdjT', 'T1_seed',\n",
    "       'T2_seed', 'SeedDiff'\n",
    "]\n",
    "\n",
    "features = [\n",
    "    'T1_win_ratio_14d',\n",
    "   'T2_win_ratio_14d', 'T1_Rk', 'T1_AdjEM', 'T1_AdjO',\n",
    "   'T1_Strength of Schedule_AdjD', 'T1_NCSOS_AdjT', 'T2_Rk', 'T2_AdjEM',\n",
    "   'T2_AdjO', 'T2_Strength of Schedule_AdjD', 'T2_NCSOS_AdjT', \n",
    "]\n",
    "\n",
    "features2 = [\n",
    "    \n",
    "]\n",
    "\n",
    "df = tourney_data.dropna(how='any')\n",
    "\n",
    "X = df[features].copy()\n",
    "y = np.where(df['T1_Score'] - df['T2_Score'] > 0, 1, 0)\n",
    "\n",
    "# split training and testing:\n",
    "random_state = 1\n",
    "X_train, X_test, y_train, y_test = train_test_split(X, y, train_size=0.8, random_state=random_state)\n",
    "X_train, X_val, y_train, y_val = train_test_split(X_train, y_train, train_size=0.8, random_state=random_state)"
   ]
  },
  {
   "cell_type": "code",
   "execution_count": 11,
   "metadata": {},
   "outputs": [],
   "source": [
    "def print_score(m):\n",
    "    res = {\n",
    "        \"train log loss\":log_loss(y_train, m.predict(X_train)), \n",
    "        \"val log loss\" : log_loss(y_val, m.predict(X_val)),\n",
    "        \"training r^2\" : m.score(X_train, y_train), \n",
    "        \"validation r^2\" : m.score(X_val, y_val)\n",
    "        }\n",
    "    if hasattr(m, 'oob_score_'): \n",
    "        res['oob score'] = m.oob_score_\n",
    "    for label, val in res.items(): \n",
    "        print(label + \": \", val)"
   ]
  },
  {
   "cell_type": "markdown",
   "metadata": {},
   "source": [
    "## Random Forest\n",
    "Just to get warmed up again."
   ]
  },
  {
   "cell_type": "code",
   "execution_count": 12,
   "metadata": {
    "scrolled": true
   },
   "outputs": [
    {
     "name": "stdout",
     "output_type": "stream",
     "text": [
      "Wall time: 248 ms\n",
      "train log loss:  0.13660838873292766\n",
      "val log loss:  0.8844583068628453\n",
      "training r^2:  0.8993459804942714\n",
      "validation r^2:  0.284336286653185\n"
     ]
    }
   ],
   "source": [
    "random_state = 1\n",
    "model = RandomForestRegressor(n_jobs=-1, n_estimators=100)\n",
    "\n",
    "%time model.fit(X_train, y_train)\n",
    "\n",
    "print_score(model)"
   ]
  },
  {
   "cell_type": "code",
   "execution_count": 13,
   "metadata": {
    "scrolled": false
   },
   "outputs": [
    {
     "name": "stderr",
     "output_type": "stream",
     "text": [
      "C:\\ProgramData\\Anaconda3\\lib\\site-packages\\sklearn\\ensemble\\_forest.py:815: UserWarning: Some inputs do not have OOB scores. This probably means too few trees were used to compute any reliable oob estimates.\n",
      "  warn(\"Some inputs do not have OOB scores. \"\n"
     ]
    },
    {
     "data": {
      "text/plain": [
       "[<matplotlib.lines.Line2D at 0x25dce762c08>]"
      ]
     },
     "execution_count": 13,
     "metadata": {},
     "output_type": "execute_result"
    },
    {
     "data": {
      "image/png": "[encoded data removed]",
      "text/plain": [
       "<Figure size 432x288 with 1 Axes>"
      ]
     },
     "metadata": {
      "needs_background": "light"
     },
     "output_type": "display_data"
    }
   ],
   "source": [
    "n_trees = [10, 50, 100, 150, 200, 300]\n",
    "val_log_loss = []\n",
    "for n in n_trees:\n",
    "    model = RandomForestRegressor(\n",
    "        n_estimators=n, n_jobs=-1, oob_score=True, random_state=random_state\n",
    "    )\n",
    "    model.fit(X_train, y_train)\n",
    "    val_log_loss.append(log_loss(y_val, model.predict(X_val)))\n",
    "\n",
    "plt.plot(n_trees, val_log_loss)"
   ]
  },
  {
   "cell_type": "code",
   "execution_count": 14,
   "metadata": {},
   "outputs": [
    {
     "data": {
      "text/plain": [
       "[<matplotlib.lines.Line2D at 0x25dcddbc6c8>]"
      ]
     },
     "execution_count": 14,
     "metadata": {},
     "output_type": "execute_result"
    },
    {
     "data": {
      "image/png": "[encoded data removed]",
      "text/plain": [
       "<Figure size 432x288 with 1 Axes>"
      ]
     },
     "metadata": {
      "needs_background": "light"
     },
     "output_type": "display_data"
    }
   ],
   "source": [
    "params = dict(\n",
    "    n_jobs=-1,\n",
    "    oob_score=True, \n",
    "    n_estimators=150,\n",
    ")\n",
    "\n",
    "min_samples_leaf = [2, 5, 10, 20, 50]\n",
    "val_log_loss = []\n",
    "for msl in min_samples_leaf:\n",
    "    model = RandomForestRegressor(  \n",
    "        min_samples_leaf=msl,\n",
    "        **params\n",
    "    )\n",
    "    model.fit(X_train, y_train)\n",
    "    val_log_loss.append(log_loss(y_val, model.predict(X_val)))\n",
    "\n",
    "plt.plot(min_samples_leaf, val_log_loss)"
   ]
  },
  {
   "cell_type": "code",
   "execution_count": 15,
   "metadata": {},
   "outputs": [],
   "source": [
    "val, idx = min((val, idx) for (idx, val) in enumerate(val_log_loss))\n",
    "params['min_samples_leaf'] = min_samples_leaf[idx]"
   ]
  },
  {
   "cell_type": "code",
   "execution_count": 16,
   "metadata": {},
   "outputs": [
    {
     "name": "stdout",
     "output_type": "stream",
     "text": [
      "{'n_jobs': -1, 'oob_score': True, 'n_estimators': 150, 'min_samples_leaf': 20}\n"
     ]
    },
    {
     "data": {
      "text/plain": [
       "[<matplotlib.lines.Line2D at 0x25dcee8de88>]"
      ]
     },
     "execution_count": 16,
     "metadata": {},
     "output_type": "execute_result"
    },
    {
     "data": {
      "image/png": "[encoded data removed]",
      "text/plain": [
       "<Figure size 432x288 with 1 Axes>"
      ]
     },
     "metadata": {
      "needs_background": "light"
     },
     "output_type": "display_data"
    }
   ],
   "source": [
    "max_leaf_nodes = [10, 20, 30, 40, 50, 60, 70]\n",
    "print(params)\n",
    "\n",
    "val_log_loss = []\n",
    "for m in max_leaf_nodes:\n",
    "    model = RandomForestRegressor(\n",
    "     max_leaf_nodes=m, **params\n",
    "    )\n",
    "    model.fit(X_train, y_train)\n",
    "    val_log_loss.append(log_loss(y_val, model.predict(X_val)))\n",
    "\n",
    "plt.plot(max_leaf_nodes, val_log_loss)"
   ]
  },
  {
   "cell_type": "code",
   "execution_count": 17,
   "metadata": {},
   "outputs": [
    {
     "name": "stdout",
     "output_type": "stream",
     "text": [
      "Max leaf nodes:  50\n"
     ]
    }
   ],
   "source": [
    "val, idx = min((val, idx) for (idx, val) in enumerate(val_log_loss))\n",
    "params['max_leaf_nodes'] = max_leaf_nodes[idx]\n",
    "print(\"Max leaf nodes: \", max_leaf_nodes[idx])"
   ]
  },
  {
   "cell_type": "code",
   "execution_count": 18,
   "metadata": {},
   "outputs": [
    {
     "name": "stdout",
     "output_type": "stream",
     "text": [
      "{'n_jobs': -1, 'oob_score': True, 'n_estimators': 150, 'min_samples_leaf': 20, 'max_leaf_nodes': 50}\n",
      "train log loss:  0.40335940392135633\n",
      "val log loss:  0.512960051902188\n",
      "training r^2:  0.47509892247342517\n",
      "validation r^2:  0.31002327963533727\n",
      "oob score:  0.3356668854796848\n"
     ]
    }
   ],
   "source": [
    "print(params)\n",
    "model = RandomForestRegressor(\n",
    "     **params\n",
    "    )\n",
    "model.fit(X_train, y_train)\n",
    "print_score(model)"
   ]
  },
  {
   "cell_type": "markdown",
   "metadata": {},
   "source": [
    "## CV Pipe"
   ]
  },
  {
   "cell_type": "code",
   "execution_count": 19,
   "metadata": {
    "scrolled": true
   },
   "outputs": [],
   "source": [
    "from sklearn.model_selection import LeaveOneGroupOut\n",
    "def cv_score(m, X_test_, y_test_, print_=True):\n",
    "    res = log_loss(y_test_, m.predict(X_test_))\n",
    "    if print_: print(f\"Val log loss: {res}\")\n",
    "    return res\n",
    "\n",
    "def leave_one_out_CV(estimater, params, folds, df, features):\n",
    "    X = df[features].copy()\n",
    "    y = np.where(df['T1_Score'] - df['T2_Score'] > 0, 1, 0)\n",
    "    groups = df['Season'].values - 2003\n",
    "\n",
    "    # split training and testing:\n",
    "    X_train, X_test, y_train, y_test = train_test_split(X, y, train_size=0.8)\n",
    "    X_train, X_val, y_train, y_val = train_test_split(X_train, y_train, train_size=0.8)\n",
    "\n",
    "\n",
    "    cv_res = {}\n",
    "    group_kfold = LeaveOneGroupOut()\n",
    "    groups_ = groups[X_train.index]\n",
    "\n",
    "    for i in range(folds):\n",
    "        cv_res[i] = []\n",
    "        for train_index, test_index in group_kfold.split(X_train.values, y_train, groups_):\n",
    "            X_train_, X_test_ = X_train.iloc[train_index], X_train.iloc[test_index]\n",
    "            y_train_, y_test_ = y_train[train_index], y_train[test_index]\n",
    "\n",
    "            if hasattr(estimater, \"random_state\"):\n",
    "                params['random_state'] = i\n",
    "\n",
    "            m = estimater(**params)\n",
    "            m.fit(X_train_, y_train_)\n",
    "            cv_res[i].append(cv_score(m, X_test_, y_test_, print_=False))\n",
    "        print(f\"Fold {i} Log Loss: {np.mean(cv_res[i])}\")\n",
    "\n",
    "    cv_results = [np.mean(vals) for i, vals in cv_res.items()]\n",
    "    print(\"CV Fold Results\", cv_results)\n",
    "    print(\"Mean CV Log Loss: \", np.mean(cv_results))"
   ]
  },
  {
   "cell_type": "code",
   "execution_count": 20,
   "metadata": {},
   "outputs": [
    {
     "name": "stdout",
     "output_type": "stream",
     "text": [
      "Fold 0 Log Loss: 0.505333130180317\n",
      "Fold 1 Log Loss: 0.5040502663288713\n",
      "Fold 2 Log Loss: 0.5041369030382725\n",
      "CV Fold Results [0.505333130180317, 0.5040502663288713, 0.5041369030382725]\n",
      "Mean CV Log Loss:  0.5045067665158203\n"
     ]
    }
   ],
   "source": [
    "df = tourney_data.dropna(how='any').reset_index(drop=True)\n",
    "\n",
    "leave_one_out_CV(estimater=RandomForestRegressor, params=params, \n",
    "                 folds=3, df=df, features=features)"
   ]
  },
  {
   "cell_type": "code",
   "execution_count": 21,
   "metadata": {
    "scrolled": true
   },
   "outputs": [
    {
     "name": "stdout",
     "output_type": "stream",
     "text": [
      "Fitting 17 folds for each of 210 candidates, totalling 3570 fits\n"
     ]
    },
    {
     "name": "stderr",
     "output_type": "stream",
     "text": [
      "[Parallel(n_jobs=-1)]: Using backend LokyBackend with 12 concurrent workers.\n",
      "[Parallel(n_jobs=-1)]: Done  26 tasks      | elapsed:    1.8s\n",
      "[Parallel(n_jobs=-1)]: Done 176 tasks      | elapsed:    9.4s\n",
      "[Parallel(n_jobs=-1)]: Done 426 tasks      | elapsed:   23.8s\n",
      "[Parallel(n_jobs=-1)]: Done 776 tasks      | elapsed:   45.0s\n",
      "[Parallel(n_jobs=-1)]: Done 1226 tasks      | elapsed:  1.2min\n",
      "[Parallel(n_jobs=-1)]: Done 1776 tasks      | elapsed:  1.8min\n",
      "[Parallel(n_jobs=-1)]: Done 2426 tasks      | elapsed:  2.5min\n",
      "[Parallel(n_jobs=-1)]: Done 3176 tasks      | elapsed:  3.4min\n",
      "[Parallel(n_jobs=-1)]: Done 3570 out of 3570 | elapsed:  3.8min finished\n"
     ]
    },
    {
     "data": {
      "text/plain": [
       "GridSearchCV(cv=<generator object BaseCrossValidator.split at 0x0000025DCE657648>,\n",
       "             error_score=nan,\n",
       "             estimator=RandomForestRegressor(bootstrap=True, ccp_alpha=0.0,\n",
       "                                             criterion='mse', max_depth=None,\n",
       "                                             max_features='auto',\n",
       "                                             max_leaf_nodes=None,\n",
       "                                             max_samples=None,\n",
       "                                             min_impurity_decrease=0.0,\n",
       "                                             min_impurity_split=None,\n",
       "                                             min_samples_leaf=1,\n",
       "                                             min_samples_split=2,\n",
       "                                             min_weight_fraction_leaf=0.0,\n",
       "                                             n_estimators=100, n_jobs=None,\n",
       "                                             oob_score=False, random_state=None,\n",
       "                                             verbose=0, warm_start=False),\n",
       "             iid='deprecated', n_jobs=-1,\n",
       "             param_grid={'max_leaf_nodes': [10, 20, 30, 40, 50, 60, 70],\n",
       "                         'min_samples_leaf': [2, 5, 10, 20, 50],\n",
       "                         'n_estimators': [10, 50, 100, 150, 200, 300]},\n",
       "             pre_dispatch='2*n_jobs', refit=True, return_train_score=False,\n",
       "             scoring=None, verbose=True)"
      ]
     },
     "execution_count": 21,
     "metadata": {},
     "output_type": "execute_result"
    }
   ],
   "source": [
    "from sklearn.model_selection import GridSearchCV\n",
    "\n",
    "def custom_scoring(estimator, X, y):\n",
    "    return log_loss(y, estimator.predict(X))\n",
    "\n",
    "# use grid search CV to hyper parameter tune properly:\n",
    "df = tourney_data.dropna(how='any').reset_index().copy()\n",
    "X = df[features].copy()\n",
    "y = np.where(df['T1_Score'] - df['T2_Score'] > 0, 1, 0)\n",
    "groups = df['Season'].values - 2003\n",
    "\n",
    "# split training and testing:\n",
    "X_train, X_test, y_train, y_test = train_test_split(X, y, train_size=0.8)\n",
    "X_train, X_val, y_train, y_val = train_test_split(X_train, y_train, train_size=0.8)\n",
    "\n",
    "\n",
    "cv_res = {}\n",
    "logo = LeaveOneGroupOut()\n",
    "groups_ = groups[X_train.index]\n",
    "\n",
    "param_grid = {\n",
    "    'n_estimators' : [10, 50, 100, 150, 200, 300],\n",
    "    'min_samples_leaf' : [2, 5, 10, 20, 50],\n",
    "    'max_leaf_nodes' : [10, 20, 30, 40, 50, 60, 70]\n",
    "}\n",
    "\n",
    "\n",
    "gs_cv = GridSearchCV(\n",
    "    estimator=RandomForestRegressor(),\n",
    "    param_grid=param_grid,\n",
    "    scoring=None,\n",
    "    n_jobs=-1,\n",
    "    cv=logo.split(X_train, y_train, groups_),\n",
    "    verbose=True\n",
    ")\n",
    "\n",
    "gs_cv.fit(X_train, y_train)"
   ]
  },
  {
   "cell_type": "code",
   "execution_count": 22,
   "metadata": {},
   "outputs": [
    {
     "name": "stdout",
     "output_type": "stream",
     "text": [
      "Best params: {'max_leaf_nodes': 20, 'min_samples_leaf': 2, 'n_estimators': 300}\n",
      "train log loss:  0.4067260131631536\n",
      "val log loss:  0.50595963487314\n",
      "training r^2:  0.4833226046018928\n",
      "validation r^2:  0.31938667607190174\n"
     ]
    }
   ],
   "source": [
    "best_model = gs_cv.best_estimator_\n",
    "\n",
    "print(f\"Best params: {gs_cv.best_params_}\")\n",
    "print_score(best_model)"
   ]
  },
  {
   "cell_type": "markdown",
   "metadata": {},
   "source": [
    "# Linear Models"
   ]
  },
  {
   "cell_type": "code",
   "execution_count": 32,
   "metadata": {},
   "outputs": [],
   "source": [
    "from sklearn import linear_model\n",
    "from sklearn.model_selection import cross_val_score\n",
    "\n",
    "def custom_scoring(estimator, X, y):\n",
    "    return 1/log_loss(y, estimator.predict(X))\n",
    "\n",
    "ridge = linear_model.Ridge()\n",
    "\n",
    "# use grid search CV to hyper parameter tune properly:\n",
    "df = tourney_data.dropna(how='any').reset_index().copy()\n",
    "X = df[features].copy()\n",
    "y = np.where(df['T1_Score'] - df['T2_Score'] > 0, 1, 0)\n",
    "groups = df['Season'].values - 2003\n",
    "\n",
    "# split training and testing:\n",
    "X_train, X_test, y_train, y_test = train_test_split(X, y, train_size=0.8)\n",
    "X_train, X_val, y_train, y_val = train_test_split(X_train, y_train, train_size=0.8)\n",
    "\n",
    "groups = groups[X_train.index]\n",
    "\n",
    "logo = LeaveOneGroupOut()\n",
    "\n",
    "cv_score = cross_val_score(\n",
    "        estimator=ridge,\n",
    "        X=X_train,\n",
    "        y=y_train,\n",
    "        groups=groups,\n",
    "        scoring = custom_scoring,\n",
    "        cv = logo.split(X_train, y_train, groups),\n",
    "        n_jobs=-1,\n",
    "        verbose=0,\n",
    "    )"
   ]
  },
  {
   "cell_type": "code",
   "execution_count": 57,
   "metadata": {},
   "outputs": [],
   "source": [
    "# bulk trial:\n",
    "estimators = [\n",
    "    linear_model.BayesianRidge(),\n",
    "    linear_model.ARDRegression(),\n",
    "    linear_model.ElasticNetCV(),\n",
    "    linear_model.ElasticNet(),\n",
    "    linear_model.Lasso(),\n",
    "    linear_model.LogisticRegression(),\n",
    "    linear_model.SGDRegressor()\n",
    "]\n",
    "\n",
    "scores = {}\n",
    "\n",
    "for est in estimators:\n",
    "    scores[est.__class__.__name__] = np.mean(1/cross_val_score(\n",
    "        estimator=est,\n",
    "        X=X_train,\n",
    "        y=y_train,\n",
    "        groups=groups,\n",
    "        scoring = custom_scoring,\n",
    "        cv = logo.split(X_train, y_train, groups),\n",
    "        n_jobs=-1,\n",
    "        verbose=0,\n",
    "    ))"
   ]
  },
  {
   "cell_type": "code",
   "execution_count": 58,
   "metadata": {},
   "outputs": [
    {
     "data": {
      "text/plain": [
       "{'BayesianRidge': 0.5388372332215334,\n",
       " 'ARDRegression': 0.5400969707584765,\n",
       " 'ElasticNetCV': 0.5386575808027512,\n",
       " 'ElasticNet': 0.5602435639098499,\n",
       " 'Lasso': 0.5649386680483847,\n",
       " 'LogisticRegression': 8.531066548191909,\n",
       " 'SGDRegressor': 18.10431395223673}"
      ]
     },
     "execution_count": 58,
     "metadata": {},
     "output_type": "execute_result"
    }
   ],
   "source": [
    "scores"
   ]
  },
  {
   "cell_type": "code",
   "execution_count": null,
   "metadata": {},
   "outputs": [],
   "source": []
  }
 ],
 "metadata": {
  "kernelspec": {
   "display_name": "Python 3",
   "language": "python",
   "name": "python3"
  },
  "language_info": {
   "codemirror_mode": {
    "name": "ipython",
    "version": 3
   },
   "file_extension": ".py",
   "mimetype": "text/x-python",
   "name": "python",
   "nbconvert_exporter": "python",
   "pygments_lexer": "ipython3",
   "version": "3.7.6"
  }
 },
 "nbformat": 4,
 "nbformat_minor": 4
}
