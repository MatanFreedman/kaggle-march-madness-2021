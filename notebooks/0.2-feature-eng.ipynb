{
 "cells": [
  {
   "cell_type": "code",
   "execution_count": 5,
   "metadata": {
    "ExecuteTime": {
     "end_time": "2021-03-15T17:51:31.002216Z",
     "start_time": "2021-03-15T17:51:30.986592Z"
    }
   },
   "outputs": [],
   "source": [
    "from pathlib import Path\n",
    "\n",
    "import pandas as pd\n",
    "import numpy as np \n",
    "\n",
    "import logging"
   ]
  },
  {
   "cell_type": "code",
   "execution_count": 57,
   "metadata": {
    "ExecuteTime": {
     "end_time": "2021-03-15T20:46:15.027662Z",
     "start_time": "2021-03-15T20:46:14.826877Z"
    }
   },
   "outputs": [],
   "source": [
    "df = pd.read_csv(f\"../data/external/MRegularSeasonDetailedResults.csv\")\n",
    "df_og = df.copy()"
   ]
  },
  {
   "cell_type": "markdown",
   "metadata": {},
   "source": [
    "# Basic Stats"
   ]
  },
  {
   "cell_type": "code",
   "execution_count": 63,
   "metadata": {
    "ExecuteTime": {
     "end_time": "2021-03-15T20:50:27.828762Z",
     "start_time": "2021-03-15T20:50:08.923692Z"
    }
   },
   "outputs": [
    {
     "name": "stdout",
     "output_type": "stream",
     "text": [
      "2.37 s ± 108 ms per loop (mean ± std. dev. of 7 runs, 1 loop each)\n"
     ]
    }
   ],
   "source": [
    "%%timeit\n",
    "df.apply(lambda row: 0.96*(row.LFGA + row.LTO + 0.44*row.LFTA - row.LOR), axis=1)"
   ]
  },
  {
   "cell_type": "code",
   "execution_count": 62,
   "metadata": {
    "ExecuteTime": {
     "end_time": "2021-03-15T20:49:34.199800Z",
     "start_time": "2021-03-15T20:49:24.844544Z"
    }
   },
   "outputs": [
    {
     "name": "stdout",
     "output_type": "stream",
     "text": [
      "1.1 ms ± 44.9 µs per loop (mean ± std. dev. of 7 runs, 1000 loops each)\n"
     ]
    }
   ],
   "source": [
    "%%timeit\n",
    "0.96*(df.LFGA + df.LTO + 0.44*df.LFTA - df.LOR)"
   ]
  },
  {
   "cell_type": "code",
   "execution_count": 43,
   "metadata": {
    "ExecuteTime": {
     "end_time": "2021-03-15T20:41:57.304829Z",
     "start_time": "2021-03-15T20:41:57.157962Z"
    }
   },
   "outputs": [],
   "source": [
    "# Points Winning/Losing Team\n",
    "df['WPts'] = df.apply(lambda row: 2*row.WFGM + row.WFGM3 + row.WFTM, axis=1)\n",
    "df['LPts'] = df.apply(lambda row: 2*row.LFGM + row.LFGM3 + row.LFTM, axis=1)\n",
    "\n",
    "#Calculate Winning/losing Team Possesion Feature\n",
    "wPos = df.apply(lambda row: 0.96*(row.WFGA + row.WTO + 0.44*row.WFTA - row.WOR), axis=1)\n",
    "lPos = df.apply(lambda row: 0.96*(row.LFGA + row.LTO + 0.44*row.LFTA - row.LOR), axis=1)\n",
    "#two teams use almost the same number of possessions in a game\n",
    "#(plus/minus one or two - depending on how quarters end)\n",
    "#so let's just take the average\n",
    "df['Pos'] = (wPos+lPos)/2"
   ]
  },
  {
   "cell_type": "markdown",
   "metadata": {},
   "source": [
    "# Advanced Stats"
   ]
  },
  {
   "cell_type": "code",
   "execution_count": 44,
   "metadata": {
    "ExecuteTime": {
     "end_time": "2021-03-15T20:41:58.792305Z",
     "start_time": "2021-03-15T20:41:58.160184Z"
    }
   },
   "outputs": [],
   "source": [
    "#Offensive efficiency (OffRtg) = 100 x (Points / Possessions)\n",
    "df['WOffRtg'] = df.apply(lambda row: 100 * (row.WPts / row.Pos), axis=1)\n",
    "df['LOffRtg'] = df.apply(lambda row: 100 * (row.LPts / row.Pos), axis=1)\n",
    "#Defensive efficiency (DefRtg) = 100 x (Opponent points / Opponent possessions)\n",
    "df['WDefRtg'] = df.LOffRtg\n",
    "df['LDefRtg'] = df.WOffRtg\n",
    "#Net Rating = Off.Rtg - Def.Rtg\n",
    "df['WNetRtg'] = df.apply(lambda row:(row.WOffRtg - row.WDefRtg), axis=1)\n",
    "df['LNetRtg'] = df.apply(lambda row:(row.LOffRtg - row.LDefRtg), axis=1)\n",
    "                         \n",
    "#Assist Ratio : Percentage of team possessions that end in assists\n",
    "df['WAstR'] = df.apply(lambda row: 100 * row.WAst / (row.WFGA + 0.44*row.WFTA + row.WAst + row.WTO), axis=1)\n",
    "df['LAstR'] = df.apply(lambda row: 100 * row.LAst / (row.LFGA + 0.44*row.LFTA + row.LAst + row.LTO), axis=1)\n",
    "#Turnover Ratio: Number of turnovers of a team per 100 possessions used.\n",
    "#(TO * 100) / (FGA + (FTA * 0.44) + AST + TO)\n",
    "df['WTOR'] = df.apply(lambda row: 100 * row.WTO / (row.WFGA + 0.44*row.WFTA + row.WAst + row.WTO), axis=1)\n",
    "df['LTOR'] = df.apply(lambda row: 100 * row.LTO / (row.LFGA + 0.44*row.LFTA + row.LAst + row.LTO), axis=1)\n",
    "                    \n",
    "#The Shooting Percentage : Measure of Shooting Efficiency (FGA/FGA3, FTA)\n",
    "df['WTSP'] = df.apply(lambda row: 100 * row.WPts / (2 * (row.WFGA + 0.44 * row.WFTA)), axis=1)\n",
    "df['LTSP'] = df.apply(lambda row: 100 * row.LPts / (2 * (row.LFGA + 0.44 * row.LFTA)), axis=1)\n",
    "#eFG% : Effective Field Goal Percentage adjusting for the fact that 3pt shots are more valuable \n",
    "df['WeFGP'] = df.apply(lambda row:(row.WFGM + 0.5 * row.WFGM3) / row.WFGA, axis=1)      \n",
    "df['LeFGP'] = df.apply(lambda row:(row.LFGM + 0.5 * row.LFGM3) / row.LFGA, axis=1)   \n",
    "#FTA Rate : How good a team is at drawing fouls.\n",
    "df['WFTAR'] = df.apply(lambda row: row.WFTA / row.WFGA, axis=1)\n",
    "df['LFTAR'] = df.apply(lambda row: row.LFTA / row.LFGA, axis=1)\n",
    "                         \n",
    "#OREB% : Percentage of team offensive rebounds\n",
    "df['WORP'] = df.apply(lambda row: row.WOR / (row.WOR + row.LDR), axis=1)\n",
    "df['LORP'] = df.apply(lambda row: row.LOR / (row.LOR + row.WDR), axis=1)\n",
    "#DREB% : Percentage of team defensive rebounds\n",
    "df['WDRP'] = df.apply(lambda row: row.WDR / (row.WDR + row.LOR), axis=1)\n",
    "df['LDRP'] = df.apply(lambda row: row.LDR / (row.LDR + row.WOR), axis=1)                                      \n",
    "#REB% : Percentage of team total rebounds\n",
    "df['WRP'] = df.apply(lambda row: (row.WDR + row.WOR) / (row.WDR + row.WOR + row.LDR + row.LOR), axis=1)\n",
    "df['LRP'] = df.apply(lambda row: (row.LDR + row.LOR) / (row.WDR + row.WOR + row.LDR + row.LOR), axis=1) "
   ]
  },
  {
   "cell_type": "code",
   "execution_count": 45,
   "metadata": {
    "ExecuteTime": {
     "end_time": "2021-03-15T20:41:58.818787Z",
     "start_time": "2021-03-15T20:41:58.792305Z"
    }
   },
   "outputs": [],
   "source": [
    "added_cols = ['Pos', 'OffRtg', 'DefRtg', 'NetRtg', 'AstR', 'TOR' ,'TSP', 'eFGP', 'FTAR', 'ORP', 'DRP', 'RP']"
   ]
  },
  {
   "cell_type": "code",
   "execution_count": 46,
   "metadata": {
    "ExecuteTime": {
     "end_time": "2021-03-15T20:42:00.210331Z",
     "start_time": "2021-03-15T20:42:00.194748Z"
    }
   },
   "outputs": [
    {
     "data": {
      "text/plain": [
       "Index(['Season', 'DayNum', 'WTeamID', 'WScore', 'LTeamID', 'LScore', 'WLoc',\n",
       "       'NumOT', 'WFGM', 'WFGA', 'WFGM3', 'WFGA3', 'WFTM', 'WFTA', 'WOR', 'WDR',\n",
       "       'WAst', 'WTO', 'WStl', 'WBlk', 'WPF', 'LFGM', 'LFGA', 'LFGM3', 'LFGA3',\n",
       "       'LFTM', 'LFTA', 'LOR', 'LDR', 'LAst', 'LTO', 'LStl', 'LBlk', 'LPF',\n",
       "       'WPts', 'LPts', 'Pos', 'WOffRtg', 'LOffRtg', 'WDefRtg', 'LDefRtg',\n",
       "       'WNetRtg', 'LNetRtg', 'WAstR', 'LAstR', 'WTOR', 'LTOR', 'WTSP', 'LTSP',\n",
       "       'WeFGP', 'LeFGP', 'WFTAR', 'LFTAR', 'WORP', 'LORP', 'WDRP', 'LDRP',\n",
       "       'WRP', 'LRP'],\n",
       "      dtype='object')"
      ]
     },
     "execution_count": 46,
     "metadata": {},
     "output_type": "execute_result"
    }
   ],
   "source": [
    "df.columns"
   ]
  },
  {
   "cell_type": "code",
   "execution_count": 60,
   "metadata": {
    "ExecuteTime": {
     "end_time": "2021-03-15T20:46:35.282957Z",
     "start_time": "2021-03-15T20:46:35.264229Z"
    }
   },
   "outputs": [
    {
     "data": {
      "text/plain": [
       "(92832, 34)"
      ]
     },
     "execution_count": 60,
     "metadata": {},
     "output_type": "execute_result"
    }
   ],
   "source": [
    "df_og.shape"
   ]
  },
  {
   "cell_type": "code",
   "execution_count": 61,
   "metadata": {
    "ExecuteTime": {
     "end_time": "2021-03-15T20:46:35.298611Z",
     "start_time": "2021-03-15T20:46:35.282957Z"
    }
   },
   "outputs": [
    {
     "data": {
      "text/plain": [
       "(92832, 34)"
      ]
     },
     "execution_count": 61,
     "metadata": {},
     "output_type": "execute_result"
    }
   ],
   "source": [
    "df.shape"
   ]
  },
  {
   "cell_type": "code",
   "execution_count": 69,
   "metadata": {
    "ExecuteTime": {
     "end_time": "2021-03-15T21:02:43.048377Z",
     "start_time": "2021-03-15T21:02:43.020742Z"
    }
   },
   "outputs": [
    {
     "data": {
      "text/plain": [
       "['WFGM',\n",
       " 'WFGA',\n",
       " 'WFGM3',\n",
       " 'WFGA3',\n",
       " 'WFTM',\n",
       " 'WFTA',\n",
       " 'WOR',\n",
       " 'WDR',\n",
       " 'WAst',\n",
       " 'WTO',\n",
       " 'WStl',\n",
       " 'WBlk',\n",
       " 'WPF',\n",
       " 'LFGM',\n",
       " 'LFGA',\n",
       " 'LFGM3',\n",
       " 'LFGA3',\n",
       " 'LFTM',\n",
       " 'LFTA',\n",
       " 'LOR',\n",
       " 'LDR',\n",
       " 'LAst',\n",
       " 'LTO',\n",
       " 'LStl',\n",
       " 'LBlk',\n",
       " 'LPF']"
      ]
     },
     "execution_count": 69,
     "metadata": {},
     "output_type": "execute_result"
    }
   ],
   "source": [
    "exclude_cols = ['TeamID', 'Score', 'Loc']\n",
    "exclude_cols2 = [\"Season\", \"DayNum\", \"NumOT\"]\n",
    "[c for c in df.columns if c[1:] not in exclude_cols and c not in exclude_cols2]"
   ]
  },
  {
   "cell_type": "code",
   "execution_count": null,
   "metadata": {},
   "outputs": [],
   "source": []
  }
 ],
 "metadata": {
  "kernelspec": {
   "display_name": "Python 3",
   "language": "python",
   "name": "python3"
  },
  "language_info": {
   "codemirror_mode": {
    "name": "ipython",
    "version": 3
   },
   "file_extension": ".py",
   "mimetype": "text/x-python",
   "name": "python",
   "nbconvert_exporter": "python",
   "pygments_lexer": "ipython3",
   "version": "3.7.0"
  },
  "toc": {
   "base_numbering": 1,
   "nav_menu": {},
   "number_sections": true,
   "sideBar": true,
   "skip_h1_title": false,
   "title_cell": "Table of Contents",
   "title_sidebar": "Contents",
   "toc_cell": false,
   "toc_position": {},
   "toc_section_display": true,
   "toc_window_display": false
  }
 },
 "nbformat": 4,
 "nbformat_minor": 4
}
