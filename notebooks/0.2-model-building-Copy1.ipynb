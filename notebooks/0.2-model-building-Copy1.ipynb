{
 "cells": [
  {
   "cell_type": "code",
   "execution_count": 1,
   "metadata": {},
   "outputs": [],
   "source": [
    "# OPTIONAL: Load the \"autoreload\" extension so that code can change\n",
    "%load_ext autoreload\n",
    "\n",
    "# OPTIONAL: always reload modules so that as you change code in src, it gets loaded\n",
    "%autoreload 2"
   ]
  },
  {
   "cell_type": "code",
   "execution_count": 2,
   "metadata": {},
   "outputs": [],
   "source": [
    "import pandas as pd\n",
    "import numpy as np\n",
    "\n",
    "from pathlib import Path"
   ]
  },
  {
   "cell_type": "markdown",
   "metadata": {},
   "source": [
    "# Load Data"
   ]
  },
  {
   "cell_type": "code",
   "execution_count": 3,
   "metadata": {},
   "outputs": [],
   "source": [
    "tourney_data = pd.read_csv(\"../data/processed/tourney_data.csv\")"
   ]
  },
  {
   "cell_type": "markdown",
   "metadata": {},
   "source": [
    "# Model Building"
   ]
  },
  {
   "cell_type": "code",
   "execution_count": 4,
   "metadata": {},
   "outputs": [],
   "source": [
    "# define log-loss scoring\n",
    "from sklearn.metrics import log_loss, make_scorer\n",
    "from sklearn.model_selection import cross_val_score, GroupKFold, train_test_split\n",
    "from sklearn.linear_model import Lasso\n",
    "from sklearn.ensemble import RandomForestRegressor\n",
    "\n",
    "import matplotlib.pyplot as plt"
   ]
  },
  {
   "cell_type": "code",
   "execution_count": 22,
   "metadata": {},
   "outputs": [],
   "source": [
    "features1 = [\n",
    "       'location', 'T1_FGMmean', 'T1_FGAmean', 'T1_FGM3mean', 'T1_FGA3mean',\n",
    "       'T1_ORmean', 'T1_Astmean', 'T1_TOmean', 'T1_Stlmean', 'T1_PFmean',\n",
    "       'T1_opponent_FGMmean', 'T1_opponent_FGAmean', 'T1_opponent_FGM3mean',\n",
    "       'T1_opponent_FGA3mean', 'T1_opponent_ORmean', 'T1_opponent_Astmean',\n",
    "       'T1_opponent_TOmean', 'T1_opponent_Stlmean', 'T1_opponent_Blkmean',\n",
    "       'PointDiffmean', 'T2_FGMmean', 'T2_FGAmean', 'T2_FGM3mean',\n",
    "       'T2_FGA3mean', 'T2_ORmean', 'T2_Astmean', 'T2_TOmean', 'T2_Stlmean',\n",
    "       'T2_PFmean', 'T2_opponent_FGMmean', 'T2_opponent_FGAmean',\n",
    "       'T2_opponent_FGM3mean', 'T2_opponent_FGA3mean', 'T2_opponent_ORmean',\n",
    "       'T2_opponent_Astmean', 'T2_opponent_TOmean', 'T2_opponent_Stlmean',\n",
    "       'T2_opponent_Blkmean', 'T2_PointDiffmean', 'T1_win_ratio_14d',\n",
    "       'T2_win_ratio_14d', 'T1_seed', 'T2_seed', 'SeedDiff', 'T1_Rk',\n",
    "       'T1_AdjEM', 'T1_AdjO', 'T1_Strength of Schedule_AdjD', 'T1_NCSOS_AdjT',\n",
    "       'T2_Rk', 'T2_AdjEM', 'T2_AdjO', 'T2_Strength of Schedule_AdjD',\n",
    "       'T2_NCSOS_AdjT'\n",
    "]\n",
    "\n",
    "features = [\n",
    "    'T1_win_ratio_14d',\n",
    "    'T2_win_ratio_14d', 'T1_seed', 'T2_seed', 'SeedDiff', 'T1_Rk',\n",
    "    'T1_AdjEM', 'T1_AdjO', 'T1_Strength of Schedule_AdjD', 'T1_NCSOS_AdjT',\n",
    "    'T2_Rk', 'T2_AdjEM', 'T2_AdjO', 'T2_Strength of Schedule_AdjD',\n",
    "    'T2_NCSOS_AdjT'\n",
    "]\n",
    "\n",
    "df = tourney_data.dropna(how='any')\n",
    "\n",
    "X = df[features].copy()\n",
    "y = np.where(df['T1_Score'] - df['T2_Score'] > 0, 1, 0)\n",
    "\n",
    "# split training and testing:\n",
    "random_state = 1\n",
    "X_train, X_test, y_train, y_test = train_test_split(X, y, train_size=0.8, random_state=random_state)\n",
    "X_train, X_val, y_train, y_val = train_test_split(X_train, y_train, train_size=0.8, random_state=random_state)"
   ]
  },
  {
   "cell_type": "code",
   "execution_count": 7,
   "metadata": {},
   "outputs": [],
   "source": [
    "def print_score(m):\n",
    "    res = {\n",
    "        \"train log loss\":log_loss(y_train, m.predict(X_train)), \n",
    "        \"val log loss\" : log_loss(y_val, m.predict(X_val)),\n",
    "        \"training r^2\" : m.score(X_train, y_train), \n",
    "        \"validation r^2\" : m.score(X_val, y_val)\n",
    "        }\n",
    "    if hasattr(m, 'oob_score_'): \n",
    "        res['oob score'] = m.oob_score_\n",
    "    for label, val in res.items(): \n",
    "        print(label + \": \", val)"
   ]
  },
  {
   "cell_type": "markdown",
   "metadata": {},
   "source": [
    "## Random Forest\n",
    "Just to get warmed up again."
   ]
  },
  {
   "cell_type": "code",
   "execution_count": 23,
   "metadata": {
    "scrolled": true
   },
   "outputs": [
    {
     "name": "stdout",
     "output_type": "stream",
     "text": [
      "Wall time: 254 ms\n",
      "train log loss:  0.1347788507152001\n",
      "val log loss:  0.6361127728150276\n",
      "training r^2:  0.9023252880093426\n",
      "validation r^2:  0.2686735465116278\n"
     ]
    }
   ],
   "source": [
    "random_state = 1\n",
    "model = RandomForestRegressor(n_jobs=-1, n_estimators=100)\n",
    "\n",
    "%time model.fit(X_train, y_train)\n",
    "\n",
    "print_score(model)"
   ]
  },
  {
   "cell_type": "code",
   "execution_count": 25,
   "metadata": {
    "scrolled": false
   },
   "outputs": [
    {
     "name": "stderr",
     "output_type": "stream",
     "text": [
      "C:\\ProgramData\\Anaconda3\\lib\\site-packages\\sklearn\\ensemble\\_forest.py:815: UserWarning: Some inputs do not have OOB scores. This probably means too few trees were used to compute any reliable oob estimates.\n",
      "  warn(\"Some inputs do not have OOB scores. \"\n"
     ]
    },
    {
     "data": {
      "text/plain": [
       "[<matplotlib.lines.Line2D at 0x203afc8de48>]"
      ]
     },
     "execution_count": 25,
     "metadata": {},
     "output_type": "execute_result"
    },
    {
     "data": {
      "image/png": "[encoded data removed]",
      "text/plain": [
       "<Figure size 432x288 with 1 Axes>"
      ]
     },
     "metadata": {
      "needs_background": "light"
     },
     "output_type": "display_data"
    }
   ],
   "source": [
    "n_trees = [10, 50, 100, 150, 200, 300]\n",
    "val_log_loss = []\n",
    "for n in n_trees:\n",
    "    model = RandomForestRegressor(\n",
    "        n_estimators=n, n_jobs=-1, oob_score=True, random_state=random_state\n",
    "    )\n",
    "    model.fit(X_train, y_train)\n",
    "    val_log_loss.append(log_loss(y_val, model.predict(X_val)))\n",
    "\n",
    "plt.plot(n_trees, val_log_loss)"
   ]
  },
  {
   "cell_type": "code",
   "execution_count": 26,
   "metadata": {},
   "outputs": [
    {
     "data": {
      "text/plain": [
       "[<matplotlib.lines.Line2D at 0x203afd50888>]"
      ]
     },
     "execution_count": 26,
     "metadata": {},
     "output_type": "execute_result"
    },
    {
     "data": {
      "image/png": "[encoded data removed]",
      "text/plain": [
       "<Figure size 432x288 with 1 Axes>"
      ]
     },
     "metadata": {
      "needs_background": "light"
     },
     "output_type": "display_data"
    }
   ],
   "source": [
    "params = dict(\n",
    "    n_jobs=-1,\n",
    "    oob_score=True, \n",
    "    n_estimators=300,\n",
    ")\n",
    "\n",
    "min_samples_leaf = [2, 5, 10, 20, 50]\n",
    "val_log_loss = []\n",
    "for msl in min_samples_leaf:\n",
    "    model = RandomForestRegressor(  \n",
    "        min_samples_leaf=msl,\n",
    "        **params\n",
    "    )\n",
    "    model.fit(X_train, y_train)\n",
    "    val_log_loss.append(log_loss(y_val, model.predict(X_val)))\n",
    "\n",
    "plt.plot(min_samples_leaf, val_log_loss)"
   ]
  },
  {
   "cell_type": "code",
   "execution_count": 27,
   "metadata": {},
   "outputs": [],
   "source": [
    "val, idx = min((val, idx) for (idx, val) in enumerate(val_log_loss))\n",
    "params['min_samples_leaf'] = min_samples_leaf[idx]"
   ]
  },
  {
   "cell_type": "code",
   "execution_count": 28,
   "metadata": {},
   "outputs": [
    {
     "name": "stdout",
     "output_type": "stream",
     "text": [
      "{'n_jobs': -1, 'oob_score': True, 'n_estimators': 300, 'min_samples_leaf': 20}\n"
     ]
    },
    {
     "data": {
      "text/plain": [
       "[<matplotlib.lines.Line2D at 0x203b010be08>]"
      ]
     },
     "execution_count": 28,
     "metadata": {},
     "output_type": "execute_result"
    },
    {
     "data": {
      "image/png": "[encoded data removed]",
      "text/plain": [
       "<Figure size 432x288 with 1 Axes>"
      ]
     },
     "metadata": {
      "needs_background": "light"
     },
     "output_type": "display_data"
    }
   ],
   "source": [
    "max_leaf_nodes = [10, 20, 30, 40, 50, 60, 70]\n",
    "print(params)\n",
    "\n",
    "val_log_loss = []\n",
    "for m in max_leaf_nodes:\n",
    "    model = RandomForestRegressor(\n",
    "     max_leaf_nodes=m, **params\n",
    "    )\n",
    "    model.fit(X_train, y_train)\n",
    "    val_log_loss.append(log_loss(y_val, model.predict(X_val)))\n",
    "\n",
    "plt.plot(max_leaf_nodes, val_log_loss)"
   ]
  },
  {
   "cell_type": "code",
   "execution_count": 29,
   "metadata": {},
   "outputs": [
    {
     "name": "stdout",
     "output_type": "stream",
     "text": [
      "Max leaf nodes:  30\n"
     ]
    }
   ],
   "source": [
    "val, idx = min((val, idx) for (idx, val) in enumerate(val_log_loss))\n",
    "params['max_leaf_nodes'] = max_leaf_nodes[idx]\n",
    "print(\"Max leaf nodes: \", max_leaf_nodes[idx])"
   ]
  },
  {
   "cell_type": "code",
   "execution_count": 30,
   "metadata": {},
   "outputs": [
    {
     "name": "stdout",
     "output_type": "stream",
     "text": [
      "{'n_jobs': -1, 'oob_score': True, 'n_estimators': 300, 'min_samples_leaf': 20, 'max_leaf_nodes': 30}\n",
      "train log loss:  0.39737969403171497\n",
      "val log loss:  0.5180959571023522\n",
      "training r^2:  0.48811784884252657\n",
      "validation r^2:  0.30020298083886854\n",
      "oob score:  0.3458429261007604\n"
     ]
    }
   ],
   "source": [
    "print(params)\n",
    "model = RandomForestRegressor(\n",
    "     **params\n",
    "    )\n",
    "model.fit(X_train, y_train)\n",
    "print_score(model)"
   ]
  },
  {
   "cell_type": "markdown",
   "metadata": {},
   "source": [
    "## CV Pipe"
   ]
  },
  {
   "cell_type": "code",
   "execution_count": 31,
   "metadata": {
    "scrolled": true
   },
   "outputs": [],
   "source": [
    "from sklearn.model_selection import LeaveOneGroupOut\n",
    "def cv_score(m, X_test_, y_test_, print_=True):\n",
    "    res = log_loss(y_test_, m.predict(X_test_))\n",
    "    if print_: print(f\"Val log loss: {res}\")\n",
    "    return res\n",
    "\n",
    "def leave_one_out_CV(estimater, params, folds, df, features):\n",
    "    X = df[features].copy()\n",
    "    y = np.where(df['T1_Score'] - df['T2_Score'] > 0, 1, 0)\n",
    "    groups = df['Season'].values - 2003\n",
    "\n",
    "    # split training and testing:\n",
    "    X_train, X_test, y_train, y_test = train_test_split(X, y, train_size=0.8)\n",
    "    X_train, X_val, y_train, y_val = train_test_split(X_train, y_train, train_size=0.8)\n",
    "\n",
    "\n",
    "    cv_res = {}\n",
    "    group_kfold = LeaveOneGroupOut()\n",
    "    groups_ = groups[X_train.index]\n",
    "\n",
    "    for i in range(folds):\n",
    "        cv_res[i] = []\n",
    "        for train_index, test_index in group_kfold.split(X_train.values, y_train, groups_):\n",
    "            X_train_, X_test_ = X_train.iloc[train_index], X_train.iloc[test_index]\n",
    "            y_train_, y_test_ = y_train[train_index], y_train[test_index]\n",
    "\n",
    "            if hasattr(estimater, \"random_state\"):\n",
    "                params['random_state'] = i\n",
    "\n",
    "            m = estimater(**params)\n",
    "            m.fit(X_train_, y_train_)\n",
    "            cv_res[i].append(cv_score(m, X_test_, y_test_, print_=False))\n",
    "        print(f\"Fold {i} Log Loss: {np.mean(cv_res[i])}\")\n",
    "\n",
    "    cv_results = [np.mean(vals) for i, vals in cv_res.items()]\n",
    "    print(\"CV Fold Results\", cv_results)\n",
    "    print(\"Mean CV Log Loss: \", np.mean(cv_results))"
   ]
  },
  {
   "cell_type": "code",
   "execution_count": 32,
   "metadata": {},
   "outputs": [
    {
     "name": "stdout",
     "output_type": "stream",
     "text": [
      "Fold 0 Log Loss: 0.5027941549995318\n",
      "Fold 1 Log Loss: 0.5044081480169045\n",
      "Fold 2 Log Loss: 0.5031011270275108\n",
      "CV Fold Results [0.5027941549995318, 0.5044081480169045, 0.5031011270275108]\n",
      "Mean CV Log Loss:  0.5034344766813157\n"
     ]
    }
   ],
   "source": [
    "df = tourney_data.dropna(how='any').reset_index(drop=True)\n",
    "\n",
    "leave_one_out_CV(estimater=RandomForestRegressor, params=params, \n",
    "                 folds=3, df=df, features=features)"
   ]
  },
  {
   "cell_type": "code",
   "execution_count": 42,
   "metadata": {
    "scrolled": true
   },
   "outputs": [
    {
     "name": "stdout",
     "output_type": "stream",
     "text": [
      "Fitting 17 folds for each of 210 candidates, totalling 3570 fits\n"
     ]
    },
    {
     "name": "stderr",
     "output_type": "stream",
     "text": [
      "[Parallel(n_jobs=-1)]: Using backend LokyBackend with 12 concurrent workers.\n",
      "[Parallel(n_jobs=-1)]: Done  28 tasks      | elapsed:    0.5s\n",
      "[Parallel(n_jobs=-1)]: Done 224 tasks      | elapsed:   11.2s\n",
      "[Parallel(n_jobs=-1)]: Done 474 tasks      | elapsed:   25.6s\n",
      "[Parallel(n_jobs=-1)]: Done 824 tasks      | elapsed:   49.5s\n",
      "[Parallel(n_jobs=-1)]: Done 1274 tasks      | elapsed:  1.3min\n",
      "[Parallel(n_jobs=-1)]: Done 1824 tasks      | elapsed:  2.0min\n",
      "[Parallel(n_jobs=-1)]: Done 2474 tasks      | elapsed:  2.8min\n",
      "[Parallel(n_jobs=-1)]: Done 3224 tasks      | elapsed:  3.7min\n",
      "[Parallel(n_jobs=-1)]: Done 3570 out of 3570 | elapsed:  4.1min finished\n"
     ]
    },
    {
     "data": {
      "text/plain": [
       "GridSearchCV(cv=<generator object BaseCrossValidator.split at 0x00000203B038F5C8>,\n",
       "             error_score=nan,\n",
       "             estimator=RandomForestRegressor(bootstrap=True, ccp_alpha=0.0,\n",
       "                                             criterion='mse', max_depth=None,\n",
       "                                             max_features='auto',\n",
       "                                             max_leaf_nodes=None,\n",
       "                                             max_samples=None,\n",
       "                                             min_impurity_decrease=0.0,\n",
       "                                             min_impurity_split=None,\n",
       "                                             min_samples_leaf=1,\n",
       "                                             min_samples_split=2,\n",
       "                                             min_weight_fraction_leaf=0.0,\n",
       "                                             n_estimators=100, n_jobs=None,\n",
       "                                             oob_score=False, random_state=None,\n",
       "                                             verbose=0, warm_start=False),\n",
       "             iid='deprecated', n_jobs=-1,\n",
       "             param_grid={'max_leaf_nodes': [10, 20, 30, 40, 50, 60, 70],\n",
       "                         'min_samples_leaf': [2, 5, 10, 20, 50],\n",
       "                         'n_estimators': [10, 50, 100, 150, 200, 300]},\n",
       "             pre_dispatch='2*n_jobs', refit=True, return_train_score=False,\n",
       "             scoring=None, verbose=True)"
      ]
     },
     "execution_count": 42,
     "metadata": {},
     "output_type": "execute_result"
    }
   ],
   "source": [
    "from sklearn.model_selection import GridSearchCV\n",
    "\n",
    "def custom_scoring(estimator, X, y):\n",
    "    return log_loss(y, estimator.predict(X))\n",
    "\n",
    "# use grid search CV to hyper parameter tune properly:\n",
    "df = tourney_data.dropna(how='any').reset_index().copy()\n",
    "X = df[features].copy()\n",
    "y = np.where(df['T1_Score'] - df['T2_Score'] > 0, 1, 0)\n",
    "groups = df['Season'].values - 2003\n",
    "\n",
    "# split training and testing:\n",
    "X_train, X_test, y_train, y_test = train_test_split(X, y, train_size=0.8)\n",
    "X_train, X_val, y_train, y_val = train_test_split(X_train, y_train, train_size=0.8)\n",
    "\n",
    "\n",
    "cv_res = {}\n",
    "logo = LeaveOneGroupOut()\n",
    "groups_ = groups[X_train.index]\n",
    "\n",
    "param_grid = {\n",
    "    'n_estimators' : [10, 50, 100, 150, 200, 300],\n",
    "    'min_samples_leaf' : [2, 5, 10, 20, 50],\n",
    "    'max_leaf_nodes' : [10, 20, 30, 40, 50, 60, 70]\n",
    "}\n",
    "\n",
    "\n",
    "gs_cv = GridSearchCV(\n",
    "    estimator=RandomForestRegressor(),\n",
    "    param_grid=param_grid,\n",
    "    scoring=None,\n",
    "    n_jobs=-1,\n",
    "    cv=logo.split(X_train, y_train, groups_),\n",
    "    verbose=True\n",
    ")\n",
    "\n",
    "gs_cv.fit(X_train, y_train)"
   ]
  },
  {
   "cell_type": "code",
   "execution_count": 44,
   "metadata": {},
   "outputs": [
    {
     "name": "stdout",
     "output_type": "stream",
     "text": [
      "Best params: {'max_leaf_nodes': 60, 'min_samples_leaf': 20, 'n_estimators': 50}\n",
      "train log loss:  0.4096277636688148\n",
      "val log loss:  0.4833327730559077\n",
      "training r^2:  0.47146666829422823\n",
      "validation r^2:  0.3487239394737309\n"
     ]
    }
   ],
   "source": [
    "best_model = gs_cv.best_estimator_\n",
    "\n",
    "print(f\"Best params: {gs_cv.best_params_}\")\n",
    "print_score(best_model)"
   ]
  },
  {
   "cell_type": "markdown",
   "metadata": {},
   "source": [
    "# Linear Models"
   ]
  },
  {
   "cell_type": "code",
   "execution_count": 89,
   "metadata": {},
   "outputs": [],
   "source": [
    "from sklearn import linear_model\n",
    "from sklearn.model_selection import cross_val_score\n",
    "\n",
    "def custom_scoring(estimator, X, y):\n",
    "    return log_loss(y, estimator.predict(X))\n",
    "\n",
    "ridge = linear_model.Ridge()\n",
    "\n",
    "# use grid search CV to hyper parameter tune properly:\n",
    "df = tourney_data.dropna(how='any').reset_index().copy()\n",
    "X = df[features].copy()\n",
    "y = np.where(df['T1_Score'] - df['T2_Score'] > 0, 1, 0)\n",
    "groups = df['Season'].values - 2003\n",
    "\n",
    "# split training and testing:\n",
    "X_train, X_test, y_train, y_test = train_test_split(X, y, train_size=0.8)\n",
    "X_train, X_val, y_train, y_val = train_test_split(X_train, y_train, train_size=0.8)\n",
    "\n",
    "groups = groups[X_train.index]\n",
    "\n",
    "logo = LeaveOneGroupOut()\n",
    "\n",
    "cv_score = cross_val_score(\n",
    "        estimator=ridge,\n",
    "        X=X_train,\n",
    "        y=y_train,\n",
    "        groups=groups,\n",
    "#         scoring = custom_scoring,\n",
    "        cv = logo.split(X_train, y_train, groups),\n",
    "        n_jobs=-1,\n",
    "        verbose=0,\n",
    "    )"
   ]
  },
  {
   "cell_type": "code",
   "execution_count": 90,
   "metadata": {},
   "outputs": [
    {
     "data": {
      "text/plain": [
       "0.3467008596749174"
      ]
     },
     "execution_count": 90,
     "metadata": {},
     "output_type": "execute_result"
    }
   ],
   "source": [
    "np.mean(cv_score)"
   ]
  },
  {
   "cell_type": "code",
   "execution_count": 91,
   "metadata": {},
   "outputs": [
    {
     "data": {
      "text/plain": [
       "[<matplotlib.lines.Line2D at 0x203b3b7d908>]"
      ]
     },
     "execution_count": 91,
     "metadata": {},
     "output_type": "execute_result"
    },
    {
     "data": {
      "image/png": "[encoded data removed]",
      "text/plain": [
       "<Figure size 432x288 with 1 Axes>"
      ]
     },
     "metadata": {
      "needs_background": "light"
     },
     "output_type": "display_data"
    }
   ],
   "source": [
    "plt.plot(range(2004, 2021), cv_score)"
   ]
  },
  {
   "cell_type": "code",
   "execution_count": null,
   "metadata": {},
   "outputs": [],
   "source": []
  }
 ],
 "metadata": {
  "kernelspec": {
   "display_name": "Python 3",
   "language": "python",
   "name": "python3"
  },
  "language_info": {
   "codemirror_mode": {
    "name": "ipython",
    "version": 3
   },
   "file_extension": ".py",
   "mimetype": "text/x-python",
   "name": "python",
   "nbconvert_exporter": "python",
   "pygments_lexer": "ipython3",
   "version": "3.7.6"
  }
 },
 "nbformat": 4,
 "nbformat_minor": 4
}
